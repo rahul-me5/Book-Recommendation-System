{
  "cells": [
    {
      "cell_type": "code",
      "execution_count": 1,
      "id": "7f12b2d4",
      "metadata": {
        "ExecuteTime": {
          "end_time": "2023-06-02T10:25:19.047073Z",
          "start_time": "2023-06-02T10:25:13.712710Z"
        },
        "id": "7f12b2d4"
      },
      "outputs": [],
      "source": [
        "#Importing Libraries\n",
        "import pandas as pd\n",
        "import numpy as np\n",
        "import matplotlib.pyplot as plt\n",
        "import seaborn as sns\n",
        "import warnings\n",
        "warnings.filterwarnings(\"ignore\")"
      ]
    },
    {
      "cell_type": "code",
      "execution_count": 2,
      "id": "0b0064a7",
      "metadata": {
        "ExecuteTime": {
          "end_time": "2023-06-02T10:25:21.592541Z",
          "start_time": "2023-06-02T10:25:19.071601Z"
        },
        "colab": {
          "base_uri": "https://localhost:8080/",
          "height": 434
        },
        "id": "0b0064a7",
        "outputId": "a553553a-3537-4fb1-d099-71616f212f29",
        "scrolled": true
      },
      "outputs": [
        {
          "data": {
            "text/html": [
              "<div>\n",
              "<style scoped>\n",
              "    .dataframe tbody tr th:only-of-type {\n",
              "        vertical-align: middle;\n",
              "    }\n",
              "\n",
              "    .dataframe tbody tr th {\n",
              "        vertical-align: top;\n",
              "    }\n",
              "\n",
              "    .dataframe thead th {\n",
              "        text-align: right;\n",
              "    }\n",
              "</style>\n",
              "<table border=\"1\" class=\"dataframe\">\n",
              "  <thead>\n",
              "    <tr style=\"text-align: right;\">\n",
              "      <th></th>\n",
              "      <th>ISBN</th>\n",
              "      <th>Book-Title</th>\n",
              "      <th>Book-Author</th>\n",
              "      <th>Year-Of-Publication</th>\n",
              "      <th>Publisher</th>\n",
              "      <th>Image-URL-S</th>\n",
              "      <th>Image-URL-M</th>\n",
              "      <th>Image-URL-L</th>\n",
              "    </tr>\n",
              "  </thead>\n",
              "  <tbody>\n",
              "    <tr>\n",
              "      <th>0</th>\n",
              "      <td>0195153448</td>\n",
              "      <td>Classical Mythology</td>\n",
              "      <td>Mark P. O. Morford</td>\n",
              "      <td>2002</td>\n",
              "      <td>Oxford University Press</td>\n",
              "      <td>http://images.amazon.com/images/P/0195153448.0...</td>\n",
              "      <td>http://images.amazon.com/images/P/0195153448.0...</td>\n",
              "      <td>http://images.amazon.com/images/P/0195153448.0...</td>\n",
              "    </tr>\n",
              "    <tr>\n",
              "      <th>1</th>\n",
              "      <td>0002005018</td>\n",
              "      <td>Clara Callan</td>\n",
              "      <td>Richard Bruce Wright</td>\n",
              "      <td>2001</td>\n",
              "      <td>HarperFlamingo Canada</td>\n",
              "      <td>http://images.amazon.com/images/P/0002005018.0...</td>\n",
              "      <td>http://images.amazon.com/images/P/0002005018.0...</td>\n",
              "      <td>http://images.amazon.com/images/P/0002005018.0...</td>\n",
              "    </tr>\n",
              "    <tr>\n",
              "      <th>2</th>\n",
              "      <td>0060973129</td>\n",
              "      <td>Decision in Normandy</td>\n",
              "      <td>Carlo D'Este</td>\n",
              "      <td>1991</td>\n",
              "      <td>HarperPerennial</td>\n",
              "      <td>http://images.amazon.com/images/P/0060973129.0...</td>\n",
              "      <td>http://images.amazon.com/images/P/0060973129.0...</td>\n",
              "      <td>http://images.amazon.com/images/P/0060973129.0...</td>\n",
              "    </tr>\n",
              "    <tr>\n",
              "      <th>3</th>\n",
              "      <td>0374157065</td>\n",
              "      <td>Flu: The Story of the Great Influenza Pandemic...</td>\n",
              "      <td>Gina Bari Kolata</td>\n",
              "      <td>1999</td>\n",
              "      <td>Farrar Straus Giroux</td>\n",
              "      <td>http://images.amazon.com/images/P/0374157065.0...</td>\n",
              "      <td>http://images.amazon.com/images/P/0374157065.0...</td>\n",
              "      <td>http://images.amazon.com/images/P/0374157065.0...</td>\n",
              "    </tr>\n",
              "    <tr>\n",
              "      <th>4</th>\n",
              "      <td>0393045218</td>\n",
              "      <td>The Mummies of Urumchi</td>\n",
              "      <td>E. J. W. Barber</td>\n",
              "      <td>1999</td>\n",
              "      <td>W. W. Norton &amp;amp; Company</td>\n",
              "      <td>http://images.amazon.com/images/P/0393045218.0...</td>\n",
              "      <td>http://images.amazon.com/images/P/0393045218.0...</td>\n",
              "      <td>http://images.amazon.com/images/P/0393045218.0...</td>\n",
              "    </tr>\n",
              "  </tbody>\n",
              "</table>\n",
              "</div>"
            ],
            "text/plain": [
              "         ISBN                                         Book-Title  \\\n",
              "0  0195153448                                Classical Mythology   \n",
              "1  0002005018                                       Clara Callan   \n",
              "2  0060973129                               Decision in Normandy   \n",
              "3  0374157065  Flu: The Story of the Great Influenza Pandemic...   \n",
              "4  0393045218                             The Mummies of Urumchi   \n",
              "\n",
              "            Book-Author Year-Of-Publication                   Publisher  \\\n",
              "0    Mark P. O. Morford                2002     Oxford University Press   \n",
              "1  Richard Bruce Wright                2001       HarperFlamingo Canada   \n",
              "2          Carlo D'Este                1991             HarperPerennial   \n",
              "3      Gina Bari Kolata                1999        Farrar Straus Giroux   \n",
              "4       E. J. W. Barber                1999  W. W. Norton &amp; Company   \n",
              "\n",
              "                                         Image-URL-S  \\\n",
              "0  http://images.amazon.com/images/P/0195153448.0...   \n",
              "1  http://images.amazon.com/images/P/0002005018.0...   \n",
              "2  http://images.amazon.com/images/P/0060973129.0...   \n",
              "3  http://images.amazon.com/images/P/0374157065.0...   \n",
              "4  http://images.amazon.com/images/P/0393045218.0...   \n",
              "\n",
              "                                         Image-URL-M  \\\n",
              "0  http://images.amazon.com/images/P/0195153448.0...   \n",
              "1  http://images.amazon.com/images/P/0002005018.0...   \n",
              "2  http://images.amazon.com/images/P/0060973129.0...   \n",
              "3  http://images.amazon.com/images/P/0374157065.0...   \n",
              "4  http://images.amazon.com/images/P/0393045218.0...   \n",
              "\n",
              "                                         Image-URL-L  \n",
              "0  http://images.amazon.com/images/P/0195153448.0...  \n",
              "1  http://images.amazon.com/images/P/0002005018.0...  \n",
              "2  http://images.amazon.com/images/P/0060973129.0...  \n",
              "3  http://images.amazon.com/images/P/0374157065.0...  \n",
              "4  http://images.amazon.com/images/P/0393045218.0...  "
            ]
          },
          "execution_count": 2,
          "metadata": {},
          "output_type": "execute_result"
        }
      ],
      "source": [
        "#Read the data set\n",
        "books=pd.read_csv(r'C:\\Users\\Rahul\\Desktop\\Github Files\\Book Reccomendation System\\data sets\\Books.csv', encoding='Latin1')\n",
        "books.head(5)"
      ]
    },
    {
      "cell_type": "markdown",
      "id": "e975b518",
      "metadata": {
        "id": "e975b518"
      },
      "source": [
        "# EDA"
      ]
    },
    {
      "cell_type": "code",
      "execution_count": 3,
      "id": "fba71ffe",
      "metadata": {
        "ExecuteTime": {
          "end_time": "2023-06-02T10:25:21.641645Z",
          "start_time": "2023-06-02T10:25:21.592541Z"
        },
        "colab": {
          "base_uri": "https://localhost:8080/",
          "height": 206
        },
        "id": "fba71ffe",
        "outputId": "4fa7824d-afe7-4105-9c52-d6413ab9fd92"
      },
      "outputs": [
        {
          "data": {
            "text/html": [
              "<div>\n",
              "<style scoped>\n",
              "    .dataframe tbody tr th:only-of-type {\n",
              "        vertical-align: middle;\n",
              "    }\n",
              "\n",
              "    .dataframe tbody tr th {\n",
              "        vertical-align: top;\n",
              "    }\n",
              "\n",
              "    .dataframe thead th {\n",
              "        text-align: right;\n",
              "    }\n",
              "</style>\n",
              "<table border=\"1\" class=\"dataframe\">\n",
              "  <thead>\n",
              "    <tr style=\"text-align: right;\">\n",
              "      <th></th>\n",
              "      <th>ISBN</th>\n",
              "      <th>Book-Title</th>\n",
              "      <th>Book-Author</th>\n",
              "      <th>Year-Of-Publication</th>\n",
              "      <th>Publisher</th>\n",
              "    </tr>\n",
              "  </thead>\n",
              "  <tbody>\n",
              "    <tr>\n",
              "      <th>0</th>\n",
              "      <td>0195153448</td>\n",
              "      <td>Classical Mythology</td>\n",
              "      <td>Mark P. O. Morford</td>\n",
              "      <td>2002</td>\n",
              "      <td>Oxford University Press</td>\n",
              "    </tr>\n",
              "    <tr>\n",
              "      <th>1</th>\n",
              "      <td>0002005018</td>\n",
              "      <td>Clara Callan</td>\n",
              "      <td>Richard Bruce Wright</td>\n",
              "      <td>2001</td>\n",
              "      <td>HarperFlamingo Canada</td>\n",
              "    </tr>\n",
              "    <tr>\n",
              "      <th>2</th>\n",
              "      <td>0060973129</td>\n",
              "      <td>Decision in Normandy</td>\n",
              "      <td>Carlo D'Este</td>\n",
              "      <td>1991</td>\n",
              "      <td>HarperPerennial</td>\n",
              "    </tr>\n",
              "    <tr>\n",
              "      <th>3</th>\n",
              "      <td>0374157065</td>\n",
              "      <td>Flu: The Story of the Great Influenza Pandemic...</td>\n",
              "      <td>Gina Bari Kolata</td>\n",
              "      <td>1999</td>\n",
              "      <td>Farrar Straus Giroux</td>\n",
              "    </tr>\n",
              "    <tr>\n",
              "      <th>4</th>\n",
              "      <td>0393045218</td>\n",
              "      <td>The Mummies of Urumchi</td>\n",
              "      <td>E. J. W. Barber</td>\n",
              "      <td>1999</td>\n",
              "      <td>W. W. Norton &amp;amp; Company</td>\n",
              "    </tr>\n",
              "  </tbody>\n",
              "</table>\n",
              "</div>"
            ],
            "text/plain": [
              "         ISBN                                         Book-Title  \\\n",
              "0  0195153448                                Classical Mythology   \n",
              "1  0002005018                                       Clara Callan   \n",
              "2  0060973129                               Decision in Normandy   \n",
              "3  0374157065  Flu: The Story of the Great Influenza Pandemic...   \n",
              "4  0393045218                             The Mummies of Urumchi   \n",
              "\n",
              "            Book-Author Year-Of-Publication                   Publisher  \n",
              "0    Mark P. O. Morford                2002     Oxford University Press  \n",
              "1  Richard Bruce Wright                2001       HarperFlamingo Canada  \n",
              "2          Carlo D'Este                1991             HarperPerennial  \n",
              "3      Gina Bari Kolata                1999        Farrar Straus Giroux  \n",
              "4       E. J. W. Barber                1999  W. W. Norton &amp; Company  "
            ]
          },
          "execution_count": 3,
          "metadata": {},
          "output_type": "execute_result"
        }
      ],
      "source": [
        "#Dropping  all three Image URL features.\n",
        "books.drop(['Image-URL-S', 'Image-URL-M', 'Image-URL-L'], axis=1, inplace=True)\n",
        "books.head()"
      ]
    },
    {
      "cell_type": "code",
      "execution_count": 4,
      "id": "429da6c7",
      "metadata": {
        "ExecuteTime": {
          "end_time": "2023-06-02T10:25:21.673802Z",
          "start_time": "2023-06-02T10:25:21.649978Z"
        },
        "colab": {
          "base_uri": "https://localhost:8080/"
        },
        "id": "429da6c7",
        "outputId": "90e17e5e-0e3f-4b88-a37e-085aee373e71"
      },
      "outputs": [
        {
          "data": {
            "text/plain": [
              "Index(['ISBN', 'Book-Title', 'Book-Author', 'Year-Of-Publication',\n",
              "       'Publisher'],\n",
              "      dtype='object')"
            ]
          },
          "execution_count": 4,
          "metadata": {},
          "output_type": "execute_result"
        }
      ],
      "source": [
        "books.columns"
      ]
    },
    {
      "cell_type": "code",
      "execution_count": 5,
      "id": "46abe61a",
      "metadata": {
        "ExecuteTime": {
          "end_time": "2023-06-02T10:25:22.586066Z",
          "start_time": "2023-06-02T10:25:21.677864Z"
        },
        "colab": {
          "base_uri": "https://localhost:8080/",
          "height": 175
        },
        "id": "46abe61a",
        "outputId": "4a31c0ee-be31-4498-8d3c-bebdbe27cb66"
      },
      "outputs": [
        {
          "data": {
            "text/html": [
              "<div>\n",
              "<style scoped>\n",
              "    .dataframe tbody tr th:only-of-type {\n",
              "        vertical-align: middle;\n",
              "    }\n",
              "\n",
              "    .dataframe tbody tr th {\n",
              "        vertical-align: top;\n",
              "    }\n",
              "\n",
              "    .dataframe thead th {\n",
              "        text-align: right;\n",
              "    }\n",
              "</style>\n",
              "<table border=\"1\" class=\"dataframe\">\n",
              "  <thead>\n",
              "    <tr style=\"text-align: right;\">\n",
              "      <th></th>\n",
              "      <th>ISBN</th>\n",
              "      <th>Book-Title</th>\n",
              "      <th>Book-Author</th>\n",
              "      <th>Year-Of-Publication</th>\n",
              "      <th>Publisher</th>\n",
              "    </tr>\n",
              "  </thead>\n",
              "  <tbody>\n",
              "    <tr>\n",
              "      <th>count</th>\n",
              "      <td>271360</td>\n",
              "      <td>271360</td>\n",
              "      <td>271359</td>\n",
              "      <td>271360</td>\n",
              "      <td>271358</td>\n",
              "    </tr>\n",
              "    <tr>\n",
              "      <th>unique</th>\n",
              "      <td>271360</td>\n",
              "      <td>242135</td>\n",
              "      <td>102023</td>\n",
              "      <td>202</td>\n",
              "      <td>16807</td>\n",
              "    </tr>\n",
              "    <tr>\n",
              "      <th>top</th>\n",
              "      <td>0195153448</td>\n",
              "      <td>Selected Poems</td>\n",
              "      <td>Agatha Christie</td>\n",
              "      <td>2002</td>\n",
              "      <td>Harlequin</td>\n",
              "    </tr>\n",
              "    <tr>\n",
              "      <th>freq</th>\n",
              "      <td>1</td>\n",
              "      <td>27</td>\n",
              "      <td>632</td>\n",
              "      <td>13903</td>\n",
              "      <td>7535</td>\n",
              "    </tr>\n",
              "  </tbody>\n",
              "</table>\n",
              "</div>"
            ],
            "text/plain": [
              "              ISBN      Book-Title      Book-Author  Year-Of-Publication  \\\n",
              "count       271360          271360           271359               271360   \n",
              "unique      271360          242135           102023                  202   \n",
              "top     0195153448  Selected Poems  Agatha Christie                 2002   \n",
              "freq             1              27              632                13903   \n",
              "\n",
              "        Publisher  \n",
              "count      271358  \n",
              "unique      16807  \n",
              "top     Harlequin  \n",
              "freq         7535  "
            ]
          },
          "execution_count": 5,
          "metadata": {},
          "output_type": "execute_result"
        }
      ],
      "source": [
        "books.describe()"
      ]
    },
    {
      "cell_type": "code",
      "execution_count": 6,
      "id": "9033bd4b",
      "metadata": {
        "ExecuteTime": {
          "end_time": "2023-06-02T10:25:22.957891Z",
          "start_time": "2023-06-02T10:25:22.588111Z"
        },
        "colab": {
          "base_uri": "https://localhost:8080/"
        },
        "id": "9033bd4b",
        "outputId": "bfa9f21c-fcf6-4a15-d50d-9507d0c9417f"
      },
      "outputs": [
        {
          "data": {
            "text/plain": [
              "ISBN                   0\n",
              "Book-Title             0\n",
              "Book-Author            1\n",
              "Year-Of-Publication    0\n",
              "Publisher              2\n",
              "dtype: int64"
            ]
          },
          "execution_count": 6,
          "metadata": {},
          "output_type": "execute_result"
        }
      ],
      "source": [
        "#Check for the number of null values in each column.\n",
        "books.isna().sum()"
      ]
    },
    {
      "cell_type": "code",
      "execution_count": 10,
      "id": "248e123b",
      "metadata": {
        "ExecuteTime": {
          "end_time": "2023-06-02T10:25:23.006161Z",
          "start_time": "2023-06-02T10:25:22.957891Z"
        },
        "colab": {
          "base_uri": "https://localhost:8080/",
          "height": 89
        },
        "id": "248e123b",
        "outputId": "53e3e3d8-e69f-4106-e8d6-eee60988365f"
      },
      "outputs": [
        {
          "data": {
            "text/html": [
              "<div>\n",
              "<style scoped>\n",
              "    .dataframe tbody tr th:only-of-type {\n",
              "        vertical-align: middle;\n",
              "    }\n",
              "\n",
              "    .dataframe tbody tr th {\n",
              "        vertical-align: top;\n",
              "    }\n",
              "\n",
              "    .dataframe thead th {\n",
              "        text-align: right;\n",
              "    }\n",
              "</style>\n",
              "<table border=\"1\" class=\"dataframe\">\n",
              "  <thead>\n",
              "    <tr style=\"text-align: right;\">\n",
              "      <th></th>\n",
              "      <th>ISBN</th>\n",
              "      <th>Book-Title</th>\n",
              "      <th>Book-Author</th>\n",
              "      <th>Year-Of-Publication</th>\n",
              "      <th>Publisher</th>\n",
              "    </tr>\n",
              "  </thead>\n",
              "  <tbody>\n",
              "    <tr>\n",
              "      <th>187689</th>\n",
              "      <td>9627982032</td>\n",
              "      <td>The Credit Suisse Guide to Managing Your Perso...</td>\n",
              "      <td>NaN</td>\n",
              "      <td>1995</td>\n",
              "      <td>Edinburgh Financial Publishing</td>\n",
              "    </tr>\n",
              "  </tbody>\n",
              "</table>\n",
              "</div>"
            ],
            "text/plain": [
              "              ISBN                                         Book-Title  \\\n",
              "187689  9627982032  The Credit Suisse Guide to Managing Your Perso...   \n",
              "\n",
              "       Book-Author Year-Of-Publication                       Publisher  \n",
              "187689         NaN                1995  Edinburgh Financial Publishing  "
            ]
          },
          "execution_count": 10,
          "metadata": {},
          "output_type": "execute_result"
        }
      ],
      "source": [
        "books.loc[books['Book-Author'].isnull()]"
      ]
    },
    {
      "cell_type": "code",
      "execution_count": 11,
      "id": "06c20a26",
      "metadata": {
        "ExecuteTime": {
          "end_time": "2023-06-02T10:25:23.056950Z",
          "start_time": "2023-06-02T10:25:23.010583Z"
        },
        "colab": {
          "base_uri": "https://localhost:8080/",
          "height": 112
        },
        "id": "06c20a26",
        "outputId": "a3d1b3d2-40cc-4380-801c-6093b89675c1"
      },
      "outputs": [
        {
          "data": {
            "text/html": [
              "<div>\n",
              "<style scoped>\n",
              "    .dataframe tbody tr th:only-of-type {\n",
              "        vertical-align: middle;\n",
              "    }\n",
              "\n",
              "    .dataframe tbody tr th {\n",
              "        vertical-align: top;\n",
              "    }\n",
              "\n",
              "    .dataframe thead th {\n",
              "        text-align: right;\n",
              "    }\n",
              "</style>\n",
              "<table border=\"1\" class=\"dataframe\">\n",
              "  <thead>\n",
              "    <tr style=\"text-align: right;\">\n",
              "      <th></th>\n",
              "      <th>ISBN</th>\n",
              "      <th>Book-Title</th>\n",
              "      <th>Book-Author</th>\n",
              "      <th>Year-Of-Publication</th>\n",
              "      <th>Publisher</th>\n",
              "    </tr>\n",
              "  </thead>\n",
              "  <tbody>\n",
              "    <tr>\n",
              "      <th>128890</th>\n",
              "      <td>193169656X</td>\n",
              "      <td>Tyrant Moon</td>\n",
              "      <td>Elaine Corvidae</td>\n",
              "      <td>2002</td>\n",
              "      <td>NaN</td>\n",
              "    </tr>\n",
              "    <tr>\n",
              "      <th>129037</th>\n",
              "      <td>1931696993</td>\n",
              "      <td>Finders Keepers</td>\n",
              "      <td>Linnea Sinclair</td>\n",
              "      <td>2001</td>\n",
              "      <td>NaN</td>\n",
              "    </tr>\n",
              "  </tbody>\n",
              "</table>\n",
              "</div>"
            ],
            "text/plain": [
              "              ISBN       Book-Title      Book-Author Year-Of-Publication  \\\n",
              "128890  193169656X      Tyrant Moon  Elaine Corvidae                2002   \n",
              "129037  1931696993  Finders Keepers  Linnea Sinclair                2001   \n",
              "\n",
              "       Publisher  \n",
              "128890       NaN  \n",
              "129037       NaN  "
            ]
          },
          "execution_count": 11,
          "metadata": {},
          "output_type": "execute_result"
        }
      ],
      "source": [
        "books.loc[books['Publisher'].isnull()]"
      ]
    },
    {
      "cell_type": "code",
      "execution_count": 12,
      "id": "97afd160",
      "metadata": {
        "ExecuteTime": {
          "end_time": "2023-06-02T10:25:23.081781Z",
          "start_time": "2023-06-02T10:25:23.068838Z"
        },
        "id": "97afd160"
      },
      "outputs": [],
      "source": [
        "#Replacing these three empty cells with ‘Other’.\n",
        "books.at[187689 ,'Book-Author'] = 'Other'\n",
        "\n",
        "books.at[128890 ,'Publisher'] = 'Other'\n",
        "books.at[129037 ,'Publisher'] = 'Other'"
      ]
    },
    {
      "cell_type": "code",
      "execution_count": 13,
      "id": "038d5fe7",
      "metadata": {
        "ExecuteTime": {
          "end_time": "2023-06-02T10:25:23.403887Z",
          "start_time": "2023-06-02T10:25:23.083914Z"
        },
        "colab": {
          "base_uri": "https://localhost:8080/"
        },
        "id": "038d5fe7",
        "outputId": "29c1f068-877c-45eb-f9a4-98a5e8522edf"
      },
      "outputs": [
        {
          "data": {
            "text/plain": [
              "ISBN                   0\n",
              "Book-Title             0\n",
              "Book-Author            0\n",
              "Year-Of-Publication    0\n",
              "Publisher              0\n",
              "dtype: int64"
            ]
          },
          "execution_count": 13,
          "metadata": {},
          "output_type": "execute_result"
        }
      ],
      "source": [
        "#Again check for null values\n",
        "books.isna().sum()"
      ]
    },
    {
      "cell_type": "code",
      "execution_count": 14,
      "id": "1f97b4a8",
      "metadata": {
        "ExecuteTime": {
          "end_time": "2023-06-02T10:25:23.443188Z",
          "start_time": "2023-06-02T10:25:23.407486Z"
        },
        "colab": {
          "base_uri": "https://localhost:8080/"
        },
        "id": "1f97b4a8",
        "outputId": "e127c585-a54c-48f8-8809-75fdc1b5de64"
      },
      "outputs": [
        {
          "data": {
            "text/plain": [
              "array([2002, 2001, 1991, 1999, 2000, 1993, 1996, 1988, 2004, 1998, 1994,\n",
              "       2003, 1997, 1983, 1979, 1995, 1982, 1985, 1992, 1986, 1978, 1980,\n",
              "       1952, 1987, 1990, 1981, 1989, 1984, 0, 1968, 1961, 1958, 1974,\n",
              "       1976, 1971, 1977, 1975, 1965, 1941, 1970, 1962, 1973, 1972, 1960,\n",
              "       1966, 1920, 1956, 1959, 1953, 1951, 1942, 1963, 1964, 1969, 1954,\n",
              "       1950, 1967, 2005, 1957, 1940, 1937, 1955, 1946, 1936, 1930, 2011,\n",
              "       1925, 1948, 1943, 1947, 1945, 1923, 2020, 1939, 1926, 1938, 2030,\n",
              "       1911, 1904, 1949, 1932, 1928, 1929, 1927, 1931, 1914, 2050, 1934,\n",
              "       1910, 1933, 1902, 1924, 1921, 1900, 2038, 2026, 1944, 1917, 1901,\n",
              "       2010, 1908, 1906, 1935, 1806, 2021, '2000', '1995', '1999', '2004',\n",
              "       '2003', '1990', '1994', '1986', '1989', '2002', '1981', '1993',\n",
              "       '1983', '1982', '1976', '1991', '1977', '1998', '1992', '1996',\n",
              "       '0', '1997', '2001', '1974', '1968', '1987', '1984', '1988',\n",
              "       '1963', '1956', '1970', '1985', '1978', '1973', '1980', '1979',\n",
              "       '1975', '1969', '1961', '1965', '1939', '1958', '1950', '1953',\n",
              "       '1966', '1971', '1959', '1972', '1955', '1957', '1945', '1960',\n",
              "       '1967', '1932', '1924', '1964', '2012', '1911', '1927', '1948',\n",
              "       '1962', '2006', '1952', '1940', '1951', '1931', '1954', '2005',\n",
              "       '1930', '1941', '1944', 'DK Publishing Inc', '1943', '1938',\n",
              "       '1900', '1942', '1923', '1920', '1933', 'Gallimard', '1909',\n",
              "       '1946', '2008', '1378', '2030', '1936', '1947', '2011', '2020',\n",
              "       '1919', '1949', '1922', '1897', '2024', '1376', '1926', '2037'],\n",
              "      dtype=object)"
            ]
          },
          "execution_count": 14,
          "metadata": {},
          "output_type": "execute_result"
        }
      ],
      "source": [
        "#Unique years of publications\n",
        "books['Year-Of-Publication'].unique()"
      ]
    },
    {
      "cell_type": "raw",
      "id": "26122f52",
      "metadata": {
        "id": "26122f52"
      },
      "source": [
        "We can observe that two values in the year column are publishers."
      ]
    },
    {
      "cell_type": "code",
      "execution_count": 15,
      "id": "f31b2069",
      "metadata": {
        "ExecuteTime": {
          "end_time": "2023-06-02T10:25:23.509189Z",
          "start_time": "2023-06-02T10:25:23.446507Z"
        },
        "colab": {
          "base_uri": "https://localhost:8080/",
          "height": 164
        },
        "id": "f31b2069",
        "outputId": "e0944110-a688-4192-f7ab-c747c4834830"
      },
      "outputs": [
        {
          "data": {
            "text/html": [
              "<div>\n",
              "<style scoped>\n",
              "    .dataframe tbody tr th:only-of-type {\n",
              "        vertical-align: middle;\n",
              "    }\n",
              "\n",
              "    .dataframe tbody tr th {\n",
              "        vertical-align: top;\n",
              "    }\n",
              "\n",
              "    .dataframe thead th {\n",
              "        text-align: right;\n",
              "    }\n",
              "</style>\n",
              "<table border=\"1\" class=\"dataframe\">\n",
              "  <thead>\n",
              "    <tr style=\"text-align: right;\">\n",
              "      <th></th>\n",
              "      <th>ISBN</th>\n",
              "      <th>Book-Title</th>\n",
              "      <th>Book-Author</th>\n",
              "      <th>Year-Of-Publication</th>\n",
              "      <th>Publisher</th>\n",
              "    </tr>\n",
              "  </thead>\n",
              "  <tbody>\n",
              "    <tr>\n",
              "      <th>209538</th>\n",
              "      <td>078946697X</td>\n",
              "      <td>DK Readers: Creating the X-Men, How It All Beg...</td>\n",
              "      <td>2000</td>\n",
              "      <td>DK Publishing Inc</td>\n",
              "      <td>http://images.amazon.com/images/P/078946697X.0...</td>\n",
              "    </tr>\n",
              "    <tr>\n",
              "      <th>221678</th>\n",
              "      <td>0789466953</td>\n",
              "      <td>DK Readers: Creating the X-Men, How Comic Book...</td>\n",
              "      <td>2000</td>\n",
              "      <td>DK Publishing Inc</td>\n",
              "      <td>http://images.amazon.com/images/P/0789466953.0...</td>\n",
              "    </tr>\n",
              "  </tbody>\n",
              "</table>\n",
              "</div>"
            ],
            "text/plain": [
              "              ISBN                                         Book-Title  \\\n",
              "209538  078946697X  DK Readers: Creating the X-Men, How It All Beg...   \n",
              "221678  0789466953  DK Readers: Creating the X-Men, How Comic Book...   \n",
              "\n",
              "       Book-Author Year-Of-Publication  \\\n",
              "209538        2000   DK Publishing Inc   \n",
              "221678        2000   DK Publishing Inc   \n",
              "\n",
              "                                                Publisher  \n",
              "209538  http://images.amazon.com/images/P/078946697X.0...  \n",
              "221678  http://images.amazon.com/images/P/0789466953.0...  "
            ]
          },
          "execution_count": 15,
          "metadata": {},
          "output_type": "execute_result"
        }
      ],
      "source": [
        "books.loc[books['Year-Of-Publication'] == 'DK Publishing Inc']"
      ]
    },
    {
      "cell_type": "code",
      "execution_count": 16,
      "id": "1e6b7473",
      "metadata": {
        "ExecuteTime": {
          "end_time": "2023-06-02T10:25:23.575311Z",
          "start_time": "2023-06-02T10:25:23.513054Z"
        },
        "colab": {
          "base_uri": "https://localhost:8080/",
          "height": 89
        },
        "id": "1e6b7473",
        "outputId": "20d7cc67-7c62-4a2c-fac2-3e5cf48bdf61"
      },
      "outputs": [
        {
          "data": {
            "text/html": [
              "<div>\n",
              "<style scoped>\n",
              "    .dataframe tbody tr th:only-of-type {\n",
              "        vertical-align: middle;\n",
              "    }\n",
              "\n",
              "    .dataframe tbody tr th {\n",
              "        vertical-align: top;\n",
              "    }\n",
              "\n",
              "    .dataframe thead th {\n",
              "        text-align: right;\n",
              "    }\n",
              "</style>\n",
              "<table border=\"1\" class=\"dataframe\">\n",
              "  <thead>\n",
              "    <tr style=\"text-align: right;\">\n",
              "      <th></th>\n",
              "      <th>ISBN</th>\n",
              "      <th>Book-Title</th>\n",
              "      <th>Book-Author</th>\n",
              "      <th>Year-Of-Publication</th>\n",
              "      <th>Publisher</th>\n",
              "    </tr>\n",
              "  </thead>\n",
              "  <tbody>\n",
              "    <tr>\n",
              "      <th>220731</th>\n",
              "      <td>2070426769</td>\n",
              "      <td>Peuple du ciel, suivi de 'Les Bergers\\\";Jean-M...</td>\n",
              "      <td>2003</td>\n",
              "      <td>Gallimard</td>\n",
              "      <td>http://images.amazon.com/images/P/2070426769.0...</td>\n",
              "    </tr>\n",
              "  </tbody>\n",
              "</table>\n",
              "</div>"
            ],
            "text/plain": [
              "              ISBN                                         Book-Title  \\\n",
              "220731  2070426769  Peuple du ciel, suivi de 'Les Bergers\\\";Jean-M...   \n",
              "\n",
              "       Book-Author Year-Of-Publication  \\\n",
              "220731        2003           Gallimard   \n",
              "\n",
              "                                                Publisher  \n",
              "220731  http://images.amazon.com/images/P/2070426769.0...  "
            ]
          },
          "execution_count": 16,
          "metadata": {},
          "output_type": "execute_result"
        }
      ],
      "source": [
        "books.loc[books['Year-Of-Publication'] == 'Gallimard']"
      ]
    },
    {
      "cell_type": "raw",
      "id": "2c14fbf6",
      "metadata": {
        "id": "2c14fbf6"
      },
      "source": [
        "Also, for this three tuples name of the Book-Author was merged\n",
        "with the Book-Title. \n",
        "We need to manually set the values for these three above\n",
        "obtained tuples for each of their features using the ISBN of the book."
      ]
    },
    {
      "cell_type": "code",
      "execution_count": 17,
      "id": "5fc5d213",
      "metadata": {
        "ExecuteTime": {
          "end_time": "2023-06-02T10:25:23.600303Z",
          "start_time": "2023-06-02T10:25:23.580141Z"
        },
        "id": "5fc5d213"
      },
      "outputs": [],
      "source": [
        "books.at[209538 ,'Publisher'] = 'DK Publishing Inc'\n",
        "books.at[209538 ,'Year-Of-Publication'] = 2000\n",
        "books.at[209538 ,'Book-Title'] = 'DK Readers: Creating the X-Men, How It All Began (Level 4: Proficient Readers)'\n",
        "books.at[209538 ,'Book-Author'] = 'Michael Teitelbaum'\n",
        "\n",
        "books.at[221678 ,'Publisher'] = 'DK Publishing Inc'\n",
        "books.at[221678 ,'Year-Of-Publication'] = 2000\n",
        "books.at[209538 ,'Book-Title'] = 'DK Readers: Creating the X-Men, How Comic Books Come to Life (Level 4: Proficient Readers)'\n",
        "books.at[209538 ,'Book-Author'] = 'James Buckley'\n",
        "\n",
        "books.at[220731 ,'Publisher'] = 'Gallimard'\n",
        "books.at[220731 ,'Year-Of-Publication'] = '2003'\n",
        "books.at[209538 ,'Book-Title'] = 'Peuple du ciel - Suivi de Les bergers '\n",
        "books.at[209538 ,'Book-Author'] = 'Jean-Marie Gustave Le ClÃ?Â©zio'"
      ]
    },
    {
      "cell_type": "code",
      "execution_count": 18,
      "id": "e02c4e2a",
      "metadata": {
        "ExecuteTime": {
          "end_time": "2023-06-02T10:25:23.667218Z",
          "start_time": "2023-06-02T10:25:23.604565Z"
        },
        "colab": {
          "base_uri": "https://localhost:8080/"
        },
        "id": "e02c4e2a",
        "outputId": "f38719a5-dd82-4ae8-8e7b-0b073ac31ba9"
      },
      "outputs": [
        {
          "name": "stdout",
          "output_type": "stream",
          "text": [
            "[0, 1376, 1378, 1806, 1897, 1900, 1901, 1902, 1904, 1906, 1908, 1909, 1910, 1911, 1914, 1917, 1919, 1920, 1921, 1922, 1923, 1924, 1925, 1926, 1927, 1928, 1929, 1930, 1931, 1932, 1933, 1934, 1935, 1936, 1937, 1938, 1939, 1940, 1941, 1942, 1943, 1944, 1945, 1946, 1947, 1948, 1949, 1950, 1951, 1952, 1953, 1954, 1955, 1956, 1957, 1958, 1959, 1960, 1961, 1962, 1963, 1964, 1965, 1966, 1967, 1968, 1969, 1970, 1971, 1972, 1973, 1974, 1975, 1976, 1977, 1978, 1979, 1980, 1981, 1982, 1983, 1984, 1985, 1986, 1987, 1988, 1989, 1990, 1991, 1992, 1993, 1994, 1995, 1996, 1997, 1998, 1999, 2000, 2001, 2002, 2003, 2004, 2005, 2006, 2008, 2010, 2011, 2012, 2020, 2021, 2024, 2026, 2030, 2037, 2038, 2050]\n"
          ]
        }
      ],
      "source": [
        "#Converting year of Publication from object to numbers\n",
        "books['Year-Of-Publication']=books['Year-Of-Publication'].astype(int)\n",
        "print(sorted(list(books['Year-Of-Publication'].unique())))"
      ]
    },
    {
      "cell_type": "code",
      "execution_count": 21,
      "id": "617a43fe",
      "metadata": {
        "ExecuteTime": {
          "end_time": "2023-06-02T10:25:23.758226Z",
          "start_time": "2023-06-02T10:25:23.670210Z"
        },
        "colab": {
          "base_uri": "https://localhost:8080/"
        },
        "id": "617a43fe",
        "outputId": "8c261109-e2c5-475a-ceb3-76a08e94bf99"
      },
      "outputs": [],
      "source": [
        "#Replacing Invalid years with max year\n",
        "from collections import Counter\n",
        "cnt = Counter(books['Year-Of-Publication'])\n",
        "[k for k, v in cnt.items() if v == max(cnt.values())]\n",
        "\n",
        "books.loc[books['Year-Of-Publication'] > 2021, 'Year-Of-Publication'] = 2002\n",
        "books.loc[books['Year-Of-Publication'] == 0, 'Year-Of-Publication'] = 2002"
      ]
    },
    {
      "cell_type": "code",
      "execution_count": 22,
      "id": "3922e9df",
      "metadata": {
        "ExecuteTime": {
          "end_time": "2023-06-02T10:25:23.994930Z",
          "start_time": "2023-06-02T10:25:23.776799Z"
        },
        "colab": {
          "base_uri": "https://localhost:8080/",
          "height": 112
        },
        "id": "3922e9df",
        "outputId": "a2cbf009-47fb-4995-be4c-eaf1b001613e"
      },
      "outputs": [
        {
          "data": {
            "text/html": [
              "<div>\n",
              "<style scoped>\n",
              "    .dataframe tbody tr th:only-of-type {\n",
              "        vertical-align: middle;\n",
              "    }\n",
              "\n",
              "    .dataframe tbody tr th {\n",
              "        vertical-align: top;\n",
              "    }\n",
              "\n",
              "    .dataframe thead th {\n",
              "        text-align: right;\n",
              "    }\n",
              "</style>\n",
              "<table border=\"1\" class=\"dataframe\">\n",
              "  <thead>\n",
              "    <tr style=\"text-align: right;\">\n",
              "      <th></th>\n",
              "      <th>ISBN</th>\n",
              "      <th>Book-Title</th>\n",
              "      <th>Book-Author</th>\n",
              "      <th>Year-Of-Publication</th>\n",
              "      <th>Publisher</th>\n",
              "    </tr>\n",
              "  </thead>\n",
              "  <tbody>\n",
              "    <tr>\n",
              "      <th>4878</th>\n",
              "      <td>0451522303</td>\n",
              "      <td>Animal Farm</td>\n",
              "      <td>George Orwell</td>\n",
              "      <td>1956</td>\n",
              "      <td>Signet Book</td>\n",
              "    </tr>\n",
              "    <tr>\n",
              "      <th>111584</th>\n",
              "      <td>0843931612</td>\n",
              "      <td>Prairie Heat</td>\n",
              "      <td>Madeline Baker</td>\n",
              "      <td>1991</td>\n",
              "      <td>Leisure Books</td>\n",
              "    </tr>\n",
              "  </tbody>\n",
              "</table>\n",
              "</div>"
            ],
            "text/plain": [
              "              ISBN    Book-Title     Book-Author  Year-Of-Publication  \\\n",
              "4878    0451522303   Animal Farm   George Orwell                 1956   \n",
              "111584  0843931612  Prairie Heat  Madeline Baker                 1991   \n",
              "\n",
              "            Publisher  \n",
              "4878      Signet Book  \n",
              "111584  Leisure Books  "
            ]
          },
          "execution_count": 22,
          "metadata": {},
          "output_type": "execute_result"
        }
      ],
      "source": [
        "# Uppercasing all alphabets in ISBN\n",
        "books['ISBN'] = books['ISBN'].str.upper()\n",
        "books.sample(2)"
      ]
    },
    {
      "cell_type": "code",
      "execution_count": 25,
      "id": "0827b260",
      "metadata": {
        "ExecuteTime": {
          "end_time": "2023-06-02T10:25:24.465540Z",
          "start_time": "2023-06-02T10:25:23.999061Z"
        },
        "id": "0827b260"
      },
      "outputs": [],
      "source": [
        "# Drop duplicate rows\n",
        "books.drop_duplicates(keep='last', inplace=True)\n",
        "books.reset_index(drop = True, inplace = True)"
      ]
    },
    {
      "cell_type": "code",
      "execution_count": 26,
      "id": "1ca4a955",
      "metadata": {
        "ExecuteTime": {
          "end_time": "2023-06-02T10:25:24.768714Z",
          "start_time": "2023-06-02T10:25:24.469674Z"
        },
        "colab": {
          "base_uri": "https://localhost:8080/"
        },
        "id": "1ca4a955",
        "outputId": "6443e2e8-ab42-4f06-e559-eeed9fd77990"
      },
      "outputs": [
        {
          "name": "stdout",
          "output_type": "stream",
          "text": [
            "<class 'pandas.core.frame.DataFrame'>\n",
            "RangeIndex: 271047 entries, 0 to 271046\n",
            "Data columns (total 5 columns):\n",
            " #   Column               Non-Null Count   Dtype \n",
            "---  ------               --------------   ----- \n",
            " 0   ISBN                 271047 non-null  object\n",
            " 1   Book-Title           271047 non-null  object\n",
            " 2   Book-Author          271047 non-null  object\n",
            " 3   Year-Of-Publication  271047 non-null  int32 \n",
            " 4   Publisher            271047 non-null  object\n",
            "dtypes: int32(1), object(4)\n",
            "memory usage: 9.3+ MB\n"
          ]
        }
      ],
      "source": [
        "books.info()"
      ]
    },
    {
      "cell_type": "code",
      "execution_count": 27,
      "id": "6611f43d",
      "metadata": {
        "ExecuteTime": {
          "end_time": "2023-06-02T10:25:25.079719Z",
          "start_time": "2023-06-02T10:25:24.773090Z"
        },
        "colab": {
          "base_uri": "https://localhost:8080/"
        },
        "id": "6611f43d",
        "outputId": "1f754fc9-8047-4d89-a5cd-bd6e074e4a4d"
      },
      "outputs": [
        {
          "data": {
            "text/plain": [
              "Index(['User-ID', 'Location', 'Age'], dtype='object')"
            ]
          },
          "execution_count": 27,
          "metadata": {},
          "output_type": "execute_result"
        }
      ],
      "source": [
        "#Read user data set\n",
        "user=pd.read_csv(r'C:\\Users\\Rahul\\Desktop\\Github Files\\Book Reccomendation System\\data sets\\Users.csv', encoding='Latin1')\n",
        "user.columns"
      ]
    },
    {
      "cell_type": "code",
      "execution_count": 28,
      "id": "f92ce8dc",
      "metadata": {
        "ExecuteTime": {
          "end_time": "2023-06-02T10:25:25.193724Z",
          "start_time": "2023-06-02T10:25:25.084566Z"
        },
        "colab": {
          "base_uri": "https://localhost:8080/"
        },
        "id": "f92ce8dc",
        "outputId": "241fba98-d159-4857-9a7a-a8124ba72ae7"
      },
      "outputs": [
        {
          "name": "stdout",
          "output_type": "stream",
          "text": [
            "<class 'pandas.core.frame.DataFrame'>\n",
            "RangeIndex: 278858 entries, 0 to 278857\n",
            "Data columns (total 3 columns):\n",
            " #   Column    Non-Null Count   Dtype  \n",
            "---  ------    --------------   -----  \n",
            " 0   User-ID   278858 non-null  int64  \n",
            " 1   Location  278858 non-null  object \n",
            " 2   Age       168096 non-null  float64\n",
            "dtypes: float64(1), int64(1), object(1)\n",
            "memory usage: 6.4+ MB\n"
          ]
        }
      ],
      "source": [
        "user.info()"
      ]
    },
    {
      "cell_type": "code",
      "execution_count": 30,
      "id": "ea191e52",
      "metadata": {
        "ExecuteTime": {
          "end_time": "2023-06-02T10:25:25.315480Z",
          "start_time": "2023-06-02T10:25:25.193724Z"
        },
        "colab": {
          "base_uri": "https://localhost:8080/"
        },
        "id": "ea191e52",
        "outputId": "e3e5137b-8ac8-405a-87f6-a509c9ffb74f"
      },
      "outputs": [
        {
          "data": {
            "text/plain": [
              "User-ID          0\n",
              "Location         0\n",
              "Age         110762\n",
              "dtype: int64"
            ]
          },
          "execution_count": 30,
          "metadata": {},
          "output_type": "execute_result"
        }
      ],
      "source": [
        "user.isna().sum()"
      ]
    },
    {
      "cell_type": "code",
      "execution_count": 31,
      "id": "724c3b1e",
      "metadata": {
        "ExecuteTime": {
          "end_time": "2023-06-02T10:25:25.338146Z",
          "start_time": "2023-06-02T10:25:25.319627Z"
        },
        "colab": {
          "base_uri": "https://localhost:8080/"
        },
        "id": "724c3b1e",
        "outputId": "915f23fe-c318-4d7d-f951-2aef9caca38f",
        "scrolled": true
      },
      "outputs": [
        {
          "name": "stdout",
          "output_type": "stream",
          "text": [
            "[nan, 0.0, 1.0, 2.0, 3.0, 4.0, 5.0, 6.0, 7.0, 8.0, 9.0, 10.0, 11.0, 12.0, 13.0, 14.0, 15.0, 16.0, 17.0, 18.0, 19.0, 20.0, 21.0, 22.0, 23.0, 24.0, 25.0, 26.0, 27.0, 28.0, 29.0, 30.0, 31.0, 32.0, 33.0, 34.0, 35.0, 36.0, 37.0, 38.0, 39.0, 40.0, 41.0, 42.0, 43.0, 44.0, 45.0, 46.0, 47.0, 48.0, 49.0, 50.0, 51.0, 52.0, 53.0, 54.0, 55.0, 56.0, 57.0, 58.0, 59.0, 60.0, 61.0, 62.0, 63.0, 64.0, 65.0, 66.0, 67.0, 68.0, 69.0, 70.0, 71.0, 72.0, 73.0, 74.0, 75.0, 76.0, 77.0, 78.0, 79.0, 80.0, 81.0, 82.0, 83.0, 84.0, 85.0, 86.0, 87.0, 88.0, 89.0, 90.0, 91.0, 92.0, 93.0, 94.0, 95.0, 96.0, 97.0, 98.0, 99.0, 100.0, 101.0, 102.0, 103.0, 104.0, 105.0, 106.0, 107.0, 108.0, 109.0, 110.0, 111.0, 113.0, 114.0, 115.0, 116.0, 118.0, 119.0, 123.0, 124.0, 127.0, 128.0, 132.0, 133.0, 136.0, 137.0, 138.0, 140.0, 141.0, 143.0, 146.0, 147.0, 148.0, 151.0, 152.0, 156.0, 157.0, 159.0, 162.0, 168.0, 172.0, 175.0, 183.0, 186.0, 189.0, 199.0, 200.0, 201.0, 204.0, 207.0, 208.0, 209.0, 210.0, 212.0, 219.0, 220.0, 223.0, 226.0, 228.0, 229.0, 230.0, 231.0, 237.0, 239.0, 244.0]\n"
          ]
        }
      ],
      "source": [
        "print(sorted(list(user[\"Age\"].unique())))"
      ]
    },
    {
      "cell_type": "code",
      "execution_count": 32,
      "id": "2cfd224a",
      "metadata": {
        "ExecuteTime": {
          "end_time": "2023-06-02T10:25:25.934626Z",
          "start_time": "2023-06-02T10:25:25.342271Z"
        },
        "colab": {
          "base_uri": "https://localhost:8080/",
          "height": 447
        },
        "id": "2cfd224a",
        "outputId": "18dd2979-9925-4cc7-d1a4-444785efe3dd"
      },
      "outputs": [
        {
          "data": {
            "text/plain": [
              "<AxesSubplot:>"
            ]
          },
          "execution_count": 32,
          "metadata": {},
          "output_type": "execute_result"
        },
        {
          "data": {
            "image/png": "[encoded data removed]",
            "text/plain": [
              "<Figure size 640x480 with 1 Axes>"
            ]
          },
          "metadata": {},
          "output_type": "display_data"
        }
      ],
      "source": [
        "user.boxplot(column='Age')"
      ]
    },
    {
      "cell_type": "raw",
      "id": "67ecd00f",
      "metadata": {
        "id": "67ecd00f"
      },
      "source": [
        "There are many outliers in the age column so we can consider greater than 70 and less than 15 as outliers."
      ]
    },
    {
      "cell_type": "code",
      "execution_count": 33,
      "id": "7a106247",
      "metadata": {
        "ExecuteTime": {
          "end_time": "2023-06-02T10:25:26.208309Z",
          "start_time": "2023-06-02T10:25:25.934626Z"
        },
        "colab": {
          "base_uri": "https://localhost:8080/",
          "height": 564
        },
        "id": "7a106247",
        "outputId": "8093efa6-a978-4a76-a546-3f4e1c20269b"
      },
      "outputs": [
        {
          "data": {
            "image/png": "[encoded data removed]",
            "text/plain": [
              "<Figure size 800x600 with 1 Axes>"
            ]
          },
          "metadata": {},
          "output_type": "display_data"
        }
      ],
      "source": [
        "plt.figure(figsize=(8,6))\n",
        "user.Age.hist(bins=[10*i for i in range(1, 10)])\n",
        "plt.title('Age Distribution')\n",
        "plt.xlabel('Age')\n",
        "plt.ylabel('Count')\n",
        "plt.show()"
      ]
    },
    {
      "cell_type": "raw",
      "id": "1bb9a66d",
      "metadata": {
        "id": "1bb9a66d"
      },
      "source": [
        "Age has positive skewness so we can use median to fill Nan values as median is less sensitive to extreme outliers.\n",
        "Majority of the data lies between 20 to 70 age."
      ]
    },
    {
      "cell_type": "code",
      "execution_count": 37,
      "id": "552fecce",
      "metadata": {
        "ExecuteTime": {
          "end_time": "2023-06-02T10:25:26.240946Z",
          "start_time": "2023-06-02T10:25:26.216692Z"
        },
        "id": "552fecce"
      },
      "outputs": [
        {
          "data": {
            "text/plain": [
              "39.71985741847105"
            ]
          },
          "execution_count": 37,
          "metadata": {},
          "output_type": "execute_result"
        }
      ],
      "source": [
        "percent_missing = user['Age'].isnull().sum() * 100 / len(user['Age'])\n",
        "missing_value_df = pd.DataFrame({'column_name': user['Age'],\n",
        "                                 'percent_missing': percent_missing})\n",
        "percent_missing"
      ]
    },
    {
      "cell_type": "raw",
      "id": "b38e18ab",
      "metadata": {
        "id": "b38e18ab"
      },
      "source": [
        "We can observe that 40% of data is missing in age column."
      ]
    },
    {
      "cell_type": "code",
      "execution_count": 41,
      "id": "fb98ac09",
      "metadata": {
        "ExecuteTime": {
          "end_time": "2023-06-02T10:25:26.370630Z",
          "start_time": "2023-06-02T10:25:26.317859Z"
        },
        "id": "fb98ac09"
      },
      "outputs": [],
      "source": [
        "required = user[user['Age'] <= 70]\n",
        "required = required[required['Age'] >= 15]"
      ]
    },
    {
      "cell_type": "code",
      "execution_count": 42,
      "id": "ccde8dd8",
      "metadata": {
        "ExecuteTime": {
          "end_time": "2023-06-02T10:25:26.394758Z",
          "start_time": "2023-06-02T10:25:26.372681Z"
        },
        "colab": {
          "base_uri": "https://localhost:8080/"
        },
        "id": "ccde8dd8",
        "outputId": "6ba20133-8ac2-43e1-8271-36541db21317"
      },
      "outputs": [
        {
          "data": {
            "text/plain": [
              "32"
            ]
          },
          "execution_count": 42,
          "metadata": {},
          "output_type": "execute_result"
        }
      ],
      "source": [
        "median = round(required['Age'].median())\n",
        "median"
      ]
    },
    {
      "cell_type": "code",
      "execution_count": 43,
      "id": "d4354811",
      "metadata": {
        "ExecuteTime": {
          "end_time": "2023-06-02T10:25:26.419210Z",
          "start_time": "2023-06-02T10:25:26.394758Z"
        },
        "id": "d4354811"
      },
      "outputs": [],
      "source": [
        "#Outliers with age grater than 70 are substituted with median\n",
        "user.loc[user['Age'] > 70, 'Age'] = median\n",
        "#Outliers with age less than 15 years are substitued with median\n",
        "user.loc[user['Age'] < 15, 'Age'] = median\n",
        "\n",
        "#Filling null values with median\n",
        "user['Age'] = user['Age'].fillna(median)"
      ]
    },
    {
      "cell_type": "code",
      "execution_count": 44,
      "id": "74de8956",
      "metadata": {
        "ExecuteTime": {
          "end_time": "2023-06-02T10:25:26.455693Z",
          "start_time": "2023-06-02T10:25:26.422879Z"
        },
        "colab": {
          "base_uri": "https://localhost:8080/"
        },
        "id": "74de8956",
        "outputId": "a54bde45-bd82-42b2-fa93-cd500fc7d172"
      },
      "outputs": [
        {
          "data": {
            "text/plain": [
              "0         Adult\n",
              "1         Adult\n",
              "2         Adult\n",
              "3         Child\n",
              "4         Adult\n",
              "          ...  \n",
              "278853    Adult\n",
              "278854    Adult\n",
              "278855    Adult\n",
              "278856    Adult\n",
              "278857    Adult\n",
              "Name: Age, Length: 278858, dtype: category\n",
              "Categories (3, object): ['Child' < 'Adult' < 'Elderly']"
            ]
          },
          "execution_count": 44,
          "metadata": {},
          "output_type": "execute_result"
        }
      ],
      "source": [
        "user['Age']=pd.cut(user.Age,bins=[2,17,65,99],labels=['Child','Adult','Elderly'])\n",
        "user['Age']"
      ]
    },
    {
      "cell_type": "code",
      "execution_count": 45,
      "id": "cd046f95",
      "metadata": {
        "ExecuteTime": {
          "end_time": "2023-06-02T10:25:26.484757Z",
          "start_time": "2023-06-02T10:25:26.460007Z"
        },
        "colab": {
          "base_uri": "https://localhost:8080/"
        },
        "id": "cd046f95",
        "outputId": "8553058a-dd55-43dc-9368-f8ebb29ec876"
      },
      "outputs": [
        {
          "data": {
            "text/plain": [
              "Adult      268737\n",
              "Child        7997\n",
              "Elderly      2124\n",
              "Name: Age, dtype: int64"
            ]
          },
          "execution_count": 45,
          "metadata": {},
          "output_type": "execute_result"
        }
      ],
      "source": [
        "user[\"Age\"].value_counts()"
      ]
    },
    {
      "cell_type": "code",
      "execution_count": 47,
      "id": "ca478a75",
      "metadata": {
        "colab": {
          "base_uri": "https://localhost:8080/",
          "height": 598
        },
        "id": "ca478a75",
        "outputId": "0972cf5e-51ef-454b-c49e-10430ac7a1a2"
      },
      "outputs": [
        {
          "data": {
            "image/png": "[encoded data removed]",
            "text/plain": [
              "<Figure size 1400x700 with 1 Axes>"
            ]
          },
          "metadata": {},
          "output_type": "display_data"
        }
      ],
      "source": [
        "#Visualising the Top 50 Avg.Rated Books Age group wise\n",
        "plt.figure(figsize=(14,7))\n",
        "plt.pie(user['Age'].value_counts(), labels=['Adult', 'Child', 'Elderly'],\n",
        "        autopct='%0.2f', colors=['orange', 'grey', 'purple'], explode=[0.0, 0.0, 0.45])\n",
        "plt.title('Visualization of the Top 50 Avg. Rated Books Age Group wise')\n",
        "plt.show()"
      ]
    },
    {
      "cell_type": "raw",
      "id": "ef542584",
      "metadata": {
        "id": "ef542584"
      },
      "source": [
        "Maximum data lies in adult."
      ]
    },
    {
      "cell_type": "code",
      "execution_count": 48,
      "id": "014da3f2",
      "metadata": {
        "ExecuteTime": {
          "end_time": "2023-06-02T10:25:26.892221Z",
          "start_time": "2023-06-02T10:25:26.484757Z"
        },
        "id": "014da3f2"
      },
      "outputs": [],
      "source": [
        "from sklearn import preprocessing\n",
        "label_encoder = preprocessing.LabelEncoder()\n",
        "user['Age']= label_encoder.fit_transform(user['Age'])"
      ]
    },
    {
      "cell_type": "code",
      "execution_count": 49,
      "id": "b1081bfe",
      "metadata": {
        "ExecuteTime": {
          "end_time": "2023-06-02T10:25:26.917515Z",
          "start_time": "2023-06-02T10:25:26.893581Z"
        },
        "colab": {
          "base_uri": "https://localhost:8080/"
        },
        "id": "b1081bfe",
        "outputId": "0c46244d-5f81-47d2-9846-1b020ddb3789"
      },
      "outputs": [
        {
          "data": {
            "text/plain": [
              "0    0.963706\n",
              "1    0.028678\n",
              "2    0.007617\n",
              "Name: Age, dtype: float64"
            ]
          },
          "execution_count": 49,
          "metadata": {},
          "output_type": "execute_result"
        }
      ],
      "source": [
        "user[\"Age\"].value_counts(normalize=True)"
      ]
    },
    {
      "cell_type": "code",
      "execution_count": 50,
      "id": "c852dfb4",
      "metadata": {
        "ExecuteTime": {
          "end_time": "2023-06-02T10:25:27.094558Z",
          "start_time": "2023-06-02T10:25:26.919582Z"
        },
        "id": "c852dfb4"
      },
      "outputs": [],
      "source": [
        "#Drop duplicate rows\n",
        "user.drop_duplicates(keep='last', inplace=True)\n",
        "user.reset_index(drop=True, inplace=True)"
      ]
    },
    {
      "cell_type": "code",
      "execution_count": 53,
      "id": "f3a6b8e1",
      "metadata": {
        "ExecuteTime": {
          "end_time": "2023-06-02T10:25:27.284101Z",
          "start_time": "2023-06-02T10:25:27.095472Z"
        },
        "colab": {
          "base_uri": "https://localhost:8080/",
          "height": 425
        },
        "id": "f3a6b8e1",
        "outputId": "e1c88f55-b42a-4983-bc49-ba3fefedcf9b"
      },
      "outputs": [
        {
          "data": {
            "image/png": "[encoded data removed]",
            "text/plain": [
              "<Figure size 640x480 with 1 Axes>"
            ]
          },
          "metadata": {},
          "output_type": "display_data"
        }
      ],
      "source": [
        "user['Age'].value_counts().plot(kind='bar');\n",
        "plt.show()"
      ]
    },
    {
      "cell_type": "raw",
      "id": "b62ab8ce",
      "metadata": {
        "id": "b62ab8ce"
      },
      "source": [
        "1. This graph is about age ditribution with value counts.\n",
        "2. We want to know about the maximum age grouped people reading the books\n",
        "3. This we can use in model building to recommend the people of this group to\n",
        "read other books."
      ]
    },
    {
      "cell_type": "code",
      "execution_count": 54,
      "id": "9f6d108b",
      "metadata": {
        "ExecuteTime": {
          "end_time": "2023-06-02T10:25:27.396694Z",
          "start_time": "2023-06-02T10:25:27.284101Z"
        },
        "colab": {
          "base_uri": "https://localhost:8080/"
        },
        "id": "9f6d108b",
        "outputId": "b97d630c-eb4f-4f2d-d3ee-5a0f7c156992"
      },
      "outputs": [
        {
          "data": {
            "text/plain": [
              "array(['nyc, new york, usa', 'stockton, california, usa',\n",
              "       'moscow, yukon territory, russia', ...,\n",
              "       'sergnano, lombardia, italy', 'stranraer, n/a, united kingdom',\n",
              "       'tacoma, washington, united kingdom'], dtype=object)"
            ]
          },
          "execution_count": 54,
          "metadata": {},
          "output_type": "execute_result"
        }
      ],
      "source": [
        "user['Location'].unique()"
      ]
    },
    {
      "cell_type": "code",
      "execution_count": 55,
      "id": "51c00047",
      "metadata": {
        "ExecuteTime": {
          "end_time": "2023-06-02T10:25:33.698299Z",
          "start_time": "2023-06-02T10:25:27.399735Z"
        },
        "id": "51c00047"
      },
      "outputs": [],
      "source": [
        "for i in user:\n",
        "    user['Country']=user.Location.str.extract(r'\\,+\\s?(\\w*\\s?\\w*)\\\"*$')"
      ]
    },
    {
      "cell_type": "code",
      "execution_count": 56,
      "id": "fc32b946",
      "metadata": {
        "ExecuteTime": {
          "end_time": "2023-06-02T10:25:33.739942Z",
          "start_time": "2023-06-02T10:25:33.698299Z"
        },
        "id": "fc32b946"
      },
      "outputs": [],
      "source": [
        "user['Country']=user['Country'].astype('str')"
      ]
    },
    {
      "cell_type": "code",
      "execution_count": 57,
      "id": "7e030825",
      "metadata": {
        "ExecuteTime": {
          "end_time": "2023-06-02T10:25:33.821747Z",
          "start_time": "2023-06-02T10:25:33.744074Z"
        },
        "colab": {
          "base_uri": "https://localhost:8080/"
        },
        "id": "7e030825",
        "outputId": "c65ad31f-0117-4571-dca5-c2dc98281a49"
      },
      "outputs": [
        {
          "name": "stdout",
          "output_type": "stream",
          "text": [
            "['', '01776', '02458', '19104', '23232', '30064', '85021', '87510', '_ brasil', 'a', 'aaa', 'adsgfdr', 'afghanistan', 'ahrensburg', 'alachua', 'albania', 'alderney', 'algeria', 'algérie', 'allen', 'ama lurra', 'america', 'american samoa', 'andorra', 'angola', 'antarctica', 'aotearoa', 'argentina', 'armenia', 'aroostook', 'aruba', 'asturies', 'auckland', 'austbritania', 'australia', 'australii', 'austria', 'autralia', 'az', 'azerbaijan', 'bademn würtemberg', 'bahamas', 'bahrain', 'baltimore', 'bangladesh', 'barbados', 'basilicata', 'basque country', 'bavaria', 'baxter', 'bbbzzzzz', 'belarus', 'belgi', 'belgique', 'belgium', 'belize', 'bell', 'benin', 'berguedà', 'bermuda', 'bernalillo', 'bfe', 'bhutan', 'bih', 'bkk', 'bladen', 'bolivia', 'bosnia', 'botswana', 'brasil', 'brazil', 'brunei', 'brunei darussalam', 'bucks', 'bulgaria', 'buncombe', 'burkina faso', 'burkinafasu', 'burlington', 'burma', 'butler', 'c', 'cadd0', 'calabria', 'california', 'cambodia', 'camden', 'cameroon', 'can', 'canada', 'canada eh', 'cananda', 'canda', 'cape may', 'cape town', 'cape verde', 'caribbean sea', 'carter', 'cass', 'catalonia', 'catalunya', 'catalunya spain', 'cayman islands', 'chad', 'channel islands', 'cherokee', 'chian', 'chile', 'china', 'china öð¹ú', 'chinaöð¹ú', 'clackamas', 'clinton', 'cn', 'cnina', 'collin', 'colombia', 'comoros', 'congo', 'cook', 'copenhagen', 'costa rica', 'country', 'courtenay', 'croatia', 'csa', 'cuba', 'cyprus', 'czech republic', 'côte d', 'dauphin', 'davidson', 'de', 'dekalb', 'denmark', 'der', 'deutsches reich', 'deutschland', 'dfg', 'distrito federal', 'diy', 'djibouti', 'dominica', 'dominican republic', 'doodedoo', 'dublin', 'east africa', 'ecuador', 'effingham', 'egypt', 'el salvador', 'england', 'england uk', 'english', 'equatorial geuinea', 'eritrea', 'españa', 'essex', 'estonia', 'ethiopia', 'europa', 'europe', 'euskadi', 'euskal herria', 'evil empire', 'fairyland', 'faroe islands', 'ferrara', 'fifi', 'fiji', 'finland', 'fontana', 'fort bend', 'fortaleza', 'framingham', 'france', 'fred', 'frome', 'fulton', 'gabon', 'galiza', 'galiza neghra', 'gb', 'geermany', 'georgia', 'germany', 'germay', 'ghana', 'goteborg', 'granville', 'greece', 'grenada', 'guam', 'guatemala', 'guernsey', 'guinea', 'guyana', 'haiti', 'hamilton', 'hampden', 'harvatija', 'heaven', 'hennipen', 'henry', 'hernando', 'hidalgo', 'hillsborough', 'holland', 'holy see', 'honduras', 'hong kong', 'hongkong', 'hornyonic', 'houston', 'hungary', 'iceland', 'id', 'il canada', 'in', 'india', 'indiai', 'indonesia', 'input error', 'iran', 'iraq', 'ireland', 'israel', 'isreal', 'italia', 'italien', 'italy', 'itlay', 'jackson', 'jamaica', 'japan', 'jersey', 'johnson', 'jordan', 'k1c7b1', 'kazakhstan', 'kenya', 'kern', 'kiribati', 'korea', 'kosovo', 'ksa', 'kuwait', 'kyrgyzstan', 'kz', 'l', 'la argentina', 'la belgique', 'la france', 'la suisse', 'la svizzera', 'lake', 'lane', 'laos', 'latvia', 'lazio', 'le canada', 'le madagascar', 'lebanon', 'lecce', 'lee', 'lesotho', 'liaoning', 'liberia', 'libya', 'lithuania', 'liushi', 'livingston', 'lj', 'lkjlj', 'lleida', 'lombardia', 'london', 'lornsenland', 'luxembourg', 'macau', 'macedonia', 'madagascar', 'madrid', 'maine', 'malawi', 'malaysia', 'malaysian', 'maldives', 'mali', 'malta', 'maracopa', 'maricopa', 'maroc', 'marrion', 'marshall islands', 'mauritania', 'mauritius', 'mexico', 'micronesia', 'milano', 'minnehaha', 'missouri', 'moldova', 'monaco', 'mongolia', 'monroe', 'monterrey', 'mordor', 'morgan', 'morocco', 'mozambique', 'moçambique', 'my', 'myanmar', 'mérida', 'méxico', 'namibia', 'nan', 'nederlands', 'nepal', 'netherlands', 'netherlands antilles', 'neverland', 'new london', 'new zealand', 'newzealand', 'nh', 'nicaragua', 'niger', 'nigeria', 'nl', 'no more', 'none', 'north carolina', 'north korea', 'northern ireland', 'norway', 'nowhere', 'nrw', 'nyc', 'nyhamnsläge', 'nz', 'oakland', 'ohio', 'oman', 'onondaga nation', 'orange co', 'orense', 'osceola', 'ouranos', 'pa', 'pakistan', 'palau', 'palestine', 'palm beach', 'panama', 'paraguay', 'pasco', 'pender', 'peru', 'perãº', 'petrolwar nation', 'phila', 'philippine', 'philippines', 'philippinies', 'phillipines', 'phils', 'phippines', 'pinallas', 'pippo', 'pistlavakia', 'poland', 'polk', 'polska', 'portugal', 'pr', 'prc', 'prince william', 'pueblo', 'puerto rico', 'qatar', 'queensland', 'queenspark', 'quit', 'rapides', 'rice', 'richmond country', 'rmi', 'roma', 'romania', 'rosario', 'rosello', 'rsa', 'russia', 'russian federation', 'rutherford', 'rwanda', 'saint loius', 'saint lucia', 'saint luica', 'samoa', 'san bernardino', 'san franicsco', 'san marino', 'san mateo', 'santa barbara', 'sardegna', 'sardinia', 'saudi arabia', 'saudia arabia', 'scotland', 'senegal', 'serbia', 'shelby', 'sicilia', 'sierra leone', 'singapore', 'slo', 'slovak republik', 'slovakia', 'slovenia', 'smith', 'solano', 'solomon islands', 'somalia', 'somewherein space', 'south africa', 'south korea', 'space', 'spain', 'spotsylvania', 'sri lanka', 'srilanka', 'strongbadia', 'sudan', 'suisse', 'suriname', 'swaziland', 'swazilandia', 'sweden', 'switzerland', 'syria', 'taiwan', 'tajikistan', 'tanzania', 'tdzimi', 'texas', 'thailand', 'thailoand', 'the', 'the gambia', 'the netherlands', 'the philippines', 'thing', 'tobago', 'togo', 'tonga', 'toscana', 'travelling', 'trinidad', 'tunisia', 'turkei', 'turkey', 'turkmenistan', 'tyrtyrt', 'türkiye', 'u', 'u k', 'ua', 'uae', 'uganda', 'uk', 'ukrain', 'ukraine', 'unit', 'unite states', 'united kindgdom', 'united kindgonm', 'united kingdom', 'united sates', 'united staes', 'united state', 'united statea', 'united stated', 'united states', 'universe', 'unknown', 'urugua', 'uruguay', 'us', 'usa', 'ussurfing', 'ust', 'uusa', 'uyo', 'uzbekistan', 'valtesse', 'van wert', 'vanuatu', 'vatican city', 'venezuela', 'ventura', 'ventura county', 'vicenza', 'victoria', 'vietnam', 'vorce', 'wales', 'washtenaw', 'west yorkshire', 'whatcom', 'windham', 'wonderful usa', 'wood', 'worcester', 'x', 'xinyu', 'xxxxxx', 'yakima', 'yanhill', 'yemen', 'ysa', 'yugoslavia', 'yunling', 'z', 'zambia', 'zhengjiang', 'zimbabwe', 'öð¹ú']\n"
          ]
        }
      ],
      "source": [
        "d=list(user.Country.unique())\n",
        "d=set(d)\n",
        "d=list(d)\n",
        "d = [x for x in d if x is not None]\n",
        "d.sort()\n",
        "print(d)"
      ]
    },
    {
      "cell_type": "code",
      "execution_count": 58,
      "id": "d6fd2666",
      "metadata": {
        "ExecuteTime": {
          "end_time": "2023-06-02T10:25:33.854838Z",
          "start_time": "2023-06-02T10:25:33.826466Z"
        },
        "id": "d6fd2666"
      },
      "outputs": [],
      "source": [
        "user = user.drop(columns=['Location'],axis=1)"
      ]
    },
    {
      "cell_type": "code",
      "execution_count": 59,
      "id": "85e27ed2",
      "metadata": {
        "ExecuteTime": {
          "end_time": "2023-06-02T10:25:34.480095Z",
          "start_time": "2023-06-02T10:25:33.857885Z"
        },
        "id": "85e27ed2"
      },
      "outputs": [],
      "source": [
        "user['Country'].replace(['','01776','02458','19104','23232','30064','85021','87510','alachua','america','austria','autralia','cananda','geermany','italia','united kindgonm','united sates','united staes','united state','united states','us'],\n",
        "                           ['other','usa','usa','usa','usa','usa','usa','usa','usa','usa','australia','australia','canada','germany','italy','united kingdom','usa','usa','usa','usa','usa'],inplace=True)"
      ]
    },
    {
      "cell_type": "code",
      "execution_count": 60,
      "id": "7b9c1811",
      "metadata": {
        "ExecuteTime": {
          "end_time": "2023-06-02T10:25:35.169376Z",
          "start_time": "2023-06-02T10:25:34.484784Z"
        },
        "colab": {
          "base_uri": "https://localhost:8080/",
          "height": 543
        },
        "id": "7b9c1811",
        "outputId": "3d8721cc-fcea-41ca-800e-c7b970f653fe"
      },
      "outputs": [
        {
          "data": {
            "image/png": "[encoded data removed]",
            "text/plain": [
              "<Figure size 1500x700 with 1 Axes>"
            ]
          },
          "metadata": {},
          "output_type": "display_data"
        }
      ],
      "source": [
        "plt.figure(figsize=(15,7))\n",
        "sns.countplot(y='Country',data=user,order=pd.value_counts(user['Country']).iloc[:10].index)\n",
        "plt.title('Count of users Country wise')\n",
        "plt.show()"
      ]
    },
    {
      "cell_type": "raw",
      "id": "1b8c5223",
      "metadata": {
        "id": "1b8c5223"
      },
      "source": [
        "1. Most of the Users are from USA.\n",
        "2. We can used this in model building for selecting the best books in the country."
      ]
    },
    {
      "cell_type": "code",
      "execution_count": 62,
      "id": "c1c9841d",
      "metadata": {
        "ExecuteTime": {
          "end_time": "2023-06-02T10:25:36.285082Z",
          "start_time": "2023-06-02T10:25:35.169926Z"
        },
        "colab": {
          "base_uri": "https://localhost:8080/"
        },
        "id": "c1c9841d",
        "outputId": "eefe7fbd-d350-4b81-e437-54dd1fa0cb29"
      },
      "outputs": [
        {
          "data": {
            "text/plain": [
              "Index(['User-ID', 'ISBN', 'Book-Rating'], dtype='object')"
            ]
          },
          "execution_count": 62,
          "metadata": {},
          "output_type": "execute_result"
        }
      ],
      "source": [
        "#Read ratings data set\n",
        "ratings=pd.read_csv(r'C:\\Users\\Rahul\\Desktop\\Github Files\\Book Reccomendation System\\data sets\\Ratings.csv',encoding='Latin1')\n",
        "ratings.columns"
      ]
    },
    {
      "cell_type": "code",
      "execution_count": 63,
      "id": "ca95e0c2",
      "metadata": {
        "ExecuteTime": {
          "end_time": "2023-06-02T10:25:36.626372Z",
          "start_time": "2023-06-02T10:25:36.289061Z"
        },
        "colab": {
          "base_uri": "https://localhost:8080/"
        },
        "id": "ca95e0c2",
        "outputId": "7605392c-b180-4515-e9e6-68bab8f747f6"
      },
      "outputs": [
        {
          "data": {
            "text/plain": [
              "User-ID        0\n",
              "ISBN           0\n",
              "Book-Rating    0\n",
              "dtype: int64"
            ]
          },
          "execution_count": 63,
          "metadata": {},
          "output_type": "execute_result"
        }
      ],
      "source": [
        "ratings.isna().sum()"
      ]
    },
    {
      "cell_type": "code",
      "execution_count": 64,
      "id": "7eb6d5de",
      "metadata": {
        "colab": {
          "base_uri": "https://localhost:8080/"
        },
        "id": "7eb6d5de",
        "outputId": "b938a4ff-c3a4-4047-ee83-892d387b79ab"
      },
      "outputs": [
        {
          "name": "stdout",
          "output_type": "stream",
          "text": [
            "<class 'pandas.core.frame.DataFrame'>\n",
            "RangeIndex: 1149780 entries, 0 to 1149779\n",
            "Data columns (total 3 columns):\n",
            " #   Column       Non-Null Count    Dtype \n",
            "---  ------       --------------    ----- \n",
            " 0   User-ID      1149780 non-null  int64 \n",
            " 1   ISBN         1149780 non-null  object\n",
            " 2   Book-Rating  1149780 non-null  int64 \n",
            "dtypes: int64(2), object(1)\n",
            "memory usage: 26.3+ MB\n"
          ]
        }
      ],
      "source": [
        "ratings.info()"
      ]
    },
    {
      "cell_type": "code",
      "execution_count": 66,
      "id": "9be3ae85",
      "metadata": {
        "ExecuteTime": {
          "end_time": "2023-06-02T10:25:36.650077Z",
          "start_time": "2023-06-02T10:25:36.631413Z"
        },
        "colab": {
          "base_uri": "https://localhost:8080/"
        },
        "id": "9be3ae85",
        "outputId": "1224c725-1493-4ea5-9cf0-4c662d033966"
      },
      "outputs": [
        {
          "name": "stdout",
          "output_type": "stream",
          "text": [
            "True\n"
          ]
        }
      ],
      "source": [
        "#Checking whether all ratings numeric or not\n",
        "from pandas.api.types import is_numeric_dtype\n",
        "print(is_numeric_dtype(ratings['Book-Rating']))"
      ]
    },
    {
      "cell_type": "code",
      "execution_count": 67,
      "id": "aa72d42d",
      "metadata": {
        "ExecuteTime": {
          "end_time": "2023-06-02T10:25:37.525368Z",
          "start_time": "2023-06-02T10:25:36.654723Z"
        },
        "id": "aa72d42d"
      },
      "outputs": [],
      "source": [
        "#Converting all alphabets in ISBN to upper case\n",
        "ratings['ISBN'] = ratings['ISBN'].str.upper()"
      ]
    },
    {
      "cell_type": "code",
      "execution_count": 68,
      "id": "3811b0aa",
      "metadata": {
        "ExecuteTime": {
          "end_time": "2023-06-02T10:25:38.122721Z",
          "start_time": "2023-06-02T10:25:37.529333Z"
        },
        "id": "3811b0aa"
      },
      "outputs": [],
      "source": [
        "#Drop duplicate rows\n",
        "ratings.drop_duplicates(keep='last', inplace=True)\n",
        "ratings.reset_index(drop=True, inplace=True)"
      ]
    },
    {
      "cell_type": "code",
      "execution_count": 69,
      "id": "84478a3a",
      "metadata": {
        "ExecuteTime": {
          "end_time": "2023-06-02T10:25:38.220865Z",
          "start_time": "2023-06-02T10:25:38.125863Z"
        },
        "colab": {
          "base_uri": "https://localhost:8080/",
          "height": 89
        },
        "id": "84478a3a",
        "outputId": "9ec6caea-bece-4192-c93b-98e11bbbd551"
      },
      "outputs": [
        {
          "data": {
            "text/html": [
              "<div>\n",
              "<style scoped>\n",
              "    .dataframe tbody tr th:only-of-type {\n",
              "        vertical-align: middle;\n",
              "    }\n",
              "\n",
              "    .dataframe tbody tr th {\n",
              "        vertical-align: top;\n",
              "    }\n",
              "\n",
              "    .dataframe thead th {\n",
              "        text-align: right;\n",
              "    }\n",
              "</style>\n",
              "<table border=\"1\" class=\"dataframe\">\n",
              "  <thead>\n",
              "    <tr style=\"text-align: right;\">\n",
              "      <th></th>\n",
              "      <th>User-ID</th>\n",
              "      <th>ISBN</th>\n",
              "      <th>Book-Rating</th>\n",
              "    </tr>\n",
              "  </thead>\n",
              "  <tbody>\n",
              "    <tr>\n",
              "      <th>93316</th>\n",
              "      <td>20971</td>\n",
              "      <td>0590568795</td>\n",
              "      <td>0</td>\n",
              "    </tr>\n",
              "  </tbody>\n",
              "</table>\n",
              "</div>"
            ],
            "text/plain": [
              "       User-ID        ISBN  Book-Rating\n",
              "93316    20971  0590568795            0"
            ]
          },
          "execution_count": 69,
          "metadata": {},
          "output_type": "execute_result"
        }
      ],
      "source": [
        "ratings.sample()"
      ]
    },
    {
      "cell_type": "code",
      "execution_count": 70,
      "id": "423abcf8",
      "metadata": {
        "ExecuteTime": {
          "end_time": "2023-06-02T10:25:38.325580Z",
          "start_time": "2023-06-02T10:25:38.227464Z"
        },
        "id": "423abcf8"
      },
      "outputs": [],
      "source": [
        "#Segregating implicit and explict ratings datasets\n",
        "ratings_explicit = ratings[ratings['Book-Rating'] != 0]\n",
        "ratings_implicit = ratings[ratings['Book-Rating'] == 0]"
      ]
    },
    {
      "cell_type": "code",
      "execution_count": 71,
      "id": "60fad0d8",
      "metadata": {
        "ExecuteTime": {
          "end_time": "2023-06-02T10:25:38.341665Z",
          "start_time": "2023-06-02T10:25:38.328879Z"
        },
        "colab": {
          "base_uri": "https://localhost:8080/"
        },
        "id": "60fad0d8",
        "outputId": "532c143f-0bc7-478e-8fa4-e6fd1edfb19f"
      },
      "outputs": [
        {
          "name": "stdout",
          "output_type": "stream",
          "text": [
            "ratings_explicit dataset shape (433671, 3)\n",
            "ratings_implicit dataset (716109, 3)\n"
          ]
        }
      ],
      "source": [
        "print('ratings_explicit dataset shape',ratings_explicit.shape)\n",
        "print('ratings_implicit dataset',ratings_implicit.shape)"
      ]
    },
    {
      "cell_type": "code",
      "execution_count": 72,
      "id": "6679d2dd",
      "metadata": {
        "ExecuteTime": {
          "end_time": "2023-06-02T10:25:38.987064Z",
          "start_time": "2023-06-02T10:25:38.344510Z"
        },
        "colab": {
          "base_uri": "https://localhost:8080/",
          "height": 237
        },
        "id": "6679d2dd",
        "outputId": "0c5ac44d-403e-42f3-d131-dddbabe31f94"
      },
      "outputs": [
        {
          "data": {
            "text/html": [
              "<div>\n",
              "<style scoped>\n",
              "    .dataframe tbody tr th:only-of-type {\n",
              "        vertical-align: middle;\n",
              "    }\n",
              "\n",
              "    .dataframe tbody tr th {\n",
              "        vertical-align: top;\n",
              "    }\n",
              "\n",
              "    .dataframe thead th {\n",
              "        text-align: right;\n",
              "    }\n",
              "</style>\n",
              "<table border=\"1\" class=\"dataframe\">\n",
              "  <thead>\n",
              "    <tr style=\"text-align: right;\">\n",
              "      <th></th>\n",
              "      <th>Book-Rating</th>\n",
              "    </tr>\n",
              "    <tr>\n",
              "      <th>ISBN</th>\n",
              "      <th></th>\n",
              "    </tr>\n",
              "  </thead>\n",
              "  <tbody>\n",
              "    <tr>\n",
              "      <th>0316666343</th>\n",
              "      <td>707</td>\n",
              "    </tr>\n",
              "    <tr>\n",
              "      <th>0971880107</th>\n",
              "      <td>581</td>\n",
              "    </tr>\n",
              "    <tr>\n",
              "      <th>0385504209</th>\n",
              "      <td>487</td>\n",
              "    </tr>\n",
              "    <tr>\n",
              "      <th>0312195516</th>\n",
              "      <td>383</td>\n",
              "    </tr>\n",
              "    <tr>\n",
              "      <th>0679781587</th>\n",
              "      <td>333</td>\n",
              "    </tr>\n",
              "  </tbody>\n",
              "</table>\n",
              "</div>"
            ],
            "text/plain": [
              "            Book-Rating\n",
              "ISBN                   \n",
              "0316666343          707\n",
              "0971880107          581\n",
              "0385504209          487\n",
              "0312195516          383\n",
              "0679781587          333"
            ]
          },
          "execution_count": 72,
          "metadata": {},
          "output_type": "execute_result"
        }
      ],
      "source": [
        "#Let's find the top 5 books which are rated by most number of users.\n",
        "rating_count = pd.DataFrame(ratings_explicit.groupby('ISBN')['Book-Rating'].count())\n",
        "rating_count.sort_values('Book-Rating', ascending=False).head()"
      ]
    },
    {
      "cell_type": "raw",
      "id": "b03c799f",
      "metadata": {
        "id": "b03c799f"
      },
      "source": [
        "1. The book with ISBN '0316666343' received the most rating counts.\n",
        "2. Let’s find out what book it is, and what books are in the top 5."
      ]
    },
    {
      "cell_type": "code",
      "execution_count": 73,
      "id": "22f3a96e",
      "metadata": {
        "ExecuteTime": {
          "end_time": "2023-06-02T10:25:39.207928Z",
          "start_time": "2023-06-02T10:25:38.990967Z"
        },
        "colab": {
          "base_uri": "https://localhost:8080/",
          "height": 206
        },
        "id": "22f3a96e",
        "outputId": "8db2086b-ae89-4893-a3fc-56cc482a88a4"
      },
      "outputs": [
        {
          "data": {
            "text/html": [
              "<div>\n",
              "<style scoped>\n",
              "    .dataframe tbody tr th:only-of-type {\n",
              "        vertical-align: middle;\n",
              "    }\n",
              "\n",
              "    .dataframe tbody tr th {\n",
              "        vertical-align: top;\n",
              "    }\n",
              "\n",
              "    .dataframe thead th {\n",
              "        text-align: right;\n",
              "    }\n",
              "</style>\n",
              "<table border=\"1\" class=\"dataframe\">\n",
              "  <thead>\n",
              "    <tr style=\"text-align: right;\">\n",
              "      <th></th>\n",
              "      <th>ISBN</th>\n",
              "      <th>Book-Title</th>\n",
              "      <th>Book-Author</th>\n",
              "      <th>Year-Of-Publication</th>\n",
              "      <th>Publisher</th>\n",
              "    </tr>\n",
              "  </thead>\n",
              "  <tbody>\n",
              "    <tr>\n",
              "      <th>0</th>\n",
              "      <td>0316666343</td>\n",
              "      <td>The Lovely Bones: A Novel</td>\n",
              "      <td>Alice Sebold</td>\n",
              "      <td>2002</td>\n",
              "      <td>Little, Brown</td>\n",
              "    </tr>\n",
              "    <tr>\n",
              "      <th>1</th>\n",
              "      <td>0971880107</td>\n",
              "      <td>Wild Animus</td>\n",
              "      <td>Rich Shapero</td>\n",
              "      <td>2004</td>\n",
              "      <td>Too Far</td>\n",
              "    </tr>\n",
              "    <tr>\n",
              "      <th>2</th>\n",
              "      <td>0385504209</td>\n",
              "      <td>The Da Vinci Code</td>\n",
              "      <td>Dan Brown</td>\n",
              "      <td>2003</td>\n",
              "      <td>Doubleday</td>\n",
              "    </tr>\n",
              "    <tr>\n",
              "      <th>3</th>\n",
              "      <td>0312195516</td>\n",
              "      <td>The Red Tent (Bestselling Backlist)</td>\n",
              "      <td>Anita Diamant</td>\n",
              "      <td>1998</td>\n",
              "      <td>Picador USA</td>\n",
              "    </tr>\n",
              "    <tr>\n",
              "      <th>4</th>\n",
              "      <td>0060928336</td>\n",
              "      <td>Divine Secrets of the Ya-Ya Sisterhood: A Novel</td>\n",
              "      <td>Rebecca Wells</td>\n",
              "      <td>1997</td>\n",
              "      <td>Perennial</td>\n",
              "    </tr>\n",
              "  </tbody>\n",
              "</table>\n",
              "</div>"
            ],
            "text/plain": [
              "         ISBN                                       Book-Title    Book-Author  \\\n",
              "0  0316666343                        The Lovely Bones: A Novel   Alice Sebold   \n",
              "1  0971880107                                      Wild Animus   Rich Shapero   \n",
              "2  0385504209                                The Da Vinci Code      Dan Brown   \n",
              "3  0312195516              The Red Tent (Bestselling Backlist)  Anita Diamant   \n",
              "4  0060928336  Divine Secrets of the Ya-Ya Sisterhood: A Novel  Rebecca Wells   \n",
              "\n",
              "   Year-Of-Publication      Publisher  \n",
              "0                 2002  Little, Brown  \n",
              "1                 2004        Too Far  \n",
              "2                 2003      Doubleday  \n",
              "3                 1998    Picador USA  \n",
              "4                 1997      Perennial  "
            ]
          },
          "execution_count": 73,
          "metadata": {},
          "output_type": "execute_result"
        }
      ],
      "source": [
        "most_rated_books = pd.DataFrame(['0316666343', '0971880107', '0385504209', '0312195516', '0060928336'], index=np.arange(5), columns = ['ISBN'])\n",
        "most_rated_books_summary = pd.merge(most_rated_books, books, on='ISBN')\n",
        "most_rated_books_summary"
      ]
    },
    {
      "cell_type": "raw",
      "id": "67eaca59",
      "metadata": {
        "id": "67eaca59"
      },
      "source": [
        "Merging all the three data sets."
      ]
    },
    {
      "cell_type": "code",
      "execution_count": 74,
      "id": "89e7d50c",
      "metadata": {
        "ExecuteTime": {
          "end_time": "2023-06-02T10:25:42.507309Z",
          "start_time": "2023-06-02T10:25:39.212876Z"
        },
        "colab": {
          "base_uri": "https://localhost:8080/"
        },
        "id": "89e7d50c",
        "outputId": "1136f73f-020e-4671-fcfc-973d096c390a"
      },
      "outputs": [
        {
          "name": "stdout",
          "output_type": "stream",
          "text": [
            "<class 'pandas.core.frame.DataFrame'>\n",
            "Int64Index: 1031273 entries, 0 to 1031272\n",
            "Data columns (total 9 columns):\n",
            " #   Column               Non-Null Count    Dtype \n",
            "---  ------               --------------    ----- \n",
            " 0   ISBN                 1031273 non-null  object\n",
            " 1   Book-Title           1031273 non-null  object\n",
            " 2   Book-Author          1031273 non-null  object\n",
            " 3   Year-Of-Publication  1031273 non-null  int32 \n",
            " 4   Publisher            1031273 non-null  object\n",
            " 5   User-ID              1031273 non-null  int64 \n",
            " 6   Book-Rating          1031273 non-null  int64 \n",
            " 7   Age                  1031273 non-null  int32 \n",
            " 8   Country              1031273 non-null  object\n",
            "dtypes: int32(2), int64(2), object(5)\n",
            "memory usage: 70.8+ MB\n"
          ]
        }
      ],
      "source": [
        "data= pd.merge(books, ratings, on='ISBN', how='inner')\n",
        "data = pd.merge(data, user, on='User-ID', how='inner')\n",
        "data.info()"
      ]
    },
    {
      "cell_type": "code",
      "execution_count": 76,
      "id": "e4171a50",
      "metadata": {
        "ExecuteTime": {
          "end_time": "2023-06-02T10:25:42.523746Z",
          "start_time": "2023-06-02T10:25:42.511639Z"
        },
        "colab": {
          "base_uri": "https://localhost:8080/"
        },
        "id": "e4171a50",
        "outputId": "24e6cf01-6451-4db6-9a04-5b39bb45c01d"
      },
      "outputs": [
        {
          "data": {
            "text/plain": [
              "(1031273, 9)"
            ]
          },
          "execution_count": 76,
          "metadata": {},
          "output_type": "execute_result"
        }
      ],
      "source": [
        "data.shape"
      ]
    },
    {
      "cell_type": "raw",
      "id": "9107a745",
      "metadata": {
        "id": "9107a745"
      },
      "source": [
        "#### The top 5 books in the dataset according to the number of ratings:"
      ]
    },
    {
      "cell_type": "code",
      "execution_count": 77,
      "id": "3dacf0bf",
      "metadata": {
        "ExecuteTime": {
          "end_time": "2023-06-02T10:25:42.837742Z",
          "start_time": "2023-06-02T10:25:42.523746Z"
        },
        "colab": {
          "base_uri": "https://localhost:8080/",
          "height": 680
        },
        "id": "3dacf0bf",
        "outputId": "a46c1205-8b73-46c6-c6d3-87167c6bc55a"
      },
      "outputs": [
        {
          "data": {
            "image/png": "[encoded data removed]",
            "text/plain": [
              "<Figure size 1000x800 with 1 Axes>"
            ]
          },
          "metadata": {},
          "output_type": "display_data"
        }
      ],
      "source": [
        "plt.figure(figsize=(10,8))\n",
        "data[\"Book-Rating\"].value_counts().plot(kind=\"bar\")\n",
        "plt.show()"
      ]
    },
    {
      "cell_type": "code",
      "execution_count": 78,
      "id": "205174f6",
      "metadata": {
        "colab": {
          "base_uri": "https://localhost:8080/",
          "height": 487
        },
        "id": "205174f6",
        "outputId": "f5fc7de0-ddc9-43c1-c936-ef942621fe8a"
      },
      "outputs": [
        {
          "data": {
            "image/png": "[encoded data removed]",
            "text/plain": [
              "<Figure size 1000x500 with 1 Axes>"
            ]
          },
          "metadata": {},
          "output_type": "display_data"
        }
      ],
      "source": [
        "#Visualising the Ratings given by users who read book\n",
        "plt.figure(figsize=(10,5))\n",
        "data = data[data['Book-Rating'] != 0]\n",
        "sns.countplot(x=\"Book-Rating\", data=data, palette='gist_ncar')\n",
        "plt.title(\"User given ratings\")\n",
        "plt.ylabel(\"Number Of Books\")\n",
        "plt.show()"
      ]
    },
    {
      "cell_type": "raw",
      "id": "e5e9a3db",
      "metadata": {
        "id": "e5e9a3db"
      },
      "source": [
        "*By observing this plot we can say that 8 rating is higher compare\n",
        "to other ratings.\n",
        "*This plays main role in model building.\n",
        "*By this column we can recommend the books"
      ]
    },
    {
      "cell_type": "code",
      "execution_count": 80,
      "id": "8a18ffc3",
      "metadata": {
        "ExecuteTime": {
          "end_time": "2023-06-02T10:25:42.872004Z",
          "start_time": "2023-06-02T10:25:42.841958Z"
        },
        "colab": {
          "base_uri": "https://localhost:8080/",
          "height": 324
        },
        "id": "8a18ffc3",
        "outputId": "c1f68c97-90c2-4c67-8954-a1b2a824fa1a"
      },
      "outputs": [
        {
          "data": {
            "text/html": [
              "<div>\n",
              "<style scoped>\n",
              "    .dataframe tbody tr th:only-of-type {\n",
              "        vertical-align: middle;\n",
              "    }\n",
              "\n",
              "    .dataframe tbody tr th {\n",
              "        vertical-align: top;\n",
              "    }\n",
              "\n",
              "    .dataframe thead th {\n",
              "        text-align: right;\n",
              "    }\n",
              "</style>\n",
              "<table border=\"1\" class=\"dataframe\">\n",
              "  <thead>\n",
              "    <tr style=\"text-align: right;\">\n",
              "      <th></th>\n",
              "      <th>ISBN</th>\n",
              "      <th>Book-Title</th>\n",
              "      <th>Book-Author</th>\n",
              "      <th>Year-Of-Publication</th>\n",
              "      <th>Publisher</th>\n",
              "      <th>User-ID</th>\n",
              "      <th>Book-Rating</th>\n",
              "      <th>Age</th>\n",
              "      <th>Country</th>\n",
              "    </tr>\n",
              "  </thead>\n",
              "  <tbody>\n",
              "    <tr>\n",
              "      <th>1</th>\n",
              "      <td>0002005018</td>\n",
              "      <td>Clara Callan</td>\n",
              "      <td>Richard Bruce Wright</td>\n",
              "      <td>2001</td>\n",
              "      <td>HarperFlamingo Canada</td>\n",
              "      <td>8</td>\n",
              "      <td>5</td>\n",
              "      <td>0</td>\n",
              "      <td>canada</td>\n",
              "    </tr>\n",
              "    <tr>\n",
              "      <th>9</th>\n",
              "      <td>074322678X</td>\n",
              "      <td>Where You'll Find Me: And Other Stories</td>\n",
              "      <td>Ann Beattie</td>\n",
              "      <td>2002</td>\n",
              "      <td>Scribner</td>\n",
              "      <td>8</td>\n",
              "      <td>5</td>\n",
              "      <td>0</td>\n",
              "      <td>canada</td>\n",
              "    </tr>\n",
              "    <tr>\n",
              "      <th>12</th>\n",
              "      <td>0887841740</td>\n",
              "      <td>The Middle Stories</td>\n",
              "      <td>Sheila Heti</td>\n",
              "      <td>2004</td>\n",
              "      <td>House of Anansi Press</td>\n",
              "      <td>8</td>\n",
              "      <td>5</td>\n",
              "      <td>0</td>\n",
              "      <td>canada</td>\n",
              "    </tr>\n",
              "    <tr>\n",
              "      <th>13</th>\n",
              "      <td>1552041778</td>\n",
              "      <td>Jane Doe</td>\n",
              "      <td>R. J. Kaiser</td>\n",
              "      <td>1999</td>\n",
              "      <td>Mira Books</td>\n",
              "      <td>8</td>\n",
              "      <td>5</td>\n",
              "      <td>0</td>\n",
              "      <td>canada</td>\n",
              "    </tr>\n",
              "    <tr>\n",
              "      <th>15</th>\n",
              "      <td>1567407781</td>\n",
              "      <td>The Witchfinder (Amos Walker Mystery Series)</td>\n",
              "      <td>Loren D. Estleman</td>\n",
              "      <td>1998</td>\n",
              "      <td>Brilliance Audio - Trade</td>\n",
              "      <td>8</td>\n",
              "      <td>6</td>\n",
              "      <td>0</td>\n",
              "      <td>canada</td>\n",
              "    </tr>\n",
              "  </tbody>\n",
              "</table>\n",
              "</div>"
            ],
            "text/plain": [
              "          ISBN                                    Book-Title  \\\n",
              "1   0002005018                                  Clara Callan   \n",
              "9   074322678X       Where You'll Find Me: And Other Stories   \n",
              "12  0887841740                            The Middle Stories   \n",
              "13  1552041778                                      Jane Doe   \n",
              "15  1567407781  The Witchfinder (Amos Walker Mystery Series)   \n",
              "\n",
              "             Book-Author  Year-Of-Publication                 Publisher  \\\n",
              "1   Richard Bruce Wright                 2001     HarperFlamingo Canada   \n",
              "9            Ann Beattie                 2002                  Scribner   \n",
              "12           Sheila Heti                 2004     House of Anansi Press   \n",
              "13          R. J. Kaiser                 1999                Mira Books   \n",
              "15     Loren D. Estleman                 1998  Brilliance Audio - Trade   \n",
              "\n",
              "    User-ID  Book-Rating  Age Country  \n",
              "1         8            5    0  canada  \n",
              "9         8            5    0  canada  \n",
              "12        8            5    0  canada  \n",
              "13        8            5    0  canada  \n",
              "15        8            6    0  canada  "
            ]
          },
          "execution_count": 80,
          "metadata": {},
          "output_type": "execute_result"
        }
      ],
      "source": [
        "data.head()"
      ]
    },
    {
      "cell_type": "code",
      "execution_count": 81,
      "id": "493cc11a",
      "metadata": {
        "ExecuteTime": {
          "end_time": "2023-06-02T10:25:42.908887Z",
          "start_time": "2023-06-02T10:25:42.874753Z"
        },
        "colab": {
          "base_uri": "https://localhost:8080/"
        },
        "id": "493cc11a",
        "outputId": "992952a4-455b-41d8-e6da-bc9485d19e9d"
      },
      "outputs": [
        {
          "data": {
            "text/plain": [
              "8     91814\n",
              "10    71240\n",
              "7     66408\n",
              "9     60786\n",
              "5     45360\n",
              "6     31693\n",
              "4      7617\n",
              "3      5118\n",
              "2      2375\n",
              "1      1481\n",
              "Name: Book-Rating, dtype: int64"
            ]
          },
          "execution_count": 81,
          "metadata": {},
          "output_type": "execute_result"
        }
      ],
      "source": [
        "data[\"Book-Rating\"].value_counts()"
      ]
    },
    {
      "cell_type": "code",
      "execution_count": 82,
      "id": "fd6d007a",
      "metadata": {
        "ExecuteTime": {
          "end_time": "2023-06-02T10:25:43.085479Z",
          "start_time": "2023-06-02T10:25:42.911418Z"
        },
        "colab": {
          "base_uri": "https://localhost:8080/"
        },
        "id": "fd6d007a",
        "outputId": "4685cece-6d86-44ab-be28-156931cf0f29"
      },
      "outputs": [
        {
          "data": {
            "text/plain": [
              "array([ 5.,  6.,  7.,  9.,  8., 10.,  3.,  1.,  4.,  2.])"
            ]
          },
          "execution_count": 82,
          "metadata": {},
          "output_type": "execute_result"
        }
      ],
      "source": [
        "data.loc[(data['Book-Rating'] == 0),'Book-Rating']=np.NaN\n",
        "\n",
        "#Replacing null data with median\n",
        "data['Book-Rating'] = data['Book-Rating'].fillna(data.groupby('Age')['Book-Rating'].transform('median'))\n",
        "data['Book-Rating'].unique()"
      ]
    },
    {
      "cell_type": "code",
      "execution_count": 83,
      "id": "24017792",
      "metadata": {
        "ExecuteTime": {
          "end_time": "2023-06-02T10:25:43.125518Z",
          "start_time": "2023-06-02T10:25:43.090031Z"
        },
        "colab": {
          "base_uri": "https://localhost:8080/"
        },
        "id": "24017792",
        "outputId": "7ee0995a-74be-4891-d662-f14895a2f85e"
      },
      "outputs": [
        {
          "data": {
            "text/plain": [
              "8.0     91814\n",
              "10.0    71240\n",
              "7.0     66408\n",
              "9.0     60786\n",
              "5.0     45360\n",
              "6.0     31693\n",
              "4.0      7617\n",
              "3.0      5118\n",
              "2.0      2375\n",
              "1.0      1481\n",
              "Name: Book-Rating, dtype: int64"
            ]
          },
          "execution_count": 83,
          "metadata": {},
          "output_type": "execute_result"
        }
      ],
      "source": [
        "data['Book-Rating'].value_counts()"
      ]
    },
    {
      "cell_type": "code",
      "execution_count": 86,
      "id": "1acc795b",
      "metadata": {
        "ExecuteTime": {
          "end_time": "2023-06-02T10:25:44.097345Z",
          "start_time": "2023-06-02T10:25:43.128115Z"
        },
        "colab": {
          "base_uri": "https://localhost:8080/",
          "height": 1000
        },
        "id": "1acc795b",
        "outputId": "a7d0eda0-7093-498a-ea3e-16a2a903d175"
      },
      "outputs": [
        {
          "data": {
            "image/png": "[encoded data removed]",
            "text/plain": [
              "<Figure size 1000x400 with 1 Axes>"
            ]
          },
          "metadata": {},
          "output_type": "display_data"
        }
      ],
      "source": [
        "plt.figure(figsize=(10, 5\n",
        "                    ))\n",
        "sns.barplot(x=data['Book-Title'].value_counts().index[:20], y=data['Book-Rating'].values[:20])\n",
        "plt.title(\"Books and their Ratings (Top 20)\")\n",
        "plt.xlabel(\"Book Titles\")\n",
        "plt.ylabel(\"Ratings\")\n",
        "plt.xticks(rotation=90)\n",
        "plt.show()"
      ]
    },
    {
      "cell_type": "raw",
      "id": "a88447e5",
      "metadata": {
        "id": "a88447e5"
      },
      "source": [
        "* We want to know about the book which got max rating.\n",
        "* According to which we can use it in model building to suggest people the most rated books."
      ]
    },
    {
      "cell_type": "code",
      "execution_count": 87,
      "id": "b386f3b5",
      "metadata": {
        "ExecuteTime": {
          "end_time": "2023-06-02T10:25:44.787879Z",
          "start_time": "2023-06-02T10:25:44.105382Z"
        },
        "colab": {
          "base_uri": "https://localhost:8080/",
          "height": 876
        },
        "id": "b386f3b5",
        "outputId": "91327d4d-92a7-41cf-911d-d388c735bcc6"
      },
      "outputs": [
        {
          "data": {
            "image/png": "[encoded data removed]",
            "text/plain": [
              "<Figure size 1000x500 with 1 Axes>"
            ]
          },
          "metadata": {},
          "output_type": "display_data"
        }
      ],
      "source": [
        "plt.figure(figsize=(10, 5))\n",
        "sns.barplot(x=data['Book-Author'].value_counts().index[:20], y=data['Book-Rating'].values[:20])\n",
        "plt.title(\"Authors and Ratings (Top 20)\")\n",
        "plt.xlabel(\"Authors\")\n",
        "plt.ylabel(\"Ratings\")\n",
        "plt.xticks(rotation=90)\n",
        "plt.show()"
      ]
    },
    {
      "cell_type": "code",
      "execution_count": 88,
      "id": "12544f2d",
      "metadata": {
        "ExecuteTime": {
          "end_time": "2023-06-02T10:25:44.812314Z",
          "start_time": "2023-06-02T10:25:44.792762Z"
        },
        "id": "12544f2d"
      },
      "outputs": [],
      "source": [
        "def missing_values(df):\n",
        "    mis_val=df.isnull().sum()\n",
        "    mis_val_percent=round(df.isnull().mean().mul(100),2)\n",
        "    mz_table=pd.concat([mis_val,mis_val_percent],axis=1)\n",
        "    mz_table=mz_table.rename(\n",
        "    columns={df.index.name:'col_name',0:'Missing Values',1:'% of Total Values'})\n",
        "    mz_table['Data_type']=df.dtypes\n",
        "    mz_table=mz_table.sort_values('% of Total Values',ascending=False)\n",
        "    return mz_table.reset_index()"
      ]
    },
    {
      "cell_type": "code",
      "execution_count": 89,
      "id": "910507cb",
      "metadata": {
        "ExecuteTime": {
          "end_time": "2023-06-02T10:25:47.596364Z",
          "start_time": "2023-06-02T10:25:44.815253Z"
        },
        "colab": {
          "base_uri": "https://localhost:8080/",
          "height": 331
        },
        "id": "910507cb",
        "outputId": "283b4763-1035-41db-886b-5e8253f8bbbb"
      },
      "outputs": [
        {
          "data": {
            "text/html": [
              "<div>\n",
              "<style scoped>\n",
              "    .dataframe tbody tr th:only-of-type {\n",
              "        vertical-align: middle;\n",
              "    }\n",
              "\n",
              "    .dataframe tbody tr th {\n",
              "        vertical-align: top;\n",
              "    }\n",
              "\n",
              "    .dataframe thead th {\n",
              "        text-align: right;\n",
              "    }\n",
              "</style>\n",
              "<table border=\"1\" class=\"dataframe\">\n",
              "  <thead>\n",
              "    <tr style=\"text-align: right;\">\n",
              "      <th></th>\n",
              "      <th>index</th>\n",
              "      <th>Missing Values</th>\n",
              "      <th>% of Total Values</th>\n",
              "      <th>Data_type</th>\n",
              "    </tr>\n",
              "  </thead>\n",
              "  <tbody>\n",
              "    <tr>\n",
              "      <th>0</th>\n",
              "      <td>ISBN</td>\n",
              "      <td>0</td>\n",
              "      <td>0.0</td>\n",
              "      <td>object</td>\n",
              "    </tr>\n",
              "    <tr>\n",
              "      <th>1</th>\n",
              "      <td>Book-Title</td>\n",
              "      <td>0</td>\n",
              "      <td>0.0</td>\n",
              "      <td>object</td>\n",
              "    </tr>\n",
              "    <tr>\n",
              "      <th>2</th>\n",
              "      <td>Book-Author</td>\n",
              "      <td>0</td>\n",
              "      <td>0.0</td>\n",
              "      <td>object</td>\n",
              "    </tr>\n",
              "    <tr>\n",
              "      <th>3</th>\n",
              "      <td>Year-Of-Publication</td>\n",
              "      <td>0</td>\n",
              "      <td>0.0</td>\n",
              "      <td>int32</td>\n",
              "    </tr>\n",
              "    <tr>\n",
              "      <th>4</th>\n",
              "      <td>Publisher</td>\n",
              "      <td>0</td>\n",
              "      <td>0.0</td>\n",
              "      <td>object</td>\n",
              "    </tr>\n",
              "    <tr>\n",
              "      <th>5</th>\n",
              "      <td>User-ID</td>\n",
              "      <td>0</td>\n",
              "      <td>0.0</td>\n",
              "      <td>int64</td>\n",
              "    </tr>\n",
              "    <tr>\n",
              "      <th>6</th>\n",
              "      <td>Book-Rating</td>\n",
              "      <td>0</td>\n",
              "      <td>0.0</td>\n",
              "      <td>float64</td>\n",
              "    </tr>\n",
              "    <tr>\n",
              "      <th>7</th>\n",
              "      <td>Age</td>\n",
              "      <td>0</td>\n",
              "      <td>0.0</td>\n",
              "      <td>int32</td>\n",
              "    </tr>\n",
              "    <tr>\n",
              "      <th>8</th>\n",
              "      <td>Country</td>\n",
              "      <td>0</td>\n",
              "      <td>0.0</td>\n",
              "      <td>object</td>\n",
              "    </tr>\n",
              "  </tbody>\n",
              "</table>\n",
              "</div>"
            ],
            "text/plain": [
              "                 index  Missing Values  % of Total Values Data_type\n",
              "0                 ISBN               0                0.0    object\n",
              "1           Book-Title               0                0.0    object\n",
              "2          Book-Author               0                0.0    object\n",
              "3  Year-Of-Publication               0                0.0     int32\n",
              "4            Publisher               0                0.0    object\n",
              "5              User-ID               0                0.0     int64\n",
              "6          Book-Rating               0                0.0   float64\n",
              "7                  Age               0                0.0     int32\n",
              "8              Country               0                0.0    object"
            ]
          },
          "execution_count": 89,
          "metadata": {},
          "output_type": "execute_result"
        }
      ],
      "source": [
        "missing_values(data)"
      ]
    },
    {
      "cell_type": "code",
      "execution_count": 90,
      "id": "443lpRNXpvq8",
      "metadata": {
        "ExecuteTime": {
          "end_time": "2023-06-02T10:25:47.669060Z",
          "start_time": "2023-06-02T10:25:47.601013Z"
        },
        "colab": {
          "base_uri": "https://localhost:8080/"
        },
        "id": "443lpRNXpvq8",
        "outputId": "f1143684-1782-4dd0-c9f2-cd1da54e7e1d"
      },
      "outputs": [
        {
          "data": {
            "text/plain": [
              "11676     6943\n",
              "98391     5692\n",
              "189835    1899\n",
              "153662    1846\n",
              "23902     1180\n",
              "          ... \n",
              "142241       1\n",
              "42263        1\n",
              "67598        1\n",
              "67244        1\n",
              "259679       1\n",
              "Name: User-ID, Length: 68091, dtype: int64"
            ]
          },
          "execution_count": 90,
          "metadata": {},
          "output_type": "execute_result"
        }
      ],
      "source": [
        "data['User-ID'].value_counts()"
      ]
    },
    {
      "cell_type": "code",
      "execution_count": 72,
      "id": "BGlEOoQ3qP35",
      "metadata": {
        "ExecuteTime": {
          "end_time": "2023-06-02T10:25:47.718726Z",
          "start_time": "2023-06-02T10:25:47.669060Z"
        },
        "colab": {
          "base_uri": "https://localhost:8080/"
        },
        "id": "BGlEOoQ3qP35",
        "outputId": "2ef8b5fd-2377-47a0-f1ab-124182c13a44"
      },
      "outputs": [
        {
          "data": {
            "text/plain": [
              "(68091,)"
            ]
          },
          "execution_count": 72,
          "metadata": {},
          "output_type": "execute_result"
        }
      ],
      "source": [
        "data['User-ID'].unique().shape"
      ]
    },
    {
      "cell_type": "code",
      "execution_count": 91,
      "id": "DV4LQK9rniNt",
      "metadata": {
        "ExecuteTime": {
          "end_time": "2023-06-02T10:25:48.125230Z",
          "start_time": "2023-06-02T10:25:47.722754Z"
        },
        "colab": {
          "base_uri": "https://localhost:8080/",
          "height": 410
        },
        "id": "DV4LQK9rniNt",
        "outputId": "90fe0a64-f659-4fb5-e8b6-19dab7b0a7a8",
        "scrolled": false
      },
      "outputs": [
        {
          "data": {
            "image/png": "[encoded data removed]",
            "text/plain": [
              "<Figure size 1000x400 with 1 Axes>"
            ]
          },
          "metadata": {},
          "output_type": "display_data"
        }
      ],
      "source": [
        "year_count=books['Year-Of-Publication'].value_counts()\n",
        "year_count=pd.DataFrame(year_count)\n",
        "\n",
        "plt.figure(figsize=(10, 4))\n",
        "sns.lineplot(data=year_count)\n",
        "plt.title('Year of Publication count (1950 - 2010)')\n",
        "plt.xlim(1950, 2011)\n",
        "plt.xlabel('Year')\n",
        "plt.ylabel('Total Books Published')\n",
        "plt.show()\n"
      ]
    },
    {
      "cell_type": "code",
      "execution_count": 93,
      "id": "1629d034",
      "metadata": {
        "ExecuteTime": {
          "end_time": "2023-06-02T10:25:50.475601Z",
          "start_time": "2023-06-02T10:25:48.130009Z"
        },
        "id": "1629d034"
      },
      "outputs": [],
      "source": [
        "import plotly.express as px"
      ]
    },
    {
      "cell_type": "code",
      "execution_count": 94,
      "id": "xiOazgWrZlKc",
      "metadata": {
        "ExecuteTime": {
          "end_time": "2023-06-02T10:25:50.508309Z",
          "start_time": "2023-06-02T10:25:50.479746Z"
        },
        "id": "xiOazgWrZlKc"
      },
      "outputs": [],
      "source": [
        "def plot_top20(df, column, title, x_label, y_label, top=20, template = 'plotly_dark'):\n",
        "\n",
        "    pl = df[column].value_counts().head(top)\n",
        "    fig = px.bar(y=pl.values,\n",
        "                 x=pl.index,\n",
        "\n",
        "                 text=pl.values,\n",
        "                 title= title,\n",
        "                 template= template)\n",
        "    fig.update_layout(\n",
        "        xaxis_title=x_label,\n",
        "        yaxis_title=y_label,\n",
        "        font = dict(size=15))\n",
        "    fig.show()\n"
      ]
    },
    {
      "cell_type": "code",
      "execution_count": 96,
      "id": "XgdHp-XvXwoG",
      "metadata": {
        "ExecuteTime": {
          "end_time": "2023-06-02T10:25:52.771149Z",
          "start_time": "2023-06-02T10:25:50.508309Z"
        },
        "colab": {
          "base_uri": "https://localhost:8080/",
          "height": 542
        },
        "id": "XgdHp-XvXwoG",
        "outputId": "ee4766f2-721b-4ad0-ba26-30199472a3b7"
      },
      "outputs": [
        {
          "data": {
            "application/vnd.plotly.v1+json": {
              "config": {
                "plotlyServerURL": "https://plot.ly"
              },
              "data": [
                {
                  "alignmentgroup": "True",
                  "hovertemplate": "x=%{x}<br>y=%{y}<br>text=%{text}<extra></extra>",
                  "legendgroup": "",
                  "marker": {
                    "color": "#636efa",
                    "pattern": {
                      "shape": ""
                    }
                  },
                  "name": "",
                  "offsetgroup": "",
                  "orientation": "v",
                  "showlegend": false,
                  "text": [
                    631,
                    566,
                    522,
                    423,
                    372,
                    371,
                    330,
                    314,
                    307,
                    302,
                    286,
                    279,
                    230,
                    222,
                    220,
                    218,
                    217,
                    216,
                    214,
                    204
                  ],
                  "textposition": "auto",
                  "type": "bar",
                  "x": [
                    "Agatha Christie",
                    "William Shakespeare",
                    "Stephen King",
                    "Ann M. Martin",
                    "Carolyn Keene",
                    "Francine Pascal",
                    "Isaac Asimov",
                    "Nora Roberts",
                    "Barbara Cartland",
                    "Charles Dickens",
                    "Not Applicable (Na )",
                    "R. L. Stine",
                    "Mark Twain",
                    "Jane Austen",
                    "Terry Pratchett",
                    "Mary Higgins Clark",
                    "Piers Anthony",
                    "Marion Zimmer Bradley",
                    "Janet Dailey",
                    "Franklin W. Dixon"
                  ],
                  "xaxis": "x",
                  "y": [
                    631,
                    566,
                    522,
                    423,
                    372,
                    371,
                    330,
                    314,
                    307,
                    302,
                    286,
                    279,
                    230,
                    222,
                    220,
                    218,
                    217,
                    216,
                    214,
                    204
                  ],
                  "yaxis": "y"
                }
              ],
              "layout": {
                "barmode": "relative",
                "font": {
                  "size": 15
                },
                "legend": {
                  "tracegroupgap": 0
                },
                "template": {
                  "data": {
                    "bar": [
                      {
                        "error_x": {
                          "color": "#f2f5fa"
                        },
                        "error_y": {
                          "color": "#f2f5fa"
                        },
                        "marker": {
                          "line": {
                            "color": "rgb(17,17,17)",
                            "width": 0.5
                          },
                          "pattern": {
                            "fillmode": "overlay",
                            "size": 10,
                            "solidity": 0.2
                          }
                        },
                        "type": "bar"
                      }
                    ],
                    "barpolar": [
                      {
                        "marker": {
                          "line": {
                            "color": "rgb(17,17,17)",
                            "width": 0.5
                          },
                          "pattern": {
                            "fillmode": "overlay",
                            "size": 10,
                            "solidity": 0.2
                          }
                        },
                        "type": "barpolar"
                      }
                    ],
                    "carpet": [
                      {
                        "aaxis": {
                          "endlinecolor": "#A2B1C6",
                          "gridcolor": "#506784",
                          "linecolor": "#506784",
                          "minorgridcolor": "#506784",
                          "startlinecolor": "#A2B1C6"
                        },
                        "baxis": {
                          "endlinecolor": "#A2B1C6",
                          "gridcolor": "#506784",
                          "linecolor": "#506784",
                          "minorgridcolor": "#506784",
                          "startlinecolor": "#A2B1C6"
                        },
                        "type": "carpet"
                      }
                    ],
                    "choropleth": [
                      {
                        "colorbar": {
                          "outlinewidth": 0,
                          "ticks": ""
                        },
                        "type": "choropleth"
                      }
                    ],
                    "contour": [
                      {
                        "colorbar": {
                          "outlinewidth": 0,
                          "ticks": ""
                        },
                        "colorscale": [
                          [
                            0,
                            "#0d0887"
                          ],
                          [
                            0.1111111111111111,
                            "#46039f"
                          ],
                          [
                            0.2222222222222222,
                            "#7201a8"
                          ],
                          [
                            0.3333333333333333,
                            "#9c179e"
                          ],
                          [
                            0.4444444444444444,
                            "#bd3786"
                          ],
                          [
                            0.5555555555555556,
                            "#d8576b"
                          ],
                          [
                            0.6666666666666666,
                            "#ed7953"
                          ],
                          [
                            0.7777777777777778,
                            "#fb9f3a"
                          ],
                          [
                            0.8888888888888888,
                            "#fdca26"
                          ],
                          [
                            1,
                            "#f0f921"
                          ]
                        ],
                        "type": "contour"
                      }
                    ],
                    "contourcarpet": [
                      {
                        "colorbar": {
                          "outlinewidth": 0,
                          "ticks": ""
                        },
                        "type": "contourcarpet"
                      }
                    ],
                    "heatmap": [
                      {
                        "colorbar": {
                          "outlinewidth": 0,
                          "ticks": ""
                        },
                        "colorscale": [
                          [
                            0,
                            "#0d0887"
                          ],
                          [
                            0.1111111111111111,
                            "#46039f"
                          ],
                          [
                            0.2222222222222222,
                            "#7201a8"
                          ],
                          [
                            0.3333333333333333,
                            "#9c179e"
                          ],
                          [
                            0.4444444444444444,
                            "#bd3786"
                          ],
                          [
                            0.5555555555555556,
                            "#d8576b"
                          ],
                          [
                            0.6666666666666666,
                            "#ed7953"
                          ],
                          [
                            0.7777777777777778,
                            "#fb9f3a"
                          ],
                          [
                            0.8888888888888888,
                            "#fdca26"
                          ],
                          [
                            1,
                            "#f0f921"
                          ]
                        ],
                        "type": "heatmap"
                      }
                    ],
                    "heatmapgl": [
                      {
                        "colorbar": {
                          "outlinewidth": 0,
                          "ticks": ""
                        },
                        "colorscale": [
                          [
                            0,
                            "#0d0887"
                          ],
                          [
                            0.1111111111111111,
                            "#46039f"
                          ],
                          [
                            0.2222222222222222,
                            "#7201a8"
                          ],
                          [
                            0.3333333333333333,
                            "#9c179e"
                          ],
                          [
                            0.4444444444444444,
                            "#bd3786"
                          ],
                          [
                            0.5555555555555556,
                            "#d8576b"
                          ],
                          [
                            0.6666666666666666,
                            "#ed7953"
                          ],
                          [
                            0.7777777777777778,
                            "#fb9f3a"
                          ],
                          [
                            0.8888888888888888,
                            "#fdca26"
                          ],
                          [
                            1,
                            "#f0f921"
                          ]
                        ],
                        "type": "heatmapgl"
                      }
                    ],
                    "histogram": [
                      {
                        "marker": {
                          "pattern": {
                            "fillmode": "overlay",
                            "size": 10,
                            "solidity": 0.2
                          }
                        },
                        "type": "histogram"
                      }
                    ],
                    "histogram2d": [
                      {
                        "colorbar": {
                          "outlinewidth": 0,
                          "ticks": ""
                        },
                        "colorscale": [
                          [
                            0,
                            "#0d0887"
                          ],
                          [
                            0.1111111111111111,
                            "#46039f"
                          ],
                          [
                            0.2222222222222222,
                            "#7201a8"
                          ],
                          [
                            0.3333333333333333,
                            "#9c179e"
                          ],
                          [
                            0.4444444444444444,
                            "#bd3786"
                          ],
                          [
                            0.5555555555555556,
                            "#d8576b"
                          ],
                          [
                            0.6666666666666666,
                            "#ed7953"
                          ],
                          [
                            0.7777777777777778,
                            "#fb9f3a"
                          ],
                          [
                            0.8888888888888888,
                            "#fdca26"
                          ],
                          [
                            1,
                            "#f0f921"
                          ]
                        ],
                        "type": "histogram2d"
                      }
                    ],
                    "histogram2dcontour": [
                      {
                        "colorbar": {
                          "outlinewidth": 0,
                          "ticks": ""
                        },
                        "colorscale": [
                          [
                            0,
                            "#0d0887"
                          ],
                          [
                            0.1111111111111111,
                            "#46039f"
                          ],
                          [
                            0.2222222222222222,
                            "#7201a8"
                          ],
                          [
                            0.3333333333333333,
                            "#9c179e"
                          ],
                          [
                            0.4444444444444444,
                            "#bd3786"
                          ],
                          [
                            0.5555555555555556,
                            "#d8576b"
                          ],
                          [
                            0.6666666666666666,
                            "#ed7953"
                          ],
                          [
                            0.7777777777777778,
                            "#fb9f3a"
                          ],
                          [
                            0.8888888888888888,
                            "#fdca26"
                          ],
                          [
                            1,
                            "#f0f921"
                          ]
                        ],
                        "type": "histogram2dcontour"
                      }
                    ],
                    "mesh3d": [
                      {
                        "colorbar": {
                          "outlinewidth": 0,
                          "ticks": ""
                        },
                        "type": "mesh3d"
                      }
                    ],
                    "parcoords": [
                      {
                        "line": {
                          "colorbar": {
                            "outlinewidth": 0,
                            "ticks": ""
                          }
                        },
                        "type": "parcoords"
                      }
                    ],
                    "pie": [
                      {
                        "automargin": true,
                        "type": "pie"
                      }
                    ],
                    "scatter": [
                      {
                        "marker": {
                          "line": {
                            "color": "#283442"
                          }
                        },
                        "type": "scatter"
                      }
                    ],
                    "scatter3d": [
                      {
                        "line": {
                          "colorbar": {
                            "outlinewidth": 0,
                            "ticks": ""
                          }
                        },
                        "marker": {
                          "colorbar": {
                            "outlinewidth": 0,
                            "ticks": ""
                          }
                        },
                        "type": "scatter3d"
                      }
                    ],
                    "scattercarpet": [
                      {
                        "marker": {
                          "colorbar": {
                            "outlinewidth": 0,
                            "ticks": ""
                          }
                        },
                        "type": "scattercarpet"
                      }
                    ],
                    "scattergeo": [
                      {
                        "marker": {
                          "colorbar": {
                            "outlinewidth": 0,
                            "ticks": ""
                          }
                        },
                        "type": "scattergeo"
                      }
                    ],
                    "scattergl": [
                      {
                        "marker": {
                          "line": {
                            "color": "#283442"
                          }
                        },
                        "type": "scattergl"
                      }
                    ],
                    "scattermapbox": [
                      {
                        "marker": {
                          "colorbar": {
                            "outlinewidth": 0,
                            "ticks": ""
                          }
                        },
                        "type": "scattermapbox"
                      }
                    ],
                    "scatterpolar": [
                      {
                        "marker": {
                          "colorbar": {
                            "outlinewidth": 0,
                            "ticks": ""
                          }
                        },
                        "type": "scatterpolar"
                      }
                    ],
                    "scatterpolargl": [
                      {
                        "marker": {
                          "colorbar": {
                            "outlinewidth": 0,
                            "ticks": ""
                          }
                        },
                        "type": "scatterpolargl"
                      }
                    ],
                    "scatterternary": [
                      {
                        "marker": {
                          "colorbar": {
                            "outlinewidth": 0,
                            "ticks": ""
                          }
                        },
                        "type": "scatterternary"
                      }
                    ],
                    "surface": [
                      {
                        "colorbar": {
                          "outlinewidth": 0,
                          "ticks": ""
                        },
                        "colorscale": [
                          [
                            0,
                            "#0d0887"
                          ],
                          [
                            0.1111111111111111,
                            "#46039f"
                          ],
                          [
                            0.2222222222222222,
                            "#7201a8"
                          ],
                          [
                            0.3333333333333333,
                            "#9c179e"
                          ],
                          [
                            0.4444444444444444,
                            "#bd3786"
                          ],
                          [
                            0.5555555555555556,
                            "#d8576b"
                          ],
                          [
                            0.6666666666666666,
                            "#ed7953"
                          ],
                          [
                            0.7777777777777778,
                            "#fb9f3a"
                          ],
                          [
                            0.8888888888888888,
                            "#fdca26"
                          ],
                          [
                            1,
                            "#f0f921"
                          ]
                        ],
                        "type": "surface"
                      }
                    ],
                    "table": [
                      {
                        "cells": {
                          "fill": {
                            "color": "#506784"
                          },
                          "line": {
                            "color": "rgb(17,17,17)"
                          }
                        },
                        "header": {
                          "fill": {
                            "color": "#2a3f5f"
                          },
                          "line": {
                            "color": "rgb(17,17,17)"
                          }
                        },
                        "type": "table"
                      }
                    ]
                  },
                  "layout": {
                    "annotationdefaults": {
                      "arrowcolor": "#f2f5fa",
                      "arrowhead": 0,
                      "arrowwidth": 1
                    },
                    "autotypenumbers": "strict",
                    "coloraxis": {
                      "colorbar": {
                        "outlinewidth": 0,
                        "ticks": ""
                      }
                    },
                    "colorscale": {
                      "diverging": [
                        [
                          0,
                          "#8e0152"
                        ],
                        [
                          0.1,
                          "#c51b7d"
                        ],
                        [
                          0.2,
                          "#de77ae"
                        ],
                        [
                          0.3,
                          "#f1b6da"
                        ],
                        [
                          0.4,
                          "#fde0ef"
                        ],
                        [
                          0.5,
                          "#f7f7f7"
                        ],
                        [
                          0.6,
                          "#e6f5d0"
                        ],
                        [
                          0.7,
                          "#b8e186"
                        ],
                        [
                          0.8,
                          "#7fbc41"
                        ],
                        [
                          0.9,
                          "#4d9221"
                        ],
                        [
                          1,
                          "#276419"
                        ]
                      ],
                      "sequential": [
                        [
                          0,
                          "#0d0887"
                        ],
                        [
                          0.1111111111111111,
                          "#46039f"
                        ],
                        [
                          0.2222222222222222,
                          "#7201a8"
                        ],
                        [
                          0.3333333333333333,
                          "#9c179e"
                        ],
                        [
                          0.4444444444444444,
                          "#bd3786"
                        ],
                        [
                          0.5555555555555556,
                          "#d8576b"
                        ],
                        [
                          0.6666666666666666,
                          "#ed7953"
                        ],
                        [
                          0.7777777777777778,
                          "#fb9f3a"
                        ],
                        [
                          0.8888888888888888,
                          "#fdca26"
                        ],
                        [
                          1,
                          "#f0f921"
                        ]
                      ],
                      "sequentialminus": [
                        [
                          0,
                          "#0d0887"
                        ],
                        [
                          0.1111111111111111,
                          "#46039f"
                        ],
                        [
                          0.2222222222222222,
                          "#7201a8"
                        ],
                        [
                          0.3333333333333333,
                          "#9c179e"
                        ],
                        [
                          0.4444444444444444,
                          "#bd3786"
                        ],
                        [
                          0.5555555555555556,
                          "#d8576b"
                        ],
                        [
                          0.6666666666666666,
                          "#ed7953"
                        ],
                        [
                          0.7777777777777778,
                          "#fb9f3a"
                        ],
                        [
                          0.8888888888888888,
                          "#fdca26"
                        ],
                        [
                          1,
                          "#f0f921"
                        ]
                      ]
                    },
                    "colorway": [
                      "#636efa",
                      "#EF553B",
                      "#00cc96",
                      "#ab63fa",
                      "#FFA15A",
                      "#19d3f3",
                      "#FF6692",
                      "#B6E880",
                      "#FF97FF",
                      "#FECB52"
                    ],
                    "font": {
                      "color": "#f2f5fa"
                    },
                    "geo": {
                      "bgcolor": "rgb(17,17,17)",
                      "lakecolor": "rgb(17,17,17)",
                      "landcolor": "rgb(17,17,17)",
                      "showlakes": true,
                      "showland": true,
                      "subunitcolor": "#506784"
                    },
                    "hoverlabel": {
                      "align": "left"
                    },
                    "hovermode": "closest",
                    "mapbox": {
                      "style": "dark"
                    },
                    "paper_bgcolor": "rgb(17,17,17)",
                    "plot_bgcolor": "rgb(17,17,17)",
                    "polar": {
                      "angularaxis": {
                        "gridcolor": "#506784",
                        "linecolor": "#506784",
                        "ticks": ""
                      },
                      "bgcolor": "rgb(17,17,17)",
                      "radialaxis": {
                        "gridcolor": "#506784",
                        "linecolor": "#506784",
                        "ticks": ""
                      }
                    },
                    "scene": {
                      "xaxis": {
                        "backgroundcolor": "rgb(17,17,17)",
                        "gridcolor": "#506784",
                        "gridwidth": 2,
                        "linecolor": "#506784",
                        "showbackground": true,
                        "ticks": "",
                        "zerolinecolor": "#C8D4E3"
                      },
                      "yaxis": {
                        "backgroundcolor": "rgb(17,17,17)",
                        "gridcolor": "#506784",
                        "gridwidth": 2,
                        "linecolor": "#506784",
                        "showbackground": true,
                        "ticks": "",
                        "zerolinecolor": "#C8D4E3"
                      },
                      "zaxis": {
                        "backgroundcolor": "rgb(17,17,17)",
                        "gridcolor": "#506784",
                        "gridwidth": 2,
                        "linecolor": "#506784",
                        "showbackground": true,
                        "ticks": "",
                        "zerolinecolor": "#C8D4E3"
                      }
                    },
                    "shapedefaults": {
                      "line": {
                        "color": "#f2f5fa"
                      }
                    },
                    "sliderdefaults": {
                      "bgcolor": "#C8D4E3",
                      "bordercolor": "rgb(17,17,17)",
                      "borderwidth": 1,
                      "tickwidth": 0
                    },
                    "ternary": {
                      "aaxis": {
                        "gridcolor": "#506784",
                        "linecolor": "#506784",
                        "ticks": ""
                      },
                      "baxis": {
                        "gridcolor": "#506784",
                        "linecolor": "#506784",
                        "ticks": ""
                      },
                      "bgcolor": "rgb(17,17,17)",
                      "caxis": {
                        "gridcolor": "#506784",
                        "linecolor": "#506784",
                        "ticks": ""
                      }
                    },
                    "title": {
                      "x": 0.05
                    },
                    "updatemenudefaults": {
                      "bgcolor": "#506784",
                      "borderwidth": 0
                    },
                    "xaxis": {
                      "automargin": true,
                      "gridcolor": "#283442",
                      "linecolor": "#506784",
                      "ticks": "",
                      "title": {
                        "standoff": 15
                      },
                      "zerolinecolor": "#283442",
                      "zerolinewidth": 2
                    },
                    "yaxis": {
                      "automargin": true,
                      "gridcolor": "#283442",
                      "linecolor": "#506784",
                      "ticks": "",
                      "title": {
                        "standoff": 15
                      },
                      "zerolinecolor": "#283442",
                      "zerolinewidth": 2
                    }
                  }
                },
                "title": {
                  "text": "Top 20 Authors by books"
                },
                "xaxis": {
                  "anchor": "y",
                  "domain": [
                    0,
                    1
                  ],
                  "title": {
                    "text": "Author name"
                  }
                },
                "yaxis": {
                  "anchor": "x",
                  "domain": [
                    0,
                    1
                  ],
                  "title": {
                    "text": "Count"
                  }
                }
              }
            }
          },
          "metadata": {},
          "output_type": "display_data"
        }
      ],
      "source": [
        "plot_top20(books, 'Book-Author', \"Top 20 Authors by books\", \"Author name\", \"Count\")"
      ]
    },
    {
      "cell_type": "code",
      "execution_count": 97,
      "id": "gXaPOivFX0HL",
      "metadata": {
        "ExecuteTime": {
          "end_time": "2023-06-02T10:25:52.913095Z",
          "start_time": "2023-06-02T10:25:52.775732Z"
        },
        "colab": {
          "base_uri": "https://localhost:8080/",
          "height": 542
        },
        "id": "gXaPOivFX0HL",
        "outputId": "4b9950f1-642e-4ee6-bbe3-1f0570b2b6e4"
      },
      "outputs": [
        {
          "data": {
            "application/vnd.plotly.v1+json": {
              "config": {
                "plotlyServerURL": "https://plot.ly"
              },
              "data": [
                {
                  "alignmentgroup": "True",
                  "hovertemplate": "x=%{x}<br>y=%{y}<br>text=%{text}<extra></extra>",
                  "legendgroup": "",
                  "marker": {
                    "color": "#636efa",
                    "pattern": {
                      "shape": ""
                    }
                  },
                  "name": "",
                  "offsetgroup": "",
                  "orientation": "v",
                  "showlegend": false,
                  "text": [
                    7532,
                    4218,
                    3896,
                    3772,
                    3640,
                    3152,
                    2965,
                    2836,
                    2760,
                    2720,
                    2714,
                    2523,
                    2256,
                    2070,
                    2040,
                    1952,
                    1779,
                    1704,
                    1698,
                    1694
                  ],
                  "textposition": "auto",
                  "type": "bar",
                  "x": [
                    "Harlequin",
                    "Silhouette",
                    "Pocket",
                    "Ballantine Books",
                    "Bantam Books",
                    "Scholastic",
                    "Simon &amp; Schuster",
                    "Penguin Books",
                    "Berkley Publishing Group",
                    "Warner Books",
                    "Penguin USA",
                    "Harpercollins",
                    "Fawcett Books",
                    "Signet Book",
                    "Random House Inc",
                    "St Martins Pr",
                    "St. Martin's Press",
                    "Tor Books",
                    "HarperCollins Publishers",
                    "Zebra Books"
                  ],
                  "xaxis": "x",
                  "y": [
                    7532,
                    4218,
                    3896,
                    3772,
                    3640,
                    3152,
                    2965,
                    2836,
                    2760,
                    2720,
                    2714,
                    2523,
                    2256,
                    2070,
                    2040,
                    1952,
                    1779,
                    1704,
                    1698,
                    1694
                  ],
                  "yaxis": "y"
                }
              ],
              "layout": {
                "barmode": "relative",
                "font": {
                  "size": 15
                },
                "legend": {
                  "tracegroupgap": 0
                },
                "template": {
                  "data": {
                    "bar": [
                      {
                        "error_x": {
                          "color": "#f2f5fa"
                        },
                        "error_y": {
                          "color": "#f2f5fa"
                        },
                        "marker": {
                          "line": {
                            "color": "rgb(17,17,17)",
                            "width": 0.5
                          },
                          "pattern": {
                            "fillmode": "overlay",
                            "size": 10,
                            "solidity": 0.2
                          }
                        },
                        "type": "bar"
                      }
                    ],
                    "barpolar": [
                      {
                        "marker": {
                          "line": {
                            "color": "rgb(17,17,17)",
                            "width": 0.5
                          },
                          "pattern": {
                            "fillmode": "overlay",
                            "size": 10,
                            "solidity": 0.2
                          }
                        },
                        "type": "barpolar"
                      }
                    ],
                    "carpet": [
                      {
                        "aaxis": {
                          "endlinecolor": "#A2B1C6",
                          "gridcolor": "#506784",
                          "linecolor": "#506784",
                          "minorgridcolor": "#506784",
                          "startlinecolor": "#A2B1C6"
                        },
                        "baxis": {
                          "endlinecolor": "#A2B1C6",
                          "gridcolor": "#506784",
                          "linecolor": "#506784",
                          "minorgridcolor": "#506784",
                          "startlinecolor": "#A2B1C6"
                        },
                        "type": "carpet"
                      }
                    ],
                    "choropleth": [
                      {
                        "colorbar": {
                          "outlinewidth": 0,
                          "ticks": ""
                        },
                        "type": "choropleth"
                      }
                    ],
                    "contour": [
                      {
                        "colorbar": {
                          "outlinewidth": 0,
                          "ticks": ""
                        },
                        "colorscale": [
                          [
                            0,
                            "#0d0887"
                          ],
                          [
                            0.1111111111111111,
                            "#46039f"
                          ],
                          [
                            0.2222222222222222,
                            "#7201a8"
                          ],
                          [
                            0.3333333333333333,
                            "#9c179e"
                          ],
                          [
                            0.4444444444444444,
                            "#bd3786"
                          ],
                          [
                            0.5555555555555556,
                            "#d8576b"
                          ],
                          [
                            0.6666666666666666,
                            "#ed7953"
                          ],
                          [
                            0.7777777777777778,
                            "#fb9f3a"
                          ],
                          [
                            0.8888888888888888,
                            "#fdca26"
                          ],
                          [
                            1,
                            "#f0f921"
                          ]
                        ],
                        "type": "contour"
                      }
                    ],
                    "contourcarpet": [
                      {
                        "colorbar": {
                          "outlinewidth": 0,
                          "ticks": ""
                        },
                        "type": "contourcarpet"
                      }
                    ],
                    "heatmap": [
                      {
                        "colorbar": {
                          "outlinewidth": 0,
                          "ticks": ""
                        },
                        "colorscale": [
                          [
                            0,
                            "#0d0887"
                          ],
                          [
                            0.1111111111111111,
                            "#46039f"
                          ],
                          [
                            0.2222222222222222,
                            "#7201a8"
                          ],
                          [
                            0.3333333333333333,
                            "#9c179e"
                          ],
                          [
                            0.4444444444444444,
                            "#bd3786"
                          ],
                          [
                            0.5555555555555556,
                            "#d8576b"
                          ],
                          [
                            0.6666666666666666,
                            "#ed7953"
                          ],
                          [
                            0.7777777777777778,
                            "#fb9f3a"
                          ],
                          [
                            0.8888888888888888,
                            "#fdca26"
                          ],
                          [
                            1,
                            "#f0f921"
                          ]
                        ],
                        "type": "heatmap"
                      }
                    ],
                    "heatmapgl": [
                      {
                        "colorbar": {
                          "outlinewidth": 0,
                          "ticks": ""
                        },
                        "colorscale": [
                          [
                            0,
                            "#0d0887"
                          ],
                          [
                            0.1111111111111111,
                            "#46039f"
                          ],
                          [
                            0.2222222222222222,
                            "#7201a8"
                          ],
                          [
                            0.3333333333333333,
                            "#9c179e"
                          ],
                          [
                            0.4444444444444444,
                            "#bd3786"
                          ],
                          [
                            0.5555555555555556,
                            "#d8576b"
                          ],
                          [
                            0.6666666666666666,
                            "#ed7953"
                          ],
                          [
                            0.7777777777777778,
                            "#fb9f3a"
                          ],
                          [
                            0.8888888888888888,
                            "#fdca26"
                          ],
                          [
                            1,
                            "#f0f921"
                          ]
                        ],
                        "type": "heatmapgl"
                      }
                    ],
                    "histogram": [
                      {
                        "marker": {
                          "pattern": {
                            "fillmode": "overlay",
                            "size": 10,
                            "solidity": 0.2
                          }
                        },
                        "type": "histogram"
                      }
                    ],
                    "histogram2d": [
                      {
                        "colorbar": {
                          "outlinewidth": 0,
                          "ticks": ""
                        },
                        "colorscale": [
                          [
                            0,
                            "#0d0887"
                          ],
                          [
                            0.1111111111111111,
                            "#46039f"
                          ],
                          [
                            0.2222222222222222,
                            "#7201a8"
                          ],
                          [
                            0.3333333333333333,
                            "#9c179e"
                          ],
                          [
                            0.4444444444444444,
                            "#bd3786"
                          ],
                          [
                            0.5555555555555556,
                            "#d8576b"
                          ],
                          [
                            0.6666666666666666,
                            "#ed7953"
                          ],
                          [
                            0.7777777777777778,
                            "#fb9f3a"
                          ],
                          [
                            0.8888888888888888,
                            "#fdca26"
                          ],
                          [
                            1,
                            "#f0f921"
                          ]
                        ],
                        "type": "histogram2d"
                      }
                    ],
                    "histogram2dcontour": [
                      {
                        "colorbar": {
                          "outlinewidth": 0,
                          "ticks": ""
                        },
                        "colorscale": [
                          [
                            0,
                            "#0d0887"
                          ],
                          [
                            0.1111111111111111,
                            "#46039f"
                          ],
                          [
                            0.2222222222222222,
                            "#7201a8"
                          ],
                          [
                            0.3333333333333333,
                            "#9c179e"
                          ],
                          [
                            0.4444444444444444,
                            "#bd3786"
                          ],
                          [
                            0.5555555555555556,
                            "#d8576b"
                          ],
                          [
                            0.6666666666666666,
                            "#ed7953"
                          ],
                          [
                            0.7777777777777778,
                            "#fb9f3a"
                          ],
                          [
                            0.8888888888888888,
                            "#fdca26"
                          ],
                          [
                            1,
                            "#f0f921"
                          ]
                        ],
                        "type": "histogram2dcontour"
                      }
                    ],
                    "mesh3d": [
                      {
                        "colorbar": {
                          "outlinewidth": 0,
                          "ticks": ""
                        },
                        "type": "mesh3d"
                      }
                    ],
                    "parcoords": [
                      {
                        "line": {
                          "colorbar": {
                            "outlinewidth": 0,
                            "ticks": ""
                          }
                        },
                        "type": "parcoords"
                      }
                    ],
                    "pie": [
                      {
                        "automargin": true,
                        "type": "pie"
                      }
                    ],
                    "scatter": [
                      {
                        "marker": {
                          "line": {
                            "color": "#283442"
                          }
                        },
                        "type": "scatter"
                      }
                    ],
                    "scatter3d": [
                      {
                        "line": {
                          "colorbar": {
                            "outlinewidth": 0,
                            "ticks": ""
                          }
                        },
                        "marker": {
                          "colorbar": {
                            "outlinewidth": 0,
                            "ticks": ""
                          }
                        },
                        "type": "scatter3d"
                      }
                    ],
                    "scattercarpet": [
                      {
                        "marker": {
                          "colorbar": {
                            "outlinewidth": 0,
                            "ticks": ""
                          }
                        },
                        "type": "scattercarpet"
                      }
                    ],
                    "scattergeo": [
                      {
                        "marker": {
                          "colorbar": {
                            "outlinewidth": 0,
                            "ticks": ""
                          }
                        },
                        "type": "scattergeo"
                      }
                    ],
                    "scattergl": [
                      {
                        "marker": {
                          "line": {
                            "color": "#283442"
                          }
                        },
                        "type": "scattergl"
                      }
                    ],
                    "scattermapbox": [
                      {
                        "marker": {
                          "colorbar": {
                            "outlinewidth": 0,
                            "ticks": ""
                          }
                        },
                        "type": "scattermapbox"
                      }
                    ],
                    "scatterpolar": [
                      {
                        "marker": {
                          "colorbar": {
                            "outlinewidth": 0,
                            "ticks": ""
                          }
                        },
                        "type": "scatterpolar"
                      }
                    ],
                    "scatterpolargl": [
                      {
                        "marker": {
                          "colorbar": {
                            "outlinewidth": 0,
                            "ticks": ""
                          }
                        },
                        "type": "scatterpolargl"
                      }
                    ],
                    "scatterternary": [
                      {
                        "marker": {
                          "colorbar": {
                            "outlinewidth": 0,
                            "ticks": ""
                          }
                        },
                        "type": "scatterternary"
                      }
                    ],
                    "surface": [
                      {
                        "colorbar": {
                          "outlinewidth": 0,
                          "ticks": ""
                        },
                        "colorscale": [
                          [
                            0,
                            "#0d0887"
                          ],
                          [
                            0.1111111111111111,
                            "#46039f"
                          ],
                          [
                            0.2222222222222222,
                            "#7201a8"
                          ],
                          [
                            0.3333333333333333,
                            "#9c179e"
                          ],
                          [
                            0.4444444444444444,
                            "#bd3786"
                          ],
                          [
                            0.5555555555555556,
                            "#d8576b"
                          ],
                          [
                            0.6666666666666666,
                            "#ed7953"
                          ],
                          [
                            0.7777777777777778,
                            "#fb9f3a"
                          ],
                          [
                            0.8888888888888888,
                            "#fdca26"
                          ],
                          [
                            1,
                            "#f0f921"
                          ]
                        ],
                        "type": "surface"
                      }
                    ],
                    "table": [
                      {
                        "cells": {
                          "fill": {
                            "color": "#506784"
                          },
                          "line": {
                            "color": "rgb(17,17,17)"
                          }
                        },
                        "header": {
                          "fill": {
                            "color": "#2a3f5f"
                          },
                          "line": {
                            "color": "rgb(17,17,17)"
                          }
                        },
                        "type": "table"
                      }
                    ]
                  },
                  "layout": {
                    "annotationdefaults": {
                      "arrowcolor": "#f2f5fa",
                      "arrowhead": 0,
                      "arrowwidth": 1
                    },
                    "autotypenumbers": "strict",
                    "coloraxis": {
                      "colorbar": {
                        "outlinewidth": 0,
                        "ticks": ""
                      }
                    },
                    "colorscale": {
                      "diverging": [
                        [
                          0,
                          "#8e0152"
                        ],
                        [
                          0.1,
                          "#c51b7d"
                        ],
                        [
                          0.2,
                          "#de77ae"
                        ],
                        [
                          0.3,
                          "#f1b6da"
                        ],
                        [
                          0.4,
                          "#fde0ef"
                        ],
                        [
                          0.5,
                          "#f7f7f7"
                        ],
                        [
                          0.6,
                          "#e6f5d0"
                        ],
                        [
                          0.7,
                          "#b8e186"
                        ],
                        [
                          0.8,
                          "#7fbc41"
                        ],
                        [
                          0.9,
                          "#4d9221"
                        ],
                        [
                          1,
                          "#276419"
                        ]
                      ],
                      "sequential": [
                        [
                          0,
                          "#0d0887"
                        ],
                        [
                          0.1111111111111111,
                          "#46039f"
                        ],
                        [
                          0.2222222222222222,
                          "#7201a8"
                        ],
                        [
                          0.3333333333333333,
                          "#9c179e"
                        ],
                        [
                          0.4444444444444444,
                          "#bd3786"
                        ],
                        [
                          0.5555555555555556,
                          "#d8576b"
                        ],
                        [
                          0.6666666666666666,
                          "#ed7953"
                        ],
                        [
                          0.7777777777777778,
                          "#fb9f3a"
                        ],
                        [
                          0.8888888888888888,
                          "#fdca26"
                        ],
                        [
                          1,
                          "#f0f921"
                        ]
                      ],
                      "sequentialminus": [
                        [
                          0,
                          "#0d0887"
                        ],
                        [
                          0.1111111111111111,
                          "#46039f"
                        ],
                        [
                          0.2222222222222222,
                          "#7201a8"
                        ],
                        [
                          0.3333333333333333,
                          "#9c179e"
                        ],
                        [
                          0.4444444444444444,
                          "#bd3786"
                        ],
                        [
                          0.5555555555555556,
                          "#d8576b"
                        ],
                        [
                          0.6666666666666666,
                          "#ed7953"
                        ],
                        [
                          0.7777777777777778,
                          "#fb9f3a"
                        ],
                        [
                          0.8888888888888888,
                          "#fdca26"
                        ],
                        [
                          1,
                          "#f0f921"
                        ]
                      ]
                    },
                    "colorway": [
                      "#636efa",
                      "#EF553B",
                      "#00cc96",
                      "#ab63fa",
                      "#FFA15A",
                      "#19d3f3",
                      "#FF6692",
                      "#B6E880",
                      "#FF97FF",
                      "#FECB52"
                    ],
                    "font": {
                      "color": "#f2f5fa"
                    },
                    "geo": {
                      "bgcolor": "rgb(17,17,17)",
                      "lakecolor": "rgb(17,17,17)",
                      "landcolor": "rgb(17,17,17)",
                      "showlakes": true,
                      "showland": true,
                      "subunitcolor": "#506784"
                    },
                    "hoverlabel": {
                      "align": "left"
                    },
                    "hovermode": "closest",
                    "mapbox": {
                      "style": "dark"
                    },
                    "paper_bgcolor": "rgb(17,17,17)",
                    "plot_bgcolor": "rgb(17,17,17)",
                    "polar": {
                      "angularaxis": {
                        "gridcolor": "#506784",
                        "linecolor": "#506784",
                        "ticks": ""
                      },
                      "bgcolor": "rgb(17,17,17)",
                      "radialaxis": {
                        "gridcolor": "#506784",
                        "linecolor": "#506784",
                        "ticks": ""
                      }
                    },
                    "scene": {
                      "xaxis": {
                        "backgroundcolor": "rgb(17,17,17)",
                        "gridcolor": "#506784",
                        "gridwidth": 2,
                        "linecolor": "#506784",
                        "showbackground": true,
                        "ticks": "",
                        "zerolinecolor": "#C8D4E3"
                      },
                      "yaxis": {
                        "backgroundcolor": "rgb(17,17,17)",
                        "gridcolor": "#506784",
                        "gridwidth": 2,
                        "linecolor": "#506784",
                        "showbackground": true,
                        "ticks": "",
                        "zerolinecolor": "#C8D4E3"
                      },
                      "zaxis": {
                        "backgroundcolor": "rgb(17,17,17)",
                        "gridcolor": "#506784",
                        "gridwidth": 2,
                        "linecolor": "#506784",
                        "showbackground": true,
                        "ticks": "",
                        "zerolinecolor": "#C8D4E3"
                      }
                    },
                    "shapedefaults": {
                      "line": {
                        "color": "#f2f5fa"
                      }
                    },
                    "sliderdefaults": {
                      "bgcolor": "#C8D4E3",
                      "bordercolor": "rgb(17,17,17)",
                      "borderwidth": 1,
                      "tickwidth": 0
                    },
                    "ternary": {
                      "aaxis": {
                        "gridcolor": "#506784",
                        "linecolor": "#506784",
                        "ticks": ""
                      },
                      "baxis": {
                        "gridcolor": "#506784",
                        "linecolor": "#506784",
                        "ticks": ""
                      },
                      "bgcolor": "rgb(17,17,17)",
                      "caxis": {
                        "gridcolor": "#506784",
                        "linecolor": "#506784",
                        "ticks": ""
                      }
                    },
                    "title": {
                      "x": 0.05
                    },
                    "updatemenudefaults": {
                      "bgcolor": "#506784",
                      "borderwidth": 0
                    },
                    "xaxis": {
                      "automargin": true,
                      "gridcolor": "#283442",
                      "linecolor": "#506784",
                      "ticks": "",
                      "title": {
                        "standoff": 15
                      },
                      "zerolinecolor": "#283442",
                      "zerolinewidth": 2
                    },
                    "yaxis": {
                      "automargin": true,
                      "gridcolor": "#283442",
                      "linecolor": "#506784",
                      "ticks": "",
                      "title": {
                        "standoff": 15
                      },
                      "zerolinecolor": "#283442",
                      "zerolinewidth": 2
                    }
                  }
                },
                "title": {
                  "text": "Top 20 Publishers of books"
                },
                "xaxis": {
                  "anchor": "y",
                  "domain": [
                    0,
                    1
                  ],
                  "title": {
                    "text": "Publisher name"
                  }
                },
                "yaxis": {
                  "anchor": "x",
                  "domain": [
                    0,
                    1
                  ],
                  "title": {
                    "text": "Count"
                  }
                }
              }
            }
          },
          "metadata": {},
          "output_type": "display_data"
        }
      ],
      "source": [
        "plot_top20(books, 'Publisher', \"Top 20 Publishers of books\", \"Publisher name\", \"Count\")\n"
      ]
    },
    {
      "cell_type": "code",
      "execution_count": 98,
      "id": "zn6YvPjnabnI",
      "metadata": {
        "ExecuteTime": {
          "end_time": "2023-06-02T10:25:53.018876Z",
          "start_time": "2023-06-02T10:25:52.913095Z"
        },
        "colab": {
          "base_uri": "https://localhost:8080/",
          "height": 542
        },
        "id": "zn6YvPjnabnI",
        "outputId": "8f5bb2ab-3c06-46a6-b41e-77cae641e85c"
      },
      "outputs": [
        {
          "data": {
            "application/vnd.plotly.v1+json": {
              "config": {
                "plotlyServerURL": "https://plot.ly"
              },
              "data": [
                {
                  "alignmentgroup": "True",
                  "hovertemplate": "x=%{x}<br>y=%{y}<br>text=%{text}<extra></extra>",
                  "legendgroup": "",
                  "marker": {
                    "color": "#636efa",
                    "pattern": {
                      "shape": ""
                    }
                  },
                  "name": "",
                  "offsetgroup": "",
                  "orientation": "v",
                  "showlegend": false,
                  "text": [
                    22239,
                    17410,
                    17337,
                    17214,
                    15752,
                    14872,
                    14331,
                    14012,
                    13524,
                    11777,
                    10592,
                    9884,
                    9379,
                    8651,
                    7926,
                    7487,
                    6523,
                    5836,
                    5832,
                    5338
                  ],
                  "textposition": "auto",
                  "type": "bar",
                  "x": [
                    2002,
                    1999,
                    2001,
                    2000,
                    1998,
                    1997,
                    2003,
                    1996,
                    1995,
                    1994,
                    1993,
                    1992,
                    1991,
                    1990,
                    1989,
                    1988,
                    1987,
                    1986,
                    2004,
                    1985
                  ],
                  "xaxis": "x",
                  "y": [
                    22239,
                    17410,
                    17337,
                    17214,
                    15752,
                    14872,
                    14331,
                    14012,
                    13524,
                    11777,
                    10592,
                    9884,
                    9379,
                    8651,
                    7926,
                    7487,
                    6523,
                    5836,
                    5832,
                    5338
                  ],
                  "yaxis": "y"
                }
              ],
              "layout": {
                "barmode": "relative",
                "font": {
                  "size": 15
                },
                "legend": {
                  "tracegroupgap": 0
                },
                "template": {
                  "data": {
                    "bar": [
                      {
                        "error_x": {
                          "color": "#f2f5fa"
                        },
                        "error_y": {
                          "color": "#f2f5fa"
                        },
                        "marker": {
                          "line": {
                            "color": "rgb(17,17,17)",
                            "width": 0.5
                          },
                          "pattern": {
                            "fillmode": "overlay",
                            "size": 10,
                            "solidity": 0.2
                          }
                        },
                        "type": "bar"
                      }
                    ],
                    "barpolar": [
                      {
                        "marker": {
                          "line": {
                            "color": "rgb(17,17,17)",
                            "width": 0.5
                          },
                          "pattern": {
                            "fillmode": "overlay",
                            "size": 10,
                            "solidity": 0.2
                          }
                        },
                        "type": "barpolar"
                      }
                    ],
                    "carpet": [
                      {
                        "aaxis": {
                          "endlinecolor": "#A2B1C6",
                          "gridcolor": "#506784",
                          "linecolor": "#506784",
                          "minorgridcolor": "#506784",
                          "startlinecolor": "#A2B1C6"
                        },
                        "baxis": {
                          "endlinecolor": "#A2B1C6",
                          "gridcolor": "#506784",
                          "linecolor": "#506784",
                          "minorgridcolor": "#506784",
                          "startlinecolor": "#A2B1C6"
                        },
                        "type": "carpet"
                      }
                    ],
                    "choropleth": [
                      {
                        "colorbar": {
                          "outlinewidth": 0,
                          "ticks": ""
                        },
                        "type": "choropleth"
                      }
                    ],
                    "contour": [
                      {
                        "colorbar": {
                          "outlinewidth": 0,
                          "ticks": ""
                        },
                        "colorscale": [
                          [
                            0,
                            "#0d0887"
                          ],
                          [
                            0.1111111111111111,
                            "#46039f"
                          ],
                          [
                            0.2222222222222222,
                            "#7201a8"
                          ],
                          [
                            0.3333333333333333,
                            "#9c179e"
                          ],
                          [
                            0.4444444444444444,
                            "#bd3786"
                          ],
                          [
                            0.5555555555555556,
                            "#d8576b"
                          ],
                          [
                            0.6666666666666666,
                            "#ed7953"
                          ],
                          [
                            0.7777777777777778,
                            "#fb9f3a"
                          ],
                          [
                            0.8888888888888888,
                            "#fdca26"
                          ],
                          [
                            1,
                            "#f0f921"
                          ]
                        ],
                        "type": "contour"
                      }
                    ],
                    "contourcarpet": [
                      {
                        "colorbar": {
                          "outlinewidth": 0,
                          "ticks": ""
                        },
                        "type": "contourcarpet"
                      }
                    ],
                    "heatmap": [
                      {
                        "colorbar": {
                          "outlinewidth": 0,
                          "ticks": ""
                        },
                        "colorscale": [
                          [
                            0,
                            "#0d0887"
                          ],
                          [
                            0.1111111111111111,
                            "#46039f"
                          ],
                          [
                            0.2222222222222222,
                            "#7201a8"
                          ],
                          [
                            0.3333333333333333,
                            "#9c179e"
                          ],
                          [
                            0.4444444444444444,
                            "#bd3786"
                          ],
                          [
                            0.5555555555555556,
                            "#d8576b"
                          ],
                          [
                            0.6666666666666666,
                            "#ed7953"
                          ],
                          [
                            0.7777777777777778,
                            "#fb9f3a"
                          ],
                          [
                            0.8888888888888888,
                            "#fdca26"
                          ],
                          [
                            1,
                            "#f0f921"
                          ]
                        ],
                        "type": "heatmap"
                      }
                    ],
                    "heatmapgl": [
                      {
                        "colorbar": {
                          "outlinewidth": 0,
                          "ticks": ""
                        },
                        "colorscale": [
                          [
                            0,
                            "#0d0887"
                          ],
                          [
                            0.1111111111111111,
                            "#46039f"
                          ],
                          [
                            0.2222222222222222,
                            "#7201a8"
                          ],
                          [
                            0.3333333333333333,
                            "#9c179e"
                          ],
                          [
                            0.4444444444444444,
                            "#bd3786"
                          ],
                          [
                            0.5555555555555556,
                            "#d8576b"
                          ],
                          [
                            0.6666666666666666,
                            "#ed7953"
                          ],
                          [
                            0.7777777777777778,
                            "#fb9f3a"
                          ],
                          [
                            0.8888888888888888,
                            "#fdca26"
                          ],
                          [
                            1,
                            "#f0f921"
                          ]
                        ],
                        "type": "heatmapgl"
                      }
                    ],
                    "histogram": [
                      {
                        "marker": {
                          "pattern": {
                            "fillmode": "overlay",
                            "size": 10,
                            "solidity": 0.2
                          }
                        },
                        "type": "histogram"
                      }
                    ],
                    "histogram2d": [
                      {
                        "colorbar": {
                          "outlinewidth": 0,
                          "ticks": ""
                        },
                        "colorscale": [
                          [
                            0,
                            "#0d0887"
                          ],
                          [
                            0.1111111111111111,
                            "#46039f"
                          ],
                          [
                            0.2222222222222222,
                            "#7201a8"
                          ],
                          [
                            0.3333333333333333,
                            "#9c179e"
                          ],
                          [
                            0.4444444444444444,
                            "#bd3786"
                          ],
                          [
                            0.5555555555555556,
                            "#d8576b"
                          ],
                          [
                            0.6666666666666666,
                            "#ed7953"
                          ],
                          [
                            0.7777777777777778,
                            "#fb9f3a"
                          ],
                          [
                            0.8888888888888888,
                            "#fdca26"
                          ],
                          [
                            1,
                            "#f0f921"
                          ]
                        ],
                        "type": "histogram2d"
                      }
                    ],
                    "histogram2dcontour": [
                      {
                        "colorbar": {
                          "outlinewidth": 0,
                          "ticks": ""
                        },
                        "colorscale": [
                          [
                            0,
                            "#0d0887"
                          ],
                          [
                            0.1111111111111111,
                            "#46039f"
                          ],
                          [
                            0.2222222222222222,
                            "#7201a8"
                          ],
                          [
                            0.3333333333333333,
                            "#9c179e"
                          ],
                          [
                            0.4444444444444444,
                            "#bd3786"
                          ],
                          [
                            0.5555555555555556,
                            "#d8576b"
                          ],
                          [
                            0.6666666666666666,
                            "#ed7953"
                          ],
                          [
                            0.7777777777777778,
                            "#fb9f3a"
                          ],
                          [
                            0.8888888888888888,
                            "#fdca26"
                          ],
                          [
                            1,
                            "#f0f921"
                          ]
                        ],
                        "type": "histogram2dcontour"
                      }
                    ],
                    "mesh3d": [
                      {
                        "colorbar": {
                          "outlinewidth": 0,
                          "ticks": ""
                        },
                        "type": "mesh3d"
                      }
                    ],
                    "parcoords": [
                      {
                        "line": {
                          "colorbar": {
                            "outlinewidth": 0,
                            "ticks": ""
                          }
                        },
                        "type": "parcoords"
                      }
                    ],
                    "pie": [
                      {
                        "automargin": true,
                        "type": "pie"
                      }
                    ],
                    "scatter": [
                      {
                        "marker": {
                          "line": {
                            "color": "#283442"
                          }
                        },
                        "type": "scatter"
                      }
                    ],
                    "scatter3d": [
                      {
                        "line": {
                          "colorbar": {
                            "outlinewidth": 0,
                            "ticks": ""
                          }
                        },
                        "marker": {
                          "colorbar": {
                            "outlinewidth": 0,
                            "ticks": ""
                          }
                        },
                        "type": "scatter3d"
                      }
                    ],
                    "scattercarpet": [
                      {
                        "marker": {
                          "colorbar": {
                            "outlinewidth": 0,
                            "ticks": ""
                          }
                        },
                        "type": "scattercarpet"
                      }
                    ],
                    "scattergeo": [
                      {
                        "marker": {
                          "colorbar": {
                            "outlinewidth": 0,
                            "ticks": ""
                          }
                        },
                        "type": "scattergeo"
                      }
                    ],
                    "scattergl": [
                      {
                        "marker": {
                          "line": {
                            "color": "#283442"
                          }
                        },
                        "type": "scattergl"
                      }
                    ],
                    "scattermapbox": [
                      {
                        "marker": {
                          "colorbar": {
                            "outlinewidth": 0,
                            "ticks": ""
                          }
                        },
                        "type": "scattermapbox"
                      }
                    ],
                    "scatterpolar": [
                      {
                        "marker": {
                          "colorbar": {
                            "outlinewidth": 0,
                            "ticks": ""
                          }
                        },
                        "type": "scatterpolar"
                      }
                    ],
                    "scatterpolargl": [
                      {
                        "marker": {
                          "colorbar": {
                            "outlinewidth": 0,
                            "ticks": ""
                          }
                        },
                        "type": "scatterpolargl"
                      }
                    ],
                    "scatterternary": [
                      {
                        "marker": {
                          "colorbar": {
                            "outlinewidth": 0,
                            "ticks": ""
                          }
                        },
                        "type": "scatterternary"
                      }
                    ],
                    "surface": [
                      {
                        "colorbar": {
                          "outlinewidth": 0,
                          "ticks": ""
                        },
                        "colorscale": [
                          [
                            0,
                            "#0d0887"
                          ],
                          [
                            0.1111111111111111,
                            "#46039f"
                          ],
                          [
                            0.2222222222222222,
                            "#7201a8"
                          ],
                          [
                            0.3333333333333333,
                            "#9c179e"
                          ],
                          [
                            0.4444444444444444,
                            "#bd3786"
                          ],
                          [
                            0.5555555555555556,
                            "#d8576b"
                          ],
                          [
                            0.6666666666666666,
                            "#ed7953"
                          ],
                          [
                            0.7777777777777778,
                            "#fb9f3a"
                          ],
                          [
                            0.8888888888888888,
                            "#fdca26"
                          ],
                          [
                            1,
                            "#f0f921"
                          ]
                        ],
                        "type": "surface"
                      }
                    ],
                    "table": [
                      {
                        "cells": {
                          "fill": {
                            "color": "#506784"
                          },
                          "line": {
                            "color": "rgb(17,17,17)"
                          }
                        },
                        "header": {
                          "fill": {
                            "color": "#2a3f5f"
                          },
                          "line": {
                            "color": "rgb(17,17,17)"
                          }
                        },
                        "type": "table"
                      }
                    ]
                  },
                  "layout": {
                    "annotationdefaults": {
                      "arrowcolor": "#f2f5fa",
                      "arrowhead": 0,
                      "arrowwidth": 1
                    },
                    "autotypenumbers": "strict",
                    "coloraxis": {
                      "colorbar": {
                        "outlinewidth": 0,
                        "ticks": ""
                      }
                    },
                    "colorscale": {
                      "diverging": [
                        [
                          0,
                          "#8e0152"
                        ],
                        [
                          0.1,
                          "#c51b7d"
                        ],
                        [
                          0.2,
                          "#de77ae"
                        ],
                        [
                          0.3,
                          "#f1b6da"
                        ],
                        [
                          0.4,
                          "#fde0ef"
                        ],
                        [
                          0.5,
                          "#f7f7f7"
                        ],
                        [
                          0.6,
                          "#e6f5d0"
                        ],
                        [
                          0.7,
                          "#b8e186"
                        ],
                        [
                          0.8,
                          "#7fbc41"
                        ],
                        [
                          0.9,
                          "#4d9221"
                        ],
                        [
                          1,
                          "#276419"
                        ]
                      ],
                      "sequential": [
                        [
                          0,
                          "#0d0887"
                        ],
                        [
                          0.1111111111111111,
                          "#46039f"
                        ],
                        [
                          0.2222222222222222,
                          "#7201a8"
                        ],
                        [
                          0.3333333333333333,
                          "#9c179e"
                        ],
                        [
                          0.4444444444444444,
                          "#bd3786"
                        ],
                        [
                          0.5555555555555556,
                          "#d8576b"
                        ],
                        [
                          0.6666666666666666,
                          "#ed7953"
                        ],
                        [
                          0.7777777777777778,
                          "#fb9f3a"
                        ],
                        [
                          0.8888888888888888,
                          "#fdca26"
                        ],
                        [
                          1,
                          "#f0f921"
                        ]
                      ],
                      "sequentialminus": [
                        [
                          0,
                          "#0d0887"
                        ],
                        [
                          0.1111111111111111,
                          "#46039f"
                        ],
                        [
                          0.2222222222222222,
                          "#7201a8"
                        ],
                        [
                          0.3333333333333333,
                          "#9c179e"
                        ],
                        [
                          0.4444444444444444,
                          "#bd3786"
                        ],
                        [
                          0.5555555555555556,
                          "#d8576b"
                        ],
                        [
                          0.6666666666666666,
                          "#ed7953"
                        ],
                        [
                          0.7777777777777778,
                          "#fb9f3a"
                        ],
                        [
                          0.8888888888888888,
                          "#fdca26"
                        ],
                        [
                          1,
                          "#f0f921"
                        ]
                      ]
                    },
                    "colorway": [
                      "#636efa",
                      "#EF553B",
                      "#00cc96",
                      "#ab63fa",
                      "#FFA15A",
                      "#19d3f3",
                      "#FF6692",
                      "#B6E880",
                      "#FF97FF",
                      "#FECB52"
                    ],
                    "font": {
                      "color": "#f2f5fa"
                    },
                    "geo": {
                      "bgcolor": "rgb(17,17,17)",
                      "lakecolor": "rgb(17,17,17)",
                      "landcolor": "rgb(17,17,17)",
                      "showlakes": true,
                      "showland": true,
                      "subunitcolor": "#506784"
                    },
                    "hoverlabel": {
                      "align": "left"
                    },
                    "hovermode": "closest",
                    "mapbox": {
                      "style": "dark"
                    },
                    "paper_bgcolor": "rgb(17,17,17)",
                    "plot_bgcolor": "rgb(17,17,17)",
                    "polar": {
                      "angularaxis": {
                        "gridcolor": "#506784",
                        "linecolor": "#506784",
                        "ticks": ""
                      },
                      "bgcolor": "rgb(17,17,17)",
                      "radialaxis": {
                        "gridcolor": "#506784",
                        "linecolor": "#506784",
                        "ticks": ""
                      }
                    },
                    "scene": {
                      "xaxis": {
                        "backgroundcolor": "rgb(17,17,17)",
                        "gridcolor": "#506784",
                        "gridwidth": 2,
                        "linecolor": "#506784",
                        "showbackground": true,
                        "ticks": "",
                        "zerolinecolor": "#C8D4E3"
                      },
                      "yaxis": {
                        "backgroundcolor": "rgb(17,17,17)",
                        "gridcolor": "#506784",
                        "gridwidth": 2,
                        "linecolor": "#506784",
                        "showbackground": true,
                        "ticks": "",
                        "zerolinecolor": "#C8D4E3"
                      },
                      "zaxis": {
                        "backgroundcolor": "rgb(17,17,17)",
                        "gridcolor": "#506784",
                        "gridwidth": 2,
                        "linecolor": "#506784",
                        "showbackground": true,
                        "ticks": "",
                        "zerolinecolor": "#C8D4E3"
                      }
                    },
                    "shapedefaults": {
                      "line": {
                        "color": "#f2f5fa"
                      }
                    },
                    "sliderdefaults": {
                      "bgcolor": "#C8D4E3",
                      "bordercolor": "rgb(17,17,17)",
                      "borderwidth": 1,
                      "tickwidth": 0
                    },
                    "ternary": {
                      "aaxis": {
                        "gridcolor": "#506784",
                        "linecolor": "#506784",
                        "ticks": ""
                      },
                      "baxis": {
                        "gridcolor": "#506784",
                        "linecolor": "#506784",
                        "ticks": ""
                      },
                      "bgcolor": "rgb(17,17,17)",
                      "caxis": {
                        "gridcolor": "#506784",
                        "linecolor": "#506784",
                        "ticks": ""
                      }
                    },
                    "title": {
                      "x": 0.05
                    },
                    "updatemenudefaults": {
                      "bgcolor": "#506784",
                      "borderwidth": 0
                    },
                    "xaxis": {
                      "automargin": true,
                      "gridcolor": "#283442",
                      "linecolor": "#506784",
                      "ticks": "",
                      "title": {
                        "standoff": 15
                      },
                      "zerolinecolor": "#283442",
                      "zerolinewidth": 2
                    },
                    "yaxis": {
                      "automargin": true,
                      "gridcolor": "#283442",
                      "linecolor": "#506784",
                      "ticks": "",
                      "title": {
                        "standoff": 15
                      },
                      "zerolinecolor": "#283442",
                      "zerolinewidth": 2
                    }
                  }
                },
                "title": {
                  "text": "Top 20 years in which books were published "
                },
                "xaxis": {
                  "anchor": "y",
                  "domain": [
                    0,
                    1
                  ],
                  "title": {
                    "text": "Year"
                  }
                },
                "yaxis": {
                  "anchor": "x",
                  "domain": [
                    0,
                    1
                  ],
                  "title": {
                    "text": "Count"
                  }
                }
              }
            }
          },
          "metadata": {},
          "output_type": "display_data"
        }
      ],
      "source": [
        "plot_top20(books, 'Year-Of-Publication', 'Top 20 years in which books were published ', \"Year\", \"Count\")"
      ]
    },
    {
      "cell_type": "code",
      "execution_count": 99,
      "id": "07d56023",
      "metadata": {
        "ExecuteTime": {
          "end_time": "2023-06-02T10:25:53.043273Z",
          "start_time": "2023-06-02T10:25:53.018876Z"
        },
        "id": "07d56023"
      },
      "outputs": [],
      "source": [
        "from plotly.subplots import make_subplots\n",
        "import plotly. graph_objects as go\n",
        "from plotly.offline import init_notebook_mode, iplot"
      ]
    },
    {
      "cell_type": "code",
      "execution_count": 100,
      "id": "uOPqWVkFfhxA",
      "metadata": {
        "ExecuteTime": {
          "end_time": "2023-06-02T10:25:53.389772Z",
          "start_time": "2023-06-02T10:25:53.043273Z"
        },
        "colab": {
          "base_uri": "https://localhost:8080/",
          "height": 542
        },
        "id": "uOPqWVkFfhxA",
        "outputId": "4b8577aa-43c4-4d24-e065-b22f5420f84c"
      },
      "outputs": [
        {
          "data": {
            "application/vnd.plotly.v1+json": {
              "config": {
                "linkText": "Export to plot.ly",
                "plotlyServerURL": "https://plot.ly",
                "showLink": false
              },
              "data": [
                {
                  "marker": {
                    "color": [
                      "#494BD3",
                      "#E28AE2",
                      "#F1F481",
                      "#79DB80",
                      "#DF5F5F",
                      "#69DADE",
                      "#C2E37D",
                      "#E26580",
                      "#D39F49",
                      "#B96FE3"
                    ],
                    "line": {
                      "color": "#DBE6EC",
                      "width": 1
                    }
                  },
                  "name": "Book-Rating",
                  "showlegend": false,
                  "text": [
                    "91814",
                    "71240",
                    "66408",
                    "60786",
                    "45360",
                    "31693",
                    "7617",
                    "5118",
                    "2375",
                    "1481"
                  ],
                  "textfont": {
                    "size": 15
                  },
                  "textposition": "auto",
                  "type": "bar",
                  "x": [
                    "8.0",
                    "10.0",
                    "7.0",
                    "9.0",
                    "5.0",
                    "6.0",
                    "4.0",
                    "3.0",
                    "2.0",
                    "1.0"
                  ],
                  "xaxis": "x",
                  "y": [
                    91814,
                    71240,
                    66408,
                    60786,
                    45360,
                    31693,
                    7617,
                    5118,
                    2375,
                    1481
                  ],
                  "yaxis": "y"
                },
                {
                  "domain": {
                    "x": [
                      0.55,
                      1
                    ],
                    "y": [
                      0,
                      1
                    ]
                  },
                  "labels": [
                    8,
                    10,
                    7,
                    9,
                    5,
                    6,
                    4,
                    3,
                    2,
                    1
                  ],
                  "marker": {
                    "colors": [
                      "#494BD3",
                      "#E28AE2",
                      "#F1F481",
                      "#79DB80",
                      "#DF5F5F",
                      "#69DADE",
                      "#C2E37D",
                      "#E26580",
                      "#D39F49",
                      "#B96FE3"
                    ]
                  },
                  "name": "Book-Rating",
                  "showlegend": false,
                  "textfont": {
                    "size": 10
                  },
                  "textposition": "auto",
                  "type": "pie",
                  "values": [
                    91814,
                    71240,
                    66408,
                    60786,
                    45360,
                    31693,
                    7617,
                    5118,
                    2375,
                    1481
                  ]
                }
              ],
              "layout": {
                "annotations": [
                  {
                    "font": {
                      "size": 16
                    },
                    "showarrow": false,
                    "text": "Countplot",
                    "x": 0.225,
                    "xanchor": "center",
                    "xref": "paper",
                    "y": 1,
                    "yanchor": "bottom",
                    "yref": "paper"
                  },
                  {
                    "font": {
                      "size": 16
                    },
                    "showarrow": false,
                    "text": "Percentages",
                    "x": 0.775,
                    "xanchor": "center",
                    "xref": "paper",
                    "y": 1,
                    "yanchor": "bottom",
                    "yref": "paper"
                  }
                ],
                "template": {
                  "data": {
                    "bar": [
                      {
                        "error_x": {
                          "color": "#2a3f5f"
                        },
                        "error_y": {
                          "color": "#2a3f5f"
                        },
                        "marker": {
                          "line": {
                            "color": "white",
                            "width": 0.5
                          },
                          "pattern": {
                            "fillmode": "overlay",
                            "size": 10,
                            "solidity": 0.2
                          }
                        },
                        "type": "bar"
                      }
                    ],
                    "barpolar": [
                      {
                        "marker": {
                          "line": {
                            "color": "white",
                            "width": 0.5
                          },
                          "pattern": {
                            "fillmode": "overlay",
                            "size": 10,
                            "solidity": 0.2
                          }
                        },
                        "type": "barpolar"
                      }
                    ],
                    "carpet": [
                      {
                        "aaxis": {
                          "endlinecolor": "#2a3f5f",
                          "gridcolor": "#C8D4E3",
                          "linecolor": "#C8D4E3",
                          "minorgridcolor": "#C8D4E3",
                          "startlinecolor": "#2a3f5f"
                        },
                        "baxis": {
                          "endlinecolor": "#2a3f5f",
                          "gridcolor": "#C8D4E3",
                          "linecolor": "#C8D4E3",
                          "minorgridcolor": "#C8D4E3",
                          "startlinecolor": "#2a3f5f"
                        },
                        "type": "carpet"
                      }
                    ],
                    "choropleth": [
                      {
                        "colorbar": {
                          "outlinewidth": 0,
                          "ticks": ""
                        },
                        "type": "choropleth"
                      }
                    ],
                    "contour": [
                      {
                        "colorbar": {
                          "outlinewidth": 0,
                          "ticks": ""
                        },
                        "colorscale": [
                          [
                            0,
                            "#0d0887"
                          ],
                          [
                            0.1111111111111111,
                            "#46039f"
                          ],
                          [
                            0.2222222222222222,
                            "#7201a8"
                          ],
                          [
                            0.3333333333333333,
                            "#9c179e"
                          ],
                          [
                            0.4444444444444444,
                            "#bd3786"
                          ],
                          [
                            0.5555555555555556,
                            "#d8576b"
                          ],
                          [
                            0.6666666666666666,
                            "#ed7953"
                          ],
                          [
                            0.7777777777777778,
                            "#fb9f3a"
                          ],
                          [
                            0.8888888888888888,
                            "#fdca26"
                          ],
                          [
                            1,
                            "#f0f921"
                          ]
                        ],
                        "type": "contour"
                      }
                    ],
                    "contourcarpet": [
                      {
                        "colorbar": {
                          "outlinewidth": 0,
                          "ticks": ""
                        },
                        "type": "contourcarpet"
                      }
                    ],
                    "heatmap": [
                      {
                        "colorbar": {
                          "outlinewidth": 0,
                          "ticks": ""
                        },
                        "colorscale": [
                          [
                            0,
                            "#0d0887"
                          ],
                          [
                            0.1111111111111111,
                            "#46039f"
                          ],
                          [
                            0.2222222222222222,
                            "#7201a8"
                          ],
                          [
                            0.3333333333333333,
                            "#9c179e"
                          ],
                          [
                            0.4444444444444444,
                            "#bd3786"
                          ],
                          [
                            0.5555555555555556,
                            "#d8576b"
                          ],
                          [
                            0.6666666666666666,
                            "#ed7953"
                          ],
                          [
                            0.7777777777777778,
                            "#fb9f3a"
                          ],
                          [
                            0.8888888888888888,
                            "#fdca26"
                          ],
                          [
                            1,
                            "#f0f921"
                          ]
                        ],
                        "type": "heatmap"
                      }
                    ],
                    "heatmapgl": [
                      {
                        "colorbar": {
                          "outlinewidth": 0,
                          "ticks": ""
                        },
                        "colorscale": [
                          [
                            0,
                            "#0d0887"
                          ],
                          [
                            0.1111111111111111,
                            "#46039f"
                          ],
                          [
                            0.2222222222222222,
                            "#7201a8"
                          ],
                          [
                            0.3333333333333333,
                            "#9c179e"
                          ],
                          [
                            0.4444444444444444,
                            "#bd3786"
                          ],
                          [
                            0.5555555555555556,
                            "#d8576b"
                          ],
                          [
                            0.6666666666666666,
                            "#ed7953"
                          ],
                          [
                            0.7777777777777778,
                            "#fb9f3a"
                          ],
                          [
                            0.8888888888888888,
                            "#fdca26"
                          ],
                          [
                            1,
                            "#f0f921"
                          ]
                        ],
                        "type": "heatmapgl"
                      }
                    ],
                    "histogram": [
                      {
                        "marker": {
                          "pattern": {
                            "fillmode": "overlay",
                            "size": 10,
                            "solidity": 0.2
                          }
                        },
                        "type": "histogram"
                      }
                    ],
                    "histogram2d": [
                      {
                        "colorbar": {
                          "outlinewidth": 0,
                          "ticks": ""
                        },
                        "colorscale": [
                          [
                            0,
                            "#0d0887"
                          ],
                          [
                            0.1111111111111111,
                            "#46039f"
                          ],
                          [
                            0.2222222222222222,
                            "#7201a8"
                          ],
                          [
                            0.3333333333333333,
                            "#9c179e"
                          ],
                          [
                            0.4444444444444444,
                            "#bd3786"
                          ],
                          [
                            0.5555555555555556,
                            "#d8576b"
                          ],
                          [
                            0.6666666666666666,
                            "#ed7953"
                          ],
                          [
                            0.7777777777777778,
                            "#fb9f3a"
                          ],
                          [
                            0.8888888888888888,
                            "#fdca26"
                          ],
                          [
                            1,
                            "#f0f921"
                          ]
                        ],
                        "type": "histogram2d"
                      }
                    ],
                    "histogram2dcontour": [
                      {
                        "colorbar": {
                          "outlinewidth": 0,
                          "ticks": ""
                        },
                        "colorscale": [
                          [
                            0,
                            "#0d0887"
                          ],
                          [
                            0.1111111111111111,
                            "#46039f"
                          ],
                          [
                            0.2222222222222222,
                            "#7201a8"
                          ],
                          [
                            0.3333333333333333,
                            "#9c179e"
                          ],
                          [
                            0.4444444444444444,
                            "#bd3786"
                          ],
                          [
                            0.5555555555555556,
                            "#d8576b"
                          ],
                          [
                            0.6666666666666666,
                            "#ed7953"
                          ],
                          [
                            0.7777777777777778,
                            "#fb9f3a"
                          ],
                          [
                            0.8888888888888888,
                            "#fdca26"
                          ],
                          [
                            1,
                            "#f0f921"
                          ]
                        ],
                        "type": "histogram2dcontour"
                      }
                    ],
                    "mesh3d": [
                      {
                        "colorbar": {
                          "outlinewidth": 0,
                          "ticks": ""
                        },
                        "type": "mesh3d"
                      }
                    ],
                    "parcoords": [
                      {
                        "line": {
                          "colorbar": {
                            "outlinewidth": 0,
                            "ticks": ""
                          }
                        },
                        "type": "parcoords"
                      }
                    ],
                    "pie": [
                      {
                        "automargin": true,
                        "type": "pie"
                      }
                    ],
                    "scatter": [
                      {
                        "fillpattern": {
                          "fillmode": "overlay",
                          "size": 10,
                          "solidity": 0.2
                        },
                        "type": "scatter"
                      }
                    ],
                    "scatter3d": [
                      {
                        "line": {
                          "colorbar": {
                            "outlinewidth": 0,
                            "ticks": ""
                          }
                        },
                        "marker": {
                          "colorbar": {
                            "outlinewidth": 0,
                            "ticks": ""
                          }
                        },
                        "type": "scatter3d"
                      }
                    ],
                    "scattercarpet": [
                      {
                        "marker": {
                          "colorbar": {
                            "outlinewidth": 0,
                            "ticks": ""
                          }
                        },
                        "type": "scattercarpet"
                      }
                    ],
                    "scattergeo": [
                      {
                        "marker": {
                          "colorbar": {
                            "outlinewidth": 0,
                            "ticks": ""
                          }
                        },
                        "type": "scattergeo"
                      }
                    ],
                    "scattergl": [
                      {
                        "marker": {
                          "colorbar": {
                            "outlinewidth": 0,
                            "ticks": ""
                          }
                        },
                        "type": "scattergl"
                      }
                    ],
                    "scattermapbox": [
                      {
                        "marker": {
                          "colorbar": {
                            "outlinewidth": 0,
                            "ticks": ""
                          }
                        },
                        "type": "scattermapbox"
                      }
                    ],
                    "scatterpolar": [
                      {
                        "marker": {
                          "colorbar": {
                            "outlinewidth": 0,
                            "ticks": ""
                          }
                        },
                        "type": "scatterpolar"
                      }
                    ],
                    "scatterpolargl": [
                      {
                        "marker": {
                          "colorbar": {
                            "outlinewidth": 0,
                            "ticks": ""
                          }
                        },
                        "type": "scatterpolargl"
                      }
                    ],
                    "scatterternary": [
                      {
                        "marker": {
                          "colorbar": {
                            "outlinewidth": 0,
                            "ticks": ""
                          }
                        },
                        "type": "scatterternary"
                      }
                    ],
                    "surface": [
                      {
                        "colorbar": {
                          "outlinewidth": 0,
                          "ticks": ""
                        },
                        "colorscale": [
                          [
                            0,
                            "#0d0887"
                          ],
                          [
                            0.1111111111111111,
                            "#46039f"
                          ],
                          [
                            0.2222222222222222,
                            "#7201a8"
                          ],
                          [
                            0.3333333333333333,
                            "#9c179e"
                          ],
                          [
                            0.4444444444444444,
                            "#bd3786"
                          ],
                          [
                            0.5555555555555556,
                            "#d8576b"
                          ],
                          [
                            0.6666666666666666,
                            "#ed7953"
                          ],
                          [
                            0.7777777777777778,
                            "#fb9f3a"
                          ],
                          [
                            0.8888888888888888,
                            "#fdca26"
                          ],
                          [
                            1,
                            "#f0f921"
                          ]
                        ],
                        "type": "surface"
                      }
                    ],
                    "table": [
                      {
                        "cells": {
                          "fill": {
                            "color": "#EBF0F8"
                          },
                          "line": {
                            "color": "white"
                          }
                        },
                        "header": {
                          "fill": {
                            "color": "#C8D4E3"
                          },
                          "line": {
                            "color": "white"
                          }
                        },
                        "type": "table"
                      }
                    ]
                  },
                  "layout": {
                    "annotationdefaults": {
                      "arrowcolor": "#2a3f5f",
                      "arrowhead": 0,
                      "arrowwidth": 1
                    },
                    "autotypenumbers": "strict",
                    "coloraxis": {
                      "colorbar": {
                        "outlinewidth": 0,
                        "ticks": ""
                      }
                    },
                    "colorscale": {
                      "diverging": [
                        [
                          0,
                          "#8e0152"
                        ],
                        [
                          0.1,
                          "#c51b7d"
                        ],
                        [
                          0.2,
                          "#de77ae"
                        ],
                        [
                          0.3,
                          "#f1b6da"
                        ],
                        [
                          0.4,
                          "#fde0ef"
                        ],
                        [
                          0.5,
                          "#f7f7f7"
                        ],
                        [
                          0.6,
                          "#e6f5d0"
                        ],
                        [
                          0.7,
                          "#b8e186"
                        ],
                        [
                          0.8,
                          "#7fbc41"
                        ],
                        [
                          0.9,
                          "#4d9221"
                        ],
                        [
                          1,
                          "#276419"
                        ]
                      ],
                      "sequential": [
                        [
                          0,
                          "#0d0887"
                        ],
                        [
                          0.1111111111111111,
                          "#46039f"
                        ],
                        [
                          0.2222222222222222,
                          "#7201a8"
                        ],
                        [
                          0.3333333333333333,
                          "#9c179e"
                        ],
                        [
                          0.4444444444444444,
                          "#bd3786"
                        ],
                        [
                          0.5555555555555556,
                          "#d8576b"
                        ],
                        [
                          0.6666666666666666,
                          "#ed7953"
                        ],
                        [
                          0.7777777777777778,
                          "#fb9f3a"
                        ],
                        [
                          0.8888888888888888,
                          "#fdca26"
                        ],
                        [
                          1,
                          "#f0f921"
                        ]
                      ],
                      "sequentialminus": [
                        [
                          0,
                          "#0d0887"
                        ],
                        [
                          0.1111111111111111,
                          "#46039f"
                        ],
                        [
                          0.2222222222222222,
                          "#7201a8"
                        ],
                        [
                          0.3333333333333333,
                          "#9c179e"
                        ],
                        [
                          0.4444444444444444,
                          "#bd3786"
                        ],
                        [
                          0.5555555555555556,
                          "#d8576b"
                        ],
                        [
                          0.6666666666666666,
                          "#ed7953"
                        ],
                        [
                          0.7777777777777778,
                          "#fb9f3a"
                        ],
                        [
                          0.8888888888888888,
                          "#fdca26"
                        ],
                        [
                          1,
                          "#f0f921"
                        ]
                      ]
                    },
                    "colorway": [
                      "#636efa",
                      "#EF553B",
                      "#00cc96",
                      "#ab63fa",
                      "#FFA15A",
                      "#19d3f3",
                      "#FF6692",
                      "#B6E880",
                      "#FF97FF",
                      "#FECB52"
                    ],
                    "font": {
                      "color": "#2a3f5f"
                    },
                    "geo": {
                      "bgcolor": "white",
                      "lakecolor": "white",
                      "landcolor": "white",
                      "showlakes": true,
                      "showland": true,
                      "subunitcolor": "#C8D4E3"
                    },
                    "hoverlabel": {
                      "align": "left"
                    },
                    "hovermode": "closest",
                    "mapbox": {
                      "style": "light"
                    },
                    "paper_bgcolor": "white",
                    "plot_bgcolor": "white",
                    "polar": {
                      "angularaxis": {
                        "gridcolor": "#EBF0F8",
                        "linecolor": "#EBF0F8",
                        "ticks": ""
                      },
                      "bgcolor": "white",
                      "radialaxis": {
                        "gridcolor": "#EBF0F8",
                        "linecolor": "#EBF0F8",
                        "ticks": ""
                      }
                    },
                    "scene": {
                      "xaxis": {
                        "backgroundcolor": "white",
                        "gridcolor": "#DFE8F3",
                        "gridwidth": 2,
                        "linecolor": "#EBF0F8",
                        "showbackground": true,
                        "ticks": "",
                        "zerolinecolor": "#EBF0F8"
                      },
                      "yaxis": {
                        "backgroundcolor": "white",
                        "gridcolor": "#DFE8F3",
                        "gridwidth": 2,
                        "linecolor": "#EBF0F8",
                        "showbackground": true,
                        "ticks": "",
                        "zerolinecolor": "#EBF0F8"
                      },
                      "zaxis": {
                        "backgroundcolor": "white",
                        "gridcolor": "#DFE8F3",
                        "gridwidth": 2,
                        "linecolor": "#EBF0F8",
                        "showbackground": true,
                        "ticks": "",
                        "zerolinecolor": "#EBF0F8"
                      }
                    },
                    "shapedefaults": {
                      "line": {
                        "color": "#2a3f5f"
                      }
                    },
                    "ternary": {
                      "aaxis": {
                        "gridcolor": "#DFE8F3",
                        "linecolor": "#A2B1C6",
                        "ticks": ""
                      },
                      "baxis": {
                        "gridcolor": "#DFE8F3",
                        "linecolor": "#A2B1C6",
                        "ticks": ""
                      },
                      "bgcolor": "white",
                      "caxis": {
                        "gridcolor": "#DFE8F3",
                        "linecolor": "#A2B1C6",
                        "ticks": ""
                      }
                    },
                    "title": {
                      "x": 0.05
                    },
                    "xaxis": {
                      "automargin": true,
                      "gridcolor": "#EBF0F8",
                      "linecolor": "#EBF0F8",
                      "ticks": "",
                      "title": {
                        "standoff": 15
                      },
                      "zerolinecolor": "#EBF0F8",
                      "zerolinewidth": 2
                    },
                    "yaxis": {
                      "automargin": true,
                      "gridcolor": "#EBF0F8",
                      "linecolor": "#EBF0F8",
                      "ticks": "",
                      "title": {
                        "standoff": 15
                      },
                      "zerolinecolor": "#EBF0F8",
                      "zerolinewidth": 2
                    }
                  }
                },
                "title": {
                  "text": "Book-Rating",
                  "x": 0.5,
                  "xanchor": "center",
                  "y": 0.9,
                  "yanchor": "top"
                },
                "xaxis": {
                  "anchor": "y",
                  "domain": [
                    0,
                    0.45
                  ]
                },
                "yaxis": {
                  "anchor": "x",
                  "domain": [
                    0,
                    1
                  ]
                }
              }
            }
          },
          "metadata": {},
          "output_type": "display_data"
        }
      ],
      "source": [
        "def cat_summary_with_graph(dataframe, col_name):\n",
        "    fig = make_subplots(rows=1, cols=2,\n",
        "                        subplot_titles=('Countplot', 'Percentages'),\n",
        "                        specs=[[{\"type\": \"xy\"}, {'type': 'domain'}]])\n",
        "\n",
        "    fig.add_trace(go.Bar(y=dataframe[col_name].value_counts().values.tolist(),\n",
        "                         x=[str(i) for i in dataframe[col_name].value_counts().index],\n",
        "                         text=dataframe[col_name].value_counts().values.tolist(),\n",
        "                         textfont=dict(size=15),\n",
        "                         name=col_name,\n",
        "                         textposition='auto',\n",
        "                         showlegend=False,\n",
        "                         marker=dict(color=colors,\n",
        "                                     line=dict(color='#DBE6EC',\n",
        "                                               width=1))),\n",
        "                  row=1, col=1)\n",
        "\n",
        "    fig.add_trace(go.Pie(labels=dataframe[col_name].value_counts().keys(),\n",
        "                         values=dataframe[col_name].value_counts().values,\n",
        "                         textfont=dict(size=10),\n",
        "                         textposition='auto',\n",
        "                         showlegend=False,\n",
        "                         name=col_name,\n",
        "                         marker=dict(colors=colors)),\n",
        "                  row=1, col=2)\n",
        "\n",
        "    fig.update_layout(title={'text': col_name,\n",
        "                             'y': 0.9,\n",
        "                             'x': 0.5,'xanchor': 'center',\n",
        "                             'yanchor': 'top'},\n",
        "\n",
        "                      template='plotly_white')\n",
        "\n",
        "    iplot(fig)\n",
        "colors = ['#494BD3', '#E28AE2', '#F1F481', '#79DB80', '#DF5F5F',\n",
        "              '#69DADE', '#C2E37D', '#E26580', '#D39F49', '#B96FE3']\n",
        "cat_summary_with_graph(data, 'Book-Rating')"
      ]
    },
    {
      "cell_type": "code",
      "execution_count": 101,
      "id": "z0C9AmYyfijP",
      "metadata": {
        "ExecuteTime": {
          "end_time": "2023-06-02T10:25:54.303468Z",
          "start_time": "2023-06-02T10:25:53.392249Z"
        },
        "colab": {
          "base_uri": "https://localhost:8080/",
          "height": 542
        },
        "id": "z0C9AmYyfijP",
        "outputId": "0b985fce-b762-4824-8152-4226915432f9"
      },
      "outputs": [
        {
          "data": {
            "application/vnd.plotly.v1+json": {
              "config": {
                "plotlyServerURL": "https://plot.ly"
              },
              "data": [
                {
                  "alignmentgroup": "True",
                  "hovertemplate": "x=%{x}<br>y=%{y}<br>text=%{text}<extra></extra>",
                  "legendgroup": "",
                  "marker": {
                    "color": "#636efa",
                    "pattern": {
                      "shape": ""
                    }
                  },
                  "name": "",
                  "offsetgroup": "",
                  "orientation": "v",
                  "showlegend": false,
                  "text": [
                    707,
                    581,
                    494,
                    406,
                    393,
                    383,
                    377,
                    366,
                    336,
                    326,
                    323,
                    315,
                    310,
                    309,
                    295,
                    293,
                    278,
                    277,
                    275,
                    272
                  ],
                  "textposition": "auto",
                  "type": "bar",
                  "x": [
                    "The Lovely Bones: A Novel",
                    "Wild Animus",
                    "The Da Vinci Code",
                    "The Secret Life of Bees",
                    "The Nanny Diaries: A Novel",
                    "The Red Tent (Bestselling Backlist)",
                    "Bridget Jones's Diary",
                    "A Painted House",
                    "Life of Pi",
                    "Harry Potter and the Chamber of Secrets (Book 2)",
                    "Divine Secrets of the Ya-Ya Sisterhood: A Novel",
                    "Harry Potter and the Sorcerer's Stone (Harry Potter (Paperback))",
                    "Angels &amp; Demons",
                    "The Summons",
                    "Where the Heart Is (Oprah's Book Club (Paperback))",
                    "The Notebook",
                    "Girl with a Pearl Earring",
                    "Harry Potter and the Prisoner of Azkaban (Book 3)",
                    "Snow Falling on Cedars",
                    "The Pilot's Wife : A Novel"
                  ],
                  "xaxis": "x",
                  "y": [
                    707,
                    581,
                    494,
                    406,
                    393,
                    383,
                    377,
                    366,
                    336,
                    326,
                    323,
                    315,
                    310,
                    309,
                    295,
                    293,
                    278,
                    277,
                    275,
                    272
                  ],
                  "yaxis": "y"
                }
              ],
              "layout": {
                "barmode": "relative",
                "font": {
                  "size": 15
                },
                "legend": {
                  "tracegroupgap": 0
                },
                "template": {
                  "data": {
                    "bar": [
                      {
                        "error_x": {
                          "color": "#f2f5fa"
                        },
                        "error_y": {
                          "color": "#f2f5fa"
                        },
                        "marker": {
                          "line": {
                            "color": "rgb(17,17,17)",
                            "width": 0.5
                          },
                          "pattern": {
                            "fillmode": "overlay",
                            "size": 10,
                            "solidity": 0.2
                          }
                        },
                        "type": "bar"
                      }
                    ],
                    "barpolar": [
                      {
                        "marker": {
                          "line": {
                            "color": "rgb(17,17,17)",
                            "width": 0.5
                          },
                          "pattern": {
                            "fillmode": "overlay",
                            "size": 10,
                            "solidity": 0.2
                          }
                        },
                        "type": "barpolar"
                      }
                    ],
                    "carpet": [
                      {
                        "aaxis": {
                          "endlinecolor": "#A2B1C6",
                          "gridcolor": "#506784",
                          "linecolor": "#506784",
                          "minorgridcolor": "#506784",
                          "startlinecolor": "#A2B1C6"
                        },
                        "baxis": {
                          "endlinecolor": "#A2B1C6",
                          "gridcolor": "#506784",
                          "linecolor": "#506784",
                          "minorgridcolor": "#506784",
                          "startlinecolor": "#A2B1C6"
                        },
                        "type": "carpet"
                      }
                    ],
                    "choropleth": [
                      {
                        "colorbar": {
                          "outlinewidth": 0,
                          "ticks": ""
                        },
                        "type": "choropleth"
                      }
                    ],
                    "contour": [
                      {
                        "colorbar": {
                          "outlinewidth": 0,
                          "ticks": ""
                        },
                        "colorscale": [
                          [
                            0,
                            "#0d0887"
                          ],
                          [
                            0.1111111111111111,
                            "#46039f"
                          ],
                          [
                            0.2222222222222222,
                            "#7201a8"
                          ],
                          [
                            0.3333333333333333,
                            "#9c179e"
                          ],
                          [
                            0.4444444444444444,
                            "#bd3786"
                          ],
                          [
                            0.5555555555555556,
                            "#d8576b"
                          ],
                          [
                            0.6666666666666666,
                            "#ed7953"
                          ],
                          [
                            0.7777777777777778,
                            "#fb9f3a"
                          ],
                          [
                            0.8888888888888888,
                            "#fdca26"
                          ],
                          [
                            1,
                            "#f0f921"
                          ]
                        ],
                        "type": "contour"
                      }
                    ],
                    "contourcarpet": [
                      {
                        "colorbar": {
                          "outlinewidth": 0,
                          "ticks": ""
                        },
                        "type": "contourcarpet"
                      }
                    ],
                    "heatmap": [
                      {
                        "colorbar": {
                          "outlinewidth": 0,
                          "ticks": ""
                        },
                        "colorscale": [
                          [
                            0,
                            "#0d0887"
                          ],
                          [
                            0.1111111111111111,
                            "#46039f"
                          ],
                          [
                            0.2222222222222222,
                            "#7201a8"
                          ],
                          [
                            0.3333333333333333,
                            "#9c179e"
                          ],
                          [
                            0.4444444444444444,
                            "#bd3786"
                          ],
                          [
                            0.5555555555555556,
                            "#d8576b"
                          ],
                          [
                            0.6666666666666666,
                            "#ed7953"
                          ],
                          [
                            0.7777777777777778,
                            "#fb9f3a"
                          ],
                          [
                            0.8888888888888888,
                            "#fdca26"
                          ],
                          [
                            1,
                            "#f0f921"
                          ]
                        ],
                        "type": "heatmap"
                      }
                    ],
                    "heatmapgl": [
                      {
                        "colorbar": {
                          "outlinewidth": 0,
                          "ticks": ""
                        },
                        "colorscale": [
                          [
                            0,
                            "#0d0887"
                          ],
                          [
                            0.1111111111111111,
                            "#46039f"
                          ],
                          [
                            0.2222222222222222,
                            "#7201a8"
                          ],
                          [
                            0.3333333333333333,
                            "#9c179e"
                          ],
                          [
                            0.4444444444444444,
                            "#bd3786"
                          ],
                          [
                            0.5555555555555556,
                            "#d8576b"
                          ],
                          [
                            0.6666666666666666,
                            "#ed7953"
                          ],
                          [
                            0.7777777777777778,
                            "#fb9f3a"
                          ],
                          [
                            0.8888888888888888,
                            "#fdca26"
                          ],
                          [
                            1,
                            "#f0f921"
                          ]
                        ],
                        "type": "heatmapgl"
                      }
                    ],
                    "histogram": [
                      {
                        "marker": {
                          "pattern": {
                            "fillmode": "overlay",
                            "size": 10,
                            "solidity": 0.2
                          }
                        },
                        "type": "histogram"
                      }
                    ],
                    "histogram2d": [
                      {
                        "colorbar": {
                          "outlinewidth": 0,
                          "ticks": ""
                        },
                        "colorscale": [
                          [
                            0,
                            "#0d0887"
                          ],
                          [
                            0.1111111111111111,
                            "#46039f"
                          ],
                          [
                            0.2222222222222222,
                            "#7201a8"
                          ],
                          [
                            0.3333333333333333,
                            "#9c179e"
                          ],
                          [
                            0.4444444444444444,
                            "#bd3786"
                          ],
                          [
                            0.5555555555555556,
                            "#d8576b"
                          ],
                          [
                            0.6666666666666666,
                            "#ed7953"
                          ],
                          [
                            0.7777777777777778,
                            "#fb9f3a"
                          ],
                          [
                            0.8888888888888888,
                            "#fdca26"
                          ],
                          [
                            1,
                            "#f0f921"
                          ]
                        ],
                        "type": "histogram2d"
                      }
                    ],
                    "histogram2dcontour": [
                      {
                        "colorbar": {
                          "outlinewidth": 0,
                          "ticks": ""
                        },
                        "colorscale": [
                          [
                            0,
                            "#0d0887"
                          ],
                          [
                            0.1111111111111111,
                            "#46039f"
                          ],
                          [
                            0.2222222222222222,
                            "#7201a8"
                          ],
                          [
                            0.3333333333333333,
                            "#9c179e"
                          ],
                          [
                            0.4444444444444444,
                            "#bd3786"
                          ],
                          [
                            0.5555555555555556,
                            "#d8576b"
                          ],
                          [
                            0.6666666666666666,
                            "#ed7953"
                          ],
                          [
                            0.7777777777777778,
                            "#fb9f3a"
                          ],
                          [
                            0.8888888888888888,
                            "#fdca26"
                          ],
                          [
                            1,
                            "#f0f921"
                          ]
                        ],
                        "type": "histogram2dcontour"
                      }
                    ],
                    "mesh3d": [
                      {
                        "colorbar": {
                          "outlinewidth": 0,
                          "ticks": ""
                        },
                        "type": "mesh3d"
                      }
                    ],
                    "parcoords": [
                      {
                        "line": {
                          "colorbar": {
                            "outlinewidth": 0,
                            "ticks": ""
                          }
                        },
                        "type": "parcoords"
                      }
                    ],
                    "pie": [
                      {
                        "automargin": true,
                        "type": "pie"
                      }
                    ],
                    "scatter": [
                      {
                        "marker": {
                          "line": {
                            "color": "#283442"
                          }
                        },
                        "type": "scatter"
                      }
                    ],
                    "scatter3d": [
                      {
                        "line": {
                          "colorbar": {
                            "outlinewidth": 0,
                            "ticks": ""
                          }
                        },
                        "marker": {
                          "colorbar": {
                            "outlinewidth": 0,
                            "ticks": ""
                          }
                        },
                        "type": "scatter3d"
                      }
                    ],
                    "scattercarpet": [
                      {
                        "marker": {
                          "colorbar": {
                            "outlinewidth": 0,
                            "ticks": ""
                          }
                        },
                        "type": "scattercarpet"
                      }
                    ],
                    "scattergeo": [
                      {
                        "marker": {
                          "colorbar": {
                            "outlinewidth": 0,
                            "ticks": ""
                          }
                        },
                        "type": "scattergeo"
                      }
                    ],
                    "scattergl": [
                      {
                        "marker": {
                          "line": {
                            "color": "#283442"
                          }
                        },
                        "type": "scattergl"
                      }
                    ],
                    "scattermapbox": [
                      {
                        "marker": {
                          "colorbar": {
                            "outlinewidth": 0,
                            "ticks": ""
                          }
                        },
                        "type": "scattermapbox"
                      }
                    ],
                    "scatterpolar": [
                      {
                        "marker": {
                          "colorbar": {
                            "outlinewidth": 0,
                            "ticks": ""
                          }
                        },
                        "type": "scatterpolar"
                      }
                    ],
                    "scatterpolargl": [
                      {
                        "marker": {
                          "colorbar": {
                            "outlinewidth": 0,
                            "ticks": ""
                          }
                        },
                        "type": "scatterpolargl"
                      }
                    ],
                    "scatterternary": [
                      {
                        "marker": {
                          "colorbar": {
                            "outlinewidth": 0,
                            "ticks": ""
                          }
                        },
                        "type": "scatterternary"
                      }
                    ],
                    "surface": [
                      {
                        "colorbar": {
                          "outlinewidth": 0,
                          "ticks": ""
                        },
                        "colorscale": [
                          [
                            0,
                            "#0d0887"
                          ],
                          [
                            0.1111111111111111,
                            "#46039f"
                          ],
                          [
                            0.2222222222222222,
                            "#7201a8"
                          ],
                          [
                            0.3333333333333333,
                            "#9c179e"
                          ],
                          [
                            0.4444444444444444,
                            "#bd3786"
                          ],
                          [
                            0.5555555555555556,
                            "#d8576b"
                          ],
                          [
                            0.6666666666666666,
                            "#ed7953"
                          ],
                          [
                            0.7777777777777778,
                            "#fb9f3a"
                          ],
                          [
                            0.8888888888888888,
                            "#fdca26"
                          ],
                          [
                            1,
                            "#f0f921"
                          ]
                        ],
                        "type": "surface"
                      }
                    ],
                    "table": [
                      {
                        "cells": {
                          "fill": {
                            "color": "#506784"
                          },
                          "line": {
                            "color": "rgb(17,17,17)"
                          }
                        },
                        "header": {
                          "fill": {
                            "color": "#2a3f5f"
                          },
                          "line": {
                            "color": "rgb(17,17,17)"
                          }
                        },
                        "type": "table"
                      }
                    ]
                  },
                  "layout": {
                    "annotationdefaults": {
                      "arrowcolor": "#f2f5fa",
                      "arrowhead": 0,
                      "arrowwidth": 1
                    },
                    "autotypenumbers": "strict",
                    "coloraxis": {
                      "colorbar": {
                        "outlinewidth": 0,
                        "ticks": ""
                      }
                    },
                    "colorscale": {
                      "diverging": [
                        [
                          0,
                          "#8e0152"
                        ],
                        [
                          0.1,
                          "#c51b7d"
                        ],
                        [
                          0.2,
                          "#de77ae"
                        ],
                        [
                          0.3,
                          "#f1b6da"
                        ],
                        [
                          0.4,
                          "#fde0ef"
                        ],
                        [
                          0.5,
                          "#f7f7f7"
                        ],
                        [
                          0.6,
                          "#e6f5d0"
                        ],
                        [
                          0.7,
                          "#b8e186"
                        ],
                        [
                          0.8,
                          "#7fbc41"
                        ],
                        [
                          0.9,
                          "#4d9221"
                        ],
                        [
                          1,
                          "#276419"
                        ]
                      ],
                      "sequential": [
                        [
                          0,
                          "#0d0887"
                        ],
                        [
                          0.1111111111111111,
                          "#46039f"
                        ],
                        [
                          0.2222222222222222,
                          "#7201a8"
                        ],
                        [
                          0.3333333333333333,
                          "#9c179e"
                        ],
                        [
                          0.4444444444444444,
                          "#bd3786"
                        ],
                        [
                          0.5555555555555556,
                          "#d8576b"
                        ],
                        [
                          0.6666666666666666,
                          "#ed7953"
                        ],
                        [
                          0.7777777777777778,
                          "#fb9f3a"
                        ],
                        [
                          0.8888888888888888,
                          "#fdca26"
                        ],
                        [
                          1,
                          "#f0f921"
                        ]
                      ],
                      "sequentialminus": [
                        [
                          0,
                          "#0d0887"
                        ],
                        [
                          0.1111111111111111,
                          "#46039f"
                        ],
                        [
                          0.2222222222222222,
                          "#7201a8"
                        ],
                        [
                          0.3333333333333333,
                          "#9c179e"
                        ],
                        [
                          0.4444444444444444,
                          "#bd3786"
                        ],
                        [
                          0.5555555555555556,
                          "#d8576b"
                        ],
                        [
                          0.6666666666666666,
                          "#ed7953"
                        ],
                        [
                          0.7777777777777778,
                          "#fb9f3a"
                        ],
                        [
                          0.8888888888888888,
                          "#fdca26"
                        ],
                        [
                          1,
                          "#f0f921"
                        ]
                      ]
                    },
                    "colorway": [
                      "#636efa",
                      "#EF553B",
                      "#00cc96",
                      "#ab63fa",
                      "#FFA15A",
                      "#19d3f3",
                      "#FF6692",
                      "#B6E880",
                      "#FF97FF",
                      "#FECB52"
                    ],
                    "font": {
                      "color": "#f2f5fa"
                    },
                    "geo": {
                      "bgcolor": "rgb(17,17,17)",
                      "lakecolor": "rgb(17,17,17)",
                      "landcolor": "rgb(17,17,17)",
                      "showlakes": true,
                      "showland": true,
                      "subunitcolor": "#506784"
                    },
                    "hoverlabel": {
                      "align": "left"
                    },
                    "hovermode": "closest",
                    "mapbox": {
                      "style": "dark"
                    },
                    "paper_bgcolor": "rgb(17,17,17)",
                    "plot_bgcolor": "rgb(17,17,17)",
                    "polar": {
                      "angularaxis": {
                        "gridcolor": "#506784",
                        "linecolor": "#506784",
                        "ticks": ""
                      },
                      "bgcolor": "rgb(17,17,17)",
                      "radialaxis": {
                        "gridcolor": "#506784",
                        "linecolor": "#506784",
                        "ticks": ""
                      }
                    },
                    "scene": {
                      "xaxis": {
                        "backgroundcolor": "rgb(17,17,17)",
                        "gridcolor": "#506784",
                        "gridwidth": 2,
                        "linecolor": "#506784",
                        "showbackground": true,
                        "ticks": "",
                        "zerolinecolor": "#C8D4E3"
                      },
                      "yaxis": {
                        "backgroundcolor": "rgb(17,17,17)",
                        "gridcolor": "#506784",
                        "gridwidth": 2,
                        "linecolor": "#506784",
                        "showbackground": true,
                        "ticks": "",
                        "zerolinecolor": "#C8D4E3"
                      },
                      "zaxis": {
                        "backgroundcolor": "rgb(17,17,17)",
                        "gridcolor": "#506784",
                        "gridwidth": 2,
                        "linecolor": "#506784",
                        "showbackground": true,
                        "ticks": "",
                        "zerolinecolor": "#C8D4E3"
                      }
                    },
                    "shapedefaults": {
                      "line": {
                        "color": "#f2f5fa"
                      }
                    },
                    "sliderdefaults": {
                      "bgcolor": "#C8D4E3",
                      "bordercolor": "rgb(17,17,17)",
                      "borderwidth": 1,
                      "tickwidth": 0
                    },
                    "ternary": {
                      "aaxis": {
                        "gridcolor": "#506784",
                        "linecolor": "#506784",
                        "ticks": ""
                      },
                      "baxis": {
                        "gridcolor": "#506784",
                        "linecolor": "#506784",
                        "ticks": ""
                      },
                      "bgcolor": "rgb(17,17,17)",
                      "caxis": {
                        "gridcolor": "#506784",
                        "linecolor": "#506784",
                        "ticks": ""
                      }
                    },
                    "title": {
                      "x": 0.05
                    },
                    "updatemenudefaults": {
                      "bgcolor": "#506784",
                      "borderwidth": 0
                    },
                    "xaxis": {
                      "automargin": true,
                      "gridcolor": "#283442",
                      "linecolor": "#506784",
                      "ticks": "",
                      "title": {
                        "standoff": 15
                      },
                      "zerolinecolor": "#283442",
                      "zerolinewidth": 2
                    },
                    "yaxis": {
                      "automargin": true,
                      "gridcolor": "#283442",
                      "linecolor": "#506784",
                      "ticks": "",
                      "title": {
                        "standoff": 15
                      },
                      "zerolinecolor": "#283442",
                      "zerolinewidth": 2
                    }
                  }
                },
                "title": {
                  "text": "Most Rated Books by Users"
                },
                "xaxis": {
                  "anchor": "y",
                  "domain": [
                    0,
                    1
                  ],
                  "title": {
                    "text": "Book Title"
                  }
                },
                "yaxis": {
                  "anchor": "x",
                  "domain": [
                    0,
                    1
                  ],
                  "title": {
                    "text": "Number of ratings"
                  }
                }
              }
            }
          },
          "metadata": {},
          "output_type": "display_data"
        }
      ],
      "source": [
        "df = data[data['Book-Rating'] != 0]\n",
        "plot_top20(df, 'Book-Title', \"Most Rated Books by Users\", \"Book Title\", \"Number of ratings\")"
      ]
    },
    {
      "cell_type": "code",
      "execution_count": 102,
      "id": "qVQBFcPIi-oi",
      "metadata": {
        "ExecuteTime": {
          "end_time": "2023-06-02T10:25:58.151653Z",
          "start_time": "2023-06-02T10:25:54.307621Z"
        },
        "colab": {
          "base_uri": "https://localhost:8080/",
          "height": 363
        },
        "id": "qVQBFcPIi-oi",
        "outputId": "bf85e609-226b-4196-d861-b0fc04b0bca9"
      },
      "outputs": [
        {
          "data": {
            "text/html": [
              "<div>\n",
              "<style scoped>\n",
              "    .dataframe tbody tr th:only-of-type {\n",
              "        vertical-align: middle;\n",
              "    }\n",
              "\n",
              "    .dataframe tbody tr th {\n",
              "        vertical-align: top;\n",
              "    }\n",
              "\n",
              "    .dataframe thead th {\n",
              "        text-align: right;\n",
              "    }\n",
              "</style>\n",
              "<table border=\"1\" class=\"dataframe\">\n",
              "  <thead>\n",
              "    <tr style=\"text-align: right;\">\n",
              "      <th></th>\n",
              "      <th>Book-Title</th>\n",
              "      <th>Book-Rating</th>\n",
              "    </tr>\n",
              "  </thead>\n",
              "  <tbody>\n",
              "    <tr>\n",
              "      <th>6</th>\n",
              "      <td>Harry Potter and the Prisoner of Azkaban (Book 3)</td>\n",
              "      <td>9.043321</td>\n",
              "    </tr>\n",
              "    <tr>\n",
              "      <th>7</th>\n",
              "      <td>Harry Potter and the Sorcerer's Stone (Harry P...</td>\n",
              "      <td>8.936508</td>\n",
              "    </tr>\n",
              "    <tr>\n",
              "      <th>5</th>\n",
              "      <td>Harry Potter and the Chamber of Secrets (Book 2)</td>\n",
              "      <td>8.840491</td>\n",
              "    </tr>\n",
              "    <tr>\n",
              "      <th>16</th>\n",
              "      <td>The Secret Life of Bees</td>\n",
              "      <td>8.477833</td>\n",
              "    </tr>\n",
              "    <tr>\n",
              "      <th>10</th>\n",
              "      <td>The Da Vinci Code</td>\n",
              "      <td>8.439271</td>\n",
              "    </tr>\n",
              "    <tr>\n",
              "      <th>11</th>\n",
              "      <td>The Lovely Bones: A Novel</td>\n",
              "      <td>8.185290</td>\n",
              "    </tr>\n",
              "    <tr>\n",
              "      <th>15</th>\n",
              "      <td>The Red Tent (Bestselling Backlist)</td>\n",
              "      <td>8.182768</td>\n",
              "    </tr>\n",
              "    <tr>\n",
              "      <th>18</th>\n",
              "      <td>Where the Heart Is (Oprah's Book Club (Paperba...</td>\n",
              "      <td>8.142373</td>\n",
              "    </tr>\n",
              "    <tr>\n",
              "      <th>8</th>\n",
              "      <td>Life of Pi</td>\n",
              "      <td>8.080357</td>\n",
              "    </tr>\n",
              "    <tr>\n",
              "      <th>1</th>\n",
              "      <td>Angels &amp;amp; Demons</td>\n",
              "      <td>8.016129</td>\n",
              "    </tr>\n",
              "  </tbody>\n",
              "</table>\n",
              "</div>"
            ],
            "text/plain": [
              "                                           Book-Title  Book-Rating\n",
              "6   Harry Potter and the Prisoner of Azkaban (Book 3)     9.043321\n",
              "7   Harry Potter and the Sorcerer's Stone (Harry P...     8.936508\n",
              "5    Harry Potter and the Chamber of Secrets (Book 2)     8.840491\n",
              "16                            The Secret Life of Bees     8.477833\n",
              "10                                  The Da Vinci Code     8.439271\n",
              "11                          The Lovely Bones: A Novel     8.185290\n",
              "15                The Red Tent (Bestselling Backlist)     8.182768\n",
              "18  Where the Heart Is (Oprah's Book Club (Paperba...     8.142373\n",
              "8                                          Life of Pi     8.080357\n",
              "1                                 Angels &amp; Demons     8.016129"
            ]
          },
          "execution_count": 102,
          "metadata": {},
          "output_type": "execute_result"
        }
      ],
      "source": [
        "#Top rated books\n",
        "books_top20 = df['Book-Title'].value_counts().head(20)\n",
        "books_top20 = list(books_top20.index)\n",
        "\n",
        "top20_books = pd.DataFrame(columns = data.columns)\n",
        "\n",
        "for book in books_top20:\n",
        "\n",
        "    cond_df = data[data['Book-Title'] == book]\n",
        "\n",
        "    top20_books =  pd.concat([top20_books, cond_df], axis=0)\n",
        "\n",
        "\n",
        "top20_books = top20_books[top20_books['Book-Rating'] != 0]\n",
        "top20_books = top20_books.groupby('Book-Title')['Book-Rating'].agg('mean').reset_index().sort_values(by='Book-Rating', ascending=False)\n",
        "\n",
        "top10_books = top20_books.head(10)\n",
        "top10_books\n"
      ]
    },
    {
      "cell_type": "code",
      "execution_count": 103,
      "id": "E1sLTf_Dgwf2",
      "metadata": {
        "ExecuteTime": {
          "end_time": "2023-06-02T10:25:58.258387Z",
          "start_time": "2023-06-02T10:25:58.156178Z"
        },
        "colab": {
          "base_uri": "https://localhost:8080/",
          "height": 542
        },
        "id": "E1sLTf_Dgwf2",
        "outputId": "0b302709-0a89-4618-eb40-db865236d86c"
      },
      "outputs": [
        {
          "data": {
            "application/vnd.plotly.v1+json": {
              "config": {
                "plotlyServerURL": "https://plot.ly"
              },
              "data": [
                {
                  "alignmentgroup": "True",
                  "hovertemplate": "x=%{x}<br>y=%{y}<br>text=%{text}<extra></extra>",
                  "legendgroup": "",
                  "marker": {
                    "color": "#636efa",
                    "pattern": {
                      "shape": ""
                    }
                  },
                  "name": "",
                  "offsetgroup": "",
                  "orientation": "v",
                  "showlegend": false,
                  "text": [
                    9.04,
                    8.94,
                    8.84,
                    8.48,
                    8.44,
                    8.19,
                    8.18,
                    8.14,
                    8.08,
                    8.02
                  ],
                  "textposition": "auto",
                  "type": "bar",
                  "x": [
                    "Harry Potter and the Prisoner of Azkaban (Book 3)",
                    "Harry Potter and the Sorcerer's Stone (Harry Potter (Paperback))",
                    "Harry Potter and the Chamber of Secrets (Book 2)",
                    "The Secret Life of Bees",
                    "The Da Vinci Code",
                    "The Lovely Bones: A Novel",
                    "The Red Tent (Bestselling Backlist)",
                    "Where the Heart Is (Oprah's Book Club (Paperback))",
                    "Life of Pi",
                    "Angels &amp; Demons"
                  ],
                  "xaxis": "x",
                  "y": [
                    9.04332129963899,
                    8.936507936507937,
                    8.840490797546012,
                    8.47783251231527,
                    8.43927125506073,
                    8.185289957567186,
                    8.182767624020888,
                    8.142372881355932,
                    8.080357142857142,
                    8.016129032258064
                  ],
                  "yaxis": "y"
                }
              ],
              "layout": {
                "barmode": "relative",
                "font": {
                  "size": 15
                },
                "legend": {
                  "tracegroupgap": 0
                },
                "template": {
                  "data": {
                    "bar": [
                      {
                        "error_x": {
                          "color": "#f2f5fa"
                        },
                        "error_y": {
                          "color": "#f2f5fa"
                        },
                        "marker": {
                          "line": {
                            "color": "rgb(17,17,17)",
                            "width": 0.5
                          },
                          "pattern": {
                            "fillmode": "overlay",
                            "size": 10,
                            "solidity": 0.2
                          }
                        },
                        "type": "bar"
                      }
                    ],
                    "barpolar": [
                      {
                        "marker": {
                          "line": {
                            "color": "rgb(17,17,17)",
                            "width": 0.5
                          },
                          "pattern": {
                            "fillmode": "overlay",
                            "size": 10,
                            "solidity": 0.2
                          }
                        },
                        "type": "barpolar"
                      }
                    ],
                    "carpet": [
                      {
                        "aaxis": {
                          "endlinecolor": "#A2B1C6",
                          "gridcolor": "#506784",
                          "linecolor": "#506784",
                          "minorgridcolor": "#506784",
                          "startlinecolor": "#A2B1C6"
                        },
                        "baxis": {
                          "endlinecolor": "#A2B1C6",
                          "gridcolor": "#506784",
                          "linecolor": "#506784",
                          "minorgridcolor": "#506784",
                          "startlinecolor": "#A2B1C6"
                        },
                        "type": "carpet"
                      }
                    ],
                    "choropleth": [
                      {
                        "colorbar": {
                          "outlinewidth": 0,
                          "ticks": ""
                        },
                        "type": "choropleth"
                      }
                    ],
                    "contour": [
                      {
                        "colorbar": {
                          "outlinewidth": 0,
                          "ticks": ""
                        },
                        "colorscale": [
                          [
                            0,
                            "#0d0887"
                          ],
                          [
                            0.1111111111111111,
                            "#46039f"
                          ],
                          [
                            0.2222222222222222,
                            "#7201a8"
                          ],
                          [
                            0.3333333333333333,
                            "#9c179e"
                          ],
                          [
                            0.4444444444444444,
                            "#bd3786"
                          ],
                          [
                            0.5555555555555556,
                            "#d8576b"
                          ],
                          [
                            0.6666666666666666,
                            "#ed7953"
                          ],
                          [
                            0.7777777777777778,
                            "#fb9f3a"
                          ],
                          [
                            0.8888888888888888,
                            "#fdca26"
                          ],
                          [
                            1,
                            "#f0f921"
                          ]
                        ],
                        "type": "contour"
                      }
                    ],
                    "contourcarpet": [
                      {
                        "colorbar": {
                          "outlinewidth": 0,
                          "ticks": ""
                        },
                        "type": "contourcarpet"
                      }
                    ],
                    "heatmap": [
                      {
                        "colorbar": {
                          "outlinewidth": 0,
                          "ticks": ""
                        },
                        "colorscale": [
                          [
                            0,
                            "#0d0887"
                          ],
                          [
                            0.1111111111111111,
                            "#46039f"
                          ],
                          [
                            0.2222222222222222,
                            "#7201a8"
                          ],
                          [
                            0.3333333333333333,
                            "#9c179e"
                          ],
                          [
                            0.4444444444444444,
                            "#bd3786"
                          ],
                          [
                            0.5555555555555556,
                            "#d8576b"
                          ],
                          [
                            0.6666666666666666,
                            "#ed7953"
                          ],
                          [
                            0.7777777777777778,
                            "#fb9f3a"
                          ],
                          [
                            0.8888888888888888,
                            "#fdca26"
                          ],
                          [
                            1,
                            "#f0f921"
                          ]
                        ],
                        "type": "heatmap"
                      }
                    ],
                    "heatmapgl": [
                      {
                        "colorbar": {
                          "outlinewidth": 0,
                          "ticks": ""
                        },
                        "colorscale": [
                          [
                            0,
                            "#0d0887"
                          ],
                          [
                            0.1111111111111111,
                            "#46039f"
                          ],
                          [
                            0.2222222222222222,
                            "#7201a8"
                          ],
                          [
                            0.3333333333333333,
                            "#9c179e"
                          ],
                          [
                            0.4444444444444444,
                            "#bd3786"
                          ],
                          [
                            0.5555555555555556,
                            "#d8576b"
                          ],
                          [
                            0.6666666666666666,
                            "#ed7953"
                          ],
                          [
                            0.7777777777777778,
                            "#fb9f3a"
                          ],
                          [
                            0.8888888888888888,
                            "#fdca26"
                          ],
                          [
                            1,
                            "#f0f921"
                          ]
                        ],
                        "type": "heatmapgl"
                      }
                    ],
                    "histogram": [
                      {
                        "marker": {
                          "pattern": {
                            "fillmode": "overlay",
                            "size": 10,
                            "solidity": 0.2
                          }
                        },
                        "type": "histogram"
                      }
                    ],
                    "histogram2d": [
                      {
                        "colorbar": {
                          "outlinewidth": 0,
                          "ticks": ""
                        },
                        "colorscale": [
                          [
                            0,
                            "#0d0887"
                          ],
                          [
                            0.1111111111111111,
                            "#46039f"
                          ],
                          [
                            0.2222222222222222,
                            "#7201a8"
                          ],
                          [
                            0.3333333333333333,
                            "#9c179e"
                          ],
                          [
                            0.4444444444444444,
                            "#bd3786"
                          ],
                          [
                            0.5555555555555556,
                            "#d8576b"
                          ],
                          [
                            0.6666666666666666,
                            "#ed7953"
                          ],
                          [
                            0.7777777777777778,
                            "#fb9f3a"
                          ],
                          [
                            0.8888888888888888,
                            "#fdca26"
                          ],
                          [
                            1,
                            "#f0f921"
                          ]
                        ],
                        "type": "histogram2d"
                      }
                    ],
                    "histogram2dcontour": [
                      {
                        "colorbar": {
                          "outlinewidth": 0,
                          "ticks": ""
                        },
                        "colorscale": [
                          [
                            0,
                            "#0d0887"
                          ],
                          [
                            0.1111111111111111,
                            "#46039f"
                          ],
                          [
                            0.2222222222222222,
                            "#7201a8"
                          ],
                          [
                            0.3333333333333333,
                            "#9c179e"
                          ],
                          [
                            0.4444444444444444,
                            "#bd3786"
                          ],
                          [
                            0.5555555555555556,
                            "#d8576b"
                          ],
                          [
                            0.6666666666666666,
                            "#ed7953"
                          ],
                          [
                            0.7777777777777778,
                            "#fb9f3a"
                          ],
                          [
                            0.8888888888888888,
                            "#fdca26"
                          ],
                          [
                            1,
                            "#f0f921"
                          ]
                        ],
                        "type": "histogram2dcontour"
                      }
                    ],
                    "mesh3d": [
                      {
                        "colorbar": {
                          "outlinewidth": 0,
                          "ticks": ""
                        },
                        "type": "mesh3d"
                      }
                    ],
                    "parcoords": [
                      {
                        "line": {
                          "colorbar": {
                            "outlinewidth": 0,
                            "ticks": ""
                          }
                        },
                        "type": "parcoords"
                      }
                    ],
                    "pie": [
                      {
                        "automargin": true,
                        "type": "pie"
                      }
                    ],
                    "scatter": [
                      {
                        "marker": {
                          "line": {
                            "color": "#283442"
                          }
                        },
                        "type": "scatter"
                      }
                    ],
                    "scatter3d": [
                      {
                        "line": {
                          "colorbar": {
                            "outlinewidth": 0,
                            "ticks": ""
                          }
                        },
                        "marker": {
                          "colorbar": {
                            "outlinewidth": 0,
                            "ticks": ""
                          }
                        },
                        "type": "scatter3d"
                      }
                    ],
                    "scattercarpet": [
                      {
                        "marker": {
                          "colorbar": {
                            "outlinewidth": 0,
                            "ticks": ""
                          }
                        },
                        "type": "scattercarpet"
                      }
                    ],
                    "scattergeo": [
                      {
                        "marker": {
                          "colorbar": {
                            "outlinewidth": 0,
                            "ticks": ""
                          }
                        },
                        "type": "scattergeo"
                      }
                    ],
                    "scattergl": [
                      {
                        "marker": {
                          "line": {
                            "color": "#283442"
                          }
                        },
                        "type": "scattergl"
                      }
                    ],
                    "scattermapbox": [
                      {
                        "marker": {
                          "colorbar": {
                            "outlinewidth": 0,
                            "ticks": ""
                          }
                        },
                        "type": "scattermapbox"
                      }
                    ],
                    "scatterpolar": [
                      {
                        "marker": {
                          "colorbar": {
                            "outlinewidth": 0,
                            "ticks": ""
                          }
                        },
                        "type": "scatterpolar"
                      }
                    ],
                    "scatterpolargl": [
                      {
                        "marker": {
                          "colorbar": {
                            "outlinewidth": 0,
                            "ticks": ""
                          }
                        },
                        "type": "scatterpolargl"
                      }
                    ],
                    "scatterternary": [
                      {
                        "marker": {
                          "colorbar": {
                            "outlinewidth": 0,
                            "ticks": ""
                          }
                        },
                        "type": "scatterternary"
                      }
                    ],
                    "surface": [
                      {
                        "colorbar": {
                          "outlinewidth": 0,
                          "ticks": ""
                        },
                        "colorscale": [
                          [
                            0,
                            "#0d0887"
                          ],
                          [
                            0.1111111111111111,
                            "#46039f"
                          ],
                          [
                            0.2222222222222222,
                            "#7201a8"
                          ],
                          [
                            0.3333333333333333,
                            "#9c179e"
                          ],
                          [
                            0.4444444444444444,
                            "#bd3786"
                          ],
                          [
                            0.5555555555555556,
                            "#d8576b"
                          ],
                          [
                            0.6666666666666666,
                            "#ed7953"
                          ],
                          [
                            0.7777777777777778,
                            "#fb9f3a"
                          ],
                          [
                            0.8888888888888888,
                            "#fdca26"
                          ],
                          [
                            1,
                            "#f0f921"
                          ]
                        ],
                        "type": "surface"
                      }
                    ],
                    "table": [
                      {
                        "cells": {
                          "fill": {
                            "color": "#506784"
                          },
                          "line": {
                            "color": "rgb(17,17,17)"
                          }
                        },
                        "header": {
                          "fill": {
                            "color": "#2a3f5f"
                          },
                          "line": {
                            "color": "rgb(17,17,17)"
                          }
                        },
                        "type": "table"
                      }
                    ]
                  },
                  "layout": {
                    "annotationdefaults": {
                      "arrowcolor": "#f2f5fa",
                      "arrowhead": 0,
                      "arrowwidth": 1
                    },
                    "autotypenumbers": "strict",
                    "coloraxis": {
                      "colorbar": {
                        "outlinewidth": 0,
                        "ticks": ""
                      }
                    },
                    "colorscale": {
                      "diverging": [
                        [
                          0,
                          "#8e0152"
                        ],
                        [
                          0.1,
                          "#c51b7d"
                        ],
                        [
                          0.2,
                          "#de77ae"
                        ],
                        [
                          0.3,
                          "#f1b6da"
                        ],
                        [
                          0.4,
                          "#fde0ef"
                        ],
                        [
                          0.5,
                          "#f7f7f7"
                        ],
                        [
                          0.6,
                          "#e6f5d0"
                        ],
                        [
                          0.7,
                          "#b8e186"
                        ],
                        [
                          0.8,
                          "#7fbc41"
                        ],
                        [
                          0.9,
                          "#4d9221"
                        ],
                        [
                          1,
                          "#276419"
                        ]
                      ],
                      "sequential": [
                        [
                          0,
                          "#0d0887"
                        ],
                        [
                          0.1111111111111111,
                          "#46039f"
                        ],
                        [
                          0.2222222222222222,
                          "#7201a8"
                        ],
                        [
                          0.3333333333333333,
                          "#9c179e"
                        ],
                        [
                          0.4444444444444444,
                          "#bd3786"
                        ],
                        [
                          0.5555555555555556,
                          "#d8576b"
                        ],
                        [
                          0.6666666666666666,
                          "#ed7953"
                        ],
                        [
                          0.7777777777777778,
                          "#fb9f3a"
                        ],
                        [
                          0.8888888888888888,
                          "#fdca26"
                        ],
                        [
                          1,
                          "#f0f921"
                        ]
                      ],
                      "sequentialminus": [
                        [
                          0,
                          "#0d0887"
                        ],
                        [
                          0.1111111111111111,
                          "#46039f"
                        ],
                        [
                          0.2222222222222222,
                          "#7201a8"
                        ],
                        [
                          0.3333333333333333,
                          "#9c179e"
                        ],
                        [
                          0.4444444444444444,
                          "#bd3786"
                        ],
                        [
                          0.5555555555555556,
                          "#d8576b"
                        ],
                        [
                          0.6666666666666666,
                          "#ed7953"
                        ],
                        [
                          0.7777777777777778,
                          "#fb9f3a"
                        ],
                        [
                          0.8888888888888888,
                          "#fdca26"
                        ],
                        [
                          1,
                          "#f0f921"
                        ]
                      ]
                    },
                    "colorway": [
                      "#636efa",
                      "#EF553B",
                      "#00cc96",
                      "#ab63fa",
                      "#FFA15A",
                      "#19d3f3",
                      "#FF6692",
                      "#B6E880",
                      "#FF97FF",
                      "#FECB52"
                    ],
                    "font": {
                      "color": "#f2f5fa"
                    },
                    "geo": {
                      "bgcolor": "rgb(17,17,17)",
                      "lakecolor": "rgb(17,17,17)",
                      "landcolor": "rgb(17,17,17)",
                      "showlakes": true,
                      "showland": true,
                      "subunitcolor": "#506784"
                    },
                    "hoverlabel": {
                      "align": "left"
                    },
                    "hovermode": "closest",
                    "mapbox": {
                      "style": "dark"
                    },
                    "paper_bgcolor": "rgb(17,17,17)",
                    "plot_bgcolor": "rgb(17,17,17)",
                    "polar": {
                      "angularaxis": {
                        "gridcolor": "#506784",
                        "linecolor": "#506784",
                        "ticks": ""
                      },
                      "bgcolor": "rgb(17,17,17)",
                      "radialaxis": {
                        "gridcolor": "#506784",
                        "linecolor": "#506784",
                        "ticks": ""
                      }
                    },
                    "scene": {
                      "xaxis": {
                        "backgroundcolor": "rgb(17,17,17)",
                        "gridcolor": "#506784",
                        "gridwidth": 2,
                        "linecolor": "#506784",
                        "showbackground": true,
                        "ticks": "",
                        "zerolinecolor": "#C8D4E3"
                      },
                      "yaxis": {
                        "backgroundcolor": "rgb(17,17,17)",
                        "gridcolor": "#506784",
                        "gridwidth": 2,
                        "linecolor": "#506784",
                        "showbackground": true,
                        "ticks": "",
                        "zerolinecolor": "#C8D4E3"
                      },
                      "zaxis": {
                        "backgroundcolor": "rgb(17,17,17)",
                        "gridcolor": "#506784",
                        "gridwidth": 2,
                        "linecolor": "#506784",
                        "showbackground": true,
                        "ticks": "",
                        "zerolinecolor": "#C8D4E3"
                      }
                    },
                    "shapedefaults": {
                      "line": {
                        "color": "#f2f5fa"
                      }
                    },
                    "sliderdefaults": {
                      "bgcolor": "#C8D4E3",
                      "bordercolor": "rgb(17,17,17)",
                      "borderwidth": 1,
                      "tickwidth": 0
                    },
                    "ternary": {
                      "aaxis": {
                        "gridcolor": "#506784",
                        "linecolor": "#506784",
                        "ticks": ""
                      },
                      "baxis": {
                        "gridcolor": "#506784",
                        "linecolor": "#506784",
                        "ticks": ""
                      },
                      "bgcolor": "rgb(17,17,17)",
                      "caxis": {
                        "gridcolor": "#506784",
                        "linecolor": "#506784",
                        "ticks": ""
                      }
                    },
                    "title": {
                      "x": 0.05
                    },
                    "updatemenudefaults": {
                      "bgcolor": "#506784",
                      "borderwidth": 0
                    },
                    "xaxis": {
                      "automargin": true,
                      "gridcolor": "#283442",
                      "linecolor": "#506784",
                      "ticks": "",
                      "title": {
                        "standoff": 15
                      },
                      "zerolinecolor": "#283442",
                      "zerolinewidth": 2
                    },
                    "yaxis": {
                      "automargin": true,
                      "gridcolor": "#283442",
                      "linecolor": "#506784",
                      "ticks": "",
                      "title": {
                        "standoff": 15
                      },
                      "zerolinecolor": "#283442",
                      "zerolinewidth": 2
                    }
                  }
                },
                "title": {
                  "text": "Top 10 rated books by the users"
                },
                "xaxis": {
                  "anchor": "y",
                  "domain": [
                    0,
                    1
                  ],
                  "title": {
                    "text": "Book title"
                  }
                },
                "yaxis": {
                  "anchor": "x",
                  "domain": [
                    0,
                    1
                  ],
                  "title": {
                    "text": "average rating"
                  }
                }
              }
            }
          },
          "metadata": {},
          "output_type": "display_data"
        }
      ],
      "source": [
        "fig = px.bar(y=top10_books['Book-Rating'],\n",
        "             x=top10_books['Book-Title'],\n",
        "             text=round(top10_books['Book-Rating'],2),\n",
        "             title= \"Top 10 rated books by the users\",\n",
        "             template= 'plotly_dark')\n",
        "fig.update_layout(\n",
        "    xaxis_title=\"Book title\",\n",
        "    yaxis_title=\"average rating\",\n",
        "    font = dict(size=15))\n",
        "fig.show()"
      ]
    },
    {
      "cell_type": "markdown",
      "id": "40c58278",
      "metadata": {
        "ExecuteTime": {
          "end_time": "2023-06-02T10:25:58.274572Z",
          "start_time": "2023-06-02T10:25:58.262622Z"
        },
        "id": "40c58278"
      },
      "source": [
        "## Popularity Based Recommendation System\n",
        "### Most Popular Books"
      ]
    },
    {
      "cell_type": "code",
      "execution_count": 105,
      "id": "pYZm3cJPf3Td",
      "metadata": {
        "ExecuteTime": {
          "end_time": "2023-06-02T10:25:58.314563Z",
          "start_time": "2023-06-02T10:25:58.290686Z"
        },
        "colab": {
          "base_uri": "https://localhost:8080/"
        },
        "id": "pYZm3cJPf3Td",
        "outputId": "19ccbd22-2efe-4979-a31c-57c891748a04"
      },
      "outputs": [
        {
          "name": "stdout",
          "output_type": "stream",
          "text": [
            "\u001b[92m Harry Potter and the Prisoner of Azkaban (Book 3)\u001b[00m\n",
            "Rating->\u001b[91m 9.0\u001b[00m\n",
            "--------------------------------------------------\n",
            "\u001b[92m Harry Potter and the Sorcerer's Stone (Harry Potter (Paperback))\u001b[00m\n",
            "Rating->\u001b[91m 8.9\u001b[00m\n",
            "--------------------------------------------------\n",
            "\u001b[92m Harry Potter and the Chamber of Secrets (Book 2)\u001b[00m\n",
            "Rating->\u001b[91m 8.8\u001b[00m\n",
            "--------------------------------------------------\n",
            "\u001b[92m The Secret Life of Bees\u001b[00m\n",
            "Rating->\u001b[91m 8.5\u001b[00m\n",
            "--------------------------------------------------\n",
            "\u001b[92m The Da Vinci Code\u001b[00m\n",
            "Rating->\u001b[91m 8.4\u001b[00m\n",
            "--------------------------------------------------\n",
            "\u001b[92m The Lovely Bones: A Novel\u001b[00m\n",
            "Rating->\u001b[91m 8.2\u001b[00m\n",
            "--------------------------------------------------\n",
            "\u001b[92m The Red Tent (Bestselling Backlist)\u001b[00m\n",
            "Rating->\u001b[91m 8.2\u001b[00m\n",
            "--------------------------------------------------\n",
            "\u001b[92m Where the Heart Is (Oprah's Book Club (Paperback))\u001b[00m\n",
            "Rating->\u001b[91m 8.1\u001b[00m\n",
            "--------------------------------------------------\n",
            "\u001b[92m Life of Pi\u001b[00m\n",
            "Rating->\u001b[91m 8.1\u001b[00m\n",
            "--------------------------------------------------\n",
            "\u001b[92m Angels &amp; Demons\u001b[00m\n",
            "Rating->\u001b[91m 8.0\u001b[00m\n",
            "--------------------------------------------------\n"
          ]
        }
      ],
      "source": [
        "def prGreen(skk): print(\"\\033[92m {}\\033[00m\" .format(skk))\n",
        "def prRed(skk): print(\"\\033[91m {}\\033[00m\" .format(skk))\n",
        "def prYellow(skk): print(\"\\033[93m {}\\033[00m\" .format(skk))\n",
        "\n",
        "\n",
        "def popular_books():\n",
        "\n",
        "    for (book, ratings) in zip(top10_books['Book-Title'], top10_books['Book-Rating']):\n",
        "        prGreen(book)\n",
        "        print(\"Rating\",end='->')\n",
        "        prRed(round(ratings,1))\n",
        "        print(\"-\"*50)\n",
        "\n",
        "popular_books()"
      ]
    },
    {
      "cell_type": "markdown",
      "id": "35e3c43e",
      "metadata": {
        "ExecuteTime": {
          "end_time": "2023-06-02T10:25:58.340169Z",
          "start_time": "2023-06-02T10:25:58.315585Z"
        },
        "id": "35e3c43e"
      },
      "source": [
        "## Collaborative Filtering Based Recommendation System\n",
        "### Item Based Collaborative Filtering\n"
      ]
    },
    {
      "cell_type": "code",
      "execution_count": 106,
      "id": "ZbUTvsIGz2g2",
      "metadata": {
        "ExecuteTime": {
          "end_time": "2023-06-02T10:25:58.504612Z",
          "start_time": "2023-06-02T10:25:58.344580Z"
        },
        "id": "ZbUTvsIGz2g2"
      },
      "outputs": [],
      "source": [
        "from sklearn.metrics.pairwise import cosine_similarity\n",
        "from sklearn.feature_extraction.text import CountVectorizer\n"
      ]
    },
    {
      "cell_type": "code",
      "execution_count": 107,
      "id": "ULg2RVuMe9hw",
      "metadata": {
        "ExecuteTime": {
          "end_time": "2023-06-02T10:25:59.037931Z",
          "start_time": "2023-06-02T10:25:58.506296Z"
        },
        "colab": {
          "base_uri": "https://localhost:8080/",
          "height": 206
        },
        "id": "ULg2RVuMe9hw",
        "outputId": "887c781c-3b2d-4511-f35f-fcd3e75f35e0"
      },
      "outputs": [
        {
          "data": {
            "text/html": [
              "<div>\n",
              "<style scoped>\n",
              "    .dataframe tbody tr th:only-of-type {\n",
              "        vertical-align: middle;\n",
              "    }\n",
              "\n",
              "    .dataframe tbody tr th {\n",
              "        vertical-align: top;\n",
              "    }\n",
              "\n",
              "    .dataframe thead th {\n",
              "        text-align: right;\n",
              "    }\n",
              "</style>\n",
              "<table border=\"1\" class=\"dataframe\">\n",
              "  <thead>\n",
              "    <tr style=\"text-align: right;\">\n",
              "      <th></th>\n",
              "      <th>Book-Title</th>\n",
              "    </tr>\n",
              "  </thead>\n",
              "  <tbody>\n",
              "    <tr>\n",
              "      <th>The Lovely Bones: A Novel</th>\n",
              "      <td>707</td>\n",
              "    </tr>\n",
              "    <tr>\n",
              "      <th>Wild Animus</th>\n",
              "      <td>581</td>\n",
              "    </tr>\n",
              "    <tr>\n",
              "      <th>The Da Vinci Code</th>\n",
              "      <td>494</td>\n",
              "    </tr>\n",
              "    <tr>\n",
              "      <th>The Secret Life of Bees</th>\n",
              "      <td>406</td>\n",
              "    </tr>\n",
              "    <tr>\n",
              "      <th>The Nanny Diaries: A Novel</th>\n",
              "      <td>393</td>\n",
              "    </tr>\n",
              "  </tbody>\n",
              "</table>\n",
              "</div>"
            ],
            "text/plain": [
              "                            Book-Title\n",
              "The Lovely Bones: A Novel          707\n",
              "Wild Animus                        581\n",
              "The Da Vinci Code                  494\n",
              "The Secret Life of Bees            406\n",
              "The Nanny Diaries: A Novel         393"
            ]
          },
          "execution_count": 107,
          "metadata": {},
          "output_type": "execute_result"
        }
      ],
      "source": [
        "#We are going to count the ratings of the books to classify the common and the rare ones\n",
        "count_rate = pd.DataFrame(df['Book-Title'].value_counts())\n",
        "count_rate.head()"
      ]
    },
    {
      "cell_type": "code",
      "execution_count": 108,
      "id": "u-lJqbSaxQkc",
      "metadata": {
        "ExecuteTime": {
          "end_time": "2023-06-02T10:25:59.077910Z",
          "start_time": "2023-06-02T10:25:59.039757Z"
        },
        "colab": {
          "base_uri": "https://localhost:8080/"
        },
        "id": "u-lJqbSaxQkc",
        "outputId": "648b68e7-4950-44d4-ba33-737eea371b10"
      },
      "outputs": [
        {
          "data": {
            "text/plain": [
              "Index(['Don't Sweat the Small Stuff and It's All Small Stuff : Simple Ways to Keep the Little Things from Taking Over Your Life (Don't Sweat the Small Stuff Series)',\n",
              "       'Disclosure', 'Deception Point', 'Daddy's Little Girl', 'Night'],\n",
              "      dtype='object')"
            ]
          },
          "execution_count": 108,
          "metadata": {},
          "output_type": "execute_result"
        }
      ],
      "source": [
        "#We are going to classify the rare books as the books which were rated 100 or less times\n",
        "\n",
        "rare_books=count_rate[count_rate[\"Book-Title\"]<=100].index\n",
        "rare_books[:5]\n"
      ]
    },
    {
      "cell_type": "code",
      "execution_count": 109,
      "id": "jUsHJiy_xi6A",
      "metadata": {
        "ExecuteTime": {
          "end_time": "2023-06-02T10:25:59.099465Z",
          "start_time": "2023-06-02T10:25:59.082521Z"
        },
        "colab": {
          "base_uri": "https://localhost:8080/"
        },
        "id": "jUsHJiy_xi6A",
        "outputId": "8e915df3-2ad4-483a-9ef5-c16f1933cfd3"
      },
      "outputs": [
        {
          "data": {
            "text/plain": [
              "135376"
            ]
          },
          "execution_count": 109,
          "metadata": {},
          "output_type": "execute_result"
        }
      ],
      "source": [
        "len(rare_books)"
      ]
    },
    {
      "cell_type": "code",
      "execution_count": 110,
      "id": "OFz-UQO8xpp0",
      "metadata": {
        "ExecuteTime": {
          "end_time": "2023-06-02T10:25:59.421025Z",
          "start_time": "2023-06-02T10:25:59.102526Z"
        },
        "colab": {
          "base_uri": "https://localhost:8080/",
          "height": 275
        },
        "id": "OFz-UQO8xpp0",
        "outputId": "8541c2b9-5a32-4526-f7a9-d2c824c59c18"
      },
      "outputs": [
        {
          "data": {
            "text/html": [
              "<div>\n",
              "<style scoped>\n",
              "    .dataframe tbody tr th:only-of-type {\n",
              "        vertical-align: middle;\n",
              "    }\n",
              "\n",
              "    .dataframe tbody tr th {\n",
              "        vertical-align: top;\n",
              "    }\n",
              "\n",
              "    .dataframe thead th {\n",
              "        text-align: right;\n",
              "    }\n",
              "</style>\n",
              "<table border=\"1\" class=\"dataframe\">\n",
              "  <thead>\n",
              "    <tr style=\"text-align: right;\">\n",
              "      <th></th>\n",
              "      <th>ISBN</th>\n",
              "      <th>Book-Title</th>\n",
              "      <th>Book-Author</th>\n",
              "      <th>Year-Of-Publication</th>\n",
              "      <th>Publisher</th>\n",
              "      <th>User-ID</th>\n",
              "      <th>Book-Rating</th>\n",
              "      <th>Age</th>\n",
              "      <th>Country</th>\n",
              "    </tr>\n",
              "  </thead>\n",
              "  <tbody>\n",
              "    <tr>\n",
              "      <th>19</th>\n",
              "      <td>0786868716</td>\n",
              "      <td>The Five People You Meet in Heaven</td>\n",
              "      <td>Mitch Albom</td>\n",
              "      <td>2003</td>\n",
              "      <td>Hyperion</td>\n",
              "      <td>11400</td>\n",
              "      <td>9.0</td>\n",
              "      <td>0</td>\n",
              "      <td>canada</td>\n",
              "    </tr>\n",
              "    <tr>\n",
              "      <th>20</th>\n",
              "      <td>0151008116</td>\n",
              "      <td>Life of Pi</td>\n",
              "      <td>Yann Martel</td>\n",
              "      <td>2002</td>\n",
              "      <td>Harcourt</td>\n",
              "      <td>11400</td>\n",
              "      <td>6.0</td>\n",
              "      <td>0</td>\n",
              "      <td>canada</td>\n",
              "    </tr>\n",
              "    <tr>\n",
              "      <th>22</th>\n",
              "      <td>0312195516</td>\n",
              "      <td>The Red Tent (Bestselling Backlist)</td>\n",
              "      <td>Anita Diamant</td>\n",
              "      <td>1998</td>\n",
              "      <td>Picador USA</td>\n",
              "      <td>11400</td>\n",
              "      <td>7.0</td>\n",
              "      <td>0</td>\n",
              "      <td>canada</td>\n",
              "    </tr>\n",
              "    <tr>\n",
              "      <th>27</th>\n",
              "      <td>0743418174</td>\n",
              "      <td>Good in Bed</td>\n",
              "      <td>Jennifer Weiner</td>\n",
              "      <td>2002</td>\n",
              "      <td>Washington Square Press</td>\n",
              "      <td>11400</td>\n",
              "      <td>8.0</td>\n",
              "      <td>0</td>\n",
              "      <td>canada</td>\n",
              "    </tr>\n",
              "    <tr>\n",
              "      <th>37</th>\n",
              "      <td>0440222656</td>\n",
              "      <td>The Horse Whisperer</td>\n",
              "      <td>Nicholas Evans</td>\n",
              "      <td>1996</td>\n",
              "      <td>Dell</td>\n",
              "      <td>11400</td>\n",
              "      <td>6.0</td>\n",
              "      <td>0</td>\n",
              "      <td>canada</td>\n",
              "    </tr>\n",
              "  </tbody>\n",
              "</table>\n",
              "</div>"
            ],
            "text/plain": [
              "          ISBN                           Book-Title      Book-Author  \\\n",
              "19  0786868716   The Five People You Meet in Heaven      Mitch Albom   \n",
              "20  0151008116                           Life of Pi      Yann Martel   \n",
              "22  0312195516  The Red Tent (Bestselling Backlist)    Anita Diamant   \n",
              "27  0743418174                          Good in Bed  Jennifer Weiner   \n",
              "37  0440222656                  The Horse Whisperer   Nicholas Evans   \n",
              "\n",
              "    Year-Of-Publication                Publisher  User-ID  Book-Rating  Age  \\\n",
              "19                 2003                 Hyperion    11400          9.0    0   \n",
              "20                 2002                 Harcourt    11400          6.0    0   \n",
              "22                 1998              Picador USA    11400          7.0    0   \n",
              "27                 2002  Washington Square Press    11400          8.0    0   \n",
              "37                 1996                     Dell    11400          6.0    0   \n",
              "\n",
              "   Country  \n",
              "19  canada  \n",
              "20  canada  \n",
              "22  canada  \n",
              "27  canada  \n",
              "37  canada  "
            ]
          },
          "execution_count": 110,
          "metadata": {},
          "output_type": "execute_result"
        }
      ],
      "source": [
        "#If the book is not included in the rare books we are going to classify it as common one\n",
        "\n",
        "common_books=df[~df[\"Book-Title\"].isin(rare_books)]\n",
        "common_books.head()\n"
      ]
    },
    {
      "cell_type": "code",
      "execution_count": 111,
      "id": "EwhB93oox4gL",
      "metadata": {
        "ExecuteTime": {
          "end_time": "2023-06-02T10:25:59.438794Z",
          "start_time": "2023-06-02T10:25:59.425402Z"
        },
        "colab": {
          "base_uri": "https://localhost:8080/"
        },
        "id": "EwhB93oox4gL",
        "outputId": "0ad1fe7c-661f-4484-80ad-a0b179412dea"
      },
      "outputs": [
        {
          "data": {
            "text/plain": [
              "(33641, 9)"
            ]
          },
          "execution_count": 111,
          "metadata": {},
          "output_type": "execute_result"
        }
      ],
      "source": [
        "common_books.shape"
      ]
    },
    {
      "cell_type": "code",
      "execution_count": 112,
      "id": "U5sbXDVxyAC3",
      "metadata": {
        "ExecuteTime": {
          "end_time": "2023-06-02T10:26:00.650815Z",
          "start_time": "2023-06-02T10:25:59.443392Z"
        },
        "colab": {
          "base_uri": "https://localhost:8080/",
          "height": 460
        },
        "id": "U5sbXDVxyAC3",
        "outputId": "c3132222-fc85-47bb-d1e7-ebe0c9b2fa87"
      },
      "outputs": [
        {
          "data": {
            "text/html": [
              "<div>\n",
              "<style scoped>\n",
              "    .dataframe tbody tr th:only-of-type {\n",
              "        vertical-align: middle;\n",
              "    }\n",
              "\n",
              "    .dataframe tbody tr th {\n",
              "        vertical-align: top;\n",
              "    }\n",
              "\n",
              "    .dataframe thead th {\n",
              "        text-align: right;\n",
              "    }\n",
              "</style>\n",
              "<table border=\"1\" class=\"dataframe\">\n",
              "  <thead>\n",
              "    <tr style=\"text-align: right;\">\n",
              "      <th>Book-Title</th>\n",
              "      <th>1984</th>\n",
              "      <th>1st to Die: A Novel</th>\n",
              "      <th>2nd Chance</th>\n",
              "      <th>A Bend in the Road</th>\n",
              "      <th>A Child Called \\It\\\": One Child's Courage to Survive\"</th>\n",
              "      <th>A Heartbreaking Work of Staggering Genius</th>\n",
              "      <th>A Is for Alibi (Kinsey Millhone Mysteries (Paperback))</th>\n",
              "      <th>A Map of the World</th>\n",
              "      <th>A Painted House</th>\n",
              "      <th>A Prayer for Owen Meany</th>\n",
              "      <th>...</th>\n",
              "      <th>Watership Down</th>\n",
              "      <th>We Were the Mulvaneys</th>\n",
              "      <th>When the Wind Blows</th>\n",
              "      <th>Where the Heart Is (Oprah's Book Club (Paperback))</th>\n",
              "      <th>While I Was Gone</th>\n",
              "      <th>White Oleander : A Novel</th>\n",
              "      <th>White Oleander : A Novel (Oprah's Book Club)</th>\n",
              "      <th>Wicked: The Life and Times of the Wicked Witch of the West</th>\n",
              "      <th>Wild Animus</th>\n",
              "      <th>\\O\\\" Is for Outlaw\"</th>\n",
              "    </tr>\n",
              "    <tr>\n",
              "      <th>User-ID</th>\n",
              "      <th></th>\n",
              "      <th></th>\n",
              "      <th></th>\n",
              "      <th></th>\n",
              "      <th></th>\n",
              "      <th></th>\n",
              "      <th></th>\n",
              "      <th></th>\n",
              "      <th></th>\n",
              "      <th></th>\n",
              "      <th></th>\n",
              "      <th></th>\n",
              "      <th></th>\n",
              "      <th></th>\n",
              "      <th></th>\n",
              "      <th></th>\n",
              "      <th></th>\n",
              "      <th></th>\n",
              "      <th></th>\n",
              "      <th></th>\n",
              "      <th></th>\n",
              "    </tr>\n",
              "  </thead>\n",
              "  <tbody>\n",
              "    <tr>\n",
              "      <th>16</th>\n",
              "      <td>NaN</td>\n",
              "      <td>NaN</td>\n",
              "      <td>NaN</td>\n",
              "      <td>NaN</td>\n",
              "      <td>NaN</td>\n",
              "      <td>NaN</td>\n",
              "      <td>NaN</td>\n",
              "      <td>NaN</td>\n",
              "      <td>NaN</td>\n",
              "      <td>NaN</td>\n",
              "      <td>...</td>\n",
              "      <td>NaN</td>\n",
              "      <td>NaN</td>\n",
              "      <td>NaN</td>\n",
              "      <td>NaN</td>\n",
              "      <td>NaN</td>\n",
              "      <td>NaN</td>\n",
              "      <td>NaN</td>\n",
              "      <td>NaN</td>\n",
              "      <td>NaN</td>\n",
              "      <td>NaN</td>\n",
              "    </tr>\n",
              "    <tr>\n",
              "      <th>26</th>\n",
              "      <td>NaN</td>\n",
              "      <td>NaN</td>\n",
              "      <td>NaN</td>\n",
              "      <td>NaN</td>\n",
              "      <td>NaN</td>\n",
              "      <td>NaN</td>\n",
              "      <td>NaN</td>\n",
              "      <td>NaN</td>\n",
              "      <td>NaN</td>\n",
              "      <td>NaN</td>\n",
              "      <td>...</td>\n",
              "      <td>NaN</td>\n",
              "      <td>NaN</td>\n",
              "      <td>NaN</td>\n",
              "      <td>NaN</td>\n",
              "      <td>NaN</td>\n",
              "      <td>NaN</td>\n",
              "      <td>NaN</td>\n",
              "      <td>NaN</td>\n",
              "      <td>NaN</td>\n",
              "      <td>NaN</td>\n",
              "    </tr>\n",
              "    <tr>\n",
              "      <th>32</th>\n",
              "      <td>NaN</td>\n",
              "      <td>NaN</td>\n",
              "      <td>NaN</td>\n",
              "      <td>NaN</td>\n",
              "      <td>NaN</td>\n",
              "      <td>NaN</td>\n",
              "      <td>NaN</td>\n",
              "      <td>NaN</td>\n",
              "      <td>NaN</td>\n",
              "      <td>NaN</td>\n",
              "      <td>...</td>\n",
              "      <td>NaN</td>\n",
              "      <td>NaN</td>\n",
              "      <td>NaN</td>\n",
              "      <td>NaN</td>\n",
              "      <td>NaN</td>\n",
              "      <td>NaN</td>\n",
              "      <td>NaN</td>\n",
              "      <td>NaN</td>\n",
              "      <td>NaN</td>\n",
              "      <td>NaN</td>\n",
              "    </tr>\n",
              "    <tr>\n",
              "      <th>51</th>\n",
              "      <td>NaN</td>\n",
              "      <td>NaN</td>\n",
              "      <td>NaN</td>\n",
              "      <td>NaN</td>\n",
              "      <td>NaN</td>\n",
              "      <td>NaN</td>\n",
              "      <td>NaN</td>\n",
              "      <td>NaN</td>\n",
              "      <td>NaN</td>\n",
              "      <td>NaN</td>\n",
              "      <td>...</td>\n",
              "      <td>NaN</td>\n",
              "      <td>NaN</td>\n",
              "      <td>NaN</td>\n",
              "      <td>NaN</td>\n",
              "      <td>NaN</td>\n",
              "      <td>NaN</td>\n",
              "      <td>NaN</td>\n",
              "      <td>NaN</td>\n",
              "      <td>NaN</td>\n",
              "      <td>NaN</td>\n",
              "    </tr>\n",
              "    <tr>\n",
              "      <th>91</th>\n",
              "      <td>NaN</td>\n",
              "      <td>NaN</td>\n",
              "      <td>NaN</td>\n",
              "      <td>NaN</td>\n",
              "      <td>NaN</td>\n",
              "      <td>NaN</td>\n",
              "      <td>NaN</td>\n",
              "      <td>NaN</td>\n",
              "      <td>NaN</td>\n",
              "      <td>NaN</td>\n",
              "      <td>...</td>\n",
              "      <td>NaN</td>\n",
              "      <td>NaN</td>\n",
              "      <td>NaN</td>\n",
              "      <td>NaN</td>\n",
              "      <td>NaN</td>\n",
              "      <td>NaN</td>\n",
              "      <td>NaN</td>\n",
              "      <td>NaN</td>\n",
              "      <td>NaN</td>\n",
              "      <td>NaN</td>\n",
              "    </tr>\n",
              "  </tbody>\n",
              "</table>\n",
              "<p>5 rows × 192 columns</p>\n",
              "</div>"
            ],
            "text/plain": [
              "Book-Title  1984  1st to Die: A Novel  2nd Chance  A Bend in the Road  \\\n",
              "User-ID                                                                 \n",
              "16           NaN                  NaN         NaN                 NaN   \n",
              "26           NaN                  NaN         NaN                 NaN   \n",
              "32           NaN                  NaN         NaN                 NaN   \n",
              "51           NaN                  NaN         NaN                 NaN   \n",
              "91           NaN                  NaN         NaN                 NaN   \n",
              "\n",
              "Book-Title  A Child Called \\It\\\": One Child's Courage to Survive\"  \\\n",
              "User-ID                                                             \n",
              "16                                                        NaN       \n",
              "26                                                        NaN       \n",
              "32                                                        NaN       \n",
              "51                                                        NaN       \n",
              "91                                                        NaN       \n",
              "\n",
              "Book-Title  A Heartbreaking Work of Staggering Genius  \\\n",
              "User-ID                                                 \n",
              "16                                                NaN   \n",
              "26                                                NaN   \n",
              "32                                                NaN   \n",
              "51                                                NaN   \n",
              "91                                                NaN   \n",
              "\n",
              "Book-Title  A Is for Alibi (Kinsey Millhone Mysteries (Paperback))  \\\n",
              "User-ID                                                              \n",
              "16                                                        NaN        \n",
              "26                                                        NaN        \n",
              "32                                                        NaN        \n",
              "51                                                        NaN        \n",
              "91                                                        NaN        \n",
              "\n",
              "Book-Title  A Map of the World  A Painted House  A Prayer for Owen Meany  ...  \\\n",
              "User-ID                                                                   ...   \n",
              "16                         NaN              NaN                      NaN  ...   \n",
              "26                         NaN              NaN                      NaN  ...   \n",
              "32                         NaN              NaN                      NaN  ...   \n",
              "51                         NaN              NaN                      NaN  ...   \n",
              "91                         NaN              NaN                      NaN  ...   \n",
              "\n",
              "Book-Title  Watership Down  We Were the Mulvaneys  When the Wind Blows  \\\n",
              "User-ID                                                                  \n",
              "16                     NaN                    NaN                  NaN   \n",
              "26                     NaN                    NaN                  NaN   \n",
              "32                     NaN                    NaN                  NaN   \n",
              "51                     NaN                    NaN                  NaN   \n",
              "91                     NaN                    NaN                  NaN   \n",
              "\n",
              "Book-Title  Where the Heart Is (Oprah's Book Club (Paperback))  \\\n",
              "User-ID                                                          \n",
              "16                                                        NaN    \n",
              "26                                                        NaN    \n",
              "32                                                        NaN    \n",
              "51                                                        NaN    \n",
              "91                                                        NaN    \n",
              "\n",
              "Book-Title  While I Was Gone  White Oleander : A Novel  \\\n",
              "User-ID                                                  \n",
              "16                       NaN                       NaN   \n",
              "26                       NaN                       NaN   \n",
              "32                       NaN                       NaN   \n",
              "51                       NaN                       NaN   \n",
              "91                       NaN                       NaN   \n",
              "\n",
              "Book-Title  White Oleander : A Novel (Oprah's Book Club)  \\\n",
              "User-ID                                                    \n",
              "16                                                   NaN   \n",
              "26                                                   NaN   \n",
              "32                                                   NaN   \n",
              "51                                                   NaN   \n",
              "91                                                   NaN   \n",
              "\n",
              "Book-Title  Wicked: The Life and Times of the Wicked Witch of the West  \\\n",
              "User-ID                                                                  \n",
              "16                                                        NaN            \n",
              "26                                                        NaN            \n",
              "32                                                        NaN            \n",
              "51                                                        NaN            \n",
              "91                                                        NaN            \n",
              "\n",
              "Book-Title  Wild Animus  \\O\\\" Is for Outlaw\"  \n",
              "User-ID                                       \n",
              "16                  NaN                  NaN  \n",
              "26                  NaN                  NaN  \n",
              "32                  NaN                  NaN  \n",
              "51                  NaN                  NaN  \n",
              "91                  NaN                  NaN  \n",
              "\n",
              "[5 rows x 192 columns]"
            ]
          },
          "execution_count": 112,
          "metadata": {},
          "output_type": "execute_result"
        }
      ],
      "source": [
        "#Make recommendation if the book is common\n",
        "\n",
        "#First lets create pivot table which its index is the Users IDs and the columns are the books titles and the values are the rating of the user to that book\n",
        "\n",
        "\n",
        "item_based_cb = common_books.pivot_table(index=[\"User-ID\"],columns=[\"Book-Title\"],values=\"Book-Rating\")\n",
        "item_based_cb.head(5)\n"
      ]
    },
    {
      "cell_type": "code",
      "execution_count": 114,
      "id": "7qOh-x4izxLO",
      "metadata": {
        "ExecuteTime": {
          "end_time": "2023-06-02T10:26:00.674688Z",
          "start_time": "2023-06-02T10:26:00.656336Z"
        },
        "id": "7qOh-x4izxLO"
      },
      "outputs": [
        {
          "data": {
            "text/html": [
              "<div>\n",
              "<style scoped>\n",
              "    .dataframe tbody tr th:only-of-type {\n",
              "        vertical-align: middle;\n",
              "    }\n",
              "\n",
              "    .dataframe tbody tr th {\n",
              "        vertical-align: top;\n",
              "    }\n",
              "\n",
              "    .dataframe thead th {\n",
              "        text-align: right;\n",
              "    }\n",
              "</style>\n",
              "<table border=\"1\" class=\"dataframe\">\n",
              "  <thead>\n",
              "    <tr style=\"text-align: right;\">\n",
              "      <th></th>\n",
              "      <th>Book-Title</th>\n",
              "      <th>0</th>\n",
              "    </tr>\n",
              "  </thead>\n",
              "  <tbody>\n",
              "    <tr>\n",
              "      <th>0</th>\n",
              "      <td>Me Talk Pretty One Day</td>\n",
              "      <td>1.0</td>\n",
              "    </tr>\n",
              "    <tr>\n",
              "      <th>1</th>\n",
              "      <td>Left Behind: A Novel of the Earth's Last Days ...</td>\n",
              "      <td>1.0</td>\n",
              "    </tr>\n",
              "    <tr>\n",
              "      <th>2</th>\n",
              "      <td>A Child Called \\It\\\": One Child's Courage to S...</td>\n",
              "      <td>1.0</td>\n",
              "    </tr>\n",
              "    <tr>\n",
              "      <th>3</th>\n",
              "      <td>Lord of the Flies</td>\n",
              "      <td>1.0</td>\n",
              "    </tr>\n",
              "    <tr>\n",
              "      <th>4</th>\n",
              "      <td>The Chamber</td>\n",
              "      <td>1.0</td>\n",
              "    </tr>\n",
              "    <tr>\n",
              "      <th>...</th>\n",
              "      <td>...</td>\n",
              "      <td>...</td>\n",
              "    </tr>\n",
              "    <tr>\n",
              "      <th>187</th>\n",
              "      <td>The Rescue</td>\n",
              "      <td>NaN</td>\n",
              "    </tr>\n",
              "    <tr>\n",
              "      <th>188</th>\n",
              "      <td>The Return of the King (The Lord of the Rings,...</td>\n",
              "      <td>NaN</td>\n",
              "    </tr>\n",
              "    <tr>\n",
              "      <th>189</th>\n",
              "      <td>The Smoke Jumper</td>\n",
              "      <td>NaN</td>\n",
              "    </tr>\n",
              "    <tr>\n",
              "      <th>190</th>\n",
              "      <td>When the Wind Blows</td>\n",
              "      <td>NaN</td>\n",
              "    </tr>\n",
              "    <tr>\n",
              "      <th>191</th>\n",
              "      <td>\\O\\\" Is for Outlaw\"</td>\n",
              "      <td>NaN</td>\n",
              "    </tr>\n",
              "  </tbody>\n",
              "</table>\n",
              "<p>192 rows × 2 columns</p>\n",
              "</div>"
            ],
            "text/plain": [
              "                                            Book-Title    0\n",
              "0                               Me Talk Pretty One Day  1.0\n",
              "1    Left Behind: A Novel of the Earth's Last Days ...  1.0\n",
              "2    A Child Called \\It\\\": One Child's Courage to S...  1.0\n",
              "3                                    Lord of the Flies  1.0\n",
              "4                                          The Chamber  1.0\n",
              "..                                                 ...  ...\n",
              "187                                         The Rescue  NaN\n",
              "188  The Return of the King (The Lord of the Rings,...  NaN\n",
              "189                                   The Smoke Jumper  NaN\n",
              "190                                When the Wind Blows  NaN\n",
              "191                                \\O\\\" Is for Outlaw\"  NaN\n",
              "\n",
              "[192 rows x 2 columns]"
            ]
          },
          "execution_count": 114,
          "metadata": {},
          "output_type": "execute_result"
        }
      ],
      "source": [
        "#Creating recommendation df with the corrwith function\n",
        "\n",
        "book_title = 'Me Talk Pretty One Day'\n",
        "sim = item_based_cb[book_title]\n",
        "recommendation_df=pd.DataFrame(item_based_cb.corrwith(sim).sort_values(ascending=False)).reset_index(drop=False)\n",
        "recommendation_df"
      ]
    },
    {
      "cell_type": "code",
      "execution_count": 115,
      "id": "6gZgOBchzkRo",
      "metadata": {
        "ExecuteTime": {
          "end_time": "2023-06-02T10:26:01.213218Z",
          "start_time": "2023-06-02T10:26:01.194558Z"
        },
        "id": "6gZgOBchzkRo"
      },
      "outputs": [],
      "source": [
        "#Lets check if the book the user choosen is included in the recommendation df or not,\n",
        "# if it is included we don't want to recommend it\n",
        "# so we will make sure to drop it\n",
        "\n",
        "if not recommendation_df['Book-Title'][recommendation_df['Book-Title'] == book_title].empty:\n",
        "    recommendation_df=recommendation_df.drop(recommendation_df[recommendation_df[\"Book-Title\"]==book_title].index[0])\n"
      ]
    },
    {
      "cell_type": "code",
      "execution_count": 116,
      "id": "YnPPlA8Q3o_0",
      "metadata": {
        "ExecuteTime": {
          "end_time": "2023-06-02T10:28:25.517160Z",
          "start_time": "2023-06-02T10:26:01.216219Z"
        },
        "colab": {
          "base_uri": "https://localhost:8080/"
        },
        "id": "YnPPlA8Q3o_0",
        "outputId": "9d04f03c-f596-49bd-fdab-db12ec59ab60"
      },
      "outputs": [
        {
          "data": {
            "text/plain": [
              "['Wild Animus']"
            ]
          },
          "execution_count": 116,
          "metadata": {},
          "output_type": "execute_result"
        }
      ],
      "source": [
        "#Lets now collect the books with less ratings ( average rating is less than 5)\n",
        "\n",
        "less_rating=[]\n",
        "for i in recommendation_df[\"Book-Title\"]:\n",
        "    if df[df[\"Book-Title\"]==i][\"Book-Rating\"].mean() < 5:\n",
        "        less_rating.append(i)\n",
        "\n",
        "less_rating\n",
        "\n"
      ]
    },
    {
      "cell_type": "code",
      "execution_count": 117,
      "id": "wz9mFUTw4GQz",
      "metadata": {
        "ExecuteTime": {
          "end_time": "2023-06-02T10:28:28.409718Z",
          "start_time": "2023-06-02T10:28:25.518188Z"
        },
        "colab": {
          "base_uri": "https://localhost:8080/"
        },
        "id": "wz9mFUTw4GQz",
        "outputId": "c7025d26-7a4e-4768-a862-5dcf189b99ac"
      },
      "outputs": [
        {
          "name": "stdout",
          "output_type": "stream",
          "text": [
            "\u001b[92m Left Behind: A Novel of the Earth's Last Days (Left Behind No. 1)\u001b[00m\n",
            "Rating ->\u001b[91m 7.7\u001b[00m\n",
            "--------------------------------------------------\n",
            "\u001b[92m A Child Called \\It\\\": One Child's Courage to Survive\"\u001b[00m\n",
            "Rating ->\u001b[91m 8.0\u001b[00m\n",
            "--------------------------------------------------\n",
            "\u001b[92m Lord of the Flies\u001b[00m\n",
            "Rating ->\u001b[91m 8.0\u001b[00m\n",
            "--------------------------------------------------\n",
            "\u001b[92m The Chamber\u001b[00m\n",
            "Rating ->\u001b[91m 7.4\u001b[00m\n",
            "--------------------------------------------------\n",
            "\u001b[92m The Poisonwood Bible: A Novel\u001b[00m\n",
            "Rating ->\u001b[91m 8.2\u001b[00m\n",
            "--------------------------------------------------\n",
            "\u001b[92m The Lost World\u001b[00m\n",
            "Rating ->\u001b[91m 7.2\u001b[00m\n",
            "--------------------------------------------------\n",
            "\u001b[92m Four Blind Mice\u001b[00m\n",
            "Rating ->\u001b[91m 8.2\u001b[00m\n",
            "--------------------------------------------------\n",
            "\u001b[92m It\u001b[00m\n",
            "Rating ->\u001b[91m 8.1\u001b[00m\n",
            "--------------------------------------------------\n",
            "\u001b[92m She's Come Undone (Oprah's Book Club)\u001b[00m\n",
            "Rating ->\u001b[91m 7.7\u001b[00m\n",
            "--------------------------------------------------\n",
            "\u001b[92m While I Was Gone\u001b[00m\n",
            "Rating ->\u001b[91m 7.0\u001b[00m\n",
            "--------------------------------------------------\n",
            "\u001b[92m The Reader\u001b[00m\n",
            "Rating ->\u001b[91m 7.2\u001b[00m\n",
            "--------------------------------------------------\n",
            "\u001b[92m Seabiscuit: An American Legend\u001b[00m\n",
            "Rating ->\u001b[91m 8.5\u001b[00m\n",
            "--------------------------------------------------\n",
            "\u001b[92m Q Is for Quarry\u001b[00m\n",
            "Rating ->\u001b[91m 7.9\u001b[00m\n",
            "--------------------------------------------------\n",
            "\u001b[92m Timeline\u001b[00m\n",
            "Rating ->\u001b[91m 7.9\u001b[00m\n",
            "--------------------------------------------------\n",
            "\u001b[92m The Subtle Knife (His Dark Materials, Book 2)\u001b[00m\n",
            "Rating ->\u001b[91m 8.7\u001b[00m\n",
            "--------------------------------------------------\n",
            "\u001b[92m The Hitchhiker's Guide to the Galaxy\u001b[00m\n",
            "Rating ->\u001b[91m 8.5\u001b[00m\n",
            "--------------------------------------------------\n",
            "\u001b[92m Pigs in Heaven\u001b[00m\n",
            "Rating ->\u001b[91m 8.0\u001b[00m\n",
            "--------------------------------------------------\n",
            "\u001b[92m A Walk to Remember\u001b[00m\n",
            "Rating ->\u001b[91m 7.8\u001b[00m\n",
            "--------------------------------------------------\n",
            "\u001b[92m The Blind Assassin\u001b[00m\n",
            "Rating ->\u001b[91m 7.5\u001b[00m\n",
            "--------------------------------------------------\n",
            "\u001b[92m The Testament\u001b[00m\n",
            "Rating ->\u001b[91m 7.5\u001b[00m\n",
            "--------------------------------------------------\n",
            "\u001b[92m The Pilot's Wife : A Novel\u001b[00m\n",
            "Rating ->\u001b[91m 7.5\u001b[00m\n",
            "--------------------------------------------------\n",
            "\u001b[92m The Two Towers (The Lord of the Rings, Part 2)\u001b[00m\n",
            "Rating ->\u001b[91m 9.3\u001b[00m\n",
            "--------------------------------------------------\n",
            "\u001b[92m The Fellowship of the Ring (The Lord of the Rings, Part 1)\u001b[00m\n",
            "Rating ->\u001b[91m 8.9\u001b[00m\n",
            "--------------------------------------------------\n",
            "\u001b[92m The Hours: A Novel\u001b[00m\n",
            "Rating ->\u001b[91m 7.6\u001b[00m\n",
            "--------------------------------------------------\n",
            "\u001b[92m Animal Farm\u001b[00m\n",
            "Rating ->\u001b[91m 8.3\u001b[00m\n",
            "--------------------------------------------------\n",
            "\u001b[92m Two for the Dough\u001b[00m\n",
            "Rating ->\u001b[91m 8.3\u001b[00m\n",
            "--------------------------------------------------\n",
            "\u001b[92m A Bend in the Road\u001b[00m\n",
            "Rating ->\u001b[91m 7.5\u001b[00m\n",
            "--------------------------------------------------\n",
            "\u001b[92m The Catcher in the Rye\u001b[00m\n",
            "Rating ->\u001b[91m 7.7\u001b[00m\n",
            "--------------------------------------------------\n",
            "\u001b[92m Dolores Claiborne\u001b[00m\n",
            "Rating ->\u001b[91m 7.4\u001b[00m\n",
            "--------------------------------------------------\n",
            "\u001b[92m Silence of the Lambs\u001b[00m\n",
            "Rating ->\u001b[91m 8.4\u001b[00m\n",
            "--------------------------------------------------\n",
            "\u001b[92m Icy Sparks\u001b[00m\n",
            "Rating ->\u001b[91m 7.3\u001b[00m\n",
            "--------------------------------------------------\n",
            "\u001b[92m Neverwhere\u001b[00m\n",
            "Rating ->\u001b[91m 8.1\u001b[00m\n",
            "--------------------------------------------------\n",
            "\u001b[92m The Vampire Lestat (Vampire Chronicles, Book II)\u001b[00m\n",
            "Rating ->\u001b[91m 8.0\u001b[00m\n",
            "--------------------------------------------------\n",
            "\u001b[92m The Tao of Pooh\u001b[00m\n",
            "Rating ->\u001b[91m 8.0\u001b[00m\n",
            "--------------------------------------------------\n"
          ]
        }
      ],
      "source": [
        "#Rank the highly rated books\n",
        "if recommendation_df.shape[0] - len(less_rating) > 5:\n",
        "\n",
        "    recommendation_df=recommendation_df[~recommendation_df[\"Book-Title\"].isin(less_rating)]\n",
        "    recommendation_df.columns=[\"Book-Title\",\"Correlation\"]\n",
        "\n",
        "\n",
        "for (candidate_book, corr) in zip(recommendation_df['Book-Title'], recommendation_df['Correlation']):\n",
        "    corr_thershold = 0.7\n",
        "    if corr > corr_thershold:\n",
        "        ratings = df[df['Book-Title'] == candidate_book]['Book-Rating'].mean()\n",
        "        prGreen(candidate_book)\n",
        "        print(\"Rating \", end = '->')\n",
        "        prRed(round(ratings,1))\n",
        "        print(\"-\"*50)\n",
        "    else:\n",
        "        break"
      ]
    },
    {
      "cell_type": "code",
      "execution_count": 97,
      "id": "4L41BZpv4jmF",
      "metadata": {
        "ExecuteTime": {
          "end_time": "2023-06-02T10:28:28.425304Z",
          "start_time": "2023-06-02T10:28:28.413231Z"
        },
        "id": "4L41BZpv4jmF"
      },
      "outputs": [],
      "source": []
    },
    {
      "cell_type": "markdown",
      "id": "7138af37",
      "metadata": {},
      "source": [
        "#### We have created the Recommendation System\n",
        "\n",
        "#### Item based collaborative recommendation system is ready, next we have to put it all together to bulild our Recommendation System"
      ]
    },
    {
      "cell_type": "code",
      "execution_count": 118,
      "id": "Rwm25y4z3jzf",
      "metadata": {
        "ExecuteTime": {
          "end_time": "2023-06-02T10:28:28.451421Z",
          "start_time": "2023-06-02T10:28:28.426326Z"
        },
        "id": "Rwm25y4z3jzf"
      },
      "outputs": [],
      "source": [
        "def item_based_coll_rs(book_title):\n",
        "\n",
        "    book_title = str(book_title)\n",
        "    if book_title in data['Book-Title'].values:\n",
        "\n",
        "        count_rate = pd.DataFrame(df['Book-Title'].value_counts())\n",
        "        rare_books=count_rate[count_rate[\"Book-Title\"]<=100].index\n",
        "\n",
        "        common_books=df[~df[\"Book-Title\"].isin(rare_books)]\n",
        "\n",
        "        if book_title in rare_books:\n",
        "            prYellow(\"A rare book, so u may try our popular books: \\n \")\n",
        "            popular_books()\n",
        "\n",
        "        else:\n",
        "\n",
        "            item_based_cb = common_books.pivot_table(index=[\"User-ID\"],columns=[\"Book-Title\"],values=\"Book-Rating\")\n",
        "            sim = item_based_cb[book_title]\n",
        "            recommendation_df=pd.DataFrame(item_based_cb.corrwith(sim).sort_values(ascending=False)).reset_index(drop=False)\n",
        "\n",
        "            if not recommendation_df['Book-Title'][recommendation_df['Book-Title'] == book_title].empty:\n",
        "                recommendation_df=recommendation_df.drop(recommendation_df[recommendation_df[\"Book-Title\"]==book_title].index[0])\n",
        "\n",
        "            less_rating=[]\n",
        "            for i in recommendation_df[\"Book-Title\"]:\n",
        "                if df[df[\"Book-Title\"]==i][\"Book-Rating\"].mean() < 5:\n",
        "                    less_rating.append(i)\n",
        "\n",
        "            if recommendation_df.shape[0] - len(less_rating) > 5:\n",
        "\n",
        "                recommendation_df=recommendation_df[~recommendation_df[\"Book-Title\"].isin(less_rating)]\n",
        "                recommendation_df.columns=[\"Book-Title\",\"Correlation\"]\n",
        "\n",
        "\n",
        "            for (candidate_book, corr) in zip(recommendation_df['Book-Title'], recommendation_df['Correlation']):\n",
        "                corr_thershold = 0.7\n",
        "                if corr > corr_thershold:\n",
        "                    ratings = df[df['Book-Title'] == candidate_book]['Book-Rating'].mean()\n",
        "                    prGreen(candidate_book)\n",
        "                    print(\"Rating \", end = '->')\n",
        "                    prRed(round(ratings,1))\n",
        "                    print(\"-\"*50)\n",
        "                else:\n",
        "                    break\n",
        "\n",
        "    else:\n",
        "        prYellow(\"This book is not in our library, check out our most popular books:\")\n",
        "        print()\n",
        "        popular_books()"
      ]
    },
    {
      "cell_type": "code",
      "execution_count": 119,
      "id": "kV-dgRfF3vX6",
      "metadata": {
        "ExecuteTime": {
          "end_time": "2023-06-02T10:30:49.031677Z",
          "start_time": "2023-06-02T10:28:28.453552Z"
        },
        "colab": {
          "base_uri": "https://localhost:8080/"
        },
        "id": "kV-dgRfF3vX6",
        "outputId": "8d6c4864-7f9d-475a-ea2a-4c231567651c"
      },
      "outputs": [
        {
          "name": "stdout",
          "output_type": "stream",
          "text": [
            "\u001b[92m Left Behind: A Novel of the Earth's Last Days (Left Behind No. 1)\u001b[00m\n",
            "Rating ->\u001b[91m 7.7\u001b[00m\n",
            "--------------------------------------------------\n",
            "\u001b[92m A Child Called \\It\\\": One Child's Courage to Survive\"\u001b[00m\n",
            "Rating ->\u001b[91m 8.0\u001b[00m\n",
            "--------------------------------------------------\n",
            "\u001b[92m Lord of the Flies\u001b[00m\n",
            "Rating ->\u001b[91m 8.0\u001b[00m\n",
            "--------------------------------------------------\n",
            "\u001b[92m The Chamber\u001b[00m\n",
            "Rating ->\u001b[91m 7.4\u001b[00m\n",
            "--------------------------------------------------\n",
            "\u001b[92m The Poisonwood Bible: A Novel\u001b[00m\n",
            "Rating ->\u001b[91m 8.2\u001b[00m\n",
            "--------------------------------------------------\n",
            "\u001b[92m The Lost World\u001b[00m\n",
            "Rating ->\u001b[91m 7.2\u001b[00m\n",
            "--------------------------------------------------\n",
            "\u001b[92m Four Blind Mice\u001b[00m\n",
            "Rating ->\u001b[91m 8.2\u001b[00m\n",
            "--------------------------------------------------\n",
            "\u001b[92m It\u001b[00m\n",
            "Rating ->\u001b[91m 8.1\u001b[00m\n",
            "--------------------------------------------------\n",
            "\u001b[92m She's Come Undone (Oprah's Book Club)\u001b[00m\n",
            "Rating ->\u001b[91m 7.7\u001b[00m\n",
            "--------------------------------------------------\n",
            "\u001b[92m While I Was Gone\u001b[00m\n",
            "Rating ->\u001b[91m 7.0\u001b[00m\n",
            "--------------------------------------------------\n",
            "\u001b[92m The Reader\u001b[00m\n",
            "Rating ->\u001b[91m 7.2\u001b[00m\n",
            "--------------------------------------------------\n",
            "\u001b[92m Seabiscuit: An American Legend\u001b[00m\n",
            "Rating ->\u001b[91m 8.5\u001b[00m\n",
            "--------------------------------------------------\n",
            "\u001b[92m Q Is for Quarry\u001b[00m\n",
            "Rating ->\u001b[91m 7.9\u001b[00m\n",
            "--------------------------------------------------\n",
            "\u001b[92m Timeline\u001b[00m\n",
            "Rating ->\u001b[91m 7.9\u001b[00m\n",
            "--------------------------------------------------\n",
            "\u001b[92m The Subtle Knife (His Dark Materials, Book 2)\u001b[00m\n",
            "Rating ->\u001b[91m 8.7\u001b[00m\n",
            "--------------------------------------------------\n",
            "\u001b[92m The Hitchhiker's Guide to the Galaxy\u001b[00m\n",
            "Rating ->\u001b[91m 8.5\u001b[00m\n",
            "--------------------------------------------------\n",
            "\u001b[92m Pigs in Heaven\u001b[00m\n",
            "Rating ->\u001b[91m 8.0\u001b[00m\n",
            "--------------------------------------------------\n",
            "\u001b[92m A Walk to Remember\u001b[00m\n",
            "Rating ->\u001b[91m 7.8\u001b[00m\n",
            "--------------------------------------------------\n",
            "\u001b[92m The Blind Assassin\u001b[00m\n",
            "Rating ->\u001b[91m 7.5\u001b[00m\n",
            "--------------------------------------------------\n",
            "\u001b[92m The Testament\u001b[00m\n",
            "Rating ->\u001b[91m 7.5\u001b[00m\n",
            "--------------------------------------------------\n",
            "\u001b[92m The Pilot's Wife : A Novel\u001b[00m\n",
            "Rating ->\u001b[91m 7.5\u001b[00m\n",
            "--------------------------------------------------\n",
            "\u001b[92m The Two Towers (The Lord of the Rings, Part 2)\u001b[00m\n",
            "Rating ->\u001b[91m 9.3\u001b[00m\n",
            "--------------------------------------------------\n",
            "\u001b[92m The Fellowship of the Ring (The Lord of the Rings, Part 1)\u001b[00m\n",
            "Rating ->\u001b[91m 8.9\u001b[00m\n",
            "--------------------------------------------------\n",
            "\u001b[92m The Hours: A Novel\u001b[00m\n",
            "Rating ->\u001b[91m 7.6\u001b[00m\n",
            "--------------------------------------------------\n",
            "\u001b[92m Animal Farm\u001b[00m\n",
            "Rating ->\u001b[91m 8.3\u001b[00m\n",
            "--------------------------------------------------\n",
            "\u001b[92m Two for the Dough\u001b[00m\n",
            "Rating ->\u001b[91m 8.3\u001b[00m\n",
            "--------------------------------------------------\n",
            "\u001b[92m A Bend in the Road\u001b[00m\n",
            "Rating ->\u001b[91m 7.5\u001b[00m\n",
            "--------------------------------------------------\n",
            "\u001b[92m The Catcher in the Rye\u001b[00m\n",
            "Rating ->\u001b[91m 7.7\u001b[00m\n",
            "--------------------------------------------------\n",
            "\u001b[92m Dolores Claiborne\u001b[00m\n",
            "Rating ->\u001b[91m 7.4\u001b[00m\n",
            "--------------------------------------------------\n",
            "\u001b[92m Silence of the Lambs\u001b[00m\n",
            "Rating ->\u001b[91m 8.4\u001b[00m\n",
            "--------------------------------------------------\n",
            "\u001b[92m Icy Sparks\u001b[00m\n",
            "Rating ->\u001b[91m 7.3\u001b[00m\n",
            "--------------------------------------------------\n",
            "\u001b[92m Neverwhere\u001b[00m\n",
            "Rating ->\u001b[91m 8.1\u001b[00m\n",
            "--------------------------------------------------\n",
            "\u001b[92m The Vampire Lestat (Vampire Chronicles, Book II)\u001b[00m\n",
            "Rating ->\u001b[91m 8.0\u001b[00m\n",
            "--------------------------------------------------\n",
            "\u001b[92m The Tao of Pooh\u001b[00m\n",
            "Rating ->\u001b[91m 8.0\u001b[00m\n",
            "--------------------------------------------------\n"
          ]
        }
      ],
      "source": [
        "item_based_coll_rs('Me Talk Pretty One Day')"
      ]
    },
    {
      "cell_type": "code",
      "execution_count": 120,
      "id": "ov41abI232hH",
      "metadata": {
        "ExecuteTime": {
          "end_time": "2023-06-02T10:30:49.906599Z",
          "start_time": "2023-06-02T10:30:49.031677Z"
        },
        "colab": {
          "base_uri": "https://localhost:8080/"
        },
        "id": "ov41abI232hH",
        "outputId": "f99007a8-f914-4127-c0f3-c82bf3772a90"
      },
      "outputs": [
        {
          "name": "stdout",
          "output_type": "stream",
          "text": [
            "\u001b[93m A rare book, so u may try our popular books: \n",
            " \u001b[00m\n",
            "\u001b[92m Harry Potter and the Prisoner of Azkaban (Book 3)\u001b[00m\n",
            "Rating->\u001b[91m 9.0\u001b[00m\n",
            "--------------------------------------------------\n",
            "\u001b[92m Harry Potter and the Sorcerer's Stone (Harry Potter (Paperback))\u001b[00m\n",
            "Rating->\u001b[91m 8.9\u001b[00m\n",
            "--------------------------------------------------\n",
            "\u001b[92m Harry Potter and the Chamber of Secrets (Book 2)\u001b[00m\n",
            "Rating->\u001b[91m 8.8\u001b[00m\n",
            "--------------------------------------------------\n",
            "\u001b[92m The Secret Life of Bees\u001b[00m\n",
            "Rating->\u001b[91m 8.5\u001b[00m\n",
            "--------------------------------------------------\n",
            "\u001b[92m The Da Vinci Code\u001b[00m\n",
            "Rating->\u001b[91m 8.4\u001b[00m\n",
            "--------------------------------------------------\n",
            "\u001b[92m The Lovely Bones: A Novel\u001b[00m\n",
            "Rating->\u001b[91m 8.2\u001b[00m\n",
            "--------------------------------------------------\n",
            "\u001b[92m The Red Tent (Bestselling Backlist)\u001b[00m\n",
            "Rating->\u001b[91m 8.2\u001b[00m\n",
            "--------------------------------------------------\n",
            "\u001b[92m Where the Heart Is (Oprah's Book Club (Paperback))\u001b[00m\n",
            "Rating->\u001b[91m 8.1\u001b[00m\n",
            "--------------------------------------------------\n",
            "\u001b[92m Life of Pi\u001b[00m\n",
            "Rating->\u001b[91m 8.1\u001b[00m\n",
            "--------------------------------------------------\n",
            "\u001b[92m Angels &amp; Demons\u001b[00m\n",
            "Rating->\u001b[91m 8.0\u001b[00m\n",
            "--------------------------------------------------\n"
          ]
        }
      ],
      "source": [
        "item_based_coll_rs(\"From One to One Hundred\")"
      ]
    },
    {
      "cell_type": "code",
      "execution_count": 121,
      "id": "Yz6VUoM6389l",
      "metadata": {
        "ExecuteTime": {
          "end_time": "2023-06-02T10:33:06.629398Z",
          "start_time": "2023-06-02T10:30:49.907919Z"
        },
        "colab": {
          "base_uri": "https://localhost:8080/"
        },
        "id": "Yz6VUoM6389l",
        "outputId": "9873f841-7eb9-4237-fe80-191d719cb86b"
      },
      "outputs": [
        {
          "name": "stdout",
          "output_type": "stream",
          "text": [
            "\u001b[92m The Beach House\u001b[00m\n",
            "Rating ->\u001b[91m 7.7\u001b[00m\n",
            "--------------------------------------------------\n",
            "\u001b[92m Mystic River\u001b[00m\n",
            "Rating ->\u001b[91m 7.9\u001b[00m\n",
            "--------------------------------------------------\n",
            "\u001b[92m The Blind Assassin\u001b[00m\n",
            "Rating ->\u001b[91m 7.5\u001b[00m\n",
            "--------------------------------------------------\n",
            "\u001b[92m Back Roads\u001b[00m\n",
            "Rating ->\u001b[91m 7.3\u001b[00m\n",
            "--------------------------------------------------\n",
            "\u001b[92m Unnatural Exposure\u001b[00m\n",
            "Rating ->\u001b[91m 7.8\u001b[00m\n",
            "--------------------------------------------------\n",
            "\u001b[92m Angela's Ashes (MMP) : A Memoir\u001b[00m\n",
            "Rating ->\u001b[91m 8.0\u001b[00m\n",
            "--------------------------------------------------\n",
            "\u001b[92m The Smoke Jumper\u001b[00m\n",
            "Rating ->\u001b[91m 7.4\u001b[00m\n",
            "--------------------------------------------------\n",
            "\u001b[92m Isle of Dogs\u001b[00m\n",
            "Rating ->\u001b[91m 5.4\u001b[00m\n",
            "--------------------------------------------------\n",
            "\u001b[92m The Color of Water: A Black Man's Tribute to His White Mother\u001b[00m\n",
            "Rating ->\u001b[91m 8.3\u001b[00m\n",
            "--------------------------------------------------\n",
            "\u001b[92m Pigs in Heaven\u001b[00m\n",
            "Rating ->\u001b[91m 8.0\u001b[00m\n",
            "--------------------------------------------------\n",
            "\u001b[92m Tell No One\u001b[00m\n",
            "Rating ->\u001b[91m 8.1\u001b[00m\n",
            "--------------------------------------------------\n",
            "\u001b[92m Pet Sematary\u001b[00m\n",
            "Rating ->\u001b[91m 7.9\u001b[00m\n",
            "--------------------------------------------------\n",
            "\u001b[92m About a Boy\u001b[00m\n",
            "Rating ->\u001b[91m 7.9\u001b[00m\n",
            "--------------------------------------------------\n",
            "\u001b[92m Cold Mountain : A Novel\u001b[00m\n",
            "Rating ->\u001b[91m 7.8\u001b[00m\n",
            "--------------------------------------------------\n",
            "\u001b[92m Dolores Claiborne\u001b[00m\n",
            "Rating ->\u001b[91m 7.4\u001b[00m\n",
            "--------------------------------------------------\n",
            "\u001b[92m Fall On Your Knees (Oprah #45)\u001b[00m\n",
            "Rating ->\u001b[91m 7.6\u001b[00m\n",
            "--------------------------------------------------\n",
            "\u001b[92m The Alchemist: A Fable About Following Your Dream\u001b[00m\n",
            "Rating ->\u001b[91m 8.2\u001b[00m\n",
            "--------------------------------------------------\n",
            "\u001b[92m Misery\u001b[00m\n",
            "Rating ->\u001b[91m 8.1\u001b[00m\n",
            "--------------------------------------------------\n",
            "\u001b[92m The Last Precinct\u001b[00m\n",
            "Rating ->\u001b[91m 7.5\u001b[00m\n",
            "--------------------------------------------------\n",
            "\u001b[92m Insomnia\u001b[00m\n",
            "Rating ->\u001b[91m 7.9\u001b[00m\n",
            "--------------------------------------------------\n",
            "\u001b[92m The Vampire Lestat (Vampire Chronicles, Book II)\u001b[00m\n",
            "Rating ->\u001b[91m 8.0\u001b[00m\n",
            "--------------------------------------------------\n",
            "\u001b[92m The Green Mile\u001b[00m\n",
            "Rating ->\u001b[91m 8.5\u001b[00m\n",
            "--------------------------------------------------\n",
            "\u001b[92m Harry Potter and the Sorcerer's Stone (Book 1)\u001b[00m\n",
            "Rating ->\u001b[91m 9.1\u001b[00m\n",
            "--------------------------------------------------\n",
            "\u001b[92m White Oleander : A Novel (Oprah's Book Club)\u001b[00m\n",
            "Rating ->\u001b[91m 7.9\u001b[00m\n",
            "--------------------------------------------------\n",
            "\u001b[92m Artemis Fowl (Artemis Fowl, Book 1)\u001b[00m\n",
            "Rating ->\u001b[91m 7.7\u001b[00m\n",
            "--------------------------------------------------\n",
            "\u001b[92m Watership Down\u001b[00m\n",
            "Rating ->\u001b[91m 8.6\u001b[00m\n",
            "--------------------------------------------------\n",
            "\u001b[92m The Color Purple\u001b[00m\n",
            "Rating ->\u001b[91m 8.6\u001b[00m\n",
            "--------------------------------------------------\n",
            "\u001b[92m We Were the Mulvaneys\u001b[00m\n",
            "Rating ->\u001b[91m 7.1\u001b[00m\n",
            "--------------------------------------------------\n",
            "\u001b[92m The Giver (21st Century Reference)\u001b[00m\n",
            "Rating ->\u001b[91m 8.6\u001b[00m\n",
            "--------------------------------------------------\n",
            "\u001b[92m Point of Origin\u001b[00m\n",
            "Rating ->\u001b[91m 7.7\u001b[00m\n",
            "--------------------------------------------------\n",
            "\u001b[92m She's Come Undone (Oprah's Book Club)\u001b[00m\n",
            "Rating ->\u001b[91m 7.7\u001b[00m\n",
            "--------------------------------------------------\n",
            "\u001b[92m The Summons\u001b[00m\n",
            "Rating ->\u001b[91m 7.3\u001b[00m\n",
            "--------------------------------------------------\n",
            "\u001b[92m A Child Called \\It\\\": One Child's Courage to Survive\"\u001b[00m\n",
            "Rating ->\u001b[91m 8.0\u001b[00m\n",
            "--------------------------------------------------\n",
            "\u001b[92m Harry Potter and the Goblet of Fire (Book 4)\u001b[00m\n",
            "Rating ->\u001b[91m 9.1\u001b[00m\n",
            "--------------------------------------------------\n",
            "\u001b[92m She's Come Undone (Oprah's Book Club (Paperback))\u001b[00m\n",
            "Rating ->\u001b[91m 7.5\u001b[00m\n",
            "--------------------------------------------------\n",
            "\u001b[92m It\u001b[00m\n",
            "Rating ->\u001b[91m 8.1\u001b[00m\n",
            "--------------------------------------------------\n",
            "\u001b[92m Digital Fortress : A Thriller\u001b[00m\n",
            "Rating ->\u001b[91m 7.6\u001b[00m\n",
            "--------------------------------------------------\n"
          ]
        }
      ],
      "source": [
        "item_based_coll_rs(\"Harry Potter and the Prisoner of Azkaban (Book 3)\")"
      ]
    },
    {
      "cell_type": "code",
      "execution_count": 122,
      "id": "VyBIPqgv4BmR",
      "metadata": {
        "ExecuteTime": {
          "end_time": "2023-06-02T10:35:22.245086Z",
          "start_time": "2023-06-02T10:33:06.633264Z"
        },
        "colab": {
          "base_uri": "https://localhost:8080/"
        },
        "id": "VyBIPqgv4BmR",
        "outputId": "5a368193-aa88-460e-877d-c377ca949635"
      },
      "outputs": [
        {
          "name": "stdout",
          "output_type": "stream",
          "text": [
            "\u001b[92m The Beach House\u001b[00m\n",
            "Rating ->\u001b[91m 7.7\u001b[00m\n",
            "--------------------------------------------------\n",
            "\u001b[92m Mystic River\u001b[00m\n",
            "Rating ->\u001b[91m 7.9\u001b[00m\n",
            "--------------------------------------------------\n",
            "\u001b[92m The Blind Assassin\u001b[00m\n",
            "Rating ->\u001b[91m 7.5\u001b[00m\n",
            "--------------------------------------------------\n",
            "\u001b[92m Back Roads\u001b[00m\n",
            "Rating ->\u001b[91m 7.3\u001b[00m\n",
            "--------------------------------------------------\n",
            "\u001b[92m Unnatural Exposure\u001b[00m\n",
            "Rating ->\u001b[91m 7.8\u001b[00m\n",
            "--------------------------------------------------\n",
            "\u001b[92m Angela's Ashes (MMP) : A Memoir\u001b[00m\n",
            "Rating ->\u001b[91m 8.0\u001b[00m\n",
            "--------------------------------------------------\n",
            "\u001b[92m The Smoke Jumper\u001b[00m\n",
            "Rating ->\u001b[91m 7.4\u001b[00m\n",
            "--------------------------------------------------\n",
            "\u001b[92m Isle of Dogs\u001b[00m\n",
            "Rating ->\u001b[91m 5.4\u001b[00m\n",
            "--------------------------------------------------\n",
            "\u001b[92m The Color of Water: A Black Man's Tribute to His White Mother\u001b[00m\n",
            "Rating ->\u001b[91m 8.3\u001b[00m\n",
            "--------------------------------------------------\n",
            "\u001b[92m Pigs in Heaven\u001b[00m\n",
            "Rating ->\u001b[91m 8.0\u001b[00m\n",
            "--------------------------------------------------\n",
            "\u001b[92m Tell No One\u001b[00m\n",
            "Rating ->\u001b[91m 8.1\u001b[00m\n",
            "--------------------------------------------------\n",
            "\u001b[92m Pet Sematary\u001b[00m\n",
            "Rating ->\u001b[91m 7.9\u001b[00m\n",
            "--------------------------------------------------\n",
            "\u001b[92m About a Boy\u001b[00m\n",
            "Rating ->\u001b[91m 7.9\u001b[00m\n",
            "--------------------------------------------------\n",
            "\u001b[92m Cold Mountain : A Novel\u001b[00m\n",
            "Rating ->\u001b[91m 7.8\u001b[00m\n",
            "--------------------------------------------------\n",
            "\u001b[92m Dolores Claiborne\u001b[00m\n",
            "Rating ->\u001b[91m 7.4\u001b[00m\n",
            "--------------------------------------------------\n",
            "\u001b[92m Fall On Your Knees (Oprah #45)\u001b[00m\n",
            "Rating ->\u001b[91m 7.6\u001b[00m\n",
            "--------------------------------------------------\n",
            "\u001b[92m The Alchemist: A Fable About Following Your Dream\u001b[00m\n",
            "Rating ->\u001b[91m 8.2\u001b[00m\n",
            "--------------------------------------------------\n",
            "\u001b[92m Misery\u001b[00m\n",
            "Rating ->\u001b[91m 8.1\u001b[00m\n",
            "--------------------------------------------------\n",
            "\u001b[92m The Last Precinct\u001b[00m\n",
            "Rating ->\u001b[91m 7.5\u001b[00m\n",
            "--------------------------------------------------\n",
            "\u001b[92m Insomnia\u001b[00m\n",
            "Rating ->\u001b[91m 7.9\u001b[00m\n",
            "--------------------------------------------------\n",
            "\u001b[92m The Vampire Lestat (Vampire Chronicles, Book II)\u001b[00m\n",
            "Rating ->\u001b[91m 8.0\u001b[00m\n",
            "--------------------------------------------------\n",
            "\u001b[92m The Green Mile\u001b[00m\n",
            "Rating ->\u001b[91m 8.5\u001b[00m\n",
            "--------------------------------------------------\n",
            "\u001b[92m Harry Potter and the Sorcerer's Stone (Book 1)\u001b[00m\n",
            "Rating ->\u001b[91m 9.1\u001b[00m\n",
            "--------------------------------------------------\n",
            "\u001b[92m White Oleander : A Novel (Oprah's Book Club)\u001b[00m\n",
            "Rating ->\u001b[91m 7.9\u001b[00m\n",
            "--------------------------------------------------\n",
            "\u001b[92m Artemis Fowl (Artemis Fowl, Book 1)\u001b[00m\n",
            "Rating ->\u001b[91m 7.7\u001b[00m\n",
            "--------------------------------------------------\n",
            "\u001b[92m Watership Down\u001b[00m\n",
            "Rating ->\u001b[91m 8.6\u001b[00m\n",
            "--------------------------------------------------\n",
            "\u001b[92m The Color Purple\u001b[00m\n",
            "Rating ->\u001b[91m 8.6\u001b[00m\n",
            "--------------------------------------------------\n",
            "\u001b[92m We Were the Mulvaneys\u001b[00m\n",
            "Rating ->\u001b[91m 7.1\u001b[00m\n",
            "--------------------------------------------------\n",
            "\u001b[92m The Giver (21st Century Reference)\u001b[00m\n",
            "Rating ->\u001b[91m 8.6\u001b[00m\n",
            "--------------------------------------------------\n",
            "\u001b[92m Point of Origin\u001b[00m\n",
            "Rating ->\u001b[91m 7.7\u001b[00m\n",
            "--------------------------------------------------\n",
            "\u001b[92m She's Come Undone (Oprah's Book Club)\u001b[00m\n",
            "Rating ->\u001b[91m 7.7\u001b[00m\n",
            "--------------------------------------------------\n",
            "\u001b[92m The Summons\u001b[00m\n",
            "Rating ->\u001b[91m 7.3\u001b[00m\n",
            "--------------------------------------------------\n",
            "\u001b[92m A Child Called \\It\\\": One Child's Courage to Survive\"\u001b[00m\n",
            "Rating ->\u001b[91m 8.0\u001b[00m\n",
            "--------------------------------------------------\n",
            "\u001b[92m Harry Potter and the Goblet of Fire (Book 4)\u001b[00m\n",
            "Rating ->\u001b[91m 9.1\u001b[00m\n",
            "--------------------------------------------------\n",
            "\u001b[92m She's Come Undone (Oprah's Book Club (Paperback))\u001b[00m\n",
            "Rating ->\u001b[91m 7.5\u001b[00m\n",
            "--------------------------------------------------\n",
            "\u001b[92m It\u001b[00m\n",
            "Rating ->\u001b[91m 8.1\u001b[00m\n",
            "--------------------------------------------------\n",
            "\u001b[92m Digital Fortress : A Thriller\u001b[00m\n",
            "Rating ->\u001b[91m 7.6\u001b[00m\n",
            "--------------------------------------------------\n"
          ]
        }
      ],
      "source": [
        "item_based_coll_rs(\"Harry Potter and the Prisoner of Azkaban (Book 3)\")\n"
      ]
    },
    {
      "cell_type": "code",
      "execution_count": 123,
      "id": "XSJtg-s04N-7",
      "metadata": {
        "ExecuteTime": {
          "end_time": "2023-06-02T10:35:22.343300Z",
          "start_time": "2023-06-02T10:35:22.245086Z"
        },
        "colab": {
          "base_uri": "https://localhost:8080/"
        },
        "id": "XSJtg-s04N-7",
        "outputId": "0344fae3-a720-4d9e-b795-217edd0792f1"
      },
      "outputs": [
        {
          "name": "stdout",
          "output_type": "stream",
          "text": [
            "\u001b[93m This book is not in our library, check out our most popular books:\u001b[00m\n",
            "\n",
            "\u001b[92m Harry Potter and the Prisoner of Azkaban (Book 3)\u001b[00m\n",
            "Rating->\u001b[91m 9.0\u001b[00m\n",
            "--------------------------------------------------\n",
            "\u001b[92m Harry Potter and the Sorcerer's Stone (Harry Potter (Paperback))\u001b[00m\n",
            "Rating->\u001b[91m 8.9\u001b[00m\n",
            "--------------------------------------------------\n",
            "\u001b[92m Harry Potter and the Chamber of Secrets (Book 2)\u001b[00m\n",
            "Rating->\u001b[91m 8.8\u001b[00m\n",
            "--------------------------------------------------\n",
            "\u001b[92m The Secret Life of Bees\u001b[00m\n",
            "Rating->\u001b[91m 8.5\u001b[00m\n",
            "--------------------------------------------------\n",
            "\u001b[92m The Da Vinci Code\u001b[00m\n",
            "Rating->\u001b[91m 8.4\u001b[00m\n",
            "--------------------------------------------------\n",
            "\u001b[92m The Lovely Bones: A Novel\u001b[00m\n",
            "Rating->\u001b[91m 8.2\u001b[00m\n",
            "--------------------------------------------------\n",
            "\u001b[92m The Red Tent (Bestselling Backlist)\u001b[00m\n",
            "Rating->\u001b[91m 8.2\u001b[00m\n",
            "--------------------------------------------------\n",
            "\u001b[92m Where the Heart Is (Oprah's Book Club (Paperback))\u001b[00m\n",
            "Rating->\u001b[91m 8.1\u001b[00m\n",
            "--------------------------------------------------\n",
            "\u001b[92m Life of Pi\u001b[00m\n",
            "Rating->\u001b[91m 8.1\u001b[00m\n",
            "--------------------------------------------------\n",
            "\u001b[92m Angels &amp; Demons\u001b[00m\n",
            "Rating->\u001b[91m 8.0\u001b[00m\n",
            "--------------------------------------------------\n"
          ]
        }
      ],
      "source": [
        "item_based_coll_rs(\"Tuesdays with Morrie An Old Man a Young Man and Life s Greatest Lesson\")\n"
      ]
    },
    {
      "cell_type": "code",
      "execution_count": 124,
      "id": "Aai9t4GA4W7N",
      "metadata": {
        "ExecuteTime": {
          "end_time": "2023-06-02T10:37:34.828916Z",
          "start_time": "2023-06-02T10:35:22.346930Z"
        },
        "colab": {
          "base_uri": "https://localhost:8080/"
        },
        "id": "Aai9t4GA4W7N",
        "outputId": "601a984c-11e8-45a3-fa7d-112cefa1add4"
      },
      "outputs": [
        {
          "name": "stdout",
          "output_type": "stream",
          "text": [
            "\u001b[92m Silence of the Lambs\u001b[00m\n",
            "Rating ->\u001b[91m 8.4\u001b[00m\n",
            "--------------------------------------------------\n",
            "\u001b[92m Dance upon the Air (Three Sisters Island Trilogy)\u001b[00m\n",
            "Rating ->\u001b[91m 8.0\u001b[00m\n",
            "--------------------------------------------------\n",
            "\u001b[92m Unnatural Exposure\u001b[00m\n",
            "Rating ->\u001b[91m 7.8\u001b[00m\n",
            "--------------------------------------------------\n",
            "\u001b[92m The Divine Secrets of the Ya-Ya Sisterhood: A Novel\u001b[00m\n",
            "Rating ->\u001b[91m 7.8\u001b[00m\n",
            "--------------------------------------------------\n",
            "\u001b[92m The Smoke Jumper\u001b[00m\n",
            "Rating ->\u001b[91m 7.4\u001b[00m\n",
            "--------------------------------------------------\n",
            "\u001b[92m Four Blind Mice\u001b[00m\n",
            "Rating ->\u001b[91m 8.2\u001b[00m\n",
            "--------------------------------------------------\n",
            "\u001b[92m Back Roads\u001b[00m\n",
            "Rating ->\u001b[91m 7.3\u001b[00m\n",
            "--------------------------------------------------\n",
            "\u001b[92m Girl, Interrupted\u001b[00m\n",
            "Rating ->\u001b[91m 7.3\u001b[00m\n",
            "--------------------------------------------------\n",
            "\u001b[92m The Hitchhiker's Guide to the Galaxy\u001b[00m\n",
            "Rating ->\u001b[91m 8.5\u001b[00m\n",
            "--------------------------------------------------\n",
            "\u001b[92m Pop Goes the Weasel\u001b[00m\n",
            "Rating ->\u001b[91m 7.5\u001b[00m\n",
            "--------------------------------------------------\n",
            "\u001b[92m A Map of the World\u001b[00m\n",
            "Rating ->\u001b[91m 7.0\u001b[00m\n",
            "--------------------------------------------------\n",
            "\u001b[92m Where the Heart Is (Oprah's Book Club (Paperback))\u001b[00m\n",
            "Rating ->\u001b[91m 8.1\u001b[00m\n",
            "--------------------------------------------------\n",
            "\u001b[92m The Bean Trees\u001b[00m\n",
            "Rating ->\u001b[91m 8.3\u001b[00m\n",
            "--------------------------------------------------\n",
            "\u001b[92m Fahrenheit 451\u001b[00m\n",
            "Rating ->\u001b[91m 8.5\u001b[00m\n",
            "--------------------------------------------------\n",
            "\u001b[92m The Bad Beginning (A Series of Unfortunate Events, Book 1)\u001b[00m\n",
            "Rating ->\u001b[91m 7.5\u001b[00m\n",
            "--------------------------------------------------\n",
            "\u001b[92m Dolores Claiborne\u001b[00m\n",
            "Rating ->\u001b[91m 7.4\u001b[00m\n",
            "--------------------------------------------------\n",
            "\u001b[92m Full House (Janet Evanovich's Full Series)\u001b[00m\n",
            "Rating ->\u001b[91m 6.9\u001b[00m\n",
            "--------------------------------------------------\n"
          ]
        }
      ],
      "source": [
        "item_based_coll_rs(\"The Da Vinci Code\")\n"
      ]
    },
    {
      "cell_type": "markdown",
      "id": "dc6f720a",
      "metadata": {
        "id": "dc6f720a"
      },
      "source": [
        "## User Based Collaborative Filtering"
      ]
    },
    {
      "cell_type": "code",
      "execution_count": 125,
      "id": "vdk-i-fR41iN",
      "metadata": {
        "ExecuteTime": {
          "end_time": "2023-06-02T10:43:31.651352Z",
          "start_time": "2023-06-02T10:43:31.347887Z"
        },
        "colab": {
          "base_uri": "https://localhost:8080/"
        },
        "id": "vdk-i-fR41iN",
        "outputId": "809d10fd-085a-44eb-db78-52cd5351e951"
      },
      "outputs": [
        {
          "data": {
            "text/plain": [
              "(102386, 9)"
            ]
          },
          "execution_count": 125,
          "metadata": {},
          "output_type": "execute_result"
        }
      ],
      "source": [
        "#Active users who are present in the dataset more than 100 times\n",
        "\n",
        "new_df=df[df['User-ID'].map(df['User-ID'].value_counts()) > 100]\n",
        "new_df.shape\n"
      ]
    },
    {
      "cell_type": "code",
      "execution_count": 126,
      "id": "fwen0F0T5U6A",
      "metadata": {
        "ExecuteTime": {
          "end_time": "2023-06-02T10:43:47.567212Z",
          "start_time": "2023-06-02T10:43:31.655419Z"
        },
        "colab": {
          "base_uri": "https://localhost:8080/",
          "height": 512
        },
        "id": "fwen0F0T5U6A",
        "outputId": "73d3abdb-f789-4649-875f-fb7d68a552dd"
      },
      "outputs": [
        {
          "data": {
            "text/html": [
              "<div>\n",
              "<style scoped>\n",
              "    .dataframe tbody tr th:only-of-type {\n",
              "        vertical-align: middle;\n",
              "    }\n",
              "\n",
              "    .dataframe tbody tr th {\n",
              "        vertical-align: top;\n",
              "    }\n",
              "\n",
              "    .dataframe thead th {\n",
              "        text-align: right;\n",
              "    }\n",
              "</style>\n",
              "<table border=\"1\" class=\"dataframe\">\n",
              "  <thead>\n",
              "    <tr style=\"text-align: right;\">\n",
              "      <th>Book-Title</th>\n",
              "      <th>A Light in the Storm: The Civil War Diary of Amelia Martin, Fenwick Island, Delaware, 1861 (Dear America)</th>\n",
              "      <th>Dark Justice</th>\n",
              "      <th>Final Fantasy Anthology: Official Strategy Guide (Brady Games)</th>\n",
              "      <th>Good Wives: Image and Reality in the Lives of Women in Northern New England, 1650-1750</th>\n",
              "      <th>Highland Desire (Zebra Splendor Historical Romances)</th>\n",
              "      <th>Little Comic Shop of Horrors (Give Yourself Goosebumps, Book 17)</th>\n",
              "      <th>Murder of a Sleeping Beauty (Scumble River Mysteries (Paperback))</th>\n",
              "      <th>Nonbook Materials: The Organization of Integrated Collections</th>\n",
              "      <th>Q-Space (Star Trek The Next Generation, Book 47)</th>\n",
              "      <th>Q-Zone (Star Trek The Next Generation, Book 48)</th>\n",
              "      <th>...</th>\n",
              "      <th>termcap &amp;amp; terminfo (O'Reilly Nutshell)</th>\n",
              "      <th>the Dark Light Years</th>\n",
              "      <th>them (Modern Library)</th>\n",
              "      <th>together by christmas</th>\n",
              "      <th>wet sand, raven tracks</th>\n",
              "      <th>whataboutrick.com: a poetic tribute to Richard A. Ricci</th>\n",
              "      <th>Â¡Corre, perro, corre!</th>\n",
              "      <th>Â¿Eres tu mi mamÃ¡?/Are You My Mother?</th>\n",
              "      <th>Ã?ngeles fugaces (Falling Angels)</th>\n",
              "      <th>Ã?Â?ber das Fernsehen.</th>\n",
              "    </tr>\n",
              "    <tr>\n",
              "      <th>User-ID</th>\n",
              "      <th></th>\n",
              "      <th></th>\n",
              "      <th></th>\n",
              "      <th></th>\n",
              "      <th></th>\n",
              "      <th></th>\n",
              "      <th></th>\n",
              "      <th></th>\n",
              "      <th></th>\n",
              "      <th></th>\n",
              "      <th></th>\n",
              "      <th></th>\n",
              "      <th></th>\n",
              "      <th></th>\n",
              "      <th></th>\n",
              "      <th></th>\n",
              "      <th></th>\n",
              "      <th></th>\n",
              "      <th></th>\n",
              "      <th></th>\n",
              "      <th></th>\n",
              "    </tr>\n",
              "  </thead>\n",
              "  <tbody>\n",
              "    <tr>\n",
              "      <th>2033</th>\n",
              "      <td>NaN</td>\n",
              "      <td>NaN</td>\n",
              "      <td>NaN</td>\n",
              "      <td>NaN</td>\n",
              "      <td>NaN</td>\n",
              "      <td>NaN</td>\n",
              "      <td>NaN</td>\n",
              "      <td>NaN</td>\n",
              "      <td>NaN</td>\n",
              "      <td>NaN</td>\n",
              "      <td>...</td>\n",
              "      <td>NaN</td>\n",
              "      <td>NaN</td>\n",
              "      <td>NaN</td>\n",
              "      <td>NaN</td>\n",
              "      <td>NaN</td>\n",
              "      <td>NaN</td>\n",
              "      <td>NaN</td>\n",
              "      <td>NaN</td>\n",
              "      <td>NaN</td>\n",
              "      <td>NaN</td>\n",
              "    </tr>\n",
              "    <tr>\n",
              "      <th>2110</th>\n",
              "      <td>NaN</td>\n",
              "      <td>NaN</td>\n",
              "      <td>NaN</td>\n",
              "      <td>NaN</td>\n",
              "      <td>NaN</td>\n",
              "      <td>NaN</td>\n",
              "      <td>NaN</td>\n",
              "      <td>NaN</td>\n",
              "      <td>NaN</td>\n",
              "      <td>NaN</td>\n",
              "      <td>...</td>\n",
              "      <td>NaN</td>\n",
              "      <td>NaN</td>\n",
              "      <td>NaN</td>\n",
              "      <td>NaN</td>\n",
              "      <td>NaN</td>\n",
              "      <td>NaN</td>\n",
              "      <td>NaN</td>\n",
              "      <td>NaN</td>\n",
              "      <td>NaN</td>\n",
              "      <td>NaN</td>\n",
              "    </tr>\n",
              "    <tr>\n",
              "      <th>2276</th>\n",
              "      <td>NaN</td>\n",
              "      <td>NaN</td>\n",
              "      <td>NaN</td>\n",
              "      <td>NaN</td>\n",
              "      <td>NaN</td>\n",
              "      <td>NaN</td>\n",
              "      <td>NaN</td>\n",
              "      <td>NaN</td>\n",
              "      <td>NaN</td>\n",
              "      <td>NaN</td>\n",
              "      <td>...</td>\n",
              "      <td>NaN</td>\n",
              "      <td>NaN</td>\n",
              "      <td>NaN</td>\n",
              "      <td>NaN</td>\n",
              "      <td>NaN</td>\n",
              "      <td>NaN</td>\n",
              "      <td>NaN</td>\n",
              "      <td>NaN</td>\n",
              "      <td>NaN</td>\n",
              "      <td>NaN</td>\n",
              "    </tr>\n",
              "    <tr>\n",
              "      <th>4017</th>\n",
              "      <td>NaN</td>\n",
              "      <td>NaN</td>\n",
              "      <td>NaN</td>\n",
              "      <td>NaN</td>\n",
              "      <td>NaN</td>\n",
              "      <td>NaN</td>\n",
              "      <td>NaN</td>\n",
              "      <td>NaN</td>\n",
              "      <td>NaN</td>\n",
              "      <td>NaN</td>\n",
              "      <td>...</td>\n",
              "      <td>NaN</td>\n",
              "      <td>NaN</td>\n",
              "      <td>NaN</td>\n",
              "      <td>NaN</td>\n",
              "      <td>NaN</td>\n",
              "      <td>NaN</td>\n",
              "      <td>NaN</td>\n",
              "      <td>NaN</td>\n",
              "      <td>NaN</td>\n",
              "      <td>NaN</td>\n",
              "    </tr>\n",
              "    <tr>\n",
              "      <th>4385</th>\n",
              "      <td>NaN</td>\n",
              "      <td>NaN</td>\n",
              "      <td>NaN</td>\n",
              "      <td>NaN</td>\n",
              "      <td>NaN</td>\n",
              "      <td>NaN</td>\n",
              "      <td>NaN</td>\n",
              "      <td>NaN</td>\n",
              "      <td>NaN</td>\n",
              "      <td>NaN</td>\n",
              "      <td>...</td>\n",
              "      <td>NaN</td>\n",
              "      <td>NaN</td>\n",
              "      <td>NaN</td>\n",
              "      <td>NaN</td>\n",
              "      <td>NaN</td>\n",
              "      <td>NaN</td>\n",
              "      <td>NaN</td>\n",
              "      <td>NaN</td>\n",
              "      <td>NaN</td>\n",
              "      <td>NaN</td>\n",
              "    </tr>\n",
              "  </tbody>\n",
              "</table>\n",
              "<p>5 rows × 61194 columns</p>\n",
              "</div>"
            ],
            "text/plain": [
              "Book-Title   A Light in the Storm: The Civil War Diary of Amelia Martin, Fenwick Island, Delaware, 1861 (Dear America)  \\\n",
              "User-ID                                                                                                                  \n",
              "2033                                                      NaN                                                            \n",
              "2110                                                      NaN                                                            \n",
              "2276                                                      NaN                                                            \n",
              "4017                                                      NaN                                                            \n",
              "4385                                                      NaN                                                            \n",
              "\n",
              "Book-Title   Dark Justice  \\\n",
              "User-ID                     \n",
              "2033                  NaN   \n",
              "2110                  NaN   \n",
              "2276                  NaN   \n",
              "4017                  NaN   \n",
              "4385                  NaN   \n",
              "\n",
              "Book-Title   Final Fantasy Anthology: Official Strategy Guide (Brady Games)  \\\n",
              "User-ID                                                                       \n",
              "2033                                                      NaN                 \n",
              "2110                                                      NaN                 \n",
              "2276                                                      NaN                 \n",
              "4017                                                      NaN                 \n",
              "4385                                                      NaN                 \n",
              "\n",
              "Book-Title   Good Wives: Image and Reality in the Lives of Women in Northern New England, 1650-1750  \\\n",
              "User-ID                                                                                               \n",
              "2033                                                      NaN                                         \n",
              "2110                                                      NaN                                         \n",
              "2276                                                      NaN                                         \n",
              "4017                                                      NaN                                         \n",
              "4385                                                      NaN                                         \n",
              "\n",
              "Book-Title   Highland Desire (Zebra Splendor Historical Romances)  \\\n",
              "User-ID                                                             \n",
              "2033                                                      NaN       \n",
              "2110                                                      NaN       \n",
              "2276                                                      NaN       \n",
              "4017                                                      NaN       \n",
              "4385                                                      NaN       \n",
              "\n",
              "Book-Title   Little Comic Shop of Horrors (Give Yourself Goosebumps, Book 17)  \\\n",
              "User-ID                                                                         \n",
              "2033                                                      NaN                   \n",
              "2110                                                      NaN                   \n",
              "2276                                                      NaN                   \n",
              "4017                                                      NaN                   \n",
              "4385                                                      NaN                   \n",
              "\n",
              "Book-Title   Murder of a Sleeping Beauty (Scumble River Mysteries (Paperback))  \\\n",
              "User-ID                                                                          \n",
              "2033                                                      NaN                    \n",
              "2110                                                      NaN                    \n",
              "2276                                                      NaN                    \n",
              "4017                                                      NaN                    \n",
              "4385                                                      NaN                    \n",
              "\n",
              "Book-Title   Nonbook Materials: The Organization of Integrated Collections  \\\n",
              "User-ID                                                                      \n",
              "2033                                                      NaN                \n",
              "2110                                                      NaN                \n",
              "2276                                                      NaN                \n",
              "4017                                                      NaN                \n",
              "4385                                                      NaN                \n",
              "\n",
              "Book-Title   Q-Space (Star Trek The Next Generation, Book 47)  \\\n",
              "User-ID                                                         \n",
              "2033                                                      NaN   \n",
              "2110                                                      NaN   \n",
              "2276                                                      NaN   \n",
              "4017                                                      NaN   \n",
              "4385                                                      NaN   \n",
              "\n",
              "Book-Title   Q-Zone (Star Trek The Next Generation, Book 48)  ...  \\\n",
              "User-ID                                                       ...   \n",
              "2033                                                     NaN  ...   \n",
              "2110                                                     NaN  ...   \n",
              "2276                                                     NaN  ...   \n",
              "4017                                                     NaN  ...   \n",
              "4385                                                     NaN  ...   \n",
              "\n",
              "Book-Title  termcap &amp; terminfo (O'Reilly Nutshell)  the Dark Light Years  \\\n",
              "User-ID                                                                        \n",
              "2033                                               NaN                   NaN   \n",
              "2110                                               NaN                   NaN   \n",
              "2276                                               NaN                   NaN   \n",
              "4017                                               NaN                   NaN   \n",
              "4385                                               NaN                   NaN   \n",
              "\n",
              "Book-Title  them (Modern Library)  together by christmas  \\\n",
              "User-ID                                                    \n",
              "2033                          NaN                    NaN   \n",
              "2110                          NaN                    NaN   \n",
              "2276                          NaN                    NaN   \n",
              "4017                          NaN                    NaN   \n",
              "4385                          NaN                    NaN   \n",
              "\n",
              "Book-Title  wet sand, raven tracks  \\\n",
              "User-ID                              \n",
              "2033                           NaN   \n",
              "2110                           NaN   \n",
              "2276                           NaN   \n",
              "4017                           NaN   \n",
              "4385                           NaN   \n",
              "\n",
              "Book-Title  whataboutrick.com: a poetic tribute to Richard A. Ricci  \\\n",
              "User-ID                                                               \n",
              "2033                                                      NaN         \n",
              "2110                                                      NaN         \n",
              "2276                                                      NaN         \n",
              "4017                                                      NaN         \n",
              "4385                                                      NaN         \n",
              "\n",
              "Book-Title  Â¡Corre, perro, corre!  Â¿Eres tu mi mamÃ¡?/Are You My Mother?  \\\n",
              "User-ID                                                                      \n",
              "2033                           NaN                                     NaN   \n",
              "2110                           NaN                                     NaN   \n",
              "2276                           NaN                                     NaN   \n",
              "4017                           NaN                                     NaN   \n",
              "4385                           NaN                                     NaN   \n",
              "\n",
              "Book-Title  Ã?ngeles fugaces (Falling Angels)  Ã?Â?ber das Fernsehen.  \n",
              "User-ID                                                                \n",
              "2033                                      NaN                     NaN  \n",
              "2110                                      NaN                     NaN  \n",
              "2276                                      NaN                     NaN  \n",
              "4017                                      NaN                     NaN  \n",
              "4385                                      NaN                     NaN  \n",
              "\n",
              "[5 rows x 61194 columns]"
            ]
          },
          "execution_count": 126,
          "metadata": {},
          "output_type": "execute_result"
        }
      ],
      "source": [
        "#Lets make our matrix, User as indcies, Books as columns and finally ratings as values\n",
        "\n",
        "users_matrix=new_df.pivot_table(index=[\"User-ID\"],columns=[\"Book-Title\"],values=\"Book-Rating\")\n",
        "users_matrix.head()"
      ]
    },
    {
      "cell_type": "code",
      "execution_count": 127,
      "id": "xSq1AckD5lhk",
      "metadata": {
        "ExecuteTime": {
          "end_time": "2023-06-02T10:42:17.664013Z",
          "start_time": "2023-06-02T10:42:17.636935Z"
        },
        "colab": {
          "base_uri": "https://localhost:8080/",
          "height": 293
        },
        "id": "xSq1AckD5lhk",
        "outputId": "fb5d4cab-050f-40fb-8890-46fbbc57fb88"
      },
      "outputs": [
        {
          "data": {
            "text/html": [
              "<div>\n",
              "<style scoped>\n",
              "    .dataframe tbody tr th:only-of-type {\n",
              "        vertical-align: middle;\n",
              "    }\n",
              "\n",
              "    .dataframe tbody tr th {\n",
              "        vertical-align: top;\n",
              "    }\n",
              "\n",
              "    .dataframe thead th {\n",
              "        text-align: right;\n",
              "    }\n",
              "</style>\n",
              "<table border=\"1\" class=\"dataframe\">\n",
              "  <thead>\n",
              "    <tr style=\"text-align: right;\">\n",
              "      <th></th>\n",
              "      <th>ISBN</th>\n",
              "      <th>Book-Title</th>\n",
              "      <th>Book-Author</th>\n",
              "      <th>Year-Of-Publication</th>\n",
              "      <th>Publisher</th>\n",
              "      <th>User-ID</th>\n",
              "      <th>Book-Rating</th>\n",
              "      <th>Age</th>\n",
              "      <th>Country</th>\n",
              "    </tr>\n",
              "  </thead>\n",
              "  <tbody>\n",
              "    <tr>\n",
              "      <th>847380</th>\n",
              "      <td>0142000663</td>\n",
              "      <td>The Grapes of Wrath: John Steinbeck Centennial...</td>\n",
              "      <td>John Steinbeck</td>\n",
              "      <td>2002</td>\n",
              "      <td>Penguin Books</td>\n",
              "      <td>2033</td>\n",
              "      <td>10.0</td>\n",
              "      <td>0</td>\n",
              "      <td>usa</td>\n",
              "    </tr>\n",
              "    <tr>\n",
              "      <th>847506</th>\n",
              "      <td>0451458028</td>\n",
              "      <td>The Invisible Ring</td>\n",
              "      <td>Anne Bishop</td>\n",
              "      <td>2000</td>\n",
              "      <td>Roc</td>\n",
              "      <td>2033</td>\n",
              "      <td>10.0</td>\n",
              "      <td>0</td>\n",
              "      <td>usa</td>\n",
              "    </tr>\n",
              "    <tr>\n",
              "      <th>847500</th>\n",
              "      <td>0886775035</td>\n",
              "      <td>The Last of the Renshai</td>\n",
              "      <td>Mickey Zucker Reichert</td>\n",
              "      <td>1996</td>\n",
              "      <td>Daw Books</td>\n",
              "      <td>2033</td>\n",
              "      <td>10.0</td>\n",
              "      <td>0</td>\n",
              "      <td>usa</td>\n",
              "    </tr>\n",
              "    <tr>\n",
              "      <th>847497</th>\n",
              "      <td>0886778603</td>\n",
              "      <td>The Children of Wrath (Renshai Chronicles)</td>\n",
              "      <td>Mickey Zucker Reichert</td>\n",
              "      <td>1999</td>\n",
              "      <td>Daw Books</td>\n",
              "      <td>2033</td>\n",
              "      <td>10.0</td>\n",
              "      <td>0</td>\n",
              "      <td>usa</td>\n",
              "    </tr>\n",
              "    <tr>\n",
              "      <th>847489</th>\n",
              "      <td>0812516850</td>\n",
              "      <td>Flux: Tales of Human Futures</td>\n",
              "      <td>Orson Scott Card</td>\n",
              "      <td>1992</td>\n",
              "      <td>Tor Books (Mm)</td>\n",
              "      <td>2033</td>\n",
              "      <td>10.0</td>\n",
              "      <td>0</td>\n",
              "      <td>usa</td>\n",
              "    </tr>\n",
              "  </tbody>\n",
              "</table>\n",
              "</div>"
            ],
            "text/plain": [
              "              ISBN                                         Book-Title  \\\n",
              "847380  0142000663  The Grapes of Wrath: John Steinbeck Centennial...   \n",
              "847506  0451458028                                 The Invisible Ring   \n",
              "847500  0886775035                            The Last of the Renshai   \n",
              "847497  0886778603         The Children of Wrath (Renshai Chronicles)   \n",
              "847489  0812516850                       Flux: Tales of Human Futures   \n",
              "\n",
              "                   Book-Author  Year-Of-Publication       Publisher  User-ID  \\\n",
              "847380          John Steinbeck                 2002   Penguin Books     2033   \n",
              "847506             Anne Bishop                 2000             Roc     2033   \n",
              "847500  Mickey Zucker Reichert                 1996       Daw Books     2033   \n",
              "847497  Mickey Zucker Reichert                 1999       Daw Books     2033   \n",
              "847489        Orson Scott Card                 1992  Tor Books (Mm)     2033   \n",
              "\n",
              "        Book-Rating  Age Country  \n",
              "847380         10.0    0     usa  \n",
              "847506         10.0    0     usa  \n",
              "847500         10.0    0     usa  \n",
              "847497         10.0    0     usa  \n",
              "847489         10.0    0     usa  "
            ]
          },
          "execution_count": 127,
          "metadata": {},
          "output_type": "execute_result"
        }
      ],
      "source": [
        "# User favorite books\n",
        "# At first recommend to that user\n",
        "\n",
        "user_id = 2033\n",
        "users_fav=new_df[new_df[\"User-ID\"]==user_id].sort_values([\"Book-Rating\"],ascending=False)[0:5]\n",
        "users_fav.head()\n"
      ]
    },
    {
      "cell_type": "code",
      "execution_count": 128,
      "id": "SR0T6Zxw8pxl",
      "metadata": {
        "ExecuteTime": {
          "end_time": "2023-06-02T10:42:17.682099Z",
          "start_time": "2023-06-02T10:42:17.668081Z"
        },
        "colab": {
          "base_uri": "https://localhost:8080/"
        },
        "id": "SR0T6Zxw8pxl",
        "outputId": "bce8c63c-45c7-4f9b-c6fc-10634eb57103"
      },
      "outputs": [
        {
          "data": {
            "text/plain": [
              "0"
            ]
          },
          "execution_count": 128,
          "metadata": {},
          "output_type": "execute_result"
        }
      ],
      "source": [
        "#Calculate the similarity between the active user and other users\n",
        "\n",
        "\n",
        "index=np.where(users_matrix.index==2033)[0][0]\n",
        "index"
      ]
    },
    {
      "cell_type": "code",
      "execution_count": 129,
      "id": "TVoMENlA84RK",
      "metadata": {
        "ExecuteTime": {
          "end_time": "2023-06-02T10:42:19.588836Z",
          "start_time": "2023-06-02T10:42:17.686356Z"
        },
        "id": "TVoMENlA84RK"
      },
      "outputs": [],
      "source": [
        "#Replace nan values with 0 to calculate similarity\n",
        "\n",
        "\n",
        "users_matrix.fillna(0, inplace=True)\n"
      ]
    },
    {
      "cell_type": "code",
      "execution_count": 130,
      "id": "C4VJiOas9KEo",
      "metadata": {
        "ExecuteTime": {
          "end_time": "2023-06-02T10:42:30.131667Z",
          "start_time": "2023-06-02T10:42:19.593381Z"
        },
        "colab": {
          "base_uri": "https://localhost:8080/"
        },
        "id": "C4VJiOas9KEo",
        "outputId": "47718bb1-ea5e-45fa-960c-0f5f3fa6aade"
      },
      "outputs": [
        {
          "data": {
            "text/plain": [
              "array([1.        , 0.        , 0.04891515, 0.        , 0.        ,\n",
              "       0.        , 0.        , 0.03929139, 0.        , 0.        ,\n",
              "       0.00800132, 0.01070131, 0.        , 0.0083468 , 0.01596073,\n",
              "       0.        , 0.05050746, 0.0144805 , 0.        , 0.01361225,\n",
              "       0.01788961, 0.        , 0.00816504, 0.01466189, 0.        ,\n",
              "       0.        , 0.        , 0.00349099, 0.00601765, 0.01118765,\n",
              "       0.00833881, 0.        , 0.01628214, 0.        , 0.02285858,\n",
              "       0.00300214, 0.01412804, 0.        , 0.        , 0.        ,\n",
              "       0.        , 0.        , 0.        , 0.01610649, 0.        ,\n",
              "       0.        , 0.02567378, 0.04838656, 0.        , 0.        ,\n",
              "       0.        , 0.00804841, 0.01006917, 0.        , 0.01801815,\n",
              "       0.        , 0.00459992, 0.        , 0.01784157, 0.        ,\n",
              "       0.0180704 , 0.00917361, 0.01097582, 0.00815783, 0.01548321,\n",
              "       0.03436162, 0.10402405, 0.        , 0.        , 0.        ,\n",
              "       0.01839113, 0.        , 0.        , 0.0109679 , 0.01058988,\n",
              "       0.        , 0.        , 0.        , 0.        , 0.        ,\n",
              "       0.        , 0.05832072, 0.        , 0.        , 0.        ,\n",
              "       0.        , 0.00943407, 0.0164838 , 0.04673668, 0.        ,\n",
              "       0.        , 0.00736736, 0.        , 0.00888364, 0.00828287,\n",
              "       0.02100422, 0.        , 0.02340312, 0.        , 0.01102859,\n",
              "       0.00706241, 0.03801406, 0.        , 0.        , 0.02274721,\n",
              "       0.04565856, 0.01868781, 0.        , 0.        , 0.        ,\n",
              "       0.        , 0.03814569, 0.00660072, 0.04353989, 0.        ,\n",
              "       0.03381914, 0.        , 0.00347728, 0.03028673, 0.        ,\n",
              "       0.02681339, 0.0280865 , 0.01147197, 0.01890896, 0.03315016,\n",
              "       0.        , 0.0095061 , 0.        , 0.        , 0.        ,\n",
              "       0.        , 0.        , 0.00443083, 0.0113178 , 0.        ,\n",
              "       0.        , 0.00920271, 0.02697969, 0.00813633, 0.01945395,\n",
              "       0.        , 0.        , 0.01459399, 0.        , 0.        ,\n",
              "       0.01156588, 0.        , 0.        , 0.01010123, 0.01121181,\n",
              "       0.        , 0.        , 0.        , 0.        , 0.00514891,\n",
              "       0.00787321, 0.        , 0.02119812, 0.02539439, 0.00431964,\n",
              "       0.00419448, 0.02126388, 0.        , 0.02871854, 0.01994537,\n",
              "       0.        , 0.0193075 , 0.02262891, 0.00804397, 0.05552364,\n",
              "       0.01460725, 0.00698211, 0.        , 0.01176646, 0.        ,\n",
              "       0.        , 0.        , 0.03982806, 0.01904317, 0.02404493,\n",
              "       0.00498939, 0.00349333, 0.        , 0.        , 0.01104652,\n",
              "       0.        , 0.00845042, 0.        , 0.        , 0.        ,\n",
              "       0.        , 0.        , 0.        , 0.        , 0.00462289,\n",
              "       0.04704146, 0.00886164, 0.        , 0.        , 0.        ,\n",
              "       0.00546797, 0.01678749, 0.00983493, 0.        , 0.        ,\n",
              "       0.00875889, 0.02442777, 0.00423241, 0.03474157, 0.        ,\n",
              "       0.        , 0.        , 0.        , 0.01052505, 0.0089088 ,\n",
              "       0.        , 0.04086411, 0.        , 0.        , 0.01374145,\n",
              "       0.        , 0.        , 0.        , 0.0152193 , 0.0073461 ,\n",
              "       0.        , 0.        , 0.00937682, 0.01022263, 0.02753849,\n",
              "       0.        , 0.02442066, 0.00226264, 0.00695318, 0.        ,\n",
              "       0.        , 0.        , 0.        , 0.        , 0.00648777,\n",
              "       0.02203447, 0.02438829, 0.0118677 , 0.        , 0.        ,\n",
              "       0.01647418, 0.        , 0.        , 0.        , 0.03730282,\n",
              "       0.        , 0.        , 0.02239603, 0.        , 0.        ,\n",
              "       0.        , 0.01067198, 0.        , 0.        , 0.        ,\n",
              "       0.        , 0.        , 0.        , 0.02719257, 0.03936555,\n",
              "       0.00856836, 0.01038941, 0.        , 0.02179144, 0.        ,\n",
              "       0.03198934, 0.05725843, 0.01534135, 0.        , 0.        ,\n",
              "       0.        , 0.        , 0.00565344, 0.01777038, 0.        ,\n",
              "       0.        , 0.0264238 , 0.00474785, 0.        , 0.        ,\n",
              "       0.05643216, 0.01033948, 0.00901409, 0.03462914, 0.00399089,\n",
              "       0.        , 0.        , 0.        , 0.        , 0.01005934,\n",
              "       0.0430766 , 0.01187714, 0.0098359 , 0.        , 0.01108577,\n",
              "       0.        , 0.        , 0.        , 0.00662607, 0.        ,\n",
              "       0.01080472, 0.        , 0.        , 0.        , 0.        ,\n",
              "       0.        , 0.        , 0.        , 0.        , 0.03000801,\n",
              "       0.        , 0.        , 0.02242263, 0.01790155, 0.00501447,\n",
              "       0.03545551, 0.        , 0.        , 0.00914775, 0.02513177,\n",
              "       0.        , 0.0095397 , 0.0448517 , 0.        , 0.01253442,\n",
              "       0.00563001, 0.00903129, 0.01273281, 0.        , 0.        ,\n",
              "       0.01566098, 0.00725536, 0.01275877, 0.        , 0.02080143,\n",
              "       0.01690906, 0.        , 0.        , 0.014851  , 0.        ,\n",
              "       0.01824112, 0.00484355, 0.00396393, 0.        , 0.        ,\n",
              "       0.        , 0.        , 0.        , 0.05382892, 0.        ,\n",
              "       0.00876915, 0.01113688, 0.00424827, 0.        , 0.        ,\n",
              "       0.        , 0.04559806, 0.00298942, 0.        , 0.01752723,\n",
              "       0.        , 0.00991406, 0.00850618, 0.01116094, 0.0031111 ,\n",
              "       0.        , 0.        , 0.        , 0.00681488, 0.        ,\n",
              "       0.        , 0.        , 0.        , 0.        , 0.03326911,\n",
              "       0.00907085, 0.        , 0.0090661 , 0.        , 0.        ,\n",
              "       0.00377803, 0.        , 0.        , 0.03131827, 0.00908875,\n",
              "       0.        , 0.        , 0.        , 0.01838143, 0.00484563,\n",
              "       0.        , 0.        , 0.0078611 , 0.01062114, 0.03630333,\n",
              "       0.        , 0.        , 0.01054754, 0.        , 0.00316072,\n",
              "       0.        , 0.01629392, 0.        , 0.        , 0.0105075 ,\n",
              "       0.00630219, 0.07871336, 0.01096206, 0.        , 0.00745563,\n",
              "       0.00423792, 0.00578595, 0.        , 0.        , 0.        ,\n",
              "       0.00680716, 0.01815486, 0.        , 0.04028122, 0.01638068,\n",
              "       0.00573604, 0.        , 0.        , 0.        , 0.00866397,\n",
              "       0.0149824 , 0.01751727, 0.01936881, 0.00973277, 0.00948594,\n",
              "       0.        , 0.00874451, 0.01576312, 0.        , 0.        ])"
            ]
          },
          "execution_count": 130,
          "metadata": {},
          "output_type": "execute_result"
        }
      ],
      "source": [
        "similarity=cosine_similarity(users_matrix)\n",
        "similarity[0]"
      ]
    },
    {
      "cell_type": "code",
      "execution_count": 131,
      "id": "A-DxF_Vp9Xyw",
      "metadata": {
        "ExecuteTime": {
          "end_time": "2023-06-02T10:42:30.148234Z",
          "start_time": "2023-06-02T10:42:30.135919Z"
        },
        "colab": {
          "base_uri": "https://localhost:8080/"
        },
        "id": "A-DxF_Vp9Xyw",
        "outputId": "6e7e8898-adca-4975-a9d4-d61418402422"
      },
      "outputs": [
        {
          "data": {
            "text/plain": [
              "[(0, 1.0000000000000002),\n",
              " (1, 0.0),\n",
              " (2, 0.04891514740916593),\n",
              " (3, 0.0),\n",
              " (4, 0.0)]"
            ]
          },
          "execution_count": 131,
          "metadata": {},
          "output_type": "execute_result"
        }
      ],
      "source": [
        "#Getting users similar to the active user\n",
        "\n",
        "\n",
        "\n",
        "similar_users = list(enumerate(similarity[index]))\n",
        "similar_users[:5]\n"
      ]
    },
    {
      "cell_type": "code",
      "execution_count": 132,
      "id": "V8jWeuu49bZJ",
      "metadata": {
        "ExecuteTime": {
          "end_time": "2023-06-02T10:42:30.174302Z",
          "start_time": "2023-06-02T10:42:30.151822Z"
        },
        "colab": {
          "base_uri": "https://localhost:8080/"
        },
        "id": "V8jWeuu49bZJ",
        "outputId": "99d7bf35-3671-45e1-bd0f-0ac5e679b2b2"
      },
      "outputs": [
        {
          "data": {
            "text/plain": [
              "[(66, 0.10402405281152009),\n",
              " (411, 0.07871336103707649),\n",
              " (81, 0.058320724694032294),\n",
              " (271, 0.05725842592005894),\n",
              " (285, 0.05643216345768348)]"
            ]
          },
          "execution_count": 132,
          "metadata": {},
          "output_type": "execute_result"
        }
      ],
      "source": [
        "#Sort users with high similarity, will come first so we can recommend their interest to the active user\n",
        "\n",
        "similar_users = sorted(similar_users,key = lambda x:x[1],reverse=True)[1:6]\n",
        "similar_users"
      ]
    },
    {
      "cell_type": "code",
      "execution_count": 133,
      "id": "1mxFH_Qo9x30",
      "metadata": {
        "ExecuteTime": {
          "end_time": "2023-06-02T10:42:30.320638Z",
          "start_time": "2023-06-02T10:42:30.174817Z"
        },
        "colab": {
          "base_uri": "https://localhost:8080/"
        },
        "id": "1mxFH_Qo9x30",
        "outputId": "be50386d-c35d-476d-8e1e-44fccc0d33ce"
      },
      "outputs": [
        {
          "data": {
            "text/plain": [
              "[38281, 257204, 52350, 170634, 179978]"
            ]
          },
          "execution_count": 133,
          "metadata": {},
          "output_type": "execute_result"
        }
      ],
      "source": [
        "#Return the user Id for the similair users\n",
        "\n",
        "user_rec=[]\n",
        "\n",
        "for i in similar_users:\n",
        "        data=df[df[\"User-ID\"]==users_matrix.index[i[0]]]\n",
        "        user_rec.extend(list(data.drop_duplicates(\"User-ID\")[\"User-ID\"].values))\n",
        "\n",
        "user_rec"
      ]
    },
    {
      "cell_type": "code",
      "execution_count": 134,
      "id": "yqa2eVNs98Qe",
      "metadata": {
        "ExecuteTime": {
          "end_time": "2023-06-02T10:42:30.386545Z",
          "start_time": "2023-06-02T10:42:30.325041Z"
        },
        "colab": {
          "base_uri": "https://localhost:8080/"
        },
        "id": "yqa2eVNs98Qe",
        "outputId": "479ef9bf-fe04-43f2-8f56-7d68c2016049"
      },
      "outputs": [
        {
          "data": {
            "text/plain": [
              "['The Stories of Hans Christian Andersen: A New Translation from the Danish',\n",
              " 'Chillida: 1948-1998',\n",
              " 'Middlesex: A Novel',\n",
              " 'Greek Grammar',\n",
              " 'Maps in a Mirror (Maps in a Mirror)',\n",
              " 'Night Mare (Xanth Novels (Paperback))',\n",
              " \"The King's Justice (Histories of King Kelson)\",\n",
              " 'Blue Adept (Apprentice Adept (Paperback))',\n",
              " 'Fifth Quarter (Daw Book Collectors)',\n",
              " 'No Quarter (Daw Book Collectors)',\n",
              " 'Krazy Kat',\n",
              " 'Tintin in Tibet (The Adventures of Tintin)',\n",
              " '300',\n",
              " 'Sin City: Booze, Broads, &amp; Bullets',\n",
              " 'Yukon Ho',\n",
              " 'Deep in the Forest (Picture Puffins)',\n",
              " 'Eye power: Improved self-awareness, vitality, and mental efficiency through visual training',\n",
              " 'The Continuing Mission (Star Trek: The Next Generation)',\n",
              " 'Keeshond (Kw Dog Breed Library)',\n",
              " 'Square Foot Gardening',\n",
              " 'The Tao of Pooh',\n",
              " 'Town Mouse Country Mouse',\n",
              " 'Alice in Wonderland (Scholastic Junior Classics)',\n",
              " 'The Mitten: A Ukrainian Folktale',\n",
              " 'Junior Girl Scout Badgebook']"
            ]
          },
          "execution_count": 134,
          "metadata": {},
          "output_type": "execute_result"
        }
      ],
      "source": [
        "x=new_df[new_df[\"User-ID\"]==user_id]\n",
        "recommend_books=[]\n",
        "user=list(user_rec)\n",
        "for i in user:\n",
        "    y=new_df[(new_df[\"User-ID\"]==i)]\n",
        "    sim_books=y.loc[~y[\"Book-Title\"].isin(x[\"Book-Title\"]),:]\n",
        "    sim_books=sim_books.sort_values([\"Book-Rating\"],ascending=False)[0:5]\n",
        "    recommend_books.extend(sim_books[\"Book-Title\"].values)\n",
        "\n",
        "recommend_books"
      ]
    },
    {
      "cell_type": "code",
      "execution_count": 115,
      "id": "o-hUH2jJ-RcN",
      "metadata": {
        "ExecuteTime": {
          "end_time": "2023-06-02T10:42:30.403521Z",
          "start_time": "2023-06-02T10:42:30.390545Z"
        },
        "id": "o-hUH2jJ-RcN"
      },
      "outputs": [],
      "source": [
        "\n",
        "\n"
      ]
    },
    {
      "cell_type": "code",
      "execution_count": 135,
      "id": "ke1rxoHXFE_y",
      "metadata": {
        "ExecuteTime": {
          "end_time": "2023-06-02T10:42:47.868512Z",
          "start_time": "2023-06-02T10:42:30.403521Z"
        },
        "id": "ke1rxoHXFE_y"
      },
      "outputs": [],
      "source": [
        "#Let's put it all together for user based rs\n",
        "new_df=df[df['User-ID'].map(df['User-ID'].value_counts()) > 100]\n",
        "users_matrix=new_df.pivot_table(index=[\"User-ID\"],columns=[\"Book-Title\"],values=\"Book-Rating\")\n",
        "users_matrix.fillna(0, inplace=True)"
      ]
    },
    {
      "cell_type": "code",
      "execution_count": 136,
      "id": "f6e95f8f",
      "metadata": {
        "colab": {
          "base_uri": "https://localhost:8080/",
          "height": 700
        },
        "id": "f6e95f8f",
        "outputId": "8da521e3-d1b0-41e8-f6ed-72f09a591c7b"
      },
      "outputs": [
        {
          "data": {
            "text/html": [
              "<div>\n",
              "<style scoped>\n",
              "    .dataframe tbody tr th:only-of-type {\n",
              "        vertical-align: middle;\n",
              "    }\n",
              "\n",
              "    .dataframe tbody tr th {\n",
              "        vertical-align: top;\n",
              "    }\n",
              "\n",
              "    .dataframe thead th {\n",
              "        text-align: right;\n",
              "    }\n",
              "</style>\n",
              "<table border=\"1\" class=\"dataframe\">\n",
              "  <thead>\n",
              "    <tr style=\"text-align: right;\">\n",
              "      <th>Book-Title</th>\n",
              "      <th>A Light in the Storm: The Civil War Diary of Amelia Martin, Fenwick Island, Delaware, 1861 (Dear America)</th>\n",
              "      <th>Dark Justice</th>\n",
              "      <th>Final Fantasy Anthology: Official Strategy Guide (Brady Games)</th>\n",
              "      <th>Good Wives: Image and Reality in the Lives of Women in Northern New England, 1650-1750</th>\n",
              "      <th>Highland Desire (Zebra Splendor Historical Romances)</th>\n",
              "      <th>Little Comic Shop of Horrors (Give Yourself Goosebumps, Book 17)</th>\n",
              "      <th>Murder of a Sleeping Beauty (Scumble River Mysteries (Paperback))</th>\n",
              "      <th>Nonbook Materials: The Organization of Integrated Collections</th>\n",
              "      <th>Q-Space (Star Trek The Next Generation, Book 47)</th>\n",
              "      <th>Q-Zone (Star Trek The Next Generation, Book 48)</th>\n",
              "      <th>...</th>\n",
              "      <th>termcap &amp;amp; terminfo (O'Reilly Nutshell)</th>\n",
              "      <th>the Dark Light Years</th>\n",
              "      <th>them (Modern Library)</th>\n",
              "      <th>together by christmas</th>\n",
              "      <th>wet sand, raven tracks</th>\n",
              "      <th>whataboutrick.com: a poetic tribute to Richard A. Ricci</th>\n",
              "      <th>Â¡Corre, perro, corre!</th>\n",
              "      <th>Â¿Eres tu mi mamÃ¡?/Are You My Mother?</th>\n",
              "      <th>Ã?ngeles fugaces (Falling Angels)</th>\n",
              "      <th>Ã?Â?ber das Fernsehen.</th>\n",
              "    </tr>\n",
              "    <tr>\n",
              "      <th>User-ID</th>\n",
              "      <th></th>\n",
              "      <th></th>\n",
              "      <th></th>\n",
              "      <th></th>\n",
              "      <th></th>\n",
              "      <th></th>\n",
              "      <th></th>\n",
              "      <th></th>\n",
              "      <th></th>\n",
              "      <th></th>\n",
              "      <th></th>\n",
              "      <th></th>\n",
              "      <th></th>\n",
              "      <th></th>\n",
              "      <th></th>\n",
              "      <th></th>\n",
              "      <th></th>\n",
              "      <th></th>\n",
              "      <th></th>\n",
              "      <th></th>\n",
              "      <th></th>\n",
              "    </tr>\n",
              "  </thead>\n",
              "  <tbody>\n",
              "    <tr>\n",
              "      <th>2033</th>\n",
              "      <td>0.0</td>\n",
              "      <td>0.0</td>\n",
              "      <td>0.0</td>\n",
              "      <td>0.0</td>\n",
              "      <td>0.0</td>\n",
              "      <td>0.0</td>\n",
              "      <td>0.0</td>\n",
              "      <td>0.0</td>\n",
              "      <td>0.0</td>\n",
              "      <td>0.0</td>\n",
              "      <td>...</td>\n",
              "      <td>0.0</td>\n",
              "      <td>0.0</td>\n",
              "      <td>0.0</td>\n",
              "      <td>0.0</td>\n",
              "      <td>0.0</td>\n",
              "      <td>0.0</td>\n",
              "      <td>0.0</td>\n",
              "      <td>0.0</td>\n",
              "      <td>0.0</td>\n",
              "      <td>0.0</td>\n",
              "    </tr>\n",
              "    <tr>\n",
              "      <th>2110</th>\n",
              "      <td>0.0</td>\n",
              "      <td>0.0</td>\n",
              "      <td>0.0</td>\n",
              "      <td>0.0</td>\n",
              "      <td>0.0</td>\n",
              "      <td>0.0</td>\n",
              "      <td>0.0</td>\n",
              "      <td>0.0</td>\n",
              "      <td>0.0</td>\n",
              "      <td>0.0</td>\n",
              "      <td>...</td>\n",
              "      <td>0.0</td>\n",
              "      <td>0.0</td>\n",
              "      <td>0.0</td>\n",
              "      <td>0.0</td>\n",
              "      <td>0.0</td>\n",
              "      <td>0.0</td>\n",
              "      <td>0.0</td>\n",
              "      <td>0.0</td>\n",
              "      <td>0.0</td>\n",
              "      <td>0.0</td>\n",
              "    </tr>\n",
              "    <tr>\n",
              "      <th>2276</th>\n",
              "      <td>0.0</td>\n",
              "      <td>0.0</td>\n",
              "      <td>0.0</td>\n",
              "      <td>0.0</td>\n",
              "      <td>0.0</td>\n",
              "      <td>0.0</td>\n",
              "      <td>0.0</td>\n",
              "      <td>0.0</td>\n",
              "      <td>0.0</td>\n",
              "      <td>0.0</td>\n",
              "      <td>...</td>\n",
              "      <td>0.0</td>\n",
              "      <td>0.0</td>\n",
              "      <td>0.0</td>\n",
              "      <td>0.0</td>\n",
              "      <td>0.0</td>\n",
              "      <td>0.0</td>\n",
              "      <td>0.0</td>\n",
              "      <td>0.0</td>\n",
              "      <td>0.0</td>\n",
              "      <td>0.0</td>\n",
              "    </tr>\n",
              "    <tr>\n",
              "      <th>4017</th>\n",
              "      <td>0.0</td>\n",
              "      <td>0.0</td>\n",
              "      <td>0.0</td>\n",
              "      <td>0.0</td>\n",
              "      <td>0.0</td>\n",
              "      <td>0.0</td>\n",
              "      <td>0.0</td>\n",
              "      <td>0.0</td>\n",
              "      <td>0.0</td>\n",
              "      <td>0.0</td>\n",
              "      <td>...</td>\n",
              "      <td>0.0</td>\n",
              "      <td>0.0</td>\n",
              "      <td>0.0</td>\n",
              "      <td>0.0</td>\n",
              "      <td>0.0</td>\n",
              "      <td>0.0</td>\n",
              "      <td>0.0</td>\n",
              "      <td>0.0</td>\n",
              "      <td>0.0</td>\n",
              "      <td>0.0</td>\n",
              "    </tr>\n",
              "    <tr>\n",
              "      <th>4385</th>\n",
              "      <td>0.0</td>\n",
              "      <td>0.0</td>\n",
              "      <td>0.0</td>\n",
              "      <td>0.0</td>\n",
              "      <td>0.0</td>\n",
              "      <td>0.0</td>\n",
              "      <td>0.0</td>\n",
              "      <td>0.0</td>\n",
              "      <td>0.0</td>\n",
              "      <td>0.0</td>\n",
              "      <td>...</td>\n",
              "      <td>0.0</td>\n",
              "      <td>0.0</td>\n",
              "      <td>0.0</td>\n",
              "      <td>0.0</td>\n",
              "      <td>0.0</td>\n",
              "      <td>0.0</td>\n",
              "      <td>0.0</td>\n",
              "      <td>0.0</td>\n",
              "      <td>0.0</td>\n",
              "      <td>0.0</td>\n",
              "    </tr>\n",
              "    <tr>\n",
              "      <th>...</th>\n",
              "      <td>...</td>\n",
              "      <td>...</td>\n",
              "      <td>...</td>\n",
              "      <td>...</td>\n",
              "      <td>...</td>\n",
              "      <td>...</td>\n",
              "      <td>...</td>\n",
              "      <td>...</td>\n",
              "      <td>...</td>\n",
              "      <td>...</td>\n",
              "      <td>...</td>\n",
              "      <td>...</td>\n",
              "      <td>...</td>\n",
              "      <td>...</td>\n",
              "      <td>...</td>\n",
              "      <td>...</td>\n",
              "      <td>...</td>\n",
              "      <td>...</td>\n",
              "      <td>...</td>\n",
              "      <td>...</td>\n",
              "      <td>...</td>\n",
              "    </tr>\n",
              "    <tr>\n",
              "      <th>274061</th>\n",
              "      <td>0.0</td>\n",
              "      <td>0.0</td>\n",
              "      <td>0.0</td>\n",
              "      <td>0.0</td>\n",
              "      <td>0.0</td>\n",
              "      <td>0.0</td>\n",
              "      <td>0.0</td>\n",
              "      <td>0.0</td>\n",
              "      <td>0.0</td>\n",
              "      <td>0.0</td>\n",
              "      <td>...</td>\n",
              "      <td>0.0</td>\n",
              "      <td>0.0</td>\n",
              "      <td>0.0</td>\n",
              "      <td>0.0</td>\n",
              "      <td>0.0</td>\n",
              "      <td>0.0</td>\n",
              "      <td>0.0</td>\n",
              "      <td>0.0</td>\n",
              "      <td>0.0</td>\n",
              "      <td>0.0</td>\n",
              "    </tr>\n",
              "    <tr>\n",
              "      <th>274301</th>\n",
              "      <td>0.0</td>\n",
              "      <td>0.0</td>\n",
              "      <td>0.0</td>\n",
              "      <td>0.0</td>\n",
              "      <td>0.0</td>\n",
              "      <td>0.0</td>\n",
              "      <td>0.0</td>\n",
              "      <td>0.0</td>\n",
              "      <td>0.0</td>\n",
              "      <td>0.0</td>\n",
              "      <td>...</td>\n",
              "      <td>0.0</td>\n",
              "      <td>0.0</td>\n",
              "      <td>0.0</td>\n",
              "      <td>0.0</td>\n",
              "      <td>0.0</td>\n",
              "      <td>0.0</td>\n",
              "      <td>0.0</td>\n",
              "      <td>0.0</td>\n",
              "      <td>0.0</td>\n",
              "      <td>0.0</td>\n",
              "    </tr>\n",
              "    <tr>\n",
              "      <th>275970</th>\n",
              "      <td>0.0</td>\n",
              "      <td>0.0</td>\n",
              "      <td>0.0</td>\n",
              "      <td>0.0</td>\n",
              "      <td>0.0</td>\n",
              "      <td>0.0</td>\n",
              "      <td>0.0</td>\n",
              "      <td>0.0</td>\n",
              "      <td>0.0</td>\n",
              "      <td>0.0</td>\n",
              "      <td>...</td>\n",
              "      <td>0.0</td>\n",
              "      <td>0.0</td>\n",
              "      <td>0.0</td>\n",
              "      <td>0.0</td>\n",
              "      <td>0.0</td>\n",
              "      <td>0.0</td>\n",
              "      <td>0.0</td>\n",
              "      <td>0.0</td>\n",
              "      <td>0.0</td>\n",
              "      <td>0.0</td>\n",
              "    </tr>\n",
              "    <tr>\n",
              "      <th>277427</th>\n",
              "      <td>0.0</td>\n",
              "      <td>0.0</td>\n",
              "      <td>0.0</td>\n",
              "      <td>0.0</td>\n",
              "      <td>0.0</td>\n",
              "      <td>0.0</td>\n",
              "      <td>0.0</td>\n",
              "      <td>0.0</td>\n",
              "      <td>0.0</td>\n",
              "      <td>0.0</td>\n",
              "      <td>...</td>\n",
              "      <td>0.0</td>\n",
              "      <td>0.0</td>\n",
              "      <td>0.0</td>\n",
              "      <td>0.0</td>\n",
              "      <td>0.0</td>\n",
              "      <td>0.0</td>\n",
              "      <td>0.0</td>\n",
              "      <td>0.0</td>\n",
              "      <td>0.0</td>\n",
              "      <td>0.0</td>\n",
              "    </tr>\n",
              "    <tr>\n",
              "      <th>278418</th>\n",
              "      <td>0.0</td>\n",
              "      <td>0.0</td>\n",
              "      <td>0.0</td>\n",
              "      <td>0.0</td>\n",
              "      <td>0.0</td>\n",
              "      <td>0.0</td>\n",
              "      <td>0.0</td>\n",
              "      <td>0.0</td>\n",
              "      <td>0.0</td>\n",
              "      <td>0.0</td>\n",
              "      <td>...</td>\n",
              "      <td>0.0</td>\n",
              "      <td>0.0</td>\n",
              "      <td>0.0</td>\n",
              "      <td>0.0</td>\n",
              "      <td>0.0</td>\n",
              "      <td>0.0</td>\n",
              "      <td>0.0</td>\n",
              "      <td>0.0</td>\n",
              "      <td>0.0</td>\n",
              "      <td>0.0</td>\n",
              "    </tr>\n",
              "  </tbody>\n",
              "</table>\n",
              "<p>440 rows × 61194 columns</p>\n",
              "</div>"
            ],
            "text/plain": [
              "Book-Title   A Light in the Storm: The Civil War Diary of Amelia Martin, Fenwick Island, Delaware, 1861 (Dear America)  \\\n",
              "User-ID                                                                                                                  \n",
              "2033                                                      0.0                                                            \n",
              "2110                                                      0.0                                                            \n",
              "2276                                                      0.0                                                            \n",
              "4017                                                      0.0                                                            \n",
              "4385                                                      0.0                                                            \n",
              "...                                                       ...                                                            \n",
              "274061                                                    0.0                                                            \n",
              "274301                                                    0.0                                                            \n",
              "275970                                                    0.0                                                            \n",
              "277427                                                    0.0                                                            \n",
              "278418                                                    0.0                                                            \n",
              "\n",
              "Book-Title   Dark Justice  \\\n",
              "User-ID                     \n",
              "2033                  0.0   \n",
              "2110                  0.0   \n",
              "2276                  0.0   \n",
              "4017                  0.0   \n",
              "4385                  0.0   \n",
              "...                   ...   \n",
              "274061                0.0   \n",
              "274301                0.0   \n",
              "275970                0.0   \n",
              "277427                0.0   \n",
              "278418                0.0   \n",
              "\n",
              "Book-Title   Final Fantasy Anthology: Official Strategy Guide (Brady Games)  \\\n",
              "User-ID                                                                       \n",
              "2033                                                      0.0                 \n",
              "2110                                                      0.0                 \n",
              "2276                                                      0.0                 \n",
              "4017                                                      0.0                 \n",
              "4385                                                      0.0                 \n",
              "...                                                       ...                 \n",
              "274061                                                    0.0                 \n",
              "274301                                                    0.0                 \n",
              "275970                                                    0.0                 \n",
              "277427                                                    0.0                 \n",
              "278418                                                    0.0                 \n",
              "\n",
              "Book-Title   Good Wives: Image and Reality in the Lives of Women in Northern New England, 1650-1750  \\\n",
              "User-ID                                                                                               \n",
              "2033                                                      0.0                                         \n",
              "2110                                                      0.0                                         \n",
              "2276                                                      0.0                                         \n",
              "4017                                                      0.0                                         \n",
              "4385                                                      0.0                                         \n",
              "...                                                       ...                                         \n",
              "274061                                                    0.0                                         \n",
              "274301                                                    0.0                                         \n",
              "275970                                                    0.0                                         \n",
              "277427                                                    0.0                                         \n",
              "278418                                                    0.0                                         \n",
              "\n",
              "Book-Title   Highland Desire (Zebra Splendor Historical Romances)  \\\n",
              "User-ID                                                             \n",
              "2033                                                      0.0       \n",
              "2110                                                      0.0       \n",
              "2276                                                      0.0       \n",
              "4017                                                      0.0       \n",
              "4385                                                      0.0       \n",
              "...                                                       ...       \n",
              "274061                                                    0.0       \n",
              "274301                                                    0.0       \n",
              "275970                                                    0.0       \n",
              "277427                                                    0.0       \n",
              "278418                                                    0.0       \n",
              "\n",
              "Book-Title   Little Comic Shop of Horrors (Give Yourself Goosebumps, Book 17)  \\\n",
              "User-ID                                                                         \n",
              "2033                                                      0.0                   \n",
              "2110                                                      0.0                   \n",
              "2276                                                      0.0                   \n",
              "4017                                                      0.0                   \n",
              "4385                                                      0.0                   \n",
              "...                                                       ...                   \n",
              "274061                                                    0.0                   \n",
              "274301                                                    0.0                   \n",
              "275970                                                    0.0                   \n",
              "277427                                                    0.0                   \n",
              "278418                                                    0.0                   \n",
              "\n",
              "Book-Title   Murder of a Sleeping Beauty (Scumble River Mysteries (Paperback))  \\\n",
              "User-ID                                                                          \n",
              "2033                                                      0.0                    \n",
              "2110                                                      0.0                    \n",
              "2276                                                      0.0                    \n",
              "4017                                                      0.0                    \n",
              "4385                                                      0.0                    \n",
              "...                                                       ...                    \n",
              "274061                                                    0.0                    \n",
              "274301                                                    0.0                    \n",
              "275970                                                    0.0                    \n",
              "277427                                                    0.0                    \n",
              "278418                                                    0.0                    \n",
              "\n",
              "Book-Title   Nonbook Materials: The Organization of Integrated Collections  \\\n",
              "User-ID                                                                      \n",
              "2033                                                      0.0                \n",
              "2110                                                      0.0                \n",
              "2276                                                      0.0                \n",
              "4017                                                      0.0                \n",
              "4385                                                      0.0                \n",
              "...                                                       ...                \n",
              "274061                                                    0.0                \n",
              "274301                                                    0.0                \n",
              "275970                                                    0.0                \n",
              "277427                                                    0.0                \n",
              "278418                                                    0.0                \n",
              "\n",
              "Book-Title   Q-Space (Star Trek The Next Generation, Book 47)  \\\n",
              "User-ID                                                         \n",
              "2033                                                      0.0   \n",
              "2110                                                      0.0   \n",
              "2276                                                      0.0   \n",
              "4017                                                      0.0   \n",
              "4385                                                      0.0   \n",
              "...                                                       ...   \n",
              "274061                                                    0.0   \n",
              "274301                                                    0.0   \n",
              "275970                                                    0.0   \n",
              "277427                                                    0.0   \n",
              "278418                                                    0.0   \n",
              "\n",
              "Book-Title   Q-Zone (Star Trek The Next Generation, Book 48)  ...  \\\n",
              "User-ID                                                       ...   \n",
              "2033                                                     0.0  ...   \n",
              "2110                                                     0.0  ...   \n",
              "2276                                                     0.0  ...   \n",
              "4017                                                     0.0  ...   \n",
              "4385                                                     0.0  ...   \n",
              "...                                                      ...  ...   \n",
              "274061                                                   0.0  ...   \n",
              "274301                                                   0.0  ...   \n",
              "275970                                                   0.0  ...   \n",
              "277427                                                   0.0  ...   \n",
              "278418                                                   0.0  ...   \n",
              "\n",
              "Book-Title  termcap &amp; terminfo (O'Reilly Nutshell)  the Dark Light Years  \\\n",
              "User-ID                                                                        \n",
              "2033                                               0.0                   0.0   \n",
              "2110                                               0.0                   0.0   \n",
              "2276                                               0.0                   0.0   \n",
              "4017                                               0.0                   0.0   \n",
              "4385                                               0.0                   0.0   \n",
              "...                                                ...                   ...   \n",
              "274061                                             0.0                   0.0   \n",
              "274301                                             0.0                   0.0   \n",
              "275970                                             0.0                   0.0   \n",
              "277427                                             0.0                   0.0   \n",
              "278418                                             0.0                   0.0   \n",
              "\n",
              "Book-Title  them (Modern Library)  together by christmas  \\\n",
              "User-ID                                                    \n",
              "2033                          0.0                    0.0   \n",
              "2110                          0.0                    0.0   \n",
              "2276                          0.0                    0.0   \n",
              "4017                          0.0                    0.0   \n",
              "4385                          0.0                    0.0   \n",
              "...                           ...                    ...   \n",
              "274061                        0.0                    0.0   \n",
              "274301                        0.0                    0.0   \n",
              "275970                        0.0                    0.0   \n",
              "277427                        0.0                    0.0   \n",
              "278418                        0.0                    0.0   \n",
              "\n",
              "Book-Title  wet sand, raven tracks  \\\n",
              "User-ID                              \n",
              "2033                           0.0   \n",
              "2110                           0.0   \n",
              "2276                           0.0   \n",
              "4017                           0.0   \n",
              "4385                           0.0   \n",
              "...                            ...   \n",
              "274061                         0.0   \n",
              "274301                         0.0   \n",
              "275970                         0.0   \n",
              "277427                         0.0   \n",
              "278418                         0.0   \n",
              "\n",
              "Book-Title  whataboutrick.com: a poetic tribute to Richard A. Ricci  \\\n",
              "User-ID                                                               \n",
              "2033                                                      0.0         \n",
              "2110                                                      0.0         \n",
              "2276                                                      0.0         \n",
              "4017                                                      0.0         \n",
              "4385                                                      0.0         \n",
              "...                                                       ...         \n",
              "274061                                                    0.0         \n",
              "274301                                                    0.0         \n",
              "275970                                                    0.0         \n",
              "277427                                                    0.0         \n",
              "278418                                                    0.0         \n",
              "\n",
              "Book-Title  Â¡Corre, perro, corre!  Â¿Eres tu mi mamÃ¡?/Are You My Mother?  \\\n",
              "User-ID                                                                      \n",
              "2033                           0.0                                     0.0   \n",
              "2110                           0.0                                     0.0   \n",
              "2276                           0.0                                     0.0   \n",
              "4017                           0.0                                     0.0   \n",
              "4385                           0.0                                     0.0   \n",
              "...                            ...                                     ...   \n",
              "274061                         0.0                                     0.0   \n",
              "274301                         0.0                                     0.0   \n",
              "275970                         0.0                                     0.0   \n",
              "277427                         0.0                                     0.0   \n",
              "278418                         0.0                                     0.0   \n",
              "\n",
              "Book-Title  Ã?ngeles fugaces (Falling Angels)  Ã?Â?ber das Fernsehen.  \n",
              "User-ID                                                                \n",
              "2033                                      0.0                     0.0  \n",
              "2110                                      0.0                     0.0  \n",
              "2276                                      0.0                     0.0  \n",
              "4017                                      0.0                     0.0  \n",
              "4385                                      0.0                     0.0  \n",
              "...                                       ...                     ...  \n",
              "274061                                    0.0                     0.0  \n",
              "274301                                    0.0                     0.0  \n",
              "275970                                    0.0                     0.0  \n",
              "277427                                    0.0                     0.0  \n",
              "278418                                    0.0                     0.0  \n",
              "\n",
              "[440 rows x 61194 columns]"
            ]
          },
          "execution_count": 136,
          "metadata": {},
          "output_type": "execute_result"
        }
      ],
      "source": [
        "users_matrix"
      ]
    },
    {
      "cell_type": "code",
      "execution_count": 138,
      "id": "EOPvmkJLFKLv",
      "metadata": {
        "ExecuteTime": {
          "end_time": "2023-06-02T10:42:47.919816Z",
          "start_time": "2023-06-02T10:42:47.878165Z"
        },
        "id": "EOPvmkJLFKLv"
      },
      "outputs": [],
      "source": [
        "def user_based_coll_rs(user_id):\n",
        "\n",
        "    users_fav=new_df[new_df[\"User-ID\"]==user_id].sort_values([\"Book-Rating\"],ascending=False)[0:5]\n",
        "\n",
        "    prYellow(\"Your Top Favorite books: \\n\")\n",
        "\n",
        "    for book in users_fav['Book-Title']:\n",
        "\n",
        "        prGreen(book)\n",
        "        print(\"Rating\", end='->')\n",
        "        prRed(round(df[df['Book-Title'] == book]['Book-Rating'].mean(), 2))\n",
        "        print(\"-\"*50)\n",
        "\n",
        "    print(\"\\n\\n\")\n",
        "\n",
        "    index=np.where(users_matrix.index==user_id)[0][0]\n",
        "\n",
        "    similarity=cosine_similarity(users_matrix)\n",
        "    similar_users = list(enumerate(similarity[index]))\n",
        "    similar_users = sorted(similar_users,key = lambda x:x[1],reverse=True)[0:5]\n",
        "\n",
        "    users_id=[]\n",
        "\n",
        "    for i in similar_users:\n",
        "            data=df[df[\"User-ID\"]==users_matrix.index[i[0]]]\n",
        "            users_id.extend(list(data.drop_duplicates(\"User-ID\")[\"User-ID\"].values))\n",
        "\n",
        "\n",
        "    x=new_df[new_df[\"User-ID\"]==user_id]\n",
        "    recommend_books=[]\n",
        "    user=list(users_id)\n",
        "\n",
        "    for i in user:\n",
        "\n",
        "        y=new_df[(new_df[\"User-ID\"]==i)]\n",
        "        sim_books=y.loc[~y[\"Book-Title\"].isin(x[\"Book-Title\"]),:]\n",
        "        sim_books=sim_books.sort_values([\"Book-Rating\"],ascending=False)[0:5]\n",
        "        recommend_books.extend(sim_books[\"Book-Title\"].values)\n",
        "\n",
        "\n",
        "    prYellow(\"Recommended for you: \\n\")\n",
        "\n",
        "    for book in recommend_books:\n",
        "        prGreen(book)\n",
        "        print(\"Rating\",end='->')\n",
        "        prRed(round(df[df['Book-Title'] == book]['Book-Rating'].mean(),2))\n",
        "        print(\"-\"*50)\n"
      ]
    },
    {
      "cell_type": "code",
      "execution_count": 139,
      "id": "42SJv9jyFVFZ",
      "metadata": {
        "ExecuteTime": {
          "end_time": "2023-06-02T10:43:02.608674Z",
          "start_time": "2023-06-02T10:42:47.919816Z"
        },
        "colab": {
          "base_uri": "https://localhost:8080/"
        },
        "id": "42SJv9jyFVFZ",
        "outputId": "71cabf05-99cd-4054-a403-9152878ad9f0"
      },
      "outputs": [
        {
          "name": "stdout",
          "output_type": "stream",
          "text": [
            "\u001b[93m Your Top Favorite books: \n",
            "\u001b[00m\n",
            "\u001b[92m The Grapes of Wrath: John Steinbeck Centennial Edition (1902-2002)\u001b[00m\n",
            "Rating->\u001b[91m 8.46\u001b[00m\n",
            "--------------------------------------------------\n",
            "\u001b[92m The Invisible Ring\u001b[00m\n",
            "Rating->\u001b[91m 8.14\u001b[00m\n",
            "--------------------------------------------------\n",
            "\u001b[92m The Last of the Renshai\u001b[00m\n",
            "Rating->\u001b[91m 8.0\u001b[00m\n",
            "--------------------------------------------------\n",
            "\u001b[92m The Children of Wrath (Renshai Chronicles)\u001b[00m\n",
            "Rating->\u001b[91m 8.5\u001b[00m\n",
            "--------------------------------------------------\n",
            "\u001b[92m Flux: Tales of Human Futures\u001b[00m\n",
            "Rating->\u001b[91m 9.5\u001b[00m\n",
            "--------------------------------------------------\n",
            "\n",
            "\n",
            "\n",
            "\u001b[93m Recommended for you: \n",
            "\u001b[00m\n",
            "\u001b[92m The Stories of Hans Christian Andersen: A New Translation from the Danish\u001b[00m\n",
            "Rating->\u001b[91m 10.0\u001b[00m\n",
            "--------------------------------------------------\n",
            "\u001b[92m Chillida: 1948-1998\u001b[00m\n",
            "Rating->\u001b[91m 9.0\u001b[00m\n",
            "--------------------------------------------------\n",
            "\u001b[92m Middlesex: A Novel\u001b[00m\n",
            "Rating->\u001b[91m 8.22\u001b[00m\n",
            "--------------------------------------------------\n",
            "\u001b[92m Greek Grammar\u001b[00m\n",
            "Rating->\u001b[91m 9.33\u001b[00m\n",
            "--------------------------------------------------\n",
            "\u001b[92m Maps in a Mirror (Maps in a Mirror)\u001b[00m\n",
            "Rating->\u001b[91m 7.0\u001b[00m\n",
            "--------------------------------------------------\n",
            "\u001b[92m Night Mare (Xanth Novels (Paperback))\u001b[00m\n",
            "Rating->\u001b[91m 7.75\u001b[00m\n",
            "--------------------------------------------------\n",
            "\u001b[92m The King's Justice (Histories of King Kelson)\u001b[00m\n",
            "Rating->\u001b[91m 9.0\u001b[00m\n",
            "--------------------------------------------------\n",
            "\u001b[92m Blue Adept (Apprentice Adept (Paperback))\u001b[00m\n",
            "Rating->\u001b[91m 6.71\u001b[00m\n",
            "--------------------------------------------------\n",
            "\u001b[92m Fifth Quarter (Daw Book Collectors)\u001b[00m\n",
            "Rating->\u001b[91m 7.43\u001b[00m\n",
            "--------------------------------------------------\n",
            "\u001b[92m No Quarter (Daw Book Collectors)\u001b[00m\n",
            "Rating->\u001b[91m 7.8\u001b[00m\n",
            "--------------------------------------------------\n",
            "\u001b[92m Krazy Kat\u001b[00m\n",
            "Rating->\u001b[91m 10.0\u001b[00m\n",
            "--------------------------------------------------\n",
            "\u001b[92m Tintin in Tibet (The Adventures of Tintin)\u001b[00m\n",
            "Rating->\u001b[91m 9.67\u001b[00m\n",
            "--------------------------------------------------\n",
            "\u001b[92m 300\u001b[00m\n",
            "Rating->\u001b[91m 10.0\u001b[00m\n",
            "--------------------------------------------------\n",
            "\u001b[92m Sin City: Booze, Broads, &amp; Bullets\u001b[00m\n",
            "Rating->\u001b[91m 10.0\u001b[00m\n",
            "--------------------------------------------------\n",
            "\u001b[92m Yukon Ho\u001b[00m\n",
            "Rating->\u001b[91m 10.0\u001b[00m\n",
            "--------------------------------------------------\n",
            "\u001b[92m Deep in the Forest (Picture Puffins)\u001b[00m\n",
            "Rating->\u001b[91m 10.0\u001b[00m\n",
            "--------------------------------------------------\n",
            "\u001b[92m Eye power: Improved self-awareness, vitality, and mental efficiency through visual training\u001b[00m\n",
            "Rating->\u001b[91m 7.5\u001b[00m\n",
            "--------------------------------------------------\n",
            "\u001b[92m The Continuing Mission (Star Trek: The Next Generation)\u001b[00m\n",
            "Rating->\u001b[91m 9.5\u001b[00m\n",
            "--------------------------------------------------\n",
            "\u001b[92m Keeshond (Kw Dog Breed Library)\u001b[00m\n",
            "Rating->\u001b[91m 10.0\u001b[00m\n",
            "--------------------------------------------------\n",
            "\u001b[92m Square Foot Gardening\u001b[00m\n",
            "Rating->\u001b[91m 9.17\u001b[00m\n",
            "--------------------------------------------------\n"
          ]
        }
      ],
      "source": [
        "user_based_coll_rs(2033)"
      ]
    },
    {
      "cell_type": "code",
      "execution_count": 140,
      "id": "r4bixmYdFqvD",
      "metadata": {
        "ExecuteTime": {
          "end_time": "2023-06-02T10:43:16.842768Z",
          "start_time": "2023-06-02T10:43:02.613573Z"
        },
        "colab": {
          "base_uri": "https://localhost:8080/"
        },
        "id": "r4bixmYdFqvD",
        "outputId": "169fb61a-a063-47d5-8997-5c3d027d594c"
      },
      "outputs": [
        {
          "name": "stdout",
          "output_type": "stream",
          "text": [
            "\u001b[93m Your Top Favorite books: \n",
            "\u001b[00m\n",
            "\u001b[92m Sons of Texas : Callaway Country\u001b[00m\n",
            "Rating->\u001b[91m 10.0\u001b[00m\n",
            "--------------------------------------------------\n",
            "\u001b[92m When Somebody Needs You (Silhouette Special Edition, No 784)\u001b[00m\n",
            "Rating->\u001b[91m 7.5\u001b[00m\n",
            "--------------------------------------------------\n",
            "\u001b[92m Dance For A Stranger (Harlequin Presents, No 1493)\u001b[00m\n",
            "Rating->\u001b[91m 10.0\u001b[00m\n",
            "--------------------------------------------------\n",
            "\u001b[92m Accent on Desire (Second Chance at Love, No 420)\u001b[00m\n",
            "Rating->\u001b[91m 10.0\u001b[00m\n",
            "--------------------------------------------------\n",
            "\u001b[92m Exile's End (Silhouette Intimate Moments, No 449)\u001b[00m\n",
            "Rating->\u001b[91m 9.5\u001b[00m\n",
            "--------------------------------------------------\n",
            "\n",
            "\n",
            "\n",
            "\u001b[93m Recommended for you: \n",
            "\u001b[00m\n",
            "\u001b[92m It's Always Something\u001b[00m\n",
            "Rating->\u001b[91m 8.26\u001b[00m\n",
            "--------------------------------------------------\n",
            "\u001b[92m Love Tangle\u001b[00m\n",
            "Rating->\u001b[91m 8.5\u001b[00m\n",
            "--------------------------------------------------\n",
            "\u001b[92m Tuesdays with Morrie: An Old Man, a Young Man, and Life's Greatest Lesson\u001b[00m\n",
            "Rating->\u001b[91m 8.59\u001b[00m\n",
            "--------------------------------------------------\n",
            "\u001b[92m Princess Sultana's Daughters\u001b[00m\n",
            "Rating->\u001b[91m 8.4\u001b[00m\n",
            "--------------------------------------------------\n",
            "\u001b[92m Lightning\u001b[00m\n",
            "Rating->\u001b[91m 8.09\u001b[00m\n",
            "--------------------------------------------------\n",
            "\u001b[92m The Outlaw and the Lady (Avon Romantic Treasures.)\u001b[00m\n",
            "Rating->\u001b[91m 9.0\u001b[00m\n",
            "--------------------------------------------------\n",
            "\u001b[92m Christmas Rogues\u001b[00m\n",
            "Rating->\u001b[91m 10.0\u001b[00m\n",
            "--------------------------------------------------\n",
            "\u001b[92m Charm School\u001b[00m\n",
            "Rating->\u001b[91m 6.89\u001b[00m\n",
            "--------------------------------------------------\n",
            "\u001b[92m Christmas Kisses\u001b[00m\n",
            "Rating->\u001b[91m 7.29\u001b[00m\n",
            "--------------------------------------------------\n",
            "\u001b[92m Seductive Fantasy (Fantasies Inc.) (Harlequin Temptation, No 832)\u001b[00m\n",
            "Rating->\u001b[91m 8.67\u001b[00m\n",
            "--------------------------------------------------\n",
            "\u001b[92m Too Much Too Soon\u001b[00m\n",
            "Rating->\u001b[91m 7.0\u001b[00m\n",
            "--------------------------------------------------\n",
            "\u001b[92m Cujo\u001b[00m\n",
            "Rating->\u001b[91m 7.59\u001b[00m\n",
            "--------------------------------------------------\n",
            "\u001b[92m The Celestine Vision : Living the New Spiritual Awareness\u001b[00m\n",
            "Rating->\u001b[91m 7.5\u001b[00m\n",
            "--------------------------------------------------\n",
            "\u001b[92m The Steel Caress\u001b[00m\n",
            "Rating->\u001b[91m 9.5\u001b[00m\n",
            "--------------------------------------------------\n",
            "\u001b[92m Sweet Revenge\u001b[00m\n",
            "Rating->\u001b[91m 7.63\u001b[00m\n",
            "--------------------------------------------------\n",
            "\u001b[92m Purity in Death\u001b[00m\n",
            "Rating->\u001b[91m 7.45\u001b[00m\n",
            "--------------------------------------------------\n",
            "\u001b[92m A Stranger's Touch (Midnight Fantasies) (Blaze, 37)\u001b[00m\n",
            "Rating->\u001b[91m 9.0\u001b[00m\n",
            "--------------------------------------------------\n",
            "\u001b[92m Cameo Lake\u001b[00m\n",
            "Rating->\u001b[91m 7.6\u001b[00m\n",
            "--------------------------------------------------\n",
            "\u001b[92m One More Mission: Oliver North Returns to Vietnam\u001b[00m\n",
            "Rating->\u001b[91m 7.5\u001b[00m\n",
            "--------------------------------------------------\n",
            "\u001b[92m A Wicked Seduction (Midnight Fantasies) (Blaze, 33)\u001b[00m\n",
            "Rating->\u001b[91m 8.83\u001b[00m\n",
            "--------------------------------------------------\n"
          ]
        }
      ],
      "source": [
        "user_based_coll_rs(4385)"
      ]
    },
    {
      "cell_type": "code",
      "execution_count": 141,
      "id": "Zo41v9k-F0En",
      "metadata": {
        "ExecuteTime": {
          "end_time": "2023-06-02T10:43:31.347372Z",
          "start_time": "2023-06-02T10:43:16.845434Z"
        },
        "colab": {
          "base_uri": "https://localhost:8080/"
        },
        "id": "Zo41v9k-F0En",
        "outputId": "de0b74f7-7997-4bbf-b67c-5079c2535811"
      },
      "outputs": [
        {
          "name": "stdout",
          "output_type": "stream",
          "text": [
            "\u001b[93m Your Top Favorite books: \n",
            "\u001b[00m\n",
            "\u001b[92m To Kill a Mockingbird\u001b[00m\n",
            "Rating->\u001b[91m 8.98\u001b[00m\n",
            "--------------------------------------------------\n",
            "\u001b[92m Fat Men from Space\u001b[00m\n",
            "Rating->\u001b[91m 10.0\u001b[00m\n",
            "--------------------------------------------------\n",
            "\u001b[92m We Live in Ireland (Living Here)\u001b[00m\n",
            "Rating->\u001b[91m 10.0\u001b[00m\n",
            "--------------------------------------------------\n",
            "\u001b[92m A Wrinkle in Time\u001b[00m\n",
            "Rating->\u001b[91m 8.61\u001b[00m\n",
            "--------------------------------------------------\n",
            "\u001b[92m The Tale of Benjamin Bunny (The Peter Rabbit Classics)\u001b[00m\n",
            "Rating->\u001b[91m 10.0\u001b[00m\n",
            "--------------------------------------------------\n",
            "\n",
            "\n",
            "\n",
            "\u001b[93m Recommended for you: \n",
            "\u001b[00m\n",
            "\u001b[92m SILVERWING\u001b[00m\n",
            "Rating->\u001b[91m 8.0\u001b[00m\n",
            "--------------------------------------------------\n",
            "\u001b[92m Almost Adam: A Novel\u001b[00m\n",
            "Rating->\u001b[91m 6.82\u001b[00m\n",
            "--------------------------------------------------\n",
            "\u001b[92m Year of Wonders: A Novel of the Plague\u001b[00m\n",
            "Rating->\u001b[91m 8.05\u001b[00m\n",
            "--------------------------------------------------\n",
            "\u001b[92m SAILING FUNDAMENTALS\u001b[00m\n",
            "Rating->\u001b[91m 10.0\u001b[00m\n",
            "--------------------------------------------------\n",
            "\u001b[92m Stiff: The Curious Lives of Human Cadavers\u001b[00m\n",
            "Rating->\u001b[91m 8.68\u001b[00m\n",
            "--------------------------------------------------\n",
            "\u001b[92m Harry Potter and the Chamber of Secrets Postcard Book\u001b[00m\n",
            "Rating->\u001b[91m 9.87\u001b[00m\n",
            "--------------------------------------------------\n",
            "\u001b[92m GOD HAS NINETY NINE NAMES : Reporting from a Militant Middle East\u001b[00m\n",
            "Rating->\u001b[91m 8.5\u001b[00m\n",
            "--------------------------------------------------\n",
            "\u001b[92m Along Came a Spider\u001b[00m\n",
            "Rating->\u001b[91m 8.17\u001b[00m\n",
            "--------------------------------------------------\n",
            "\u001b[92m Vicky's World Postcard Packet\u001b[00m\n",
            "Rating->\u001b[91m 7.71\u001b[00m\n",
            "--------------------------------------------------\n",
            "\u001b[92m Otherwise Known As Sheila the Great\u001b[00m\n",
            "Rating->\u001b[91m 7.75\u001b[00m\n",
            "--------------------------------------------------\n",
            "\u001b[92m Harry Potter and the Goblet of Fire (Book 4)\u001b[00m\n",
            "Rating->\u001b[91m 9.13\u001b[00m\n",
            "--------------------------------------------------\n",
            "\u001b[92m \\I Can't\\\" Said the Ant\"\u001b[00m\n",
            "Rating->\u001b[91m 10.0\u001b[00m\n",
            "--------------------------------------------------\n",
            "\u001b[92m Drums of Autumn\u001b[00m\n",
            "Rating->\u001b[91m 8.77\u001b[00m\n",
            "--------------------------------------------------\n",
            "\u001b[92m MLA Handbook for Writers of Research Papers (5th ed)\u001b[00m\n",
            "Rating->\u001b[91m 9.0\u001b[00m\n",
            "--------------------------------------------------\n",
            "\u001b[92m Lion, the Witch and the Wardrobe\u001b[00m\n",
            "Rating->\u001b[91m 8.72\u001b[00m\n",
            "--------------------------------------------------\n",
            "\u001b[92m True North: A Novel of the Underground Railroad\u001b[00m\n",
            "Rating->\u001b[91m 10.0\u001b[00m\n",
            "--------------------------------------------------\n",
            "\u001b[92m I Was So Mad (Golden Look-Look Books)\u001b[00m\n",
            "Rating->\u001b[91m 10.0\u001b[00m\n",
            "--------------------------------------------------\n",
            "\u001b[92m Song Of Love (Harlequin Romance, No 2978)\u001b[00m\n",
            "Rating->\u001b[91m 10.0\u001b[00m\n",
            "--------------------------------------------------\n",
            "\u001b[92m Encyclopedia Brown Sets the Pace (Encyclopedia Brown (Paperback))\u001b[00m\n",
            "Rating->\u001b[91m 8.75\u001b[00m\n",
            "--------------------------------------------------\n",
            "\u001b[92m Blind Prophet\u001b[00m\n",
            "Rating->\u001b[91m 10.0\u001b[00m\n",
            "--------------------------------------------------\n"
          ]
        }
      ],
      "source": [
        "user_based_coll_rs(31556)\n"
      ]
    },
    {
      "cell_type": "code",
      "execution_count": 142,
      "id": "-FhVYfb_FMAG",
      "metadata": {
        "colab": {
          "base_uri": "https://localhost:8080/"
        },
        "id": "-FhVYfb_FMAG",
        "outputId": "a62b7fe5-ebac-4279-ef51-a18e13654d7d"
      },
      "outputs": [
        {
          "name": "stdout",
          "output_type": "stream",
          "text": [
            "\u001b[93m Your Top Favorite books: \n",
            "\u001b[00m\n",
            "\u001b[92m The Grapes of Wrath: John Steinbeck Centennial Edition (1902-2002)\u001b[00m\n",
            "Rating->\u001b[91m 8.46\u001b[00m\n",
            "--------------------------------------------------\n",
            "\u001b[92m The Invisible Ring\u001b[00m\n",
            "Rating->\u001b[91m 8.14\u001b[00m\n",
            "--------------------------------------------------\n",
            "\u001b[92m The Last of the Renshai\u001b[00m\n",
            "Rating->\u001b[91m 8.0\u001b[00m\n",
            "--------------------------------------------------\n",
            "\u001b[92m The Children of Wrath (Renshai Chronicles)\u001b[00m\n",
            "Rating->\u001b[91m 8.5\u001b[00m\n",
            "--------------------------------------------------\n",
            "\u001b[92m Flux: Tales of Human Futures\u001b[00m\n",
            "Rating->\u001b[91m 9.5\u001b[00m\n",
            "--------------------------------------------------\n",
            "\n",
            "\n",
            "\n",
            "\u001b[93m Recommended for you: \n",
            "\u001b[00m\n",
            "\u001b[92m The Stories of Hans Christian Andersen: A New Translation from the Danish\u001b[00m\n",
            "Rating->\u001b[91m 10.0\u001b[00m\n",
            "--------------------------------------------------\n",
            "\u001b[92m Chillida: 1948-1998\u001b[00m\n",
            "Rating->\u001b[91m 9.0\u001b[00m\n",
            "--------------------------------------------------\n",
            "\u001b[92m Middlesex: A Novel\u001b[00m\n",
            "Rating->\u001b[91m 8.22\u001b[00m\n",
            "--------------------------------------------------\n",
            "\u001b[92m Greek Grammar\u001b[00m\n",
            "Rating->\u001b[91m 9.33\u001b[00m\n",
            "--------------------------------------------------\n",
            "\u001b[92m Maps in a Mirror (Maps in a Mirror)\u001b[00m\n",
            "Rating->\u001b[91m 7.0\u001b[00m\n",
            "--------------------------------------------------\n",
            "\u001b[92m Night Mare (Xanth Novels (Paperback))\u001b[00m\n",
            "Rating->\u001b[91m 7.75\u001b[00m\n",
            "--------------------------------------------------\n",
            "\u001b[92m The King's Justice (Histories of King Kelson)\u001b[00m\n",
            "Rating->\u001b[91m 9.0\u001b[00m\n",
            "--------------------------------------------------\n",
            "\u001b[92m Blue Adept (Apprentice Adept (Paperback))\u001b[00m\n",
            "Rating->\u001b[91m 6.71\u001b[00m\n",
            "--------------------------------------------------\n",
            "\u001b[92m Fifth Quarter (Daw Book Collectors)\u001b[00m\n",
            "Rating->\u001b[91m 7.43\u001b[00m\n",
            "--------------------------------------------------\n",
            "\u001b[92m No Quarter (Daw Book Collectors)\u001b[00m\n",
            "Rating->\u001b[91m 7.8\u001b[00m\n",
            "--------------------------------------------------\n",
            "\u001b[92m Krazy Kat\u001b[00m\n",
            "Rating->\u001b[91m 10.0\u001b[00m\n",
            "--------------------------------------------------\n",
            "\u001b[92m Tintin in Tibet (The Adventures of Tintin)\u001b[00m\n",
            "Rating->\u001b[91m 9.67\u001b[00m\n",
            "--------------------------------------------------\n",
            "\u001b[92m 300\u001b[00m\n",
            "Rating->\u001b[91m 10.0\u001b[00m\n",
            "--------------------------------------------------\n",
            "\u001b[92m Sin City: Booze, Broads, &amp; Bullets\u001b[00m\n",
            "Rating->\u001b[91m 10.0\u001b[00m\n",
            "--------------------------------------------------\n",
            "\u001b[92m Yukon Ho\u001b[00m\n",
            "Rating->\u001b[91m 10.0\u001b[00m\n",
            "--------------------------------------------------\n",
            "\u001b[92m Deep in the Forest (Picture Puffins)\u001b[00m\n",
            "Rating->\u001b[91m 10.0\u001b[00m\n",
            "--------------------------------------------------\n",
            "\u001b[92m Eye power: Improved self-awareness, vitality, and mental efficiency through visual training\u001b[00m\n",
            "Rating->\u001b[91m 7.5\u001b[00m\n",
            "--------------------------------------------------\n",
            "\u001b[92m The Continuing Mission (Star Trek: The Next Generation)\u001b[00m\n",
            "Rating->\u001b[91m 9.5\u001b[00m\n",
            "--------------------------------------------------\n",
            "\u001b[92m Keeshond (Kw Dog Breed Library)\u001b[00m\n",
            "Rating->\u001b[91m 10.0\u001b[00m\n",
            "--------------------------------------------------\n",
            "\u001b[92m Square Foot Gardening\u001b[00m\n",
            "Rating->\u001b[91m 9.17\u001b[00m\n",
            "--------------------------------------------------\n"
          ]
        }
      ],
      "source": [
        "user_based_coll_rs(2033)"
      ]
    },
    {
      "cell_type": "code",
      "execution_count": 143,
      "id": "65399501",
      "metadata": {
        "colab": {
          "base_uri": "https://localhost:8080/"
        },
        "id": "65399501",
        "outputId": "914557ee-3a24-497e-81ff-9325ecfdcbb3"
      },
      "outputs": [
        {
          "name": "stdout",
          "output_type": "stream",
          "text": [
            "\u001b[93m Your Top Favorite books: \n",
            "\u001b[00m\n",
            "\u001b[92m Dr. Atkin's Diet Revolution\u001b[00m\n",
            "Rating->\u001b[91m 8.0\u001b[00m\n",
            "--------------------------------------------------\n",
            "\u001b[92m KJV Giant Print Reference Bible, Personal Size Bronze Edition\u001b[00m\n",
            "Rating->\u001b[91m 10.0\u001b[00m\n",
            "--------------------------------------------------\n",
            "\u001b[92m Green Eggs and Ham (I Can Read It All by Myself Beginner Books)\u001b[00m\n",
            "Rating->\u001b[91m 9.09\u001b[00m\n",
            "--------------------------------------------------\n",
            "\u001b[92m The Sign of the Beaver\u001b[00m\n",
            "Rating->\u001b[91m 7.17\u001b[00m\n",
            "--------------------------------------------------\n",
            "\u001b[92m Ramona Quimby\u001b[00m\n",
            "Rating->\u001b[91m 8.5\u001b[00m\n",
            "--------------------------------------------------\n",
            "\n",
            "\n",
            "\n",
            "\u001b[93m Recommended for you: \n",
            "\u001b[00m\n",
            "\u001b[92m Remember When (Roberts, Nora)\u001b[00m\n",
            "Rating->\u001b[91m 9.07\u001b[00m\n",
            "--------------------------------------------------\n",
            "\u001b[92m Tears of the Moon (Irish Trilogy)\u001b[00m\n",
            "Rating->\u001b[91m 7.87\u001b[00m\n",
            "--------------------------------------------------\n",
            "\u001b[92m Untamed\u001b[00m\n",
            "Rating->\u001b[91m 7.76\u001b[00m\n",
            "--------------------------------------------------\n",
            "\u001b[92m The Macgregors: Daniel-Ian\u001b[00m\n",
            "Rating->\u001b[91m 7.69\u001b[00m\n",
            "--------------------------------------------------\n",
            "\u001b[92m Once upon a Dream\u001b[00m\n",
            "Rating->\u001b[91m 7.6\u001b[00m\n",
            "--------------------------------------------------\n",
            "\u001b[92m Wicked: The Life and Times of the Wicked Witch of the West\u001b[00m\n",
            "Rating->\u001b[91m 7.87\u001b[00m\n",
            "--------------------------------------------------\n",
            "\u001b[92m Report from Ground Zero: The Story of the Rescue Efforts at the World Trade Center\u001b[00m\n",
            "Rating->\u001b[91m 9.33\u001b[00m\n",
            "--------------------------------------------------\n",
            "\u001b[92m Irish Born\u001b[00m\n",
            "Rating->\u001b[91m 9.0\u001b[00m\n",
            "--------------------------------------------------\n",
            "\u001b[92m Wizard's First Rule (Sword of Truth, Book 1)\u001b[00m\n",
            "Rating->\u001b[91m 8.25\u001b[00m\n",
            "--------------------------------------------------\n",
            "\u001b[92m Key of Knowledge (Key Trilogy (Paperback))\u001b[00m\n",
            "Rating->\u001b[91m 7.94\u001b[00m\n",
            "--------------------------------------------------\n",
            "\u001b[92m Jitterbug Perfume\u001b[00m\n",
            "Rating->\u001b[91m 8.62\u001b[00m\n",
            "--------------------------------------------------\n",
            "\u001b[92m The Velveteen Rabbit\u001b[00m\n",
            "Rating->\u001b[91m 9.06\u001b[00m\n",
            "--------------------------------------------------\n",
            "\u001b[92m Peter Pan\u001b[00m\n",
            "Rating->\u001b[91m 8.22\u001b[00m\n",
            "--------------------------------------------------\n",
            "\u001b[92m The Cat Who Went to Heaven\u001b[00m\n",
            "Rating->\u001b[91m 9.15\u001b[00m\n",
            "--------------------------------------------------\n",
            "\u001b[92m The Prince of Tides\u001b[00m\n",
            "Rating->\u001b[91m 7.97\u001b[00m\n",
            "--------------------------------------------------\n",
            "\u001b[92m Night Mare (Xanth Novels (Paperback))\u001b[00m\n",
            "Rating->\u001b[91m 7.75\u001b[00m\n",
            "--------------------------------------------------\n",
            "\u001b[92m The Bastard Prince (Heirs of Saint Camber)\u001b[00m\n",
            "Rating->\u001b[91m 7.5\u001b[00m\n",
            "--------------------------------------------------\n",
            "\u001b[92m Dragonquest Achille Cover\u001b[00m\n",
            "Rating->\u001b[91m 9.4\u001b[00m\n",
            "--------------------------------------------------\n",
            "\u001b[92m The Doubleday Roget's Thesaurus in Dictionary Form\u001b[00m\n",
            "Rating->\u001b[91m 10.0\u001b[00m\n",
            "--------------------------------------------------\n",
            "\u001b[92m Servant of the Empire\u001b[00m\n",
            "Rating->\u001b[91m 9.25\u001b[00m\n",
            "--------------------------------------------------\n"
          ]
        }
      ],
      "source": [
        "user_based_coll_rs(278418)"
      ]
    },
    {
      "cell_type": "code",
      "execution_count": 144,
      "id": "d2e8494f",
      "metadata": {
        "colab": {
          "base_uri": "https://localhost:8080/",
          "height": 293
        },
        "id": "d2e8494f",
        "outputId": "694f2b98-5816-4bcd-8c9e-99a85b5a31b9"
      },
      "outputs": [
        {
          "data": {
            "text/html": [
              "<div>\n",
              "<style scoped>\n",
              "    .dataframe tbody tr th:only-of-type {\n",
              "        vertical-align: middle;\n",
              "    }\n",
              "\n",
              "    .dataframe tbody tr th {\n",
              "        vertical-align: top;\n",
              "    }\n",
              "\n",
              "    .dataframe thead th {\n",
              "        text-align: right;\n",
              "    }\n",
              "</style>\n",
              "<table border=\"1\" class=\"dataframe\">\n",
              "  <thead>\n",
              "    <tr style=\"text-align: right;\">\n",
              "      <th></th>\n",
              "      <th>ISBN</th>\n",
              "      <th>Book-Title</th>\n",
              "      <th>Book-Author</th>\n",
              "      <th>Year-Of-Publication</th>\n",
              "      <th>Publisher</th>\n",
              "      <th>User-ID</th>\n",
              "      <th>Book-Rating</th>\n",
              "      <th>Age</th>\n",
              "      <th>Country</th>\n",
              "    </tr>\n",
              "  </thead>\n",
              "  <tbody>\n",
              "    <tr>\n",
              "      <th>847380</th>\n",
              "      <td>0142000663</td>\n",
              "      <td>The Grapes of Wrath: John Steinbeck Centennial...</td>\n",
              "      <td>John Steinbeck</td>\n",
              "      <td>2002</td>\n",
              "      <td>Penguin Books</td>\n",
              "      <td>2033</td>\n",
              "      <td>10.0</td>\n",
              "      <td>0</td>\n",
              "      <td>usa</td>\n",
              "    </tr>\n",
              "    <tr>\n",
              "      <th>847506</th>\n",
              "      <td>0451458028</td>\n",
              "      <td>The Invisible Ring</td>\n",
              "      <td>Anne Bishop</td>\n",
              "      <td>2000</td>\n",
              "      <td>Roc</td>\n",
              "      <td>2033</td>\n",
              "      <td>10.0</td>\n",
              "      <td>0</td>\n",
              "      <td>usa</td>\n",
              "    </tr>\n",
              "    <tr>\n",
              "      <th>847500</th>\n",
              "      <td>0886775035</td>\n",
              "      <td>The Last of the Renshai</td>\n",
              "      <td>Mickey Zucker Reichert</td>\n",
              "      <td>1996</td>\n",
              "      <td>Daw Books</td>\n",
              "      <td>2033</td>\n",
              "      <td>10.0</td>\n",
              "      <td>0</td>\n",
              "      <td>usa</td>\n",
              "    </tr>\n",
              "    <tr>\n",
              "      <th>847497</th>\n",
              "      <td>0886778603</td>\n",
              "      <td>The Children of Wrath (Renshai Chronicles)</td>\n",
              "      <td>Mickey Zucker Reichert</td>\n",
              "      <td>1999</td>\n",
              "      <td>Daw Books</td>\n",
              "      <td>2033</td>\n",
              "      <td>10.0</td>\n",
              "      <td>0</td>\n",
              "      <td>usa</td>\n",
              "    </tr>\n",
              "    <tr>\n",
              "      <th>847489</th>\n",
              "      <td>0812516850</td>\n",
              "      <td>Flux: Tales of Human Futures</td>\n",
              "      <td>Orson Scott Card</td>\n",
              "      <td>1992</td>\n",
              "      <td>Tor Books (Mm)</td>\n",
              "      <td>2033</td>\n",
              "      <td>10.0</td>\n",
              "      <td>0</td>\n",
              "      <td>usa</td>\n",
              "    </tr>\n",
              "  </tbody>\n",
              "</table>\n",
              "</div>"
            ],
            "text/plain": [
              "              ISBN                                         Book-Title  \\\n",
              "847380  0142000663  The Grapes of Wrath: John Steinbeck Centennial...   \n",
              "847506  0451458028                                 The Invisible Ring   \n",
              "847500  0886775035                            The Last of the Renshai   \n",
              "847497  0886778603         The Children of Wrath (Renshai Chronicles)   \n",
              "847489  0812516850                       Flux: Tales of Human Futures   \n",
              "\n",
              "                   Book-Author  Year-Of-Publication       Publisher  User-ID  \\\n",
              "847380          John Steinbeck                 2002   Penguin Books     2033   \n",
              "847506             Anne Bishop                 2000             Roc     2033   \n",
              "847500  Mickey Zucker Reichert                 1996       Daw Books     2033   \n",
              "847497  Mickey Zucker Reichert                 1999       Daw Books     2033   \n",
              "847489        Orson Scott Card                 1992  Tor Books (Mm)     2033   \n",
              "\n",
              "        Book-Rating  Age Country  \n",
              "847380         10.0    0     usa  \n",
              "847506         10.0    0     usa  \n",
              "847500         10.0    0     usa  \n",
              "847497         10.0    0     usa  \n",
              "847489         10.0    0     usa  "
            ]
          },
          "execution_count": 144,
          "metadata": {},
          "output_type": "execute_result"
        }
      ],
      "source": [
        "users_fav.head()"
      ]
    },
    {
      "cell_type": "code",
      "execution_count": 124,
      "id": "2fc18c93",
      "metadata": {
        "id": "2fc18c93"
      },
      "outputs": [],
      "source": []
    }
  ],
  "metadata": {
    "colab": {
      "provenance": []
    },
    "kernelspec": {
      "display_name": "Python 3 (ipykernel)",
      "language": "python",
      "name": "python3"
    },
    "language_info": {
      "codemirror_mode": {
        "name": "ipython",
        "version": 3
      },
      "file_extension": ".py",
      "mimetype": "text/x-python",
      "name": "python",
      "nbconvert_exporter": "python",
      "pygments_lexer": "ipython3",
      "version": "3.9.13"
    }
  },
  "nbformat": 4,
  "nbformat_minor": 5
}
